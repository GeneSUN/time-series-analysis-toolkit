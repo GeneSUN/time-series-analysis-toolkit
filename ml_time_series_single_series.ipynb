{
  "nbformat": 4,
  "nbformat_minor": 0,
  "metadata": {
    "colab": {
      "provenance": [],
      "machine_shape": "hm",
      "toc_visible": true,
      "authorship_tag": "ABX9TyPOn708Fkz2NhmaGdXSfRap",
      "include_colab_link": true
    },
    "kernelspec": {
      "name": "python3",
      "display_name": "Python 3"
    },
    "language_info": {
      "name": "python"
    }
  },
  "cells": [
    {
      "cell_type": "markdown",
      "metadata": {
        "id": "view-in-github",
        "colab_type": "text"
      },
      "source": [
        "<a href=\"https://colab.research.google.com/github/GeneSUN/time-series-analysis-toolkit/blob/main/ml_time_series_single_series.ipynb\" target=\"_parent\"><img src=\"https://colab.research.google.com/assets/colab-badge.svg\" alt=\"Open In Colab\"/></a>"
      ]
    },
    {
      "cell_type": "code",
      "execution_count": null,
      "metadata": {
        "colab": {
          "base_uri": "https://localhost:8080/"
        },
        "collapsed": true,
        "id": "1rv9niTkAt2U",
        "outputId": "1603c6a4-1dad-4b08-cd05-1668a92b418f"
      },
      "outputs": [
        {
          "output_type": "stream",
          "name": "stdout",
          "text": [
            "Collecting darts\n",
            "  Downloading darts-0.38.0-py3-none-any.whl.metadata (60 kB)\n",
            "\u001b[?25l     \u001b[90m━━━━━━━━━━━━━━━━━━━━━━━━━━━━━━━━━━━━━━━━\u001b[0m \u001b[32m0.0/60.3 kB\u001b[0m \u001b[31m?\u001b[0m eta \u001b[36m-:--:--\u001b[0m\r\u001b[2K     \u001b[90m━━━━━━━━━━━━━━━━━━━━━━━━━━━━━━━━━━━━━━━━\u001b[0m \u001b[32m60.3/60.3 kB\u001b[0m \u001b[31m2.7 MB/s\u001b[0m eta \u001b[36m0:00:00\u001b[0m\n",
            "\u001b[?25hRequirement already satisfied: holidays>=0.11.1 in /usr/local/lib/python3.12/dist-packages (from darts) (0.81)\n",
            "Requirement already satisfied: joblib>=0.16.0 in /usr/local/lib/python3.12/dist-packages (from darts) (1.5.2)\n",
            "Requirement already satisfied: matplotlib>=3.3.0 in /usr/local/lib/python3.12/dist-packages (from darts) (3.10.0)\n",
            "Requirement already satisfied: narwhals>=1.25.1 in /usr/local/lib/python3.12/dist-packages (from darts) (2.6.0)\n",
            "Collecting nfoursid>=1.0.0 (from darts)\n",
            "  Downloading nfoursid-1.0.2-py3-none-any.whl.metadata (1.9 kB)\n",
            "Requirement already satisfied: numpy>=1.19.0 in /usr/local/lib/python3.12/dist-packages (from darts) (2.0.2)\n",
            "Requirement already satisfied: pandas>=1.0.5 in /usr/local/lib/python3.12/dist-packages (from darts) (2.2.2)\n",
            "Collecting pyod>=0.9.5 (from darts)\n",
            "  Downloading pyod-2.0.5-py3-none-any.whl.metadata (46 kB)\n",
            "\u001b[2K     \u001b[90m━━━━━━━━━━━━━━━━━━━━━━━━━━━━━━━━━━━━━━━━\u001b[0m \u001b[32m46.3/46.3 kB\u001b[0m \u001b[31m3.9 MB/s\u001b[0m eta \u001b[36m0:00:00\u001b[0m\n",
            "\u001b[?25hRequirement already satisfied: requests>=2.22.0 in /usr/local/lib/python3.12/dist-packages (from darts) (2.32.4)\n",
            "Requirement already satisfied: scikit-learn>=1.6.0 in /usr/local/lib/python3.12/dist-packages (from darts) (1.6.1)\n",
            "Requirement already satisfied: scipy>=1.3.2 in /usr/local/lib/python3.12/dist-packages (from darts) (1.16.2)\n",
            "Requirement already satisfied: shap>=0.40.0 in /usr/local/lib/python3.12/dist-packages (from darts) (0.48.0)\n",
            "Requirement already satisfied: statsmodels>=0.14.0 in /usr/local/lib/python3.12/dist-packages (from darts) (0.14.5)\n",
            "Requirement already satisfied: tqdm>=4.60.0 in /usr/local/lib/python3.12/dist-packages (from darts) (4.67.1)\n",
            "Requirement already satisfied: typing-extensions in /usr/local/lib/python3.12/dist-packages (from darts) (4.15.0)\n",
            "Requirement already satisfied: xarray>=0.17.0 in /usr/local/lib/python3.12/dist-packages (from darts) (2025.9.1)\n",
            "Collecting pytorch-lightning<2.5.3,>=2.0.0 (from darts)\n",
            "  Downloading pytorch_lightning-2.5.2-py3-none-any.whl.metadata (21 kB)\n",
            "Collecting tensorboardX>=2.1 (from darts)\n",
            "  Downloading tensorboardx-2.6.4-py3-none-any.whl.metadata (6.2 kB)\n",
            "Requirement already satisfied: torch>=1.8.0 in /usr/local/lib/python3.12/dist-packages (from darts) (2.8.0+cu126)\n",
            "Requirement already satisfied: python-dateutil in /usr/local/lib/python3.12/dist-packages (from holidays>=0.11.1->darts) (2.9.0.post0)\n",
            "Requirement already satisfied: contourpy>=1.0.1 in /usr/local/lib/python3.12/dist-packages (from matplotlib>=3.3.0->darts) (1.3.3)\n",
            "Requirement already satisfied: cycler>=0.10 in /usr/local/lib/python3.12/dist-packages (from matplotlib>=3.3.0->darts) (0.12.1)\n",
            "Requirement already satisfied: fonttools>=4.22.0 in /usr/local/lib/python3.12/dist-packages (from matplotlib>=3.3.0->darts) (4.60.1)\n",
            "Requirement already satisfied: kiwisolver>=1.3.1 in /usr/local/lib/python3.12/dist-packages (from matplotlib>=3.3.0->darts) (1.4.9)\n",
            "Requirement already satisfied: packaging>=20.0 in /usr/local/lib/python3.12/dist-packages (from matplotlib>=3.3.0->darts) (25.0)\n",
            "Requirement already satisfied: pillow>=8 in /usr/local/lib/python3.12/dist-packages (from matplotlib>=3.3.0->darts) (11.3.0)\n",
            "Requirement already satisfied: pyparsing>=2.3.1 in /usr/local/lib/python3.12/dist-packages (from matplotlib>=3.3.0->darts) (3.2.5)\n",
            "Requirement already satisfied: pytz>=2020.1 in /usr/local/lib/python3.12/dist-packages (from pandas>=1.0.5->darts) (2025.2)\n",
            "Requirement already satisfied: tzdata>=2022.7 in /usr/local/lib/python3.12/dist-packages (from pandas>=1.0.5->darts) (2025.2)\n",
            "Requirement already satisfied: numba>=0.51 in /usr/local/lib/python3.12/dist-packages (from pyod>=0.9.5->darts) (0.60.0)\n",
            "Requirement already satisfied: PyYAML>=5.4 in /usr/local/lib/python3.12/dist-packages (from pytorch-lightning<2.5.3,>=2.0.0->darts) (6.0.3)\n",
            "Requirement already satisfied: fsspec>=2022.5.0 in /usr/local/lib/python3.12/dist-packages (from fsspec[http]>=2022.5.0->pytorch-lightning<2.5.3,>=2.0.0->darts) (2025.3.0)\n",
            "Collecting torchmetrics>=0.7.0 (from pytorch-lightning<2.5.3,>=2.0.0->darts)\n",
            "  Downloading torchmetrics-1.8.2-py3-none-any.whl.metadata (22 kB)\n",
            "Collecting lightning-utilities>=0.10.0 (from pytorch-lightning<2.5.3,>=2.0.0->darts)\n",
            "  Downloading lightning_utilities-0.15.2-py3-none-any.whl.metadata (5.7 kB)\n",
            "Requirement already satisfied: charset_normalizer<4,>=2 in /usr/local/lib/python3.12/dist-packages (from requests>=2.22.0->darts) (3.4.3)\n",
            "Requirement already satisfied: idna<4,>=2.5 in /usr/local/lib/python3.12/dist-packages (from requests>=2.22.0->darts) (3.10)\n",
            "Requirement already satisfied: urllib3<3,>=1.21.1 in /usr/local/lib/python3.12/dist-packages (from requests>=2.22.0->darts) (2.5.0)\n",
            "Requirement already satisfied: certifi>=2017.4.17 in /usr/local/lib/python3.12/dist-packages (from requests>=2.22.0->darts) (2025.8.3)\n",
            "Requirement already satisfied: threadpoolctl>=3.1.0 in /usr/local/lib/python3.12/dist-packages (from scikit-learn>=1.6.0->darts) (3.6.0)\n",
            "Requirement already satisfied: slicer==0.0.8 in /usr/local/lib/python3.12/dist-packages (from shap>=0.40.0->darts) (0.0.8)\n",
            "Requirement already satisfied: cloudpickle in /usr/local/lib/python3.12/dist-packages (from shap>=0.40.0->darts) (3.1.1)\n",
            "Requirement already satisfied: patsy>=0.5.6 in /usr/local/lib/python3.12/dist-packages (from statsmodels>=0.14.0->darts) (1.0.1)\n",
            "Requirement already satisfied: protobuf>=3.20 in /usr/local/lib/python3.12/dist-packages (from tensorboardX>=2.1->darts) (5.29.5)\n",
            "Requirement already satisfied: filelock in /usr/local/lib/python3.12/dist-packages (from torch>=1.8.0->darts) (3.19.1)\n",
            "Requirement already satisfied: setuptools in /usr/local/lib/python3.12/dist-packages (from torch>=1.8.0->darts) (75.2.0)\n",
            "Requirement already satisfied: sympy>=1.13.3 in /usr/local/lib/python3.12/dist-packages (from torch>=1.8.0->darts) (1.13.3)\n",
            "Requirement already satisfied: networkx in /usr/local/lib/python3.12/dist-packages (from torch>=1.8.0->darts) (3.5)\n",
            "Requirement already satisfied: jinja2 in /usr/local/lib/python3.12/dist-packages (from torch>=1.8.0->darts) (3.1.6)\n",
            "Requirement already satisfied: nvidia-cuda-nvrtc-cu12==12.6.77 in /usr/local/lib/python3.12/dist-packages (from torch>=1.8.0->darts) (12.6.77)\n",
            "Requirement already satisfied: nvidia-cuda-runtime-cu12==12.6.77 in /usr/local/lib/python3.12/dist-packages (from torch>=1.8.0->darts) (12.6.77)\n",
            "Requirement already satisfied: nvidia-cuda-cupti-cu12==12.6.80 in /usr/local/lib/python3.12/dist-packages (from torch>=1.8.0->darts) (12.6.80)\n",
            "Requirement already satisfied: nvidia-cudnn-cu12==9.10.2.21 in /usr/local/lib/python3.12/dist-packages (from torch>=1.8.0->darts) (9.10.2.21)\n",
            "Requirement already satisfied: nvidia-cublas-cu12==12.6.4.1 in /usr/local/lib/python3.12/dist-packages (from torch>=1.8.0->darts) (12.6.4.1)\n",
            "Requirement already satisfied: nvidia-cufft-cu12==11.3.0.4 in /usr/local/lib/python3.12/dist-packages (from torch>=1.8.0->darts) (11.3.0.4)\n",
            "Requirement already satisfied: nvidia-curand-cu12==10.3.7.77 in /usr/local/lib/python3.12/dist-packages (from torch>=1.8.0->darts) (10.3.7.77)\n",
            "Requirement already satisfied: nvidia-cusolver-cu12==11.7.1.2 in /usr/local/lib/python3.12/dist-packages (from torch>=1.8.0->darts) (11.7.1.2)\n",
            "Requirement already satisfied: nvidia-cusparse-cu12==12.5.4.2 in /usr/local/lib/python3.12/dist-packages (from torch>=1.8.0->darts) (12.5.4.2)\n",
            "Requirement already satisfied: nvidia-cusparselt-cu12==0.7.1 in /usr/local/lib/python3.12/dist-packages (from torch>=1.8.0->darts) (0.7.1)\n",
            "Requirement already satisfied: nvidia-nccl-cu12==2.27.3 in /usr/local/lib/python3.12/dist-packages (from torch>=1.8.0->darts) (2.27.3)\n",
            "Requirement already satisfied: nvidia-nvtx-cu12==12.6.77 in /usr/local/lib/python3.12/dist-packages (from torch>=1.8.0->darts) (12.6.77)\n",
            "Requirement already satisfied: nvidia-nvjitlink-cu12==12.6.85 in /usr/local/lib/python3.12/dist-packages (from torch>=1.8.0->darts) (12.6.85)\n",
            "Requirement already satisfied: nvidia-cufile-cu12==1.11.1.6 in /usr/local/lib/python3.12/dist-packages (from torch>=1.8.0->darts) (1.11.1.6)\n",
            "Requirement already satisfied: triton==3.4.0 in /usr/local/lib/python3.12/dist-packages (from torch>=1.8.0->darts) (3.4.0)\n",
            "Requirement already satisfied: aiohttp!=4.0.0a0,!=4.0.0a1 in /usr/local/lib/python3.12/dist-packages (from fsspec[http]>=2022.5.0->pytorch-lightning<2.5.3,>=2.0.0->darts) (3.12.15)\n",
            "Requirement already satisfied: llvmlite<0.44,>=0.43.0dev0 in /usr/local/lib/python3.12/dist-packages (from numba>=0.51->pyod>=0.9.5->darts) (0.43.0)\n",
            "Requirement already satisfied: six>=1.5 in /usr/local/lib/python3.12/dist-packages (from python-dateutil->holidays>=0.11.1->darts) (1.17.0)\n",
            "Requirement already satisfied: mpmath<1.4,>=1.1.0 in /usr/local/lib/python3.12/dist-packages (from sympy>=1.13.3->torch>=1.8.0->darts) (1.3.0)\n",
            "Requirement already satisfied: MarkupSafe>=2.0 in /usr/local/lib/python3.12/dist-packages (from jinja2->torch>=1.8.0->darts) (3.0.3)\n",
            "Requirement already satisfied: aiohappyeyeballs>=2.5.0 in /usr/local/lib/python3.12/dist-packages (from aiohttp!=4.0.0a0,!=4.0.0a1->fsspec[http]>=2022.5.0->pytorch-lightning<2.5.3,>=2.0.0->darts) (2.6.1)\n",
            "Requirement already satisfied: aiosignal>=1.4.0 in /usr/local/lib/python3.12/dist-packages (from aiohttp!=4.0.0a0,!=4.0.0a1->fsspec[http]>=2022.5.0->pytorch-lightning<2.5.3,>=2.0.0->darts) (1.4.0)\n",
            "Requirement already satisfied: attrs>=17.3.0 in /usr/local/lib/python3.12/dist-packages (from aiohttp!=4.0.0a0,!=4.0.0a1->fsspec[http]>=2022.5.0->pytorch-lightning<2.5.3,>=2.0.0->darts) (25.3.0)\n",
            "Requirement already satisfied: frozenlist>=1.1.1 in /usr/local/lib/python3.12/dist-packages (from aiohttp!=4.0.0a0,!=4.0.0a1->fsspec[http]>=2022.5.0->pytorch-lightning<2.5.3,>=2.0.0->darts) (1.7.0)\n",
            "Requirement already satisfied: multidict<7.0,>=4.5 in /usr/local/lib/python3.12/dist-packages (from aiohttp!=4.0.0a0,!=4.0.0a1->fsspec[http]>=2022.5.0->pytorch-lightning<2.5.3,>=2.0.0->darts) (6.6.4)\n",
            "Requirement already satisfied: propcache>=0.2.0 in /usr/local/lib/python3.12/dist-packages (from aiohttp!=4.0.0a0,!=4.0.0a1->fsspec[http]>=2022.5.0->pytorch-lightning<2.5.3,>=2.0.0->darts) (0.3.2)\n",
            "Requirement already satisfied: yarl<2.0,>=1.17.0 in /usr/local/lib/python3.12/dist-packages (from aiohttp!=4.0.0a0,!=4.0.0a1->fsspec[http]>=2022.5.0->pytorch-lightning<2.5.3,>=2.0.0->darts) (1.20.1)\n",
            "Downloading darts-0.38.0-py3-none-any.whl (1.1 MB)\n",
            "\u001b[2K   \u001b[90m━━━━━━━━━━━━━━━━━━━━━━━━━━━━━━━━━━━━━━━━\u001b[0m \u001b[32m1.1/1.1 MB\u001b[0m \u001b[31m20.8 MB/s\u001b[0m eta \u001b[36m0:00:00\u001b[0m\n",
            "\u001b[?25hDownloading nfoursid-1.0.2-py3-none-any.whl (18 kB)\n",
            "Downloading pyod-2.0.5-py3-none-any.whl (200 kB)\n",
            "\u001b[2K   \u001b[90m━━━━━━━━━━━━━━━━━━━━━━━━━━━━━━━━━━━━━━━━\u001b[0m \u001b[32m200.6/200.6 kB\u001b[0m \u001b[31m21.3 MB/s\u001b[0m eta \u001b[36m0:00:00\u001b[0m\n",
            "\u001b[?25hDownloading pytorch_lightning-2.5.2-py3-none-any.whl (825 kB)\n",
            "\u001b[2K   \u001b[90m━━━━━━━━━━━━━━━━━━━━━━━━━━━━━━━━━━━━━━━━\u001b[0m \u001b[32m825.4/825.4 kB\u001b[0m \u001b[31m59.1 MB/s\u001b[0m eta \u001b[36m0:00:00\u001b[0m\n",
            "\u001b[?25hDownloading tensorboardx-2.6.4-py3-none-any.whl (87 kB)\n",
            "\u001b[2K   \u001b[90m━━━━━━━━━━━━━━━━━━━━━━━━━━━━━━━━━━━━━━━━\u001b[0m \u001b[32m87.2/87.2 kB\u001b[0m \u001b[31m9.2 MB/s\u001b[0m eta \u001b[36m0:00:00\u001b[0m\n",
            "\u001b[?25hDownloading lightning_utilities-0.15.2-py3-none-any.whl (29 kB)\n",
            "Downloading torchmetrics-1.8.2-py3-none-any.whl (983 kB)\n",
            "\u001b[2K   \u001b[90m━━━━━━━━━━━━━━━━━━━━━━━━━━━━━━━━━━━━━━━━\u001b[0m \u001b[32m983.2/983.2 kB\u001b[0m \u001b[31m44.2 MB/s\u001b[0m eta \u001b[36m0:00:00\u001b[0m\n",
            "\u001b[?25hInstalling collected packages: tensorboardX, lightning-utilities, pyod, nfoursid, torchmetrics, pytorch-lightning, darts\n",
            "Successfully installed darts-0.38.0 lightning-utilities-0.15.2 nfoursid-1.0.2 pyod-2.0.5 pytorch-lightning-2.5.2 tensorboardX-2.6.4 torchmetrics-1.8.2\n"
          ]
        }
      ],
      "source": [
        "!pip install darts"
      ]
    },
    {
      "cell_type": "code",
      "source": [
        "# === Download utility scripts from GitHub ===\n",
        "!wget -q -O metrics.py \\\n",
        "    https://raw.githubusercontent.com/GeneSUN/time-series-analysis-toolkit/main/src/Evaluation/metrics.py\n",
        "\n",
        "!wget -q -O missing_values.py \\\n",
        "    https://raw.githubusercontent.com/GeneSUN/time-series-analysis-toolkit/main/src/Imputation/missing_values.py\n",
        "\n",
        "!wget -q -O plot_predictions_vs_actuals.py \\\n",
        "    https://raw.githubusercontent.com/GeneSUN/time-series-analysis-toolkit/main/src/Evaluation/plot_predictions_vs_actuals.py\n",
        "\n",
        "!wget -q -O feature_importance.py \\\n",
        "    https://raw.githubusercontent.com/GeneSUN/time-series-analysis-toolkit/main/src/Evaluation/feature_importance.py\n",
        "\n",
        "\n",
        "# === Import functions from the downloaded scripts ===\n",
        "from metrics import calculate_metrics\n",
        "from missing_values import missing_summary\n",
        "from plot_predictions_vs_actuals import plot_predictions_vs_actuals\n",
        "from feature_importance import plot_feature_importance\n"
      ],
      "metadata": {
        "id": "B2kgKv6f_suL"
      },
      "execution_count": null,
      "outputs": []
    },
    {
      "cell_type": "code",
      "source": [
        "from dataclasses import MISSING, dataclass, field\n",
        "from typing import List, Optional, Iterable\n",
        "import pandas as pd\n",
        "import copy\n",
        "import warnings\n",
        "from typing import Dict, List, Union\n",
        "from pathlib import Path\n",
        "from tqdm.autonotebook import tqdm"
      ],
      "metadata": {
        "colab": {
          "base_uri": "https://localhost:8080/"
        },
        "id": "h7bd5z3OBVGu",
        "outputId": "93771cc5-50fc-42ca-9747-baa0842493a9"
      },
      "execution_count": null,
      "outputs": [
        {
          "output_type": "stream",
          "name": "stderr",
          "text": [
            "/tmp/ipython-input-3352079583.py:8: TqdmExperimentalWarning: Using `tqdm.autonotebook.tqdm` in notebook mode. Use `tqdm.tqdm` instead to force console mode (e.g. in jupyter console)\n",
            "  from tqdm.autonotebook import tqdm\n"
          ]
        }
      ]
    },
    {
      "cell_type": "markdown",
      "source": [
        "# 1). Single Model"
      ],
      "metadata": {
        "id": "ErQA05MeCR7J"
      }
    },
    {
      "cell_type": "code",
      "metadata": {
        "colab": {
          "base_uri": "https://localhost:8080/",
          "height": 751
        },
        "id": "d8aca5a2",
        "outputId": "b5c21e46-e4c7-4a82-f312-e11d070f660b"
      },
      "source": [
        "import pandas as pd\n",
        "\n",
        "train_url = \"https://raw.githubusercontent.com/GeneSUN/time-series-analysis-toolkit/main/Data/sample_train.csv\"\n",
        "test_url = \"https://raw.githubusercontent.com/GeneSUN/time-series-analysis-toolkit/main/Data/sample_test.csv\"\n",
        "\n",
        "sample_train_df = pd.read_csv(train_url)\n",
        "sample_test_df = pd.read_csv(test_url)\n",
        "\n",
        "print(sample_train_df.shape, sample_test_df.shape)\n",
        "display(sample_train_df.head())\n",
        "display(sample_test_df.head())\n"
      ],
      "execution_count": null,
      "outputs": [
        {
          "output_type": "stream",
          "name": "stdout",
          "text": [
            "(34750, 91) (1488, 91)\n"
          ]
        },
        {
          "output_type": "display_data",
          "data": {
            "text/plain": [
              "             timestamp      LCLid  energy_consumption frequency  \\\n",
              "0  2012-01-08 01:00:00  MAC000193               0.038     30min   \n",
              "1  2012-01-08 01:30:00  MAC000193               0.007     30min   \n",
              "2  2012-01-08 02:00:00  MAC000193               0.034     30min   \n",
              "3  2012-01-08 02:30:00  MAC000193               0.040     30min   \n",
              "4  2012-01-08 03:00:00  MAC000193               0.019     30min   \n",
              "\n",
              "   series_length stdorToU    Acorn Acorn_grouped     file    holidays  ...  \\\n",
              "0          37872      ToU  ACORN-D      Affluent  block_7  NO_HOLIDAY  ...   \n",
              "1          37872      ToU  ACORN-D      Affluent  block_7  NO_HOLIDAY  ...   \n",
              "2          37872      ToU  ACORN-D      Affluent  block_7  NO_HOLIDAY  ...   \n",
              "3          37872      ToU  ACORN-D      Affluent  block_7  NO_HOLIDAY  ...   \n",
              "4          37872      ToU  ACORN-D      Affluent  block_7  NO_HOLIDAY  ...   \n",
              "\n",
              "   timestamp_Minute_sin_1  timestamp_Minute_sin_2  timestamp_Minute_sin_3  \\\n",
              "0            0.000000e+00            0.000000e+00            0.000000e+00   \n",
              "1            5.665539e-16           -1.133108e-15            2.143751e-15   \n",
              "2            0.000000e+00            0.000000e+00            0.000000e+00   \n",
              "3            5.665539e-16           -1.133108e-15            2.143751e-15   \n",
              "4            0.000000e+00            0.000000e+00            0.000000e+00   \n",
              "\n",
              "   timestamp_Minute_sin_4  timestamp_Minute_sin_5  timestamp_Minute_cos_1  \\\n",
              "0            0.000000e+00            0.000000e+00                     1.0   \n",
              "1           -2.266215e-15            6.123234e-16                    -1.0   \n",
              "2            0.000000e+00            0.000000e+00                     1.0   \n",
              "3           -2.266215e-15            6.123234e-16                    -1.0   \n",
              "4            0.000000e+00            0.000000e+00                     1.0   \n",
              "\n",
              "   timestamp_Minute_cos_2 timestamp_Minute_cos_3 timestamp_Minute_cos_4  \\\n",
              "0                     1.0                    1.0                    1.0   \n",
              "1                     1.0                   -1.0                    1.0   \n",
              "2                     1.0                    1.0                    1.0   \n",
              "3                     1.0                   -1.0                    1.0   \n",
              "4                     1.0                    1.0                    1.0   \n",
              "\n",
              "   timestamp_Minute_cos_5  \n",
              "0                     1.0  \n",
              "1                    -1.0  \n",
              "2                     1.0  \n",
              "3                    -1.0  \n",
              "4                     1.0  \n",
              "\n",
              "[5 rows x 91 columns]"
            ],
            "text/html": [
              "\n",
              "  <div id=\"df-c15a493a-cc75-4ac9-9396-ec82572fc2f3\" class=\"colab-df-container\">\n",
              "    <div>\n",
              "<style scoped>\n",
              "    .dataframe tbody tr th:only-of-type {\n",
              "        vertical-align: middle;\n",
              "    }\n",
              "\n",
              "    .dataframe tbody tr th {\n",
              "        vertical-align: top;\n",
              "    }\n",
              "\n",
              "    .dataframe thead th {\n",
              "        text-align: right;\n",
              "    }\n",
              "</style>\n",
              "<table border=\"1\" class=\"dataframe\">\n",
              "  <thead>\n",
              "    <tr style=\"text-align: right;\">\n",
              "      <th></th>\n",
              "      <th>timestamp</th>\n",
              "      <th>LCLid</th>\n",
              "      <th>energy_consumption</th>\n",
              "      <th>frequency</th>\n",
              "      <th>series_length</th>\n",
              "      <th>stdorToU</th>\n",
              "      <th>Acorn</th>\n",
              "      <th>Acorn_grouped</th>\n",
              "      <th>file</th>\n",
              "      <th>holidays</th>\n",
              "      <th>...</th>\n",
              "      <th>timestamp_Minute_sin_1</th>\n",
              "      <th>timestamp_Minute_sin_2</th>\n",
              "      <th>timestamp_Minute_sin_3</th>\n",
              "      <th>timestamp_Minute_sin_4</th>\n",
              "      <th>timestamp_Minute_sin_5</th>\n",
              "      <th>timestamp_Minute_cos_1</th>\n",
              "      <th>timestamp_Minute_cos_2</th>\n",
              "      <th>timestamp_Minute_cos_3</th>\n",
              "      <th>timestamp_Minute_cos_4</th>\n",
              "      <th>timestamp_Minute_cos_5</th>\n",
              "    </tr>\n",
              "  </thead>\n",
              "  <tbody>\n",
              "    <tr>\n",
              "      <th>0</th>\n",
              "      <td>2012-01-08 01:00:00</td>\n",
              "      <td>MAC000193</td>\n",
              "      <td>0.038</td>\n",
              "      <td>30min</td>\n",
              "      <td>37872</td>\n",
              "      <td>ToU</td>\n",
              "      <td>ACORN-D</td>\n",
              "      <td>Affluent</td>\n",
              "      <td>block_7</td>\n",
              "      <td>NO_HOLIDAY</td>\n",
              "      <td>...</td>\n",
              "      <td>0.000000e+00</td>\n",
              "      <td>0.000000e+00</td>\n",
              "      <td>0.000000e+00</td>\n",
              "      <td>0.000000e+00</td>\n",
              "      <td>0.000000e+00</td>\n",
              "      <td>1.0</td>\n",
              "      <td>1.0</td>\n",
              "      <td>1.0</td>\n",
              "      <td>1.0</td>\n",
              "      <td>1.0</td>\n",
              "    </tr>\n",
              "    <tr>\n",
              "      <th>1</th>\n",
              "      <td>2012-01-08 01:30:00</td>\n",
              "      <td>MAC000193</td>\n",
              "      <td>0.007</td>\n",
              "      <td>30min</td>\n",
              "      <td>37872</td>\n",
              "      <td>ToU</td>\n",
              "      <td>ACORN-D</td>\n",
              "      <td>Affluent</td>\n",
              "      <td>block_7</td>\n",
              "      <td>NO_HOLIDAY</td>\n",
              "      <td>...</td>\n",
              "      <td>5.665539e-16</td>\n",
              "      <td>-1.133108e-15</td>\n",
              "      <td>2.143751e-15</td>\n",
              "      <td>-2.266215e-15</td>\n",
              "      <td>6.123234e-16</td>\n",
              "      <td>-1.0</td>\n",
              "      <td>1.0</td>\n",
              "      <td>-1.0</td>\n",
              "      <td>1.0</td>\n",
              "      <td>-1.0</td>\n",
              "    </tr>\n",
              "    <tr>\n",
              "      <th>2</th>\n",
              "      <td>2012-01-08 02:00:00</td>\n",
              "      <td>MAC000193</td>\n",
              "      <td>0.034</td>\n",
              "      <td>30min</td>\n",
              "      <td>37872</td>\n",
              "      <td>ToU</td>\n",
              "      <td>ACORN-D</td>\n",
              "      <td>Affluent</td>\n",
              "      <td>block_7</td>\n",
              "      <td>NO_HOLIDAY</td>\n",
              "      <td>...</td>\n",
              "      <td>0.000000e+00</td>\n",
              "      <td>0.000000e+00</td>\n",
              "      <td>0.000000e+00</td>\n",
              "      <td>0.000000e+00</td>\n",
              "      <td>0.000000e+00</td>\n",
              "      <td>1.0</td>\n",
              "      <td>1.0</td>\n",
              "      <td>1.0</td>\n",
              "      <td>1.0</td>\n",
              "      <td>1.0</td>\n",
              "    </tr>\n",
              "    <tr>\n",
              "      <th>3</th>\n",
              "      <td>2012-01-08 02:30:00</td>\n",
              "      <td>MAC000193</td>\n",
              "      <td>0.040</td>\n",
              "      <td>30min</td>\n",
              "      <td>37872</td>\n",
              "      <td>ToU</td>\n",
              "      <td>ACORN-D</td>\n",
              "      <td>Affluent</td>\n",
              "      <td>block_7</td>\n",
              "      <td>NO_HOLIDAY</td>\n",
              "      <td>...</td>\n",
              "      <td>5.665539e-16</td>\n",
              "      <td>-1.133108e-15</td>\n",
              "      <td>2.143751e-15</td>\n",
              "      <td>-2.266215e-15</td>\n",
              "      <td>6.123234e-16</td>\n",
              "      <td>-1.0</td>\n",
              "      <td>1.0</td>\n",
              "      <td>-1.0</td>\n",
              "      <td>1.0</td>\n",
              "      <td>-1.0</td>\n",
              "    </tr>\n",
              "    <tr>\n",
              "      <th>4</th>\n",
              "      <td>2012-01-08 03:00:00</td>\n",
              "      <td>MAC000193</td>\n",
              "      <td>0.019</td>\n",
              "      <td>30min</td>\n",
              "      <td>37872</td>\n",
              "      <td>ToU</td>\n",
              "      <td>ACORN-D</td>\n",
              "      <td>Affluent</td>\n",
              "      <td>block_7</td>\n",
              "      <td>NO_HOLIDAY</td>\n",
              "      <td>...</td>\n",
              "      <td>0.000000e+00</td>\n",
              "      <td>0.000000e+00</td>\n",
              "      <td>0.000000e+00</td>\n",
              "      <td>0.000000e+00</td>\n",
              "      <td>0.000000e+00</td>\n",
              "      <td>1.0</td>\n",
              "      <td>1.0</td>\n",
              "      <td>1.0</td>\n",
              "      <td>1.0</td>\n",
              "      <td>1.0</td>\n",
              "    </tr>\n",
              "  </tbody>\n",
              "</table>\n",
              "<p>5 rows × 91 columns</p>\n",
              "</div>\n",
              "    <div class=\"colab-df-buttons\">\n",
              "\n",
              "  <div class=\"colab-df-container\">\n",
              "    <button class=\"colab-df-convert\" onclick=\"convertToInteractive('df-c15a493a-cc75-4ac9-9396-ec82572fc2f3')\"\n",
              "            title=\"Convert this dataframe to an interactive table.\"\n",
              "            style=\"display:none;\">\n",
              "\n",
              "  <svg xmlns=\"http://www.w3.org/2000/svg\" height=\"24px\" viewBox=\"0 -960 960 960\">\n",
              "    <path d=\"M120-120v-720h720v720H120Zm60-500h600v-160H180v160Zm220 220h160v-160H400v160Zm0 220h160v-160H400v160ZM180-400h160v-160H180v160Zm440 0h160v-160H620v160ZM180-180h160v-160H180v160Zm440 0h160v-160H620v160Z\"/>\n",
              "  </svg>\n",
              "    </button>\n",
              "\n",
              "  <style>\n",
              "    .colab-df-container {\n",
              "      display:flex;\n",
              "      gap: 12px;\n",
              "    }\n",
              "\n",
              "    .colab-df-convert {\n",
              "      background-color: #E8F0FE;\n",
              "      border: none;\n",
              "      border-radius: 50%;\n",
              "      cursor: pointer;\n",
              "      display: none;\n",
              "      fill: #1967D2;\n",
              "      height: 32px;\n",
              "      padding: 0 0 0 0;\n",
              "      width: 32px;\n",
              "    }\n",
              "\n",
              "    .colab-df-convert:hover {\n",
              "      background-color: #E2EBFA;\n",
              "      box-shadow: 0px 1px 2px rgba(60, 64, 67, 0.3), 0px 1px 3px 1px rgba(60, 64, 67, 0.15);\n",
              "      fill: #174EA6;\n",
              "    }\n",
              "\n",
              "    .colab-df-buttons div {\n",
              "      margin-bottom: 4px;\n",
              "    }\n",
              "\n",
              "    [theme=dark] .colab-df-convert {\n",
              "      background-color: #3B4455;\n",
              "      fill: #D2E3FC;\n",
              "    }\n",
              "\n",
              "    [theme=dark] .colab-df-convert:hover {\n",
              "      background-color: #434B5C;\n",
              "      box-shadow: 0px 1px 3px 1px rgba(0, 0, 0, 0.15);\n",
              "      filter: drop-shadow(0px 1px 2px rgba(0, 0, 0, 0.3));\n",
              "      fill: #FFFFFF;\n",
              "    }\n",
              "  </style>\n",
              "\n",
              "    <script>\n",
              "      const buttonEl =\n",
              "        document.querySelector('#df-c15a493a-cc75-4ac9-9396-ec82572fc2f3 button.colab-df-convert');\n",
              "      buttonEl.style.display =\n",
              "        google.colab.kernel.accessAllowed ? 'block' : 'none';\n",
              "\n",
              "      async function convertToInteractive(key) {\n",
              "        const element = document.querySelector('#df-c15a493a-cc75-4ac9-9396-ec82572fc2f3');\n",
              "        const dataTable =\n",
              "          await google.colab.kernel.invokeFunction('convertToInteractive',\n",
              "                                                    [key], {});\n",
              "        if (!dataTable) return;\n",
              "\n",
              "        const docLinkHtml = 'Like what you see? Visit the ' +\n",
              "          '<a target=\"_blank\" href=https://colab.research.google.com/notebooks/data_table.ipynb>data table notebook</a>'\n",
              "          + ' to learn more about interactive tables.';\n",
              "        element.innerHTML = '';\n",
              "        dataTable['output_type'] = 'display_data';\n",
              "        await google.colab.output.renderOutput(dataTable, element);\n",
              "        const docLink = document.createElement('div');\n",
              "        docLink.innerHTML = docLinkHtml;\n",
              "        element.appendChild(docLink);\n",
              "      }\n",
              "    </script>\n",
              "  </div>\n",
              "\n",
              "\n",
              "    <div id=\"df-0b9f1502-087d-41fa-87af-f5596338b780\">\n",
              "      <button class=\"colab-df-quickchart\" onclick=\"quickchart('df-0b9f1502-087d-41fa-87af-f5596338b780')\"\n",
              "                title=\"Suggest charts\"\n",
              "                style=\"display:none;\">\n",
              "\n",
              "<svg xmlns=\"http://www.w3.org/2000/svg\" height=\"24px\"viewBox=\"0 0 24 24\"\n",
              "     width=\"24px\">\n",
              "    <g>\n",
              "        <path d=\"M19 3H5c-1.1 0-2 .9-2 2v14c0 1.1.9 2 2 2h14c1.1 0 2-.9 2-2V5c0-1.1-.9-2-2-2zM9 17H7v-7h2v7zm4 0h-2V7h2v10zm4 0h-2v-4h2v4z\"/>\n",
              "    </g>\n",
              "</svg>\n",
              "      </button>\n",
              "\n",
              "<style>\n",
              "  .colab-df-quickchart {\n",
              "      --bg-color: #E8F0FE;\n",
              "      --fill-color: #1967D2;\n",
              "      --hover-bg-color: #E2EBFA;\n",
              "      --hover-fill-color: #174EA6;\n",
              "      --disabled-fill-color: #AAA;\n",
              "      --disabled-bg-color: #DDD;\n",
              "  }\n",
              "\n",
              "  [theme=dark] .colab-df-quickchart {\n",
              "      --bg-color: #3B4455;\n",
              "      --fill-color: #D2E3FC;\n",
              "      --hover-bg-color: #434B5C;\n",
              "      --hover-fill-color: #FFFFFF;\n",
              "      --disabled-bg-color: #3B4455;\n",
              "      --disabled-fill-color: #666;\n",
              "  }\n",
              "\n",
              "  .colab-df-quickchart {\n",
              "    background-color: var(--bg-color);\n",
              "    border: none;\n",
              "    border-radius: 50%;\n",
              "    cursor: pointer;\n",
              "    display: none;\n",
              "    fill: var(--fill-color);\n",
              "    height: 32px;\n",
              "    padding: 0;\n",
              "    width: 32px;\n",
              "  }\n",
              "\n",
              "  .colab-df-quickchart:hover {\n",
              "    background-color: var(--hover-bg-color);\n",
              "    box-shadow: 0 1px 2px rgba(60, 64, 67, 0.3), 0 1px 3px 1px rgba(60, 64, 67, 0.15);\n",
              "    fill: var(--button-hover-fill-color);\n",
              "  }\n",
              "\n",
              "  .colab-df-quickchart-complete:disabled,\n",
              "  .colab-df-quickchart-complete:disabled:hover {\n",
              "    background-color: var(--disabled-bg-color);\n",
              "    fill: var(--disabled-fill-color);\n",
              "    box-shadow: none;\n",
              "  }\n",
              "\n",
              "  .colab-df-spinner {\n",
              "    border: 2px solid var(--fill-color);\n",
              "    border-color: transparent;\n",
              "    border-bottom-color: var(--fill-color);\n",
              "    animation:\n",
              "      spin 1s steps(1) infinite;\n",
              "  }\n",
              "\n",
              "  @keyframes spin {\n",
              "    0% {\n",
              "      border-color: transparent;\n",
              "      border-bottom-color: var(--fill-color);\n",
              "      border-left-color: var(--fill-color);\n",
              "    }\n",
              "    20% {\n",
              "      border-color: transparent;\n",
              "      border-left-color: var(--fill-color);\n",
              "      border-top-color: var(--fill-color);\n",
              "    }\n",
              "    30% {\n",
              "      border-color: transparent;\n",
              "      border-left-color: var(--fill-color);\n",
              "      border-top-color: var(--fill-color);\n",
              "      border-right-color: var(--fill-color);\n",
              "    }\n",
              "    40% {\n",
              "      border-color: transparent;\n",
              "      border-right-color: var(--fill-color);\n",
              "      border-top-color: var(--fill-color);\n",
              "    }\n",
              "    60% {\n",
              "      border-color: transparent;\n",
              "      border-right-color: var(--fill-color);\n",
              "    }\n",
              "    80% {\n",
              "      border-color: transparent;\n",
              "      border-right-color: var(--fill-color);\n",
              "      border-bottom-color: var(--fill-color);\n",
              "    }\n",
              "    90% {\n",
              "      border-color: transparent;\n",
              "      border-bottom-color: var(--fill-color);\n",
              "    }\n",
              "  }\n",
              "</style>\n",
              "\n",
              "      <script>\n",
              "        async function quickchart(key) {\n",
              "          const quickchartButtonEl =\n",
              "            document.querySelector('#' + key + ' button');\n",
              "          quickchartButtonEl.disabled = true;  // To prevent multiple clicks.\n",
              "          quickchartButtonEl.classList.add('colab-df-spinner');\n",
              "          try {\n",
              "            const charts = await google.colab.kernel.invokeFunction(\n",
              "                'suggestCharts', [key], {});\n",
              "          } catch (error) {\n",
              "            console.error('Error during call to suggestCharts:', error);\n",
              "          }\n",
              "          quickchartButtonEl.classList.remove('colab-df-spinner');\n",
              "          quickchartButtonEl.classList.add('colab-df-quickchart-complete');\n",
              "        }\n",
              "        (() => {\n",
              "          let quickchartButtonEl =\n",
              "            document.querySelector('#df-0b9f1502-087d-41fa-87af-f5596338b780 button');\n",
              "          quickchartButtonEl.style.display =\n",
              "            google.colab.kernel.accessAllowed ? 'block' : 'none';\n",
              "        })();\n",
              "      </script>\n",
              "    </div>\n",
              "\n",
              "    </div>\n",
              "  </div>\n"
            ],
            "application/vnd.google.colaboratory.intrinsic+json": {
              "type": "dataframe"
            }
          },
          "metadata": {}
        },
        {
          "output_type": "display_data",
          "data": {
            "text/plain": [
              "             timestamp      LCLid  energy_consumption frequency  \\\n",
              "0  2014-01-01 00:00:00  MAC000193               0.223     30min   \n",
              "1  2014-01-01 00:30:00  MAC000193               0.274     30min   \n",
              "2  2014-01-01 01:00:00  MAC000193               0.308     30min   \n",
              "3  2014-01-01 01:30:00  MAC000193               0.279     30min   \n",
              "4  2014-01-01 02:00:00  MAC000193               0.000     30min   \n",
              "\n",
              "   series_length stdorToU    Acorn Acorn_grouped     file        holidays  \\\n",
              "0          37872      ToU  ACORN-D      Affluent  block_7  New Year?s Day   \n",
              "1          37872      ToU  ACORN-D      Affluent  block_7  New Year?s Day   \n",
              "2          37872      ToU  ACORN-D      Affluent  block_7  New Year?s Day   \n",
              "3          37872      ToU  ACORN-D      Affluent  block_7  New Year?s Day   \n",
              "4          37872      ToU  ACORN-D      Affluent  block_7  New Year?s Day   \n",
              "\n",
              "   ...  timestamp_Minute_sin_1  timestamp_Minute_sin_2  \\\n",
              "0  ...            0.000000e+00            0.000000e+00   \n",
              "1  ...            5.665539e-16           -1.133108e-15   \n",
              "2  ...            0.000000e+00            0.000000e+00   \n",
              "3  ...            5.665539e-16           -1.133108e-15   \n",
              "4  ...            0.000000e+00            0.000000e+00   \n",
              "\n",
              "   timestamp_Minute_sin_3  timestamp_Minute_sin_4  timestamp_Minute_sin_5  \\\n",
              "0            0.000000e+00            0.000000e+00            0.000000e+00   \n",
              "1            2.143751e-15           -2.266215e-15            6.123234e-16   \n",
              "2            0.000000e+00            0.000000e+00            0.000000e+00   \n",
              "3            2.143751e-15           -2.266215e-15            6.123234e-16   \n",
              "4            0.000000e+00            0.000000e+00            0.000000e+00   \n",
              "\n",
              "   timestamp_Minute_cos_1  timestamp_Minute_cos_2 timestamp_Minute_cos_3  \\\n",
              "0                     1.0                     1.0                    1.0   \n",
              "1                    -1.0                     1.0                   -1.0   \n",
              "2                     1.0                     1.0                    1.0   \n",
              "3                    -1.0                     1.0                   -1.0   \n",
              "4                     1.0                     1.0                    1.0   \n",
              "\n",
              "  timestamp_Minute_cos_4  timestamp_Minute_cos_5  \n",
              "0                    1.0                     1.0  \n",
              "1                    1.0                    -1.0  \n",
              "2                    1.0                     1.0  \n",
              "3                    1.0                    -1.0  \n",
              "4                    1.0                     1.0  \n",
              "\n",
              "[5 rows x 91 columns]"
            ],
            "text/html": [
              "\n",
              "  <div id=\"df-a32bf1f9-e929-4d7f-ab8d-cd1436ea0220\" class=\"colab-df-container\">\n",
              "    <div>\n",
              "<style scoped>\n",
              "    .dataframe tbody tr th:only-of-type {\n",
              "        vertical-align: middle;\n",
              "    }\n",
              "\n",
              "    .dataframe tbody tr th {\n",
              "        vertical-align: top;\n",
              "    }\n",
              "\n",
              "    .dataframe thead th {\n",
              "        text-align: right;\n",
              "    }\n",
              "</style>\n",
              "<table border=\"1\" class=\"dataframe\">\n",
              "  <thead>\n",
              "    <tr style=\"text-align: right;\">\n",
              "      <th></th>\n",
              "      <th>timestamp</th>\n",
              "      <th>LCLid</th>\n",
              "      <th>energy_consumption</th>\n",
              "      <th>frequency</th>\n",
              "      <th>series_length</th>\n",
              "      <th>stdorToU</th>\n",
              "      <th>Acorn</th>\n",
              "      <th>Acorn_grouped</th>\n",
              "      <th>file</th>\n",
              "      <th>holidays</th>\n",
              "      <th>...</th>\n",
              "      <th>timestamp_Minute_sin_1</th>\n",
              "      <th>timestamp_Minute_sin_2</th>\n",
              "      <th>timestamp_Minute_sin_3</th>\n",
              "      <th>timestamp_Minute_sin_4</th>\n",
              "      <th>timestamp_Minute_sin_5</th>\n",
              "      <th>timestamp_Minute_cos_1</th>\n",
              "      <th>timestamp_Minute_cos_2</th>\n",
              "      <th>timestamp_Minute_cos_3</th>\n",
              "      <th>timestamp_Minute_cos_4</th>\n",
              "      <th>timestamp_Minute_cos_5</th>\n",
              "    </tr>\n",
              "  </thead>\n",
              "  <tbody>\n",
              "    <tr>\n",
              "      <th>0</th>\n",
              "      <td>2014-01-01 00:00:00</td>\n",
              "      <td>MAC000193</td>\n",
              "      <td>0.223</td>\n",
              "      <td>30min</td>\n",
              "      <td>37872</td>\n",
              "      <td>ToU</td>\n",
              "      <td>ACORN-D</td>\n",
              "      <td>Affluent</td>\n",
              "      <td>block_7</td>\n",
              "      <td>New Year?s Day</td>\n",
              "      <td>...</td>\n",
              "      <td>0.000000e+00</td>\n",
              "      <td>0.000000e+00</td>\n",
              "      <td>0.000000e+00</td>\n",
              "      <td>0.000000e+00</td>\n",
              "      <td>0.000000e+00</td>\n",
              "      <td>1.0</td>\n",
              "      <td>1.0</td>\n",
              "      <td>1.0</td>\n",
              "      <td>1.0</td>\n",
              "      <td>1.0</td>\n",
              "    </tr>\n",
              "    <tr>\n",
              "      <th>1</th>\n",
              "      <td>2014-01-01 00:30:00</td>\n",
              "      <td>MAC000193</td>\n",
              "      <td>0.274</td>\n",
              "      <td>30min</td>\n",
              "      <td>37872</td>\n",
              "      <td>ToU</td>\n",
              "      <td>ACORN-D</td>\n",
              "      <td>Affluent</td>\n",
              "      <td>block_7</td>\n",
              "      <td>New Year?s Day</td>\n",
              "      <td>...</td>\n",
              "      <td>5.665539e-16</td>\n",
              "      <td>-1.133108e-15</td>\n",
              "      <td>2.143751e-15</td>\n",
              "      <td>-2.266215e-15</td>\n",
              "      <td>6.123234e-16</td>\n",
              "      <td>-1.0</td>\n",
              "      <td>1.0</td>\n",
              "      <td>-1.0</td>\n",
              "      <td>1.0</td>\n",
              "      <td>-1.0</td>\n",
              "    </tr>\n",
              "    <tr>\n",
              "      <th>2</th>\n",
              "      <td>2014-01-01 01:00:00</td>\n",
              "      <td>MAC000193</td>\n",
              "      <td>0.308</td>\n",
              "      <td>30min</td>\n",
              "      <td>37872</td>\n",
              "      <td>ToU</td>\n",
              "      <td>ACORN-D</td>\n",
              "      <td>Affluent</td>\n",
              "      <td>block_7</td>\n",
              "      <td>New Year?s Day</td>\n",
              "      <td>...</td>\n",
              "      <td>0.000000e+00</td>\n",
              "      <td>0.000000e+00</td>\n",
              "      <td>0.000000e+00</td>\n",
              "      <td>0.000000e+00</td>\n",
              "      <td>0.000000e+00</td>\n",
              "      <td>1.0</td>\n",
              "      <td>1.0</td>\n",
              "      <td>1.0</td>\n",
              "      <td>1.0</td>\n",
              "      <td>1.0</td>\n",
              "    </tr>\n",
              "    <tr>\n",
              "      <th>3</th>\n",
              "      <td>2014-01-01 01:30:00</td>\n",
              "      <td>MAC000193</td>\n",
              "      <td>0.279</td>\n",
              "      <td>30min</td>\n",
              "      <td>37872</td>\n",
              "      <td>ToU</td>\n",
              "      <td>ACORN-D</td>\n",
              "      <td>Affluent</td>\n",
              "      <td>block_7</td>\n",
              "      <td>New Year?s Day</td>\n",
              "      <td>...</td>\n",
              "      <td>5.665539e-16</td>\n",
              "      <td>-1.133108e-15</td>\n",
              "      <td>2.143751e-15</td>\n",
              "      <td>-2.266215e-15</td>\n",
              "      <td>6.123234e-16</td>\n",
              "      <td>-1.0</td>\n",
              "      <td>1.0</td>\n",
              "      <td>-1.0</td>\n",
              "      <td>1.0</td>\n",
              "      <td>-1.0</td>\n",
              "    </tr>\n",
              "    <tr>\n",
              "      <th>4</th>\n",
              "      <td>2014-01-01 02:00:00</td>\n",
              "      <td>MAC000193</td>\n",
              "      <td>0.000</td>\n",
              "      <td>30min</td>\n",
              "      <td>37872</td>\n",
              "      <td>ToU</td>\n",
              "      <td>ACORN-D</td>\n",
              "      <td>Affluent</td>\n",
              "      <td>block_7</td>\n",
              "      <td>New Year?s Day</td>\n",
              "      <td>...</td>\n",
              "      <td>0.000000e+00</td>\n",
              "      <td>0.000000e+00</td>\n",
              "      <td>0.000000e+00</td>\n",
              "      <td>0.000000e+00</td>\n",
              "      <td>0.000000e+00</td>\n",
              "      <td>1.0</td>\n",
              "      <td>1.0</td>\n",
              "      <td>1.0</td>\n",
              "      <td>1.0</td>\n",
              "      <td>1.0</td>\n",
              "    </tr>\n",
              "  </tbody>\n",
              "</table>\n",
              "<p>5 rows × 91 columns</p>\n",
              "</div>\n",
              "    <div class=\"colab-df-buttons\">\n",
              "\n",
              "  <div class=\"colab-df-container\">\n",
              "    <button class=\"colab-df-convert\" onclick=\"convertToInteractive('df-a32bf1f9-e929-4d7f-ab8d-cd1436ea0220')\"\n",
              "            title=\"Convert this dataframe to an interactive table.\"\n",
              "            style=\"display:none;\">\n",
              "\n",
              "  <svg xmlns=\"http://www.w3.org/2000/svg\" height=\"24px\" viewBox=\"0 -960 960 960\">\n",
              "    <path d=\"M120-120v-720h720v720H120Zm60-500h600v-160H180v160Zm220 220h160v-160H400v160Zm0 220h160v-160H400v160ZM180-400h160v-160H180v160Zm440 0h160v-160H620v160ZM180-180h160v-160H180v160Zm440 0h160v-160H620v160Z\"/>\n",
              "  </svg>\n",
              "    </button>\n",
              "\n",
              "  <style>\n",
              "    .colab-df-container {\n",
              "      display:flex;\n",
              "      gap: 12px;\n",
              "    }\n",
              "\n",
              "    .colab-df-convert {\n",
              "      background-color: #E8F0FE;\n",
              "      border: none;\n",
              "      border-radius: 50%;\n",
              "      cursor: pointer;\n",
              "      display: none;\n",
              "      fill: #1967D2;\n",
              "      height: 32px;\n",
              "      padding: 0 0 0 0;\n",
              "      width: 32px;\n",
              "    }\n",
              "\n",
              "    .colab-df-convert:hover {\n",
              "      background-color: #E2EBFA;\n",
              "      box-shadow: 0px 1px 2px rgba(60, 64, 67, 0.3), 0px 1px 3px 1px rgba(60, 64, 67, 0.15);\n",
              "      fill: #174EA6;\n",
              "    }\n",
              "\n",
              "    .colab-df-buttons div {\n",
              "      margin-bottom: 4px;\n",
              "    }\n",
              "\n",
              "    [theme=dark] .colab-df-convert {\n",
              "      background-color: #3B4455;\n",
              "      fill: #D2E3FC;\n",
              "    }\n",
              "\n",
              "    [theme=dark] .colab-df-convert:hover {\n",
              "      background-color: #434B5C;\n",
              "      box-shadow: 0px 1px 3px 1px rgba(0, 0, 0, 0.15);\n",
              "      filter: drop-shadow(0px 1px 2px rgba(0, 0, 0, 0.3));\n",
              "      fill: #FFFFFF;\n",
              "    }\n",
              "  </style>\n",
              "\n",
              "    <script>\n",
              "      const buttonEl =\n",
              "        document.querySelector('#df-a32bf1f9-e929-4d7f-ab8d-cd1436ea0220 button.colab-df-convert');\n",
              "      buttonEl.style.display =\n",
              "        google.colab.kernel.accessAllowed ? 'block' : 'none';\n",
              "\n",
              "      async function convertToInteractive(key) {\n",
              "        const element = document.querySelector('#df-a32bf1f9-e929-4d7f-ab8d-cd1436ea0220');\n",
              "        const dataTable =\n",
              "          await google.colab.kernel.invokeFunction('convertToInteractive',\n",
              "                                                    [key], {});\n",
              "        if (!dataTable) return;\n",
              "\n",
              "        const docLinkHtml = 'Like what you see? Visit the ' +\n",
              "          '<a target=\"_blank\" href=https://colab.research.google.com/notebooks/data_table.ipynb>data table notebook</a>'\n",
              "          + ' to learn more about interactive tables.';\n",
              "        element.innerHTML = '';\n",
              "        dataTable['output_type'] = 'display_data';\n",
              "        await google.colab.output.renderOutput(dataTable, element);\n",
              "        const docLink = document.createElement('div');\n",
              "        docLink.innerHTML = docLinkHtml;\n",
              "        element.appendChild(docLink);\n",
              "      }\n",
              "    </script>\n",
              "  </div>\n",
              "\n",
              "\n",
              "    <div id=\"df-1a155547-096d-478c-84f3-d6d8beea3a16\">\n",
              "      <button class=\"colab-df-quickchart\" onclick=\"quickchart('df-1a155547-096d-478c-84f3-d6d8beea3a16')\"\n",
              "                title=\"Suggest charts\"\n",
              "                style=\"display:none;\">\n",
              "\n",
              "<svg xmlns=\"http://www.w3.org/2000/svg\" height=\"24px\"viewBox=\"0 0 24 24\"\n",
              "     width=\"24px\">\n",
              "    <g>\n",
              "        <path d=\"M19 3H5c-1.1 0-2 .9-2 2v14c0 1.1.9 2 2 2h14c1.1 0 2-.9 2-2V5c0-1.1-.9-2-2-2zM9 17H7v-7h2v7zm4 0h-2V7h2v10zm4 0h-2v-4h2v4z\"/>\n",
              "    </g>\n",
              "</svg>\n",
              "      </button>\n",
              "\n",
              "<style>\n",
              "  .colab-df-quickchart {\n",
              "      --bg-color: #E8F0FE;\n",
              "      --fill-color: #1967D2;\n",
              "      --hover-bg-color: #E2EBFA;\n",
              "      --hover-fill-color: #174EA6;\n",
              "      --disabled-fill-color: #AAA;\n",
              "      --disabled-bg-color: #DDD;\n",
              "  }\n",
              "\n",
              "  [theme=dark] .colab-df-quickchart {\n",
              "      --bg-color: #3B4455;\n",
              "      --fill-color: #D2E3FC;\n",
              "      --hover-bg-color: #434B5C;\n",
              "      --hover-fill-color: #FFFFFF;\n",
              "      --disabled-bg-color: #3B4455;\n",
              "      --disabled-fill-color: #666;\n",
              "  }\n",
              "\n",
              "  .colab-df-quickchart {\n",
              "    background-color: var(--bg-color);\n",
              "    border: none;\n",
              "    border-radius: 50%;\n",
              "    cursor: pointer;\n",
              "    display: none;\n",
              "    fill: var(--fill-color);\n",
              "    height: 32px;\n",
              "    padding: 0;\n",
              "    width: 32px;\n",
              "  }\n",
              "\n",
              "  .colab-df-quickchart:hover {\n",
              "    background-color: var(--hover-bg-color);\n",
              "    box-shadow: 0 1px 2px rgba(60, 64, 67, 0.3), 0 1px 3px 1px rgba(60, 64, 67, 0.15);\n",
              "    fill: var(--button-hover-fill-color);\n",
              "  }\n",
              "\n",
              "  .colab-df-quickchart-complete:disabled,\n",
              "  .colab-df-quickchart-complete:disabled:hover {\n",
              "    background-color: var(--disabled-bg-color);\n",
              "    fill: var(--disabled-fill-color);\n",
              "    box-shadow: none;\n",
              "  }\n",
              "\n",
              "  .colab-df-spinner {\n",
              "    border: 2px solid var(--fill-color);\n",
              "    border-color: transparent;\n",
              "    border-bottom-color: var(--fill-color);\n",
              "    animation:\n",
              "      spin 1s steps(1) infinite;\n",
              "  }\n",
              "\n",
              "  @keyframes spin {\n",
              "    0% {\n",
              "      border-color: transparent;\n",
              "      border-bottom-color: var(--fill-color);\n",
              "      border-left-color: var(--fill-color);\n",
              "    }\n",
              "    20% {\n",
              "      border-color: transparent;\n",
              "      border-left-color: var(--fill-color);\n",
              "      border-top-color: var(--fill-color);\n",
              "    }\n",
              "    30% {\n",
              "      border-color: transparent;\n",
              "      border-left-color: var(--fill-color);\n",
              "      border-top-color: var(--fill-color);\n",
              "      border-right-color: var(--fill-color);\n",
              "    }\n",
              "    40% {\n",
              "      border-color: transparent;\n",
              "      border-right-color: var(--fill-color);\n",
              "      border-top-color: var(--fill-color);\n",
              "    }\n",
              "    60% {\n",
              "      border-color: transparent;\n",
              "      border-right-color: var(--fill-color);\n",
              "    }\n",
              "    80% {\n",
              "      border-color: transparent;\n",
              "      border-right-color: var(--fill-color);\n",
              "      border-bottom-color: var(--fill-color);\n",
              "    }\n",
              "    90% {\n",
              "      border-color: transparent;\n",
              "      border-bottom-color: var(--fill-color);\n",
              "    }\n",
              "  }\n",
              "</style>\n",
              "\n",
              "      <script>\n",
              "        async function quickchart(key) {\n",
              "          const quickchartButtonEl =\n",
              "            document.querySelector('#' + key + ' button');\n",
              "          quickchartButtonEl.disabled = true;  // To prevent multiple clicks.\n",
              "          quickchartButtonEl.classList.add('colab-df-spinner');\n",
              "          try {\n",
              "            const charts = await google.colab.kernel.invokeFunction(\n",
              "                'suggestCharts', [key], {});\n",
              "          } catch (error) {\n",
              "            console.error('Error during call to suggestCharts:', error);\n",
              "          }\n",
              "          quickchartButtonEl.classList.remove('colab-df-spinner');\n",
              "          quickchartButtonEl.classList.add('colab-df-quickchart-complete');\n",
              "        }\n",
              "        (() => {\n",
              "          let quickchartButtonEl =\n",
              "            document.querySelector('#df-1a155547-096d-478c-84f3-d6d8beea3a16 button');\n",
              "          quickchartButtonEl.style.display =\n",
              "            google.colab.kernel.accessAllowed ? 'block' : 'none';\n",
              "        })();\n",
              "      </script>\n",
              "    </div>\n",
              "\n",
              "    </div>\n",
              "  </div>\n"
            ],
            "application/vnd.google.colaboratory.intrinsic+json": {
              "type": "dataframe"
            }
          },
          "metadata": {}
        }
      ]
    },
    {
      "cell_type": "markdown",
      "source": [
        "1. which features we are going to use\n",
        "2. if categorical features, boolean features"
      ],
      "metadata": {
        "id": "CMJWQNCZD92Q"
      }
    },
    {
      "cell_type": "code",
      "source": [
        "missing_summary(sample_train_df)"
      ],
      "metadata": {
        "colab": {
          "base_uri": "https://localhost:8080/",
          "height": 53
        },
        "id": "WQgzArkTWZJp",
        "outputId": "5423c02c-475c-4f34-ffa6-e44164a72979"
      },
      "execution_count": null,
      "outputs": [
        {
          "output_type": "execute_result",
          "data": {
            "text/plain": [
              "Empty DataFrame\n",
              "Columns: [column, n_missing, pct_missing]\n",
              "Index: []"
            ],
            "text/html": [
              "\n",
              "  <div id=\"df-5f2e181e-b85d-4b06-a673-c8dd490462cc\" class=\"colab-df-container\">\n",
              "    <div>\n",
              "<style scoped>\n",
              "    .dataframe tbody tr th:only-of-type {\n",
              "        vertical-align: middle;\n",
              "    }\n",
              "\n",
              "    .dataframe tbody tr th {\n",
              "        vertical-align: top;\n",
              "    }\n",
              "\n",
              "    .dataframe thead th {\n",
              "        text-align: right;\n",
              "    }\n",
              "</style>\n",
              "<table border=\"1\" class=\"dataframe\">\n",
              "  <thead>\n",
              "    <tr style=\"text-align: right;\">\n",
              "      <th></th>\n",
              "      <th>column</th>\n",
              "      <th>n_missing</th>\n",
              "      <th>pct_missing</th>\n",
              "    </tr>\n",
              "  </thead>\n",
              "  <tbody>\n",
              "  </tbody>\n",
              "</table>\n",
              "</div>\n",
              "    <div class=\"colab-df-buttons\">\n",
              "\n",
              "  <div class=\"colab-df-container\">\n",
              "    <button class=\"colab-df-convert\" onclick=\"convertToInteractive('df-5f2e181e-b85d-4b06-a673-c8dd490462cc')\"\n",
              "            title=\"Convert this dataframe to an interactive table.\"\n",
              "            style=\"display:none;\">\n",
              "\n",
              "  <svg xmlns=\"http://www.w3.org/2000/svg\" height=\"24px\" viewBox=\"0 -960 960 960\">\n",
              "    <path d=\"M120-120v-720h720v720H120Zm60-500h600v-160H180v160Zm220 220h160v-160H400v160Zm0 220h160v-160H400v160ZM180-400h160v-160H180v160Zm440 0h160v-160H620v160ZM180-180h160v-160H180v160Zm440 0h160v-160H620v160Z\"/>\n",
              "  </svg>\n",
              "    </button>\n",
              "\n",
              "  <style>\n",
              "    .colab-df-container {\n",
              "      display:flex;\n",
              "      gap: 12px;\n",
              "    }\n",
              "\n",
              "    .colab-df-convert {\n",
              "      background-color: #E8F0FE;\n",
              "      border: none;\n",
              "      border-radius: 50%;\n",
              "      cursor: pointer;\n",
              "      display: none;\n",
              "      fill: #1967D2;\n",
              "      height: 32px;\n",
              "      padding: 0 0 0 0;\n",
              "      width: 32px;\n",
              "    }\n",
              "\n",
              "    .colab-df-convert:hover {\n",
              "      background-color: #E2EBFA;\n",
              "      box-shadow: 0px 1px 2px rgba(60, 64, 67, 0.3), 0px 1px 3px 1px rgba(60, 64, 67, 0.15);\n",
              "      fill: #174EA6;\n",
              "    }\n",
              "\n",
              "    .colab-df-buttons div {\n",
              "      margin-bottom: 4px;\n",
              "    }\n",
              "\n",
              "    [theme=dark] .colab-df-convert {\n",
              "      background-color: #3B4455;\n",
              "      fill: #D2E3FC;\n",
              "    }\n",
              "\n",
              "    [theme=dark] .colab-df-convert:hover {\n",
              "      background-color: #434B5C;\n",
              "      box-shadow: 0px 1px 3px 1px rgba(0, 0, 0, 0.15);\n",
              "      filter: drop-shadow(0px 1px 2px rgba(0, 0, 0, 0.3));\n",
              "      fill: #FFFFFF;\n",
              "    }\n",
              "  </style>\n",
              "\n",
              "    <script>\n",
              "      const buttonEl =\n",
              "        document.querySelector('#df-5f2e181e-b85d-4b06-a673-c8dd490462cc button.colab-df-convert');\n",
              "      buttonEl.style.display =\n",
              "        google.colab.kernel.accessAllowed ? 'block' : 'none';\n",
              "\n",
              "      async function convertToInteractive(key) {\n",
              "        const element = document.querySelector('#df-5f2e181e-b85d-4b06-a673-c8dd490462cc');\n",
              "        const dataTable =\n",
              "          await google.colab.kernel.invokeFunction('convertToInteractive',\n",
              "                                                    [key], {});\n",
              "        if (!dataTable) return;\n",
              "\n",
              "        const docLinkHtml = 'Like what you see? Visit the ' +\n",
              "          '<a target=\"_blank\" href=https://colab.research.google.com/notebooks/data_table.ipynb>data table notebook</a>'\n",
              "          + ' to learn more about interactive tables.';\n",
              "        element.innerHTML = '';\n",
              "        dataTable['output_type'] = 'display_data';\n",
              "        await google.colab.output.renderOutput(dataTable, element);\n",
              "        const docLink = document.createElement('div');\n",
              "        docLink.innerHTML = docLinkHtml;\n",
              "        element.appendChild(docLink);\n",
              "      }\n",
              "    </script>\n",
              "  </div>\n",
              "\n",
              "\n",
              "    </div>\n",
              "  </div>\n"
            ],
            "application/vnd.google.colaboratory.intrinsic+json": {
              "type": "dataframe",
              "repr_error": "Out of range float values are not JSON compliant: nan"
            }
          },
          "metadata": {},
          "execution_count": 5
        }
      ]
    },
    {
      "cell_type": "code",
      "source": [
        "#@title feature_dict\n",
        "feature_dict = {\n",
        "    \"continuous_features\": (\n",
        "        [\n",
        "            \"visibility\",\n",
        "            \"windBearing\",\n",
        "            \"temperature\",\n",
        "            \"dewPoint\",\n",
        "            \"pressure\",\n",
        "            \"apparentTemperature\",\n",
        "            \"windSpeed\",\n",
        "            \"humidity\",\n",
        "        ]\n",
        "        # --- lag features ---\n",
        "        + [f\"energy_consumption_lag_{i}\" for i in [1, 2, 3, 4, 5, 46, 47, 48, 49, 50, 334, 335, 336, 337, 338]]\n",
        "        # --- rolling stats ---\n",
        "        + [f\"energy_consumption_rolling_{w}_mean\" for w in [3, 6, 12, 48]]\n",
        "        + [f\"energy_consumption_rolling_{w}_std\" for w in [3, 6, 12, 48]]\n",
        "        # --- seasonal rolling stats ---\n",
        "        + [f\"energy_consumption_48_seasonal_rolling_{w}_{stat}\" for w in [3] for stat in [\"mean\", \"std\"]]\n",
        "        + [f\"energy_consumption_336_seasonal_rolling_{w}_{stat}\" for w in [3] for stat in [\"mean\", \"std\"]]\n",
        "        # --- timestamp encodings ---\n",
        "        + [\"timestamp_Elapsed\"]\n",
        "        + [f\"timestamp_Month_{kind}_{i}\" for kind in [\"sin\", \"cos\"] for i in range(1, 6)]\n",
        "        + [f\"timestamp_Hour_{kind}_{i}\" for kind in [\"sin\", \"cos\"] for i in range(1, 6)]\n",
        "        + [f\"timestamp_Minute_{kind}_{i}\" for kind in [\"sin\", \"cos\"] for i in range(1, 6)]\n",
        "    ),\n",
        "\n",
        "    \"categorical_features\": [\n",
        "        \"holidays\",\n",
        "        \"precipType\",\n",
        "        \"icon\",\n",
        "        \"summary\",\n",
        "        \"timestamp_Month\",\n",
        "        \"timestamp_Quarter\",\n",
        "        \"timestamp_WeekDay\",\n",
        "        \"timestamp_Dayofweek\",\n",
        "        \"timestamp_Dayofyear\",\n",
        "        \"timestamp_Hour\",\n",
        "        \"timestamp_Minute\",\n",
        "    ],\n",
        "\n",
        "    \"boolean_features\": [\n",
        "        \"timestamp_Is_quarter_end\",\n",
        "        \"timestamp_Is_quarter_start\",\n",
        "        \"timestamp_Is_year_end\",\n",
        "        \"timestamp_Is_year_start\",\n",
        "        \"timestamp_Is_month_start\",\n",
        "    ],\n",
        "\n",
        "    \"date\": [\"timestamp\"],\n",
        "\n",
        "    \"exogenous_features\": [\n",
        "        \"holidays\",\n",
        "        \"precipType\",\n",
        "        \"icon\",\n",
        "        \"summary\",\n",
        "        \"visibility\",\n",
        "        \"windBearing\",\n",
        "        \"temperature\",\n",
        "        \"dewPoint\",\n",
        "        \"pressure\",\n",
        "        \"apparentTemperature\",\n",
        "        \"windSpeed\",\n",
        "        \"humidity\",\n",
        "    ],\n",
        "}\n"
      ],
      "metadata": {
        "id": "NQWlZDcAV4nA"
      },
      "execution_count": null,
      "outputs": []
    },
    {
      "cell_type": "markdown",
      "source": [
        "## sklearn.pipeline = Transformer + Model"
      ],
      "metadata": {
        "id": "xyniapcECVgm"
      }
    },
    {
      "cell_type": "code",
      "source": [
        "import pandas as pd\n",
        "from sklearn.compose import ColumnTransformer\n",
        "from sklearn.pipeline import Pipeline\n",
        "from sklearn.preprocessing import OneHotEncoder, StandardScaler\n",
        "from sklearn.linear_model import Ridge\n",
        "\n",
        "preprocessor = ColumnTransformer(\n",
        "    transformers=[\n",
        "        (\"num\", StandardScaler(), feature_dict[\"continuous_features\"]),\n",
        "        (\"cat\", OneHotEncoder(handle_unknown=\"ignore\"), feature_dict[\"categorical_features\"] ),\n",
        "        (\"bool\", \"passthrough\", feature_dict[\"boolean_features\"]),\n",
        "    ],\n",
        "    remainder=\"drop\"\n",
        ")\n",
        "\n",
        "\n",
        "model = Pipeline(steps=[\n",
        "    (\"preprocessor\", preprocessor),\n",
        "    (\"regressor\", Ridge(alpha=1.0))\n",
        "])\n",
        "\n",
        "\n"
      ],
      "metadata": {
        "id": "vzzuCMfdFRHq"
      },
      "execution_count": null,
      "outputs": []
    },
    {
      "cell_type": "markdown",
      "source": [
        "## Evaluation"
      ],
      "metadata": {
        "id": "159qZ1M4HY1o"
      }
    },
    {
      "cell_type": "code",
      "source": [
        "\n",
        "X = sample_train_df[feature_dict[\"continuous_features\"] + feature_dict[\"categorical_features\"] + feature_dict[\"boolean_features\"]]\n",
        "y = sample_train_df[\"energy_consumption\"]\n",
        "\n",
        "model.fit(X, y)\n",
        "\n",
        "\n",
        "y_pred = model.predict(sample_test_df[feature_dict[\"continuous_features\"] + feature_dict[\"categorical_features\"] + feature_dict[\"boolean_features\"]])\n",
        "print(y_pred[:5])\n",
        "\n",
        "metrics_dict = calculate_metrics(y = sample_test_df[\"energy_consumption\"], y_pred=pd.Series(y_pred), name= \"Ridge\", y_train = y)"
      ],
      "metadata": {
        "colab": {
          "base_uri": "https://localhost:8080/"
        },
        "id": "gAtSBlox9SPt",
        "outputId": "7e848262-ac9b-4183-fc6a-af31e33c805d"
      },
      "execution_count": null,
      "outputs": [
        {
          "output_type": "stream",
          "name": "stdout",
          "text": [
            "[0.02641551 0.03979435 0.08265759 0.12447722 0.11159905]\n"
          ]
        }
      ]
    },
    {
      "cell_type": "code",
      "source": [
        "fig = plot_predictions_vs_actuals(\n",
        "    y_pred,\n",
        "    sample_test_df[\"energy_consumption\"],\n",
        "    sample_test_df[\"timestamp\"],\n",
        "    metrics=metrics_dict,\n",
        "    extra_title=\"Validation set: Household A\",\n",
        "    date_range=(\"2014-01-01\", \"2014-01-08\")\n",
        ")\n",
        "fig.show()"
      ],
      "metadata": {
        "colab": {
          "base_uri": "https://localhost:8080/",
          "height": 542
        },
        "id": "nFTJZrVQgp1s",
        "outputId": "d199be33-656a-4ecf-9974-66a28fa3dea9"
      },
      "execution_count": null,
      "outputs": [
        {
          "output_type": "display_data",
          "data": {
            "text/html": [
              "<html>\n",
              "<head><meta charset=\"utf-8\" /></head>\n",
              "<body>\n",
              "    <div>            <script src=\"https://cdnjs.cloudflare.com/ajax/libs/mathjax/2.7.5/MathJax.js?config=TeX-AMS-MML_SVG\"></script><script type=\"text/javascript\">if (window.MathJax && window.MathJax.Hub && window.MathJax.Hub.Config) {window.MathJax.Hub.Config({SVG: {font: \"STIX-Web\"}});}</script>                <script type=\"text/javascript\">window.PlotlyConfig = {MathJaxConfig: 'local'};</script>\n",
              "        <script charset=\"utf-8\" src=\"https://cdn.plot.ly/plotly-2.35.2.min.js\"></script>                <div id=\"fbb7aad9-aa93-4487-9283-7bc0187e82fd\" class=\"plotly-graph-div\" style=\"height:525px; width:100%;\"></div>            <script type=\"text/javascript\">                                    window.PLOTLYENV=window.PLOTLYENV || {};                                    if (document.getElementById(\"fbb7aad9-aa93-4487-9283-7bc0187e82fd\")) {                    Plotly.newPlot(                        \"fbb7aad9-aa93-4487-9283-7bc0187e82fd\",                        [{\"line\":{\"color\":\"black\"},\"mode\":\"lines\",\"name\":\"Actual\",\"x\":[\"2014-01-01T00:00:00\",\"2014-01-01T00:30:00\",\"2014-01-01T01:00:00\",\"2014-01-01T01:30:00\",\"2014-01-01T02:00:00\",\"2014-01-01T02:30:00\",\"2014-01-01T03:00:00\",\"2014-01-01T03:30:00\",\"2014-01-01T04:00:00\",\"2014-01-01T04:30:00\",\"2014-01-01T05:00:00\",\"2014-01-01T05:30:00\",\"2014-01-01T06:00:00\",\"2014-01-01T06:30:00\",\"2014-01-01T07:00:00\",\"2014-01-01T07:30:00\",\"2014-01-01T08:00:00\",\"2014-01-01T08:30:00\",\"2014-01-01T09:00:00\",\"2014-01-01T09:30:00\",\"2014-01-01T10:00:00\",\"2014-01-01T10:30:00\",\"2014-01-01T11:00:00\",\"2014-01-01T11:30:00\",\"2014-01-01T12:00:00\",\"2014-01-01T12:30:00\",\"2014-01-01T13:00:00\",\"2014-01-01T13:30:00\",\"2014-01-01T14:00:00\",\"2014-01-01T14:30:00\",\"2014-01-01T15:00:00\",\"2014-01-01T15:30:00\",\"2014-01-01T16:00:00\",\"2014-01-01T16:30:00\",\"2014-01-01T17:00:00\",\"2014-01-01T17:30:00\",\"2014-01-01T18:00:00\",\"2014-01-01T18:30:00\",\"2014-01-01T19:00:00\",\"2014-01-01T19:30:00\",\"2014-01-01T20:00:00\",\"2014-01-01T20:30:00\",\"2014-01-01T21:00:00\",\"2014-01-01T21:30:00\",\"2014-01-01T22:00:00\",\"2014-01-01T22:30:00\",\"2014-01-01T23:00:00\",\"2014-01-01T23:30:00\",\"2014-01-02T00:00:00\",\"2014-01-02T00:30:00\",\"2014-01-02T01:00:00\",\"2014-01-02T01:30:00\",\"2014-01-02T02:00:00\",\"2014-01-02T02:30:00\",\"2014-01-02T03:00:00\",\"2014-01-02T03:30:00\",\"2014-01-02T04:00:00\",\"2014-01-02T04:30:00\",\"2014-01-02T05:00:00\",\"2014-01-02T05:30:00\",\"2014-01-02T06:00:00\",\"2014-01-02T06:30:00\",\"2014-01-02T07:00:00\",\"2014-01-02T07:30:00\",\"2014-01-02T08:00:00\",\"2014-01-02T08:30:00\",\"2014-01-02T09:00:00\",\"2014-01-02T09:30:00\",\"2014-01-02T10:00:00\",\"2014-01-02T10:30:00\",\"2014-01-02T11:00:00\",\"2014-01-02T11:30:00\",\"2014-01-02T12:00:00\",\"2014-01-02T12:30:00\",\"2014-01-02T13:00:00\",\"2014-01-02T13:30:00\",\"2014-01-02T14:00:00\",\"2014-01-02T14:30:00\",\"2014-01-02T15:00:00\",\"2014-01-02T15:30:00\",\"2014-01-02T16:00:00\",\"2014-01-02T16:30:00\",\"2014-01-02T17:00:00\",\"2014-01-02T17:30:00\",\"2014-01-02T18:00:00\",\"2014-01-02T18:30:00\",\"2014-01-02T19:00:00\",\"2014-01-02T19:30:00\",\"2014-01-02T20:00:00\",\"2014-01-02T20:30:00\",\"2014-01-02T21:00:00\",\"2014-01-02T21:30:00\",\"2014-01-02T22:00:00\",\"2014-01-02T22:30:00\",\"2014-01-02T23:00:00\",\"2014-01-02T23:30:00\",\"2014-01-03T00:00:00\",\"2014-01-03T00:30:00\",\"2014-01-03T01:00:00\",\"2014-01-03T01:30:00\",\"2014-01-03T02:00:00\",\"2014-01-03T02:30:00\",\"2014-01-03T03:00:00\",\"2014-01-03T03:30:00\",\"2014-01-03T04:00:00\",\"2014-01-03T04:30:00\",\"2014-01-03T05:00:00\",\"2014-01-03T05:30:00\",\"2014-01-03T06:00:00\",\"2014-01-03T06:30:00\",\"2014-01-03T07:00:00\",\"2014-01-03T07:30:00\",\"2014-01-03T08:00:00\",\"2014-01-03T08:30:00\",\"2014-01-03T09:00:00\",\"2014-01-03T09:30:00\",\"2014-01-03T10:00:00\",\"2014-01-03T10:30:00\",\"2014-01-03T11:00:00\",\"2014-01-03T11:30:00\",\"2014-01-03T12:00:00\",\"2014-01-03T12:30:00\",\"2014-01-03T13:00:00\",\"2014-01-03T13:30:00\",\"2014-01-03T14:00:00\",\"2014-01-03T14:30:00\",\"2014-01-03T15:00:00\",\"2014-01-03T15:30:00\",\"2014-01-03T16:00:00\",\"2014-01-03T16:30:00\",\"2014-01-03T17:00:00\",\"2014-01-03T17:30:00\",\"2014-01-03T18:00:00\",\"2014-01-03T18:30:00\",\"2014-01-03T19:00:00\",\"2014-01-03T19:30:00\",\"2014-01-03T20:00:00\",\"2014-01-03T20:30:00\",\"2014-01-03T21:00:00\",\"2014-01-03T21:30:00\",\"2014-01-03T22:00:00\",\"2014-01-03T22:30:00\",\"2014-01-03T23:00:00\",\"2014-01-03T23:30:00\",\"2014-01-04T00:00:00\",\"2014-01-04T00:30:00\",\"2014-01-04T01:00:00\",\"2014-01-04T01:30:00\",\"2014-01-04T02:00:00\",\"2014-01-04T02:30:00\",\"2014-01-04T03:00:00\",\"2014-01-04T03:30:00\",\"2014-01-04T04:00:00\",\"2014-01-04T04:30:00\",\"2014-01-04T05:00:00\",\"2014-01-04T05:30:00\",\"2014-01-04T06:00:00\",\"2014-01-04T06:30:00\",\"2014-01-04T07:00:00\",\"2014-01-04T07:30:00\",\"2014-01-04T08:00:00\",\"2014-01-04T08:30:00\",\"2014-01-04T09:00:00\",\"2014-01-04T09:30:00\",\"2014-01-04T10:00:00\",\"2014-01-04T10:30:00\",\"2014-01-04T11:00:00\",\"2014-01-04T11:30:00\",\"2014-01-04T12:00:00\",\"2014-01-04T12:30:00\",\"2014-01-04T13:00:00\",\"2014-01-04T13:30:00\",\"2014-01-04T14:00:00\",\"2014-01-04T14:30:00\",\"2014-01-04T15:00:00\",\"2014-01-04T15:30:00\",\"2014-01-04T16:00:00\",\"2014-01-04T16:30:00\",\"2014-01-04T17:00:00\",\"2014-01-04T17:30:00\",\"2014-01-04T18:00:00\",\"2014-01-04T18:30:00\",\"2014-01-04T19:00:00\",\"2014-01-04T19:30:00\",\"2014-01-04T20:00:00\",\"2014-01-04T20:30:00\",\"2014-01-04T21:00:00\",\"2014-01-04T21:30:00\",\"2014-01-04T22:00:00\",\"2014-01-04T22:30:00\",\"2014-01-04T23:00:00\",\"2014-01-04T23:30:00\",\"2014-01-05T00:00:00\",\"2014-01-05T00:30:00\",\"2014-01-05T01:00:00\",\"2014-01-05T01:30:00\",\"2014-01-05T02:00:00\",\"2014-01-05T02:30:00\",\"2014-01-05T03:00:00\",\"2014-01-05T03:30:00\",\"2014-01-05T04:00:00\",\"2014-01-05T04:30:00\",\"2014-01-05T05:00:00\",\"2014-01-05T05:30:00\",\"2014-01-05T06:00:00\",\"2014-01-05T06:30:00\",\"2014-01-05T07:00:00\",\"2014-01-05T07:30:00\",\"2014-01-05T08:00:00\",\"2014-01-05T08:30:00\",\"2014-01-05T09:00:00\",\"2014-01-05T09:30:00\",\"2014-01-05T10:00:00\",\"2014-01-05T10:30:00\",\"2014-01-05T11:00:00\",\"2014-01-05T11:30:00\",\"2014-01-05T12:00:00\",\"2014-01-05T12:30:00\",\"2014-01-05T13:00:00\",\"2014-01-05T13:30:00\",\"2014-01-05T14:00:00\",\"2014-01-05T14:30:00\",\"2014-01-05T15:00:00\",\"2014-01-05T15:30:00\",\"2014-01-05T16:00:00\",\"2014-01-05T16:30:00\",\"2014-01-05T17:00:00\",\"2014-01-05T17:30:00\",\"2014-01-05T18:00:00\",\"2014-01-05T18:30:00\",\"2014-01-05T19:00:00\",\"2014-01-05T19:30:00\",\"2014-01-05T20:00:00\",\"2014-01-05T20:30:00\",\"2014-01-05T21:00:00\",\"2014-01-05T21:30:00\",\"2014-01-05T22:00:00\",\"2014-01-05T22:30:00\",\"2014-01-05T23:00:00\",\"2014-01-05T23:30:00\",\"2014-01-06T00:00:00\",\"2014-01-06T00:30:00\",\"2014-01-06T01:00:00\",\"2014-01-06T01:30:00\",\"2014-01-06T02:00:00\",\"2014-01-06T02:30:00\",\"2014-01-06T03:00:00\",\"2014-01-06T03:30:00\",\"2014-01-06T04:00:00\",\"2014-01-06T04:30:00\",\"2014-01-06T05:00:00\",\"2014-01-06T05:30:00\",\"2014-01-06T06:00:00\",\"2014-01-06T06:30:00\",\"2014-01-06T07:00:00\",\"2014-01-06T07:30:00\",\"2014-01-06T08:00:00\",\"2014-01-06T08:30:00\",\"2014-01-06T09:00:00\",\"2014-01-06T09:30:00\",\"2014-01-06T10:00:00\",\"2014-01-06T10:30:00\",\"2014-01-06T11:00:00\",\"2014-01-06T11:30:00\",\"2014-01-06T12:00:00\",\"2014-01-06T12:30:00\",\"2014-01-06T13:00:00\",\"2014-01-06T13:30:00\",\"2014-01-06T14:00:00\",\"2014-01-06T14:30:00\",\"2014-01-06T15:00:00\",\"2014-01-06T15:30:00\",\"2014-01-06T16:00:00\",\"2014-01-06T16:30:00\",\"2014-01-06T17:00:00\",\"2014-01-06T17:30:00\",\"2014-01-06T18:00:00\",\"2014-01-06T18:30:00\",\"2014-01-06T19:00:00\",\"2014-01-06T19:30:00\",\"2014-01-06T20:00:00\",\"2014-01-06T20:30:00\",\"2014-01-06T21:00:00\",\"2014-01-06T21:30:00\",\"2014-01-06T22:00:00\",\"2014-01-06T22:30:00\",\"2014-01-06T23:00:00\",\"2014-01-06T23:30:00\",\"2014-01-07T00:00:00\",\"2014-01-07T00:30:00\",\"2014-01-07T01:00:00\",\"2014-01-07T01:30:00\",\"2014-01-07T02:00:00\",\"2014-01-07T02:30:00\",\"2014-01-07T03:00:00\",\"2014-01-07T03:30:00\",\"2014-01-07T04:00:00\",\"2014-01-07T04:30:00\",\"2014-01-07T05:00:00\",\"2014-01-07T05:30:00\",\"2014-01-07T06:00:00\",\"2014-01-07T06:30:00\",\"2014-01-07T07:00:00\",\"2014-01-07T07:30:00\",\"2014-01-07T08:00:00\",\"2014-01-07T08:30:00\",\"2014-01-07T09:00:00\",\"2014-01-07T09:30:00\",\"2014-01-07T10:00:00\",\"2014-01-07T10:30:00\",\"2014-01-07T11:00:00\",\"2014-01-07T11:30:00\",\"2014-01-07T12:00:00\",\"2014-01-07T12:30:00\",\"2014-01-07T13:00:00\",\"2014-01-07T13:30:00\",\"2014-01-07T14:00:00\",\"2014-01-07T14:30:00\",\"2014-01-07T15:00:00\",\"2014-01-07T15:30:00\",\"2014-01-07T16:00:00\",\"2014-01-07T16:30:00\",\"2014-01-07T17:00:00\",\"2014-01-07T17:30:00\",\"2014-01-07T18:00:00\",\"2014-01-07T18:30:00\",\"2014-01-07T19:00:00\",\"2014-01-07T19:30:00\",\"2014-01-07T20:00:00\",\"2014-01-07T20:30:00\",\"2014-01-07T21:00:00\",\"2014-01-07T21:30:00\",\"2014-01-07T22:00:00\",\"2014-01-07T22:30:00\",\"2014-01-07T23:00:00\",\"2014-01-07T23:30:00\",\"2014-01-08T00:00:00\"],\"y\":[0.223,0.2739999999999999,0.308,0.2789999999999999,0.0,0.05,0.003,0.043,0.02,0.006,0.049,0.001,0.038,0.012,0.02,0.032,0.02,0.0139999999999999,0.212,0.042,0.473,0.478,1.0759999999999998,1.1840000000000002,1.1440001,1.2029999,0.835,0.755,1.255,0.941,0.753,0.181,0.203,0.21,0.162,0.361,0.217,0.276,0.2769999999999999,0.237,0.2739999999999999,0.226,0.636,0.283,0.191,0.226,0.221,0.216,0.708,0.659,0.067,0.011,0.233,0.418,0.451,0.4429999999999999,0.428,0.092,0.013,0.038,0.032,0.0289999999999999,0.044,0.026,1.11,1.207,1.182,0.99,0.6940000000000001,0.703,0.379,0.023,0.131,0.951,1.122,1.0039999,0.46,0.479,0.4539999999999999,0.4539999999999999,0.986,1.156,1.242,1.265,1.296,0.838,0.7190000000000001,0.987,0.604,0.664,0.474,1.053,0.396,0.226,0.228,0.457,0.09,0.009,0.037,0.0289999999999999,0.003,0.055,0.0,0.049,0.006,0.021,0.039,0.017,0.039,0.0279999999999999,0.023,0.036,0.021,0.397,0.7509999999999999,0.716,1.711,1.527,0.942,0.778,0.722,0.727,0.0279999999999999,0.24,0.099,0.127,0.12,0.124,0.171,0.299,0.192,0.165,0.171,0.217,0.239,0.284,0.256,1.176,0.1989999999999999,0.176,0.193,0.217,0.263,0.616,0.026,0.022,0.0409999999999999,0.006,0.057,0.006,0.036,0.027,0.026,0.038,0.025,0.01,0.053,0.012,0.047,0.019,0.204,0.7659999999999999,0.733,0.5,0.551,0.897,0.451,0.444,0.532,0.498,0.52,0.185,0.047,0.153,0.15,0.114,0.165,0.123,0.292,0.1889999999999999,0.177,0.212,0.177,0.1689999999999999,0.236,0.429,0.214,0.181,0.203,0.233,0.249,0.379,0.424,0.023,0.037,0.023,0.006,0.053,0.023,0.0279999999999999,0.037,0.0069999999999999,0.052,0.008,0.02,0.048,0.011,0.024,0.034,0.188,0.059,0.07,0.054,0.127,2.375,1.4960001,1.234,0.728,0.894,1.161,1.223,1.668,1.1740000000000002,1.103,0.089,0.145,0.311,0.198,0.1939999999999999,0.142,0.455,0.941,0.1669999999999999,0.19,0.221,0.168,0.228,0.188,0.243,0.441,0.026,0.049,0.016,0.053,0.012,0.025,0.04,0.027,0.0289999999999999,0.036,0.006,0.059,0.006,0.033,0.034,0.0409999999999999,0.053,0.977,0.215,0.746,0.856,0.804,0.977,0.561,0.516,0.8029999999999999,1.267,1.1289999,1.146,0.172,0.036,0.047,0.027,0.1169999999999999,0.298,0.193,0.226,0.175,0.222,0.451,0.527,0.212,0.222,0.209,0.193,0.408,0.974,0.66,0.063,0.026,0.009,0.057,0.006,0.06,0.011,0.021,0.052,0.0139999999999999,0.051,0.015,0.026,0.053,0.0409999999999999,0.037,0.216,0.017,0.38,0.7120000000000001,2.135,2.0150001,1.586,1.169,1.546,0.805,0.911,1.071,1.148,1.1,0.617,0.126,0.268,0.178,0.104,0.214,1.048,0.4,0.287,0.26,0.685,0.155,0.216,0.198,0.193,0.416,0.696,0.649,0.402],\"type\":\"scatter\"},{\"line\":{\"color\":\"red\",\"dash\":\"dot\"},\"mode\":\"lines\",\"name\":\"Predicted\",\"x\":[\"2014-01-01T00:00:00\",\"2014-01-01T00:30:00\",\"2014-01-01T01:00:00\",\"2014-01-01T01:30:00\",\"2014-01-01T02:00:00\",\"2014-01-01T02:30:00\",\"2014-01-01T03:00:00\",\"2014-01-01T03:30:00\",\"2014-01-01T04:00:00\",\"2014-01-01T04:30:00\",\"2014-01-01T05:00:00\",\"2014-01-01T05:30:00\",\"2014-01-01T06:00:00\",\"2014-01-01T06:30:00\",\"2014-01-01T07:00:00\",\"2014-01-01T07:30:00\",\"2014-01-01T08:00:00\",\"2014-01-01T08:30:00\",\"2014-01-01T09:00:00\",\"2014-01-01T09:30:00\",\"2014-01-01T10:00:00\",\"2014-01-01T10:30:00\",\"2014-01-01T11:00:00\",\"2014-01-01T11:30:00\",\"2014-01-01T12:00:00\",\"2014-01-01T12:30:00\",\"2014-01-01T13:00:00\",\"2014-01-01T13:30:00\",\"2014-01-01T14:00:00\",\"2014-01-01T14:30:00\",\"2014-01-01T15:00:00\",\"2014-01-01T15:30:00\",\"2014-01-01T16:00:00\",\"2014-01-01T16:30:00\",\"2014-01-01T17:00:00\",\"2014-01-01T17:30:00\",\"2014-01-01T18:00:00\",\"2014-01-01T18:30:00\",\"2014-01-01T19:00:00\",\"2014-01-01T19:30:00\",\"2014-01-01T20:00:00\",\"2014-01-01T20:30:00\",\"2014-01-01T21:00:00\",\"2014-01-01T21:30:00\",\"2014-01-01T22:00:00\",\"2014-01-01T22:30:00\",\"2014-01-01T23:00:00\",\"2014-01-01T23:30:00\",\"2014-01-02T00:00:00\",\"2014-01-02T00:30:00\",\"2014-01-02T01:00:00\",\"2014-01-02T01:30:00\",\"2014-01-02T02:00:00\",\"2014-01-02T02:30:00\",\"2014-01-02T03:00:00\",\"2014-01-02T03:30:00\",\"2014-01-02T04:00:00\",\"2014-01-02T04:30:00\",\"2014-01-02T05:00:00\",\"2014-01-02T05:30:00\",\"2014-01-02T06:00:00\",\"2014-01-02T06:30:00\",\"2014-01-02T07:00:00\",\"2014-01-02T07:30:00\",\"2014-01-02T08:00:00\",\"2014-01-02T08:30:00\",\"2014-01-02T09:00:00\",\"2014-01-02T09:30:00\",\"2014-01-02T10:00:00\",\"2014-01-02T10:30:00\",\"2014-01-02T11:00:00\",\"2014-01-02T11:30:00\",\"2014-01-02T12:00:00\",\"2014-01-02T12:30:00\",\"2014-01-02T13:00:00\",\"2014-01-02T13:30:00\",\"2014-01-02T14:00:00\",\"2014-01-02T14:30:00\",\"2014-01-02T15:00:00\",\"2014-01-02T15:30:00\",\"2014-01-02T16:00:00\",\"2014-01-02T16:30:00\",\"2014-01-02T17:00:00\",\"2014-01-02T17:30:00\",\"2014-01-02T18:00:00\",\"2014-01-02T18:30:00\",\"2014-01-02T19:00:00\",\"2014-01-02T19:30:00\",\"2014-01-02T20:00:00\",\"2014-01-02T20:30:00\",\"2014-01-02T21:00:00\",\"2014-01-02T21:30:00\",\"2014-01-02T22:00:00\",\"2014-01-02T22:30:00\",\"2014-01-02T23:00:00\",\"2014-01-02T23:30:00\",\"2014-01-03T00:00:00\",\"2014-01-03T00:30:00\",\"2014-01-03T01:00:00\",\"2014-01-03T01:30:00\",\"2014-01-03T02:00:00\",\"2014-01-03T02:30:00\",\"2014-01-03T03:00:00\",\"2014-01-03T03:30:00\",\"2014-01-03T04:00:00\",\"2014-01-03T04:30:00\",\"2014-01-03T05:00:00\",\"2014-01-03T05:30:00\",\"2014-01-03T06:00:00\",\"2014-01-03T06:30:00\",\"2014-01-03T07:00:00\",\"2014-01-03T07:30:00\",\"2014-01-03T08:00:00\",\"2014-01-03T08:30:00\",\"2014-01-03T09:00:00\",\"2014-01-03T09:30:00\",\"2014-01-03T10:00:00\",\"2014-01-03T10:30:00\",\"2014-01-03T11:00:00\",\"2014-01-03T11:30:00\",\"2014-01-03T12:00:00\",\"2014-01-03T12:30:00\",\"2014-01-03T13:00:00\",\"2014-01-03T13:30:00\",\"2014-01-03T14:00:00\",\"2014-01-03T14:30:00\",\"2014-01-03T15:00:00\",\"2014-01-03T15:30:00\",\"2014-01-03T16:00:00\",\"2014-01-03T16:30:00\",\"2014-01-03T17:00:00\",\"2014-01-03T17:30:00\",\"2014-01-03T18:00:00\",\"2014-01-03T18:30:00\",\"2014-01-03T19:00:00\",\"2014-01-03T19:30:00\",\"2014-01-03T20:00:00\",\"2014-01-03T20:30:00\",\"2014-01-03T21:00:00\",\"2014-01-03T21:30:00\",\"2014-01-03T22:00:00\",\"2014-01-03T22:30:00\",\"2014-01-03T23:00:00\",\"2014-01-03T23:30:00\",\"2014-01-04T00:00:00\",\"2014-01-04T00:30:00\",\"2014-01-04T01:00:00\",\"2014-01-04T01:30:00\",\"2014-01-04T02:00:00\",\"2014-01-04T02:30:00\",\"2014-01-04T03:00:00\",\"2014-01-04T03:30:00\",\"2014-01-04T04:00:00\",\"2014-01-04T04:30:00\",\"2014-01-04T05:00:00\",\"2014-01-04T05:30:00\",\"2014-01-04T06:00:00\",\"2014-01-04T06:30:00\",\"2014-01-04T07:00:00\",\"2014-01-04T07:30:00\",\"2014-01-04T08:00:00\",\"2014-01-04T08:30:00\",\"2014-01-04T09:00:00\",\"2014-01-04T09:30:00\",\"2014-01-04T10:00:00\",\"2014-01-04T10:30:00\",\"2014-01-04T11:00:00\",\"2014-01-04T11:30:00\",\"2014-01-04T12:00:00\",\"2014-01-04T12:30:00\",\"2014-01-04T13:00:00\",\"2014-01-04T13:30:00\",\"2014-01-04T14:00:00\",\"2014-01-04T14:30:00\",\"2014-01-04T15:00:00\",\"2014-01-04T15:30:00\",\"2014-01-04T16:00:00\",\"2014-01-04T16:30:00\",\"2014-01-04T17:00:00\",\"2014-01-04T17:30:00\",\"2014-01-04T18:00:00\",\"2014-01-04T18:30:00\",\"2014-01-04T19:00:00\",\"2014-01-04T19:30:00\",\"2014-01-04T20:00:00\",\"2014-01-04T20:30:00\",\"2014-01-04T21:00:00\",\"2014-01-04T21:30:00\",\"2014-01-04T22:00:00\",\"2014-01-04T22:30:00\",\"2014-01-04T23:00:00\",\"2014-01-04T23:30:00\",\"2014-01-05T00:00:00\",\"2014-01-05T00:30:00\",\"2014-01-05T01:00:00\",\"2014-01-05T01:30:00\",\"2014-01-05T02:00:00\",\"2014-01-05T02:30:00\",\"2014-01-05T03:00:00\",\"2014-01-05T03:30:00\",\"2014-01-05T04:00:00\",\"2014-01-05T04:30:00\",\"2014-01-05T05:00:00\",\"2014-01-05T05:30:00\",\"2014-01-05T06:00:00\",\"2014-01-05T06:30:00\",\"2014-01-05T07:00:00\",\"2014-01-05T07:30:00\",\"2014-01-05T08:00:00\",\"2014-01-05T08:30:00\",\"2014-01-05T09:00:00\",\"2014-01-05T09:30:00\",\"2014-01-05T10:00:00\",\"2014-01-05T10:30:00\",\"2014-01-05T11:00:00\",\"2014-01-05T11:30:00\",\"2014-01-05T12:00:00\",\"2014-01-05T12:30:00\",\"2014-01-05T13:00:00\",\"2014-01-05T13:30:00\",\"2014-01-05T14:00:00\",\"2014-01-05T14:30:00\",\"2014-01-05T15:00:00\",\"2014-01-05T15:30:00\",\"2014-01-05T16:00:00\",\"2014-01-05T16:30:00\",\"2014-01-05T17:00:00\",\"2014-01-05T17:30:00\",\"2014-01-05T18:00:00\",\"2014-01-05T18:30:00\",\"2014-01-05T19:00:00\",\"2014-01-05T19:30:00\",\"2014-01-05T20:00:00\",\"2014-01-05T20:30:00\",\"2014-01-05T21:00:00\",\"2014-01-05T21:30:00\",\"2014-01-05T22:00:00\",\"2014-01-05T22:30:00\",\"2014-01-05T23:00:00\",\"2014-01-05T23:30:00\",\"2014-01-06T00:00:00\",\"2014-01-06T00:30:00\",\"2014-01-06T01:00:00\",\"2014-01-06T01:30:00\",\"2014-01-06T02:00:00\",\"2014-01-06T02:30:00\",\"2014-01-06T03:00:00\",\"2014-01-06T03:30:00\",\"2014-01-06T04:00:00\",\"2014-01-06T04:30:00\",\"2014-01-06T05:00:00\",\"2014-01-06T05:30:00\",\"2014-01-06T06:00:00\",\"2014-01-06T06:30:00\",\"2014-01-06T07:00:00\",\"2014-01-06T07:30:00\",\"2014-01-06T08:00:00\",\"2014-01-06T08:30:00\",\"2014-01-06T09:00:00\",\"2014-01-06T09:30:00\",\"2014-01-06T10:00:00\",\"2014-01-06T10:30:00\",\"2014-01-06T11:00:00\",\"2014-01-06T11:30:00\",\"2014-01-06T12:00:00\",\"2014-01-06T12:30:00\",\"2014-01-06T13:00:00\",\"2014-01-06T13:30:00\",\"2014-01-06T14:00:00\",\"2014-01-06T14:30:00\",\"2014-01-06T15:00:00\",\"2014-01-06T15:30:00\",\"2014-01-06T16:00:00\",\"2014-01-06T16:30:00\",\"2014-01-06T17:00:00\",\"2014-01-06T17:30:00\",\"2014-01-06T18:00:00\",\"2014-01-06T18:30:00\",\"2014-01-06T19:00:00\",\"2014-01-06T19:30:00\",\"2014-01-06T20:00:00\",\"2014-01-06T20:30:00\",\"2014-01-06T21:00:00\",\"2014-01-06T21:30:00\",\"2014-01-06T22:00:00\",\"2014-01-06T22:30:00\",\"2014-01-06T23:00:00\",\"2014-01-06T23:30:00\",\"2014-01-07T00:00:00\",\"2014-01-07T00:30:00\",\"2014-01-07T01:00:00\",\"2014-01-07T01:30:00\",\"2014-01-07T02:00:00\",\"2014-01-07T02:30:00\",\"2014-01-07T03:00:00\",\"2014-01-07T03:30:00\",\"2014-01-07T04:00:00\",\"2014-01-07T04:30:00\",\"2014-01-07T05:00:00\",\"2014-01-07T05:30:00\",\"2014-01-07T06:00:00\",\"2014-01-07T06:30:00\",\"2014-01-07T07:00:00\",\"2014-01-07T07:30:00\",\"2014-01-07T08:00:00\",\"2014-01-07T08:30:00\",\"2014-01-07T09:00:00\",\"2014-01-07T09:30:00\",\"2014-01-07T10:00:00\",\"2014-01-07T10:30:00\",\"2014-01-07T11:00:00\",\"2014-01-07T11:30:00\",\"2014-01-07T12:00:00\",\"2014-01-07T12:30:00\",\"2014-01-07T13:00:00\",\"2014-01-07T13:30:00\",\"2014-01-07T14:00:00\",\"2014-01-07T14:30:00\",\"2014-01-07T15:00:00\",\"2014-01-07T15:30:00\",\"2014-01-07T16:00:00\",\"2014-01-07T16:30:00\",\"2014-01-07T17:00:00\",\"2014-01-07T17:30:00\",\"2014-01-07T18:00:00\",\"2014-01-07T18:30:00\",\"2014-01-07T19:00:00\",\"2014-01-07T19:30:00\",\"2014-01-07T20:00:00\",\"2014-01-07T20:30:00\",\"2014-01-07T21:00:00\",\"2014-01-07T21:30:00\",\"2014-01-07T22:00:00\",\"2014-01-07T22:30:00\",\"2014-01-07T23:00:00\",\"2014-01-07T23:30:00\",\"2014-01-08T00:00:00\"],\"y\":[0.026415507064903143,0.039794353479877254,0.08265759480722765,0.12447721989777841,0.11159905440001731,-0.03955344656446552,-0.016002455692424727,-0.032680181792292984,-0.0022942245222986046,-0.015103660902875654,-0.030007701578945112,-0.00657362670120909,-0.03885008475363655,-0.0038885575664804883,-0.010755012085655491,0.006823582498634462,0.08003993346827684,0.12817519207185568,0.24593391048676683,0.3398407020400474,0.47827256011014907,0.909577695191386,0.8036315858421088,0.8740587295437203,0.8671253385676536,0.9625698543720473,0.9360870477261298,0.5888705675044006,0.5333258769168991,0.704408095821622,0.6065880217281441,0.5314215662992097,0.09556719143992326,0.12783147242467294,0.1257437810993703,0.13002767500309012,0.25858351262409796,0.18317375368434757,0.26403438712040744,0.3864140863936957,0.3162785915470431,0.24211602453783382,0.18775978543290284,0.3683720418036255,0.18138587991654145,0.17821597431177272,0.2379099071220821,0.214306838551814,0.12983332054636776,0.2975792684885621,0.25716675402280154,-0.042737128485552,-0.08943758527211476,0.028849961925639434,0.10476672588755298,0.15962990565303253,0.18715431377889244,0.18088462999488378,-0.030443199912738084,-0.06817962535550653,-0.04691596178704882,-0.0354157768792242,-0.00782232830351115,-0.009856639631454639,0.11464583694126977,0.6215618464177763,0.6851057859709284,0.9431120612170293,0.9331010049795297,0.9152206072704866,0.7741204549323601,0.47273946673700873,0.24936677398963705,0.24529747963769188,0.6093685052807636,0.7454152352909378,0.8449233945791007,0.4345548436931965,0.36210507097761574,0.2965890840235738,0.31205757159695185,0.5801500656672892,0.6297001050462396,0.7659177137394014,0.8828410392526395,0.8338470081275752,0.5442900703547364,0.5120798259473411,0.5848807900668487,0.38499155915886996,0.40211645178044786,0.2906676724407634,0.5366521392323889,0.1841113605295218,0.17748816149260216,0.16515476359505799,0.2558877942452776,0.05029274182459256,-0.001058951601394853,0.026001861903315743,0.04410697704394401,0.04455002373651437,0.04614026149885192,0.014144814837497383,0.02280424798175157,-0.005786945123712445,-0.005015148698252647,0.006628606313382829,0.004177820671512844,0.021567964169935422,0.07980567146551881,0.19285254778185654,0.3156884509193343,0.27067875863576074,0.5119364695814159,0.6460222135900999,0.8121532325182163,1.3612583391001467,1.0883034481973575,0.7014044365920582,0.6511542658272993,0.6579862894806264,0.6579641347618751,0.19947779645856767,0.33607558488837025,0.3762970397445369,0.46617655002813296,0.281565065317823,0.2618501026036245,0.279549339777277,0.3236902154032508,0.32168373303863707,0.2820870600573659,0.29665056097267617,0.2988234640931101,0.3054670485459036,0.344609312753103,0.33230884252997783,0.7218966761980943,0.13717142058900356,0.16234922541010705,0.1635959006089701,0.21729672246180357,0.24138893397180072,0.36649124209809625,0.012707085299487164,0.040900298482002384,0.038692510384208706,0.030480653088355736,0.06172864622817201,0.020002692092010943,0.04843097174463315,0.030464498204549273,0.03853576587984195,0.036181714322778114,0.03294311588807891,0.03584770854998631,0.050349427792413554,0.07364994756229967,0.09781191908538042,0.1842763480276109,0.3177667310619362,0.6507945115234979,0.669037040316922,0.6781612088759167,0.7823805290784128,0.8866139636773572,0.545440621551432,0.5731187931275381,0.6825082345345174,0.6097975486703591,0.623416944347397,0.3833877711367918,0.3158083116642968,0.29506854034431607,0.27239895306775463,0.24865947064235805,0.2771422547874842,0.2598770710535966,0.33836934432018106,0.3061522074125276,0.3321742007585069,0.32880371835659306,0.3266650131019579,0.3056780338771194,0.3218117881819708,0.3961130738979711,0.273068047340369,0.24492677817020733,0.27633079260069926,0.3076135573815035,0.3307213473717242,0.26140444626976544,0.19251193096883473,-0.0038049752760053457,0.00969192393514312,0.0023239543471606505,0.014999905304378253,0.026533743059694248,0.01989279508287753,0.014739161363210795,0.02048904099452134,-0.006479756552690119,0.02156286036155841,0.0026087050140068957,0.014719785809751668,0.047230858544593524,0.04585653349388541,0.1901231646063668,0.270328144371494,0.3975022950339352,0.3299906232702167,0.5486808551180398,0.6871742649493935,0.6107984122284178,1.2290272061976315,0.7919365553140032,1.0350957976970316,0.5431388753208544,0.6530885154813271,0.7961016797619164,0.7975630291824248,1.0172881262922024,0.7040193992444874,0.6310706695789841,0.05347727433854868,0.10563711554556994,0.1903220745933413,0.21412393007731562,0.22363665867713775,0.163526243357271,0.32297157974967794,0.4613363598053066,0.18361101865087975,0.14841582025231825,0.17733949372091848,0.1669107524601686,0.2267710008093806,0.23942789379251048,0.240567042592302,0.24243308134791822,-0.050735836158710135,-0.032310132290403304,-0.033363411558581135,0.00954029699375658,-0.011222415822475101,-0.02456427012452178,-0.015266540342647544,-0.022327701212084994,-0.01843446516049288,-0.020045222806060692,-0.034551872439539666,0.006854116654768094,-0.020645444849596545,0.012047200400201463,0.0176639098101192,0.1087296297029148,0.18026363334940987,0.5932059862989942,0.3267806209248374,0.8305214950165805,0.8836630137337615,0.8060460652815779,0.8574050966716527,0.5893430652898626,0.5831759041894511,0.7430275962139195,0.9420271138272155,0.8752855202136591,0.7765569717578379,0.17201468496842426,0.052577173670819044,0.06240868245668929,0.11389095430348875,0.13636642482200684,0.19957676418497883,0.22194259238497382,0.28708390951715157,0.2819664259594482,0.33769849492897047,0.30667563402692477,0.37235892906498125,0.19548055255098054,0.2036307394097191,0.19966889302108431,0.23051683171803625,0.3888562264446944,0.5589111453624951,0.2858501094494055,-0.002108028615730756,-0.017228644955925798,-0.004442663862897961,0.017298003668998696,-0.006952316641919726,0.0008949213087804109,-0.022996360082550127,-0.01156634505281054,-0.004979525914506844,-0.011270167435556255,0.00823335201785566,-0.0033658655125070047,0.014181374796848195,0.042678107248762615,0.058383433231753434,0.1546579479147313,0.29459586774806124,0.21504388919438144,0.41258099307249796,0.6156784378055503,1.3625019117892005,1.3832346704290486,1.2209431310703558,0.9275627101454688,1.0721247328321035,0.6359321360492665,0.6930983849212929,0.7071306273730226,0.748621460027049,0.7823362955017628,0.4380266852960738,0.10968494721723884,0.1611187326471584,0.1513023948188837,0.1330261652913562,0.20437510516167026,0.5584827372288045,0.2771505854357204,0.38268428973825075,0.40220888334856014,0.5104919410275006,0.08247449259074324,0.18419196951194142,0.18658013605657114,0.22374140475549403,0.30325017886608274,0.4701975173326878,0.34325890781611235],\"type\":\"scatter\"},{\"line\":{\"color\":\"blue\",\"dash\":\"dash\"},\"mode\":\"lines\",\"name\":\"Error (Actual - Predicted)\",\"x\":[\"2014-01-01T00:00:00\",\"2014-01-01T00:30:00\",\"2014-01-01T01:00:00\",\"2014-01-01T01:30:00\",\"2014-01-01T02:00:00\",\"2014-01-01T02:30:00\",\"2014-01-01T03:00:00\",\"2014-01-01T03:30:00\",\"2014-01-01T04:00:00\",\"2014-01-01T04:30:00\",\"2014-01-01T05:00:00\",\"2014-01-01T05:30:00\",\"2014-01-01T06:00:00\",\"2014-01-01T06:30:00\",\"2014-01-01T07:00:00\",\"2014-01-01T07:30:00\",\"2014-01-01T08:00:00\",\"2014-01-01T08:30:00\",\"2014-01-01T09:00:00\",\"2014-01-01T09:30:00\",\"2014-01-01T10:00:00\",\"2014-01-01T10:30:00\",\"2014-01-01T11:00:00\",\"2014-01-01T11:30:00\",\"2014-01-01T12:00:00\",\"2014-01-01T12:30:00\",\"2014-01-01T13:00:00\",\"2014-01-01T13:30:00\",\"2014-01-01T14:00:00\",\"2014-01-01T14:30:00\",\"2014-01-01T15:00:00\",\"2014-01-01T15:30:00\",\"2014-01-01T16:00:00\",\"2014-01-01T16:30:00\",\"2014-01-01T17:00:00\",\"2014-01-01T17:30:00\",\"2014-01-01T18:00:00\",\"2014-01-01T18:30:00\",\"2014-01-01T19:00:00\",\"2014-01-01T19:30:00\",\"2014-01-01T20:00:00\",\"2014-01-01T20:30:00\",\"2014-01-01T21:00:00\",\"2014-01-01T21:30:00\",\"2014-01-01T22:00:00\",\"2014-01-01T22:30:00\",\"2014-01-01T23:00:00\",\"2014-01-01T23:30:00\",\"2014-01-02T00:00:00\",\"2014-01-02T00:30:00\",\"2014-01-02T01:00:00\",\"2014-01-02T01:30:00\",\"2014-01-02T02:00:00\",\"2014-01-02T02:30:00\",\"2014-01-02T03:00:00\",\"2014-01-02T03:30:00\",\"2014-01-02T04:00:00\",\"2014-01-02T04:30:00\",\"2014-01-02T05:00:00\",\"2014-01-02T05:30:00\",\"2014-01-02T06:00:00\",\"2014-01-02T06:30:00\",\"2014-01-02T07:00:00\",\"2014-01-02T07:30:00\",\"2014-01-02T08:00:00\",\"2014-01-02T08:30:00\",\"2014-01-02T09:00:00\",\"2014-01-02T09:30:00\",\"2014-01-02T10:00:00\",\"2014-01-02T10:30:00\",\"2014-01-02T11:00:00\",\"2014-01-02T11:30:00\",\"2014-01-02T12:00:00\",\"2014-01-02T12:30:00\",\"2014-01-02T13:00:00\",\"2014-01-02T13:30:00\",\"2014-01-02T14:00:00\",\"2014-01-02T14:30:00\",\"2014-01-02T15:00:00\",\"2014-01-02T15:30:00\",\"2014-01-02T16:00:00\",\"2014-01-02T16:30:00\",\"2014-01-02T17:00:00\",\"2014-01-02T17:30:00\",\"2014-01-02T18:00:00\",\"2014-01-02T18:30:00\",\"2014-01-02T19:00:00\",\"2014-01-02T19:30:00\",\"2014-01-02T20:00:00\",\"2014-01-02T20:30:00\",\"2014-01-02T21:00:00\",\"2014-01-02T21:30:00\",\"2014-01-02T22:00:00\",\"2014-01-02T22:30:00\",\"2014-01-02T23:00:00\",\"2014-01-02T23:30:00\",\"2014-01-03T00:00:00\",\"2014-01-03T00:30:00\",\"2014-01-03T01:00:00\",\"2014-01-03T01:30:00\",\"2014-01-03T02:00:00\",\"2014-01-03T02:30:00\",\"2014-01-03T03:00:00\",\"2014-01-03T03:30:00\",\"2014-01-03T04:00:00\",\"2014-01-03T04:30:00\",\"2014-01-03T05:00:00\",\"2014-01-03T05:30:00\",\"2014-01-03T06:00:00\",\"2014-01-03T06:30:00\",\"2014-01-03T07:00:00\",\"2014-01-03T07:30:00\",\"2014-01-03T08:00:00\",\"2014-01-03T08:30:00\",\"2014-01-03T09:00:00\",\"2014-01-03T09:30:00\",\"2014-01-03T10:00:00\",\"2014-01-03T10:30:00\",\"2014-01-03T11:00:00\",\"2014-01-03T11:30:00\",\"2014-01-03T12:00:00\",\"2014-01-03T12:30:00\",\"2014-01-03T13:00:00\",\"2014-01-03T13:30:00\",\"2014-01-03T14:00:00\",\"2014-01-03T14:30:00\",\"2014-01-03T15:00:00\",\"2014-01-03T15:30:00\",\"2014-01-03T16:00:00\",\"2014-01-03T16:30:00\",\"2014-01-03T17:00:00\",\"2014-01-03T17:30:00\",\"2014-01-03T18:00:00\",\"2014-01-03T18:30:00\",\"2014-01-03T19:00:00\",\"2014-01-03T19:30:00\",\"2014-01-03T20:00:00\",\"2014-01-03T20:30:00\",\"2014-01-03T21:00:00\",\"2014-01-03T21:30:00\",\"2014-01-03T22:00:00\",\"2014-01-03T22:30:00\",\"2014-01-03T23:00:00\",\"2014-01-03T23:30:00\",\"2014-01-04T00:00:00\",\"2014-01-04T00:30:00\",\"2014-01-04T01:00:00\",\"2014-01-04T01:30:00\",\"2014-01-04T02:00:00\",\"2014-01-04T02:30:00\",\"2014-01-04T03:00:00\",\"2014-01-04T03:30:00\",\"2014-01-04T04:00:00\",\"2014-01-04T04:30:00\",\"2014-01-04T05:00:00\",\"2014-01-04T05:30:00\",\"2014-01-04T06:00:00\",\"2014-01-04T06:30:00\",\"2014-01-04T07:00:00\",\"2014-01-04T07:30:00\",\"2014-01-04T08:00:00\",\"2014-01-04T08:30:00\",\"2014-01-04T09:00:00\",\"2014-01-04T09:30:00\",\"2014-01-04T10:00:00\",\"2014-01-04T10:30:00\",\"2014-01-04T11:00:00\",\"2014-01-04T11:30:00\",\"2014-01-04T12:00:00\",\"2014-01-04T12:30:00\",\"2014-01-04T13:00:00\",\"2014-01-04T13:30:00\",\"2014-01-04T14:00:00\",\"2014-01-04T14:30:00\",\"2014-01-04T15:00:00\",\"2014-01-04T15:30:00\",\"2014-01-04T16:00:00\",\"2014-01-04T16:30:00\",\"2014-01-04T17:00:00\",\"2014-01-04T17:30:00\",\"2014-01-04T18:00:00\",\"2014-01-04T18:30:00\",\"2014-01-04T19:00:00\",\"2014-01-04T19:30:00\",\"2014-01-04T20:00:00\",\"2014-01-04T20:30:00\",\"2014-01-04T21:00:00\",\"2014-01-04T21:30:00\",\"2014-01-04T22:00:00\",\"2014-01-04T22:30:00\",\"2014-01-04T23:00:00\",\"2014-01-04T23:30:00\",\"2014-01-05T00:00:00\",\"2014-01-05T00:30:00\",\"2014-01-05T01:00:00\",\"2014-01-05T01:30:00\",\"2014-01-05T02:00:00\",\"2014-01-05T02:30:00\",\"2014-01-05T03:00:00\",\"2014-01-05T03:30:00\",\"2014-01-05T04:00:00\",\"2014-01-05T04:30:00\",\"2014-01-05T05:00:00\",\"2014-01-05T05:30:00\",\"2014-01-05T06:00:00\",\"2014-01-05T06:30:00\",\"2014-01-05T07:00:00\",\"2014-01-05T07:30:00\",\"2014-01-05T08:00:00\",\"2014-01-05T08:30:00\",\"2014-01-05T09:00:00\",\"2014-01-05T09:30:00\",\"2014-01-05T10:00:00\",\"2014-01-05T10:30:00\",\"2014-01-05T11:00:00\",\"2014-01-05T11:30:00\",\"2014-01-05T12:00:00\",\"2014-01-05T12:30:00\",\"2014-01-05T13:00:00\",\"2014-01-05T13:30:00\",\"2014-01-05T14:00:00\",\"2014-01-05T14:30:00\",\"2014-01-05T15:00:00\",\"2014-01-05T15:30:00\",\"2014-01-05T16:00:00\",\"2014-01-05T16:30:00\",\"2014-01-05T17:00:00\",\"2014-01-05T17:30:00\",\"2014-01-05T18:00:00\",\"2014-01-05T18:30:00\",\"2014-01-05T19:00:00\",\"2014-01-05T19:30:00\",\"2014-01-05T20:00:00\",\"2014-01-05T20:30:00\",\"2014-01-05T21:00:00\",\"2014-01-05T21:30:00\",\"2014-01-05T22:00:00\",\"2014-01-05T22:30:00\",\"2014-01-05T23:00:00\",\"2014-01-05T23:30:00\",\"2014-01-06T00:00:00\",\"2014-01-06T00:30:00\",\"2014-01-06T01:00:00\",\"2014-01-06T01:30:00\",\"2014-01-06T02:00:00\",\"2014-01-06T02:30:00\",\"2014-01-06T03:00:00\",\"2014-01-06T03:30:00\",\"2014-01-06T04:00:00\",\"2014-01-06T04:30:00\",\"2014-01-06T05:00:00\",\"2014-01-06T05:30:00\",\"2014-01-06T06:00:00\",\"2014-01-06T06:30:00\",\"2014-01-06T07:00:00\",\"2014-01-06T07:30:00\",\"2014-01-06T08:00:00\",\"2014-01-06T08:30:00\",\"2014-01-06T09:00:00\",\"2014-01-06T09:30:00\",\"2014-01-06T10:00:00\",\"2014-01-06T10:30:00\",\"2014-01-06T11:00:00\",\"2014-01-06T11:30:00\",\"2014-01-06T12:00:00\",\"2014-01-06T12:30:00\",\"2014-01-06T13:00:00\",\"2014-01-06T13:30:00\",\"2014-01-06T14:00:00\",\"2014-01-06T14:30:00\",\"2014-01-06T15:00:00\",\"2014-01-06T15:30:00\",\"2014-01-06T16:00:00\",\"2014-01-06T16:30:00\",\"2014-01-06T17:00:00\",\"2014-01-06T17:30:00\",\"2014-01-06T18:00:00\",\"2014-01-06T18:30:00\",\"2014-01-06T19:00:00\",\"2014-01-06T19:30:00\",\"2014-01-06T20:00:00\",\"2014-01-06T20:30:00\",\"2014-01-06T21:00:00\",\"2014-01-06T21:30:00\",\"2014-01-06T22:00:00\",\"2014-01-06T22:30:00\",\"2014-01-06T23:00:00\",\"2014-01-06T23:30:00\",\"2014-01-07T00:00:00\",\"2014-01-07T00:30:00\",\"2014-01-07T01:00:00\",\"2014-01-07T01:30:00\",\"2014-01-07T02:00:00\",\"2014-01-07T02:30:00\",\"2014-01-07T03:00:00\",\"2014-01-07T03:30:00\",\"2014-01-07T04:00:00\",\"2014-01-07T04:30:00\",\"2014-01-07T05:00:00\",\"2014-01-07T05:30:00\",\"2014-01-07T06:00:00\",\"2014-01-07T06:30:00\",\"2014-01-07T07:00:00\",\"2014-01-07T07:30:00\",\"2014-01-07T08:00:00\",\"2014-01-07T08:30:00\",\"2014-01-07T09:00:00\",\"2014-01-07T09:30:00\",\"2014-01-07T10:00:00\",\"2014-01-07T10:30:00\",\"2014-01-07T11:00:00\",\"2014-01-07T11:30:00\",\"2014-01-07T12:00:00\",\"2014-01-07T12:30:00\",\"2014-01-07T13:00:00\",\"2014-01-07T13:30:00\",\"2014-01-07T14:00:00\",\"2014-01-07T14:30:00\",\"2014-01-07T15:00:00\",\"2014-01-07T15:30:00\",\"2014-01-07T16:00:00\",\"2014-01-07T16:30:00\",\"2014-01-07T17:00:00\",\"2014-01-07T17:30:00\",\"2014-01-07T18:00:00\",\"2014-01-07T18:30:00\",\"2014-01-07T19:00:00\",\"2014-01-07T19:30:00\",\"2014-01-07T20:00:00\",\"2014-01-07T20:30:00\",\"2014-01-07T21:00:00\",\"2014-01-07T21:30:00\",\"2014-01-07T22:00:00\",\"2014-01-07T22:30:00\",\"2014-01-07T23:00:00\",\"2014-01-07T23:30:00\",\"2014-01-08T00:00:00\"],\"y\":[0.19658449293509686,0.23420564652012266,0.22534240519277235,0.1545227801022215,-0.11159905440001731,0.08955344656446552,0.019002455692424727,0.07568018179229298,0.022294224522298605,0.021103660902875652,0.07900770157894511,0.00757362670120909,0.07685008475363656,0.01588855756648049,0.03075501208565549,0.02517641750136554,-0.06003993346827684,-0.11417519207185578,-0.03393391048676683,-0.2978407020400474,-0.005272560110149094,-0.431577695191386,0.27236841415789104,0.30994127045627984,0.27687476143234635,0.24043004562795267,-0.10108704772612986,0.16612943249559942,0.7216741230831007,0.23659190417837794,0.14641197827185592,-0.3504215662992097,0.10743280856007675,0.08216852757532705,0.036256218900629716,0.23097232499690987,-0.04158351262409796,0.09282624631565245,0.01296561287959247,-0.1494140863936957,-0.042278591547043165,-0.016116024537833812,0.4482402145670972,-0.08537204180362551,0.00961412008345855,0.04778402568822729,-0.016909907122082096,0.001693161448185987,0.5781666794536322,0.36142073151143794,-0.19016675402280153,0.053737128485551997,0.32243758527211475,0.38915003807436055,0.34623327411244703,0.28337009434696736,0.24084568622110755,-0.08888462999488378,0.04344319991273808,0.10617962535550654,0.07891596178704882,0.0644157768792241,0.05182232830351115,0.035856639631454634,0.9953541630587304,0.5854381535822237,0.4968942140290715,0.046887938782970706,-0.23910100497952969,-0.21222060727048664,-0.39512045493236014,-0.4497394667370087,-0.11836677398963705,0.7057025203623081,0.5126314947192365,0.25858466470906216,-0.3849233945791007,0.04444515630680346,0.09189492902238416,0.1574109159764261,0.6739424284030482,0.5758499343327107,0.6122998949537604,0.4990822862605985,0.4131589607473606,0.004152991872424794,0.17470992964526366,0.47492017405265885,0.019119209933151304,0.2790084408411301,0.07188354821955212,0.7623323275592365,-0.14065213923238884,0.04188863947047822,0.05051183850739785,0.29184523640494203,-0.16588779424527758,-0.04129274182459256,0.03805895160139485,0.002998138096684158,-0.041106977043944004,0.010449976263485629,-0.04614026149885192,0.03485518516250262,-0.01680424798175157,0.026786945123712446,0.04401514869825265,0.010371393686617172,0.034822179328487156,0.006432035830064478,-0.05680567146551881,-0.15685254778185653,-0.29468845091933427,0.12632124136423928,0.23906353041858397,0.06997778640990004,0.8988467674817838,0.1657416608998532,-0.14630344819735752,0.07659556340794182,0.07084573417270068,0.06901371051937355,-0.6299641347618752,0.04052220354143232,-0.23707558488837024,-0.24929703974453687,-0.34617655002813297,-0.157565065317823,-0.0908501026036245,0.019450660222723015,-0.13169021540325082,-0.15668373303863706,-0.11108706005736588,-0.07965056097267617,-0.059823464093110124,-0.021467048545903644,-0.08860931275310302,0.8436911574700221,-0.5228966761980944,0.03882857941099643,0.03065077458989296,0.053404099391029886,0.045703277538196446,0.37461106602819927,-0.3404912420980962,0.009292914700512835,0.00009970151799751359,-0.03269251038420871,0.026519346911644266,-0.05572864622817201,0.015997307907989054,-0.02143097174463315,-0.004464498204549274,-0.0005357658798419498,-0.011181714322778112,-0.02294311588807891,0.017152291450013686,-0.03834942779241356,-0.026649947562299672,-0.07881191908538042,0.019723651972389095,0.4482332689380637,0.08220548847650211,-0.16903704031692202,-0.12716120887591664,0.1146194709215872,-0.4356139636773572,-0.10144062155143202,-0.04111879312753808,-0.18450823453451737,-0.08979754867035905,-0.43841694434739703,-0.3363877711367918,-0.1628083116642968,-0.14506854034431607,-0.15839895306775464,-0.08365947064235804,-0.15414225478748422,0.032122928946403395,-0.14936934432018117,-0.1291522074125276,-0.1201742007585069,-0.15180371835659306,-0.157665013101958,-0.0696780338771194,0.10718821181802918,-0.18211307389797113,-0.092068047340369,-0.04192677817020732,-0.04333079260069925,-0.05861355738150348,0.0482786526282758,0.16259555373023454,-0.16951193096883474,0.040804975276005344,0.013308076064856879,0.0036760456528393496,0.038000094695621746,-0.0035337430596942485,0.008107204917122371,0.022260838636789203,-0.01348904099452144,0.05847975655269012,-0.013562860361558411,0.017391294985993105,0.03328021419024833,-0.03623085854459353,-0.02185653349388541,-0.1561231646063668,-0.082328144371494,-0.3385022950339352,-0.2599906232702167,-0.4946808551180398,-0.5601742649493935,1.7642015877715822,0.26697289380236855,0.4420634446859968,-0.30709579769703166,0.35086112467914565,0.507911484518673,0.4268983202380837,0.8704369708175751,0.1567118737077977,0.39898060075551256,-0.5420706695789841,0.09152272566145131,0.20536288445443007,0.007677925406658709,-0.02012393007731572,-0.08163665867713776,0.291473756642729,0.618028420250322,-0.2943363598053067,0.0063889813491202485,0.07258417974768175,-0.009339493720918468,0.061089247539831415,-0.03877100080938059,0.003572106207489517,0.200432957407698,-0.21643308134791822,0.09973583615871014,0.048310132290403304,0.08636341155858113,0.0024597030062434196,0.0362224158224751,0.06456427012452179,0.04226654034264754,0.051327701212084895,0.05443446516049288,0.02604522280606069,0.09355187243953966,-0.0008541166547680942,0.053645444849596546,0.02195279959979854,0.0233360901898807,-0.055729629702914806,0.7967363666505901,-0.37820598629899427,0.4192193790751626,0.025478504983419525,-0.0796630137337615,0.17095393471842213,-0.2964050966716526,-0.07334306528986256,0.21982409581054885,0.5239724037860805,0.18697278617278446,0.2707144797863408,-0.6045569717578378,-0.13601468496842425,-0.005577173670819044,-0.035408682456689294,0.003109045696511145,0.16163357517799315,-0.006576764184978823,0.004057407615026182,-0.11208390951715158,-0.059966425959448205,0.11330150507102954,0.22032436597307525,-0.16035892906498125,0.026519447449019462,0.005369260590280894,-0.00666889302108431,0.17748316828196373,0.5851437735553056,0.10108885463750494,-0.22285010944940548,0.028108028615730755,0.0262286449559258,0.06144266386289796,-0.011298003668998696,0.06695231664191972,0.010105078691219588,0.04399636008255013,0.06356634505281053,0.018979525914506745,0.06227016743555625,0.006766647982144339,0.029365865512507004,0.0388186252031518,-0.0016781072487627169,-0.021383433231753436,0.06134205208526869,-0.2775958677480612,0.16495611080561856,0.2994190069275021,1.5193215621944494,0.6524981882107994,0.2027653295709515,-0.05194313107035575,0.6184372898545313,-0.2671247328321035,0.27506786395073357,0.377901615078707,0.44086937262697734,0.3513785399729511,-0.16533629550176276,-0.3120266852960738,0.15831505278276117,0.016881267352841595,-0.047302394818883695,0.0809738347086438,0.8436248948383298,-0.15848273722880446,0.009849414564279568,-0.12268428973825074,0.2827911166514399,-0.3554919410275006,0.13352550740925676,0.013808030488058592,0.006419863943428861,0.19225859524450595,0.3927498211339172,0.17880248266731225,0.05874109218388768],\"type\":\"scatter\"}],                        {\"template\":{\"data\":{\"barpolar\":[{\"marker\":{\"line\":{\"color\":\"white\",\"width\":0.5},\"pattern\":{\"fillmode\":\"overlay\",\"size\":10,\"solidity\":0.2}},\"type\":\"barpolar\"}],\"bar\":[{\"error_x\":{\"color\":\"#2a3f5f\"},\"error_y\":{\"color\":\"#2a3f5f\"},\"marker\":{\"line\":{\"color\":\"white\",\"width\":0.5},\"pattern\":{\"fillmode\":\"overlay\",\"size\":10,\"solidity\":0.2}},\"type\":\"bar\"}],\"carpet\":[{\"aaxis\":{\"endlinecolor\":\"#2a3f5f\",\"gridcolor\":\"#C8D4E3\",\"linecolor\":\"#C8D4E3\",\"minorgridcolor\":\"#C8D4E3\",\"startlinecolor\":\"#2a3f5f\"},\"baxis\":{\"endlinecolor\":\"#2a3f5f\",\"gridcolor\":\"#C8D4E3\",\"linecolor\":\"#C8D4E3\",\"minorgridcolor\":\"#C8D4E3\",\"startlinecolor\":\"#2a3f5f\"},\"type\":\"carpet\"}],\"choropleth\":[{\"colorbar\":{\"outlinewidth\":0,\"ticks\":\"\"},\"type\":\"choropleth\"}],\"contourcarpet\":[{\"colorbar\":{\"outlinewidth\":0,\"ticks\":\"\"},\"type\":\"contourcarpet\"}],\"contour\":[{\"colorbar\":{\"outlinewidth\":0,\"ticks\":\"\"},\"colorscale\":[[0.0,\"#0d0887\"],[0.1111111111111111,\"#46039f\"],[0.2222222222222222,\"#7201a8\"],[0.3333333333333333,\"#9c179e\"],[0.4444444444444444,\"#bd3786\"],[0.5555555555555556,\"#d8576b\"],[0.6666666666666666,\"#ed7953\"],[0.7777777777777778,\"#fb9f3a\"],[0.8888888888888888,\"#fdca26\"],[1.0,\"#f0f921\"]],\"type\":\"contour\"}],\"heatmapgl\":[{\"colorbar\":{\"outlinewidth\":0,\"ticks\":\"\"},\"colorscale\":[[0.0,\"#0d0887\"],[0.1111111111111111,\"#46039f\"],[0.2222222222222222,\"#7201a8\"],[0.3333333333333333,\"#9c179e\"],[0.4444444444444444,\"#bd3786\"],[0.5555555555555556,\"#d8576b\"],[0.6666666666666666,\"#ed7953\"],[0.7777777777777778,\"#fb9f3a\"],[0.8888888888888888,\"#fdca26\"],[1.0,\"#f0f921\"]],\"type\":\"heatmapgl\"}],\"heatmap\":[{\"colorbar\":{\"outlinewidth\":0,\"ticks\":\"\"},\"colorscale\":[[0.0,\"#0d0887\"],[0.1111111111111111,\"#46039f\"],[0.2222222222222222,\"#7201a8\"],[0.3333333333333333,\"#9c179e\"],[0.4444444444444444,\"#bd3786\"],[0.5555555555555556,\"#d8576b\"],[0.6666666666666666,\"#ed7953\"],[0.7777777777777778,\"#fb9f3a\"],[0.8888888888888888,\"#fdca26\"],[1.0,\"#f0f921\"]],\"type\":\"heatmap\"}],\"histogram2dcontour\":[{\"colorbar\":{\"outlinewidth\":0,\"ticks\":\"\"},\"colorscale\":[[0.0,\"#0d0887\"],[0.1111111111111111,\"#46039f\"],[0.2222222222222222,\"#7201a8\"],[0.3333333333333333,\"#9c179e\"],[0.4444444444444444,\"#bd3786\"],[0.5555555555555556,\"#d8576b\"],[0.6666666666666666,\"#ed7953\"],[0.7777777777777778,\"#fb9f3a\"],[0.8888888888888888,\"#fdca26\"],[1.0,\"#f0f921\"]],\"type\":\"histogram2dcontour\"}],\"histogram2d\":[{\"colorbar\":{\"outlinewidth\":0,\"ticks\":\"\"},\"colorscale\":[[0.0,\"#0d0887\"],[0.1111111111111111,\"#46039f\"],[0.2222222222222222,\"#7201a8\"],[0.3333333333333333,\"#9c179e\"],[0.4444444444444444,\"#bd3786\"],[0.5555555555555556,\"#d8576b\"],[0.6666666666666666,\"#ed7953\"],[0.7777777777777778,\"#fb9f3a\"],[0.8888888888888888,\"#fdca26\"],[1.0,\"#f0f921\"]],\"type\":\"histogram2d\"}],\"histogram\":[{\"marker\":{\"pattern\":{\"fillmode\":\"overlay\",\"size\":10,\"solidity\":0.2}},\"type\":\"histogram\"}],\"mesh3d\":[{\"colorbar\":{\"outlinewidth\":0,\"ticks\":\"\"},\"type\":\"mesh3d\"}],\"parcoords\":[{\"line\":{\"colorbar\":{\"outlinewidth\":0,\"ticks\":\"\"}},\"type\":\"parcoords\"}],\"pie\":[{\"automargin\":true,\"type\":\"pie\"}],\"scatter3d\":[{\"line\":{\"colorbar\":{\"outlinewidth\":0,\"ticks\":\"\"}},\"marker\":{\"colorbar\":{\"outlinewidth\":0,\"ticks\":\"\"}},\"type\":\"scatter3d\"}],\"scattercarpet\":[{\"marker\":{\"colorbar\":{\"outlinewidth\":0,\"ticks\":\"\"}},\"type\":\"scattercarpet\"}],\"scattergeo\":[{\"marker\":{\"colorbar\":{\"outlinewidth\":0,\"ticks\":\"\"}},\"type\":\"scattergeo\"}],\"scattergl\":[{\"marker\":{\"colorbar\":{\"outlinewidth\":0,\"ticks\":\"\"}},\"type\":\"scattergl\"}],\"scattermapbox\":[{\"marker\":{\"colorbar\":{\"outlinewidth\":0,\"ticks\":\"\"}},\"type\":\"scattermapbox\"}],\"scatterpolargl\":[{\"marker\":{\"colorbar\":{\"outlinewidth\":0,\"ticks\":\"\"}},\"type\":\"scatterpolargl\"}],\"scatterpolar\":[{\"marker\":{\"colorbar\":{\"outlinewidth\":0,\"ticks\":\"\"}},\"type\":\"scatterpolar\"}],\"scatter\":[{\"fillpattern\":{\"fillmode\":\"overlay\",\"size\":10,\"solidity\":0.2},\"type\":\"scatter\"}],\"scatterternary\":[{\"marker\":{\"colorbar\":{\"outlinewidth\":0,\"ticks\":\"\"}},\"type\":\"scatterternary\"}],\"surface\":[{\"colorbar\":{\"outlinewidth\":0,\"ticks\":\"\"},\"colorscale\":[[0.0,\"#0d0887\"],[0.1111111111111111,\"#46039f\"],[0.2222222222222222,\"#7201a8\"],[0.3333333333333333,\"#9c179e\"],[0.4444444444444444,\"#bd3786\"],[0.5555555555555556,\"#d8576b\"],[0.6666666666666666,\"#ed7953\"],[0.7777777777777778,\"#fb9f3a\"],[0.8888888888888888,\"#fdca26\"],[1.0,\"#f0f921\"]],\"type\":\"surface\"}],\"table\":[{\"cells\":{\"fill\":{\"color\":\"#EBF0F8\"},\"line\":{\"color\":\"white\"}},\"header\":{\"fill\":{\"color\":\"#C8D4E3\"},\"line\":{\"color\":\"white\"}},\"type\":\"table\"}]},\"layout\":{\"annotationdefaults\":{\"arrowcolor\":\"#2a3f5f\",\"arrowhead\":0,\"arrowwidth\":1},\"autotypenumbers\":\"strict\",\"coloraxis\":{\"colorbar\":{\"outlinewidth\":0,\"ticks\":\"\"}},\"colorscale\":{\"diverging\":[[0,\"#8e0152\"],[0.1,\"#c51b7d\"],[0.2,\"#de77ae\"],[0.3,\"#f1b6da\"],[0.4,\"#fde0ef\"],[0.5,\"#f7f7f7\"],[0.6,\"#e6f5d0\"],[0.7,\"#b8e186\"],[0.8,\"#7fbc41\"],[0.9,\"#4d9221\"],[1,\"#276419\"]],\"sequential\":[[0.0,\"#0d0887\"],[0.1111111111111111,\"#46039f\"],[0.2222222222222222,\"#7201a8\"],[0.3333333333333333,\"#9c179e\"],[0.4444444444444444,\"#bd3786\"],[0.5555555555555556,\"#d8576b\"],[0.6666666666666666,\"#ed7953\"],[0.7777777777777778,\"#fb9f3a\"],[0.8888888888888888,\"#fdca26\"],[1.0,\"#f0f921\"]],\"sequentialminus\":[[0.0,\"#0d0887\"],[0.1111111111111111,\"#46039f\"],[0.2222222222222222,\"#7201a8\"],[0.3333333333333333,\"#9c179e\"],[0.4444444444444444,\"#bd3786\"],[0.5555555555555556,\"#d8576b\"],[0.6666666666666666,\"#ed7953\"],[0.7777777777777778,\"#fb9f3a\"],[0.8888888888888888,\"#fdca26\"],[1.0,\"#f0f921\"]]},\"colorway\":[\"#636efa\",\"#EF553B\",\"#00cc96\",\"#ab63fa\",\"#FFA15A\",\"#19d3f3\",\"#FF6692\",\"#B6E880\",\"#FF97FF\",\"#FECB52\"],\"font\":{\"color\":\"#2a3f5f\"},\"geo\":{\"bgcolor\":\"white\",\"lakecolor\":\"white\",\"landcolor\":\"white\",\"showlakes\":true,\"showland\":true,\"subunitcolor\":\"#C8D4E3\"},\"hoverlabel\":{\"align\":\"left\"},\"hovermode\":\"closest\",\"mapbox\":{\"style\":\"light\"},\"paper_bgcolor\":\"white\",\"plot_bgcolor\":\"white\",\"polar\":{\"angularaxis\":{\"gridcolor\":\"#EBF0F8\",\"linecolor\":\"#EBF0F8\",\"ticks\":\"\"},\"bgcolor\":\"white\",\"radialaxis\":{\"gridcolor\":\"#EBF0F8\",\"linecolor\":\"#EBF0F8\",\"ticks\":\"\"}},\"scene\":{\"xaxis\":{\"backgroundcolor\":\"white\",\"gridcolor\":\"#DFE8F3\",\"gridwidth\":2,\"linecolor\":\"#EBF0F8\",\"showbackground\":true,\"ticks\":\"\",\"zerolinecolor\":\"#EBF0F8\"},\"yaxis\":{\"backgroundcolor\":\"white\",\"gridcolor\":\"#DFE8F3\",\"gridwidth\":2,\"linecolor\":\"#EBF0F8\",\"showbackground\":true,\"ticks\":\"\",\"zerolinecolor\":\"#EBF0F8\"},\"zaxis\":{\"backgroundcolor\":\"white\",\"gridcolor\":\"#DFE8F3\",\"gridwidth\":2,\"linecolor\":\"#EBF0F8\",\"showbackground\":true,\"ticks\":\"\",\"zerolinecolor\":\"#EBF0F8\"}},\"shapedefaults\":{\"line\":{\"color\":\"#2a3f5f\"}},\"ternary\":{\"aaxis\":{\"gridcolor\":\"#DFE8F3\",\"linecolor\":\"#A2B1C6\",\"ticks\":\"\"},\"baxis\":{\"gridcolor\":\"#DFE8F3\",\"linecolor\":\"#A2B1C6\",\"ticks\":\"\"},\"bgcolor\":\"white\",\"caxis\":{\"gridcolor\":\"#DFE8F3\",\"linecolor\":\"#A2B1C6\",\"ticks\":\"\"}},\"title\":{\"x\":0.05},\"xaxis\":{\"automargin\":true,\"gridcolor\":\"#EBF0F8\",\"linecolor\":\"#EBF0F8\",\"ticks\":\"\",\"title\":{\"standoff\":15},\"zerolinecolor\":\"#EBF0F8\",\"zerolinewidth\":2},\"yaxis\":{\"automargin\":true,\"gridcolor\":\"#EBF0F8\",\"linecolor\":\"#EBF0F8\",\"ticks\":\"\",\"title\":{\"standoff\":15},\"zerolinecolor\":\"#EBF0F8\",\"zerolinewidth\":2}}},\"legend\":{\"x\":0,\"y\":1.05,\"orientation\":\"h\"},\"title\":{\"text\":\"Model Predictions vs Actuals\\u003cbr\\u003e\\u003csup\\u003eAlgorithm: Ridge | MAE: 0.167 | RMSE: 0.275 | WAPE: 0.476 | MASE: 1.302 | Forecast Bias(%): 4.083\\u003c\\u002fsup\\u003e\\u003cbr\\u003e\\u003csup\\u003eValidation set: Household A\\u003c\\u002fsup\\u003e\"},\"xaxis\":{\"title\":{\"text\":\"Time\"}},\"yaxis\":{\"title\":{\"text\":\"Energy Consumption\"}},\"hovermode\":\"x unified\"},                        {\"responsive\": true}                    ).then(function(){\n",
              "                            \n",
              "var gd = document.getElementById('fbb7aad9-aa93-4487-9283-7bc0187e82fd');\n",
              "var x = new MutationObserver(function (mutations, observer) {{\n",
              "        var display = window.getComputedStyle(gd).display;\n",
              "        if (!display || display === 'none') {{\n",
              "            console.log([gd, 'removed!']);\n",
              "            Plotly.purge(gd);\n",
              "            observer.disconnect();\n",
              "        }}\n",
              "}});\n",
              "\n",
              "// Listen for the removal of the full notebook cells\n",
              "var notebookContainer = gd.closest('#notebook-container');\n",
              "if (notebookContainer) {{\n",
              "    x.observe(notebookContainer, {childList: true});\n",
              "}}\n",
              "\n",
              "// Listen for the clearing of the current output cell\n",
              "var outputEl = gd.closest('.output');\n",
              "if (outputEl) {{\n",
              "    x.observe(outputEl, {childList: true});\n",
              "}}\n",
              "\n",
              "                        })                };                            </script>        </div>\n",
              "</body>\n",
              "</html>"
            ]
          },
          "metadata": {}
        }
      ]
    },
    {
      "cell_type": "markdown",
      "source": [
        "\n",
        "\n",
        "```\n",
        " 'MAE': np.float64(0.166),\n",
        " 'RMSE': np.float64(0.274),\n",
        " 'WAPE': np.float64(0.473),\n",
        " 'MASE': np.float64(1.292),\n",
        " 'Forecast Bias(%)': np.float64(4.029)}\n",
        "```\n",
        "\n"
      ],
      "metadata": {
        "id": "N-SU0yZSWvrY"
      }
    },
    {
      "cell_type": "markdown",
      "source": [
        "## Feature Importance"
      ],
      "metadata": {
        "id": "W0b_-nrorGDC"
      }
    },
    {
      "cell_type": "code",
      "source": [
        "coef_df = plot_feature_importance(model, top_n=30)\n",
        "\n"
      ],
      "metadata": {
        "colab": {
          "base_uri": "https://localhost:8080/",
          "height": 563
        },
        "id": "JpUUkK1GAVT6",
        "outputId": "08633909-9c49-49ee-8cf0-a54e41ec08c2"
      },
      "execution_count": null,
      "outputs": [
        {
          "output_type": "display_data",
          "data": {
            "text/plain": [
              "<Figure size 1000x600 with 1 Axes>"
            ],
            "image/png": "[encoded data removed]"
          },
          "metadata": {}
        }
      ]
    },
    {
      "cell_type": "markdown",
      "source": [
        "# 2). Running ML Forecast for all consumers"
      ],
      "metadata": {
        "id": "tZrF0AWdW89s"
      }
    },
    {
      "cell_type": "code",
      "source": [
        "from google.colab import drive\n",
        "drive.mount('/content/drive')\n",
        "%cd /content/drive/MyDrive/Colab Notebooks/Time_Series/data"
      ],
      "metadata": {
        "colab": {
          "base_uri": "https://localhost:8080/"
        },
        "id": "5PiVRsUOb2nn",
        "outputId": "4ccc0a3c-d6f1-4af3-8d6a-e5cad55bc2ae"
      },
      "execution_count": null,
      "outputs": [
        {
          "output_type": "stream",
          "name": "stdout",
          "text": [
            "Mounted at /content/drive\n",
            "/content/drive/MyDrive/Colab Notebooks/Time_Series/data\n"
          ]
        }
      ]
    },
    {
      "cell_type": "code",
      "source": [
        "\n",
        "preprocessed = Path(\"data/london_smart_meters/preprocessed\")\n",
        "output = Path(\"data/london_smart_meters/output\")\n",
        "\n",
        "train_df = pd.read_parquet(preprocessed/\"selected_blocks_train_missing_imputed_feature_engg.parquet\")\n",
        "test_df = pd.read_parquet(preprocessed/\"selected_blocks_val_missing_imputed_feature_engg.parquet\")\n"
      ],
      "metadata": {
        "id": "YL4rOtmNsXQR"
      },
      "execution_count": null,
      "outputs": []
    },
    {
      "cell_type": "code",
      "source": [
        "\"\"\"\n",
        "!pip install -q gdown\n",
        "\n",
        "import gdown\n",
        "\n",
        "\n",
        "def download_parquet_from_drive(file_id: str, output: str) -> pd.DataFrame:\n",
        "\n",
        "    url = f\"https://drive.google.com/uc?id={file_id}\"\n",
        "    gdown.download(url, output, quiet=False)\n",
        "    return pd.read_parquet(output)\n",
        "\n",
        "train_file_id = \"1TwzeFcAQwW0CjTXUkjCNvBIm91m9qWOM\"\n",
        "test_file_id  = \"1szb_UPNtiNHNMEtysM5K9WXcHD4zlZVF\"\n",
        "\n",
        "train_df = download_parquet_from_drive(train_file_id, \"train_df.parquet\")\n",
        "test_df  = download_parquet_from_drive(test_file_id, \"test_df.parquet\")\n",
        "\"\"\"\n"
      ],
      "metadata": {
        "colab": {
          "base_uri": "https://localhost:8080/",
          "height": 87
        },
        "id": "ydKEEzLdXl-7",
        "outputId": "f44bab7c-345a-4050-9cce-6bc8189c96ac"
      },
      "execution_count": null,
      "outputs": [
        {
          "output_type": "execute_result",
          "data": {
            "text/plain": [
              "'\\n!pip install -q gdown\\n\\nimport gdown\\n\\n\\ndef download_parquet_from_drive(file_id: str, output: str) -> pd.DataFrame:\\n\\n    url = f\"https://drive.google.com/uc?id={file_id}\"\\n    gdown.download(url, output, quiet=False)\\n    return pd.read_parquet(output)\\n\\ntrain_file_id = \"1TwzeFcAQwW0CjTXUkjCNvBIm91m9qWOM\"\\ntest_file_id  = \"1szb_UPNtiNHNMEtysM5K9WXcHD4zlZVF\"\\n\\ntrain_df = download_parquet_from_drive(train_file_id, \"train_df.parquet\")\\ntest_df  = download_parquet_from_drive(test_file_id, \"test_df.parquet\")\\n'"
            ],
            "application/vnd.google.colaboratory.intrinsic+json": {
              "type": "string"
            }
          },
          "metadata": {},
          "execution_count": 4
        }
      ]
    },
    {
      "cell_type": "code",
      "source": [
        "#@title 1.ModelRunner\n",
        "import pandas as pd\n",
        "from tqdm import tqdm\n",
        "from sklearn.compose import ColumnTransformer\n",
        "from sklearn.pipeline import Pipeline\n",
        "from sklearn.preprocessing import OneHotEncoder, StandardScaler\n",
        "\n",
        "class ModelRunner:\n",
        "    def __init__(self, feature_dict, model_cls, model_params=None,\n",
        "                 use_scaler=True, use_onehot=True):\n",
        "        self.feature_dict = feature_dict\n",
        "        self.model_cls = model_cls\n",
        "        self.model_params = model_params or {}\n",
        "        self.use_scaler = use_scaler\n",
        "        self.use_onehot = use_onehot\n",
        "        self.pipeline = self._build_pipeline()\n",
        "\n",
        "    def _build_pipeline(self):\n",
        "        transformers = []\n",
        "\n",
        "        if self.use_scaler and self.feature_dict[\"continuous_features\"]:\n",
        "            transformers.append((\"num\", StandardScaler(), self.feature_dict[\"continuous_features\"]))\n",
        "        elif self.feature_dict[\"continuous_features\"]:\n",
        "            transformers.append((\"num\", \"passthrough\", self.feature_dict[\"continuous_features\"]))\n",
        "\n",
        "        if self.use_onehot and self.feature_dict[\"categorical_features\"]:\n",
        "            transformers.append((\"cat\", OneHotEncoder(handle_unknown=\"ignore\"), self.feature_dict[\"categorical_features\"]))\n",
        "        elif self.feature_dict[\"categorical_features\"]:\n",
        "            transformers.append((\"cat\", \"passthrough\", self.feature_dict[\"categorical_features\"]))\n",
        "\n",
        "        if self.feature_dict[\"boolean_features\"]:\n",
        "            transformers.append((\"bool\", \"passthrough\", self.feature_dict[\"boolean_features\"]))\n",
        "\n",
        "        preprocessor = ColumnTransformer(transformers, remainder=\"drop\")\n",
        "        model = self.model_cls(**self.model_params)\n",
        "\n",
        "        return Pipeline(steps=[\n",
        "            (\"preprocessor\", preprocessor),\n",
        "            (\"regressor\", model)\n",
        "        ])\n",
        "\n",
        "    def fit(self, X, y):\n",
        "        self.pipeline.fit(X, y)\n",
        "\n",
        "    def predict(self, X):\n",
        "        return self.pipeline.predict(X)\n"
      ],
      "metadata": {
        "id": "EjQ2URKF9bRK"
      },
      "execution_count": null,
      "outputs": []
    },
    {
      "cell_type": "code",
      "source": [
        "from sklearn.linear_model import Lasso\n",
        "\n",
        "# Define model configs\n",
        "model_configs = {\n",
        "    \"Lasso\": {\n",
        "        \"cls\": Lasso,\n",
        "        \"params\": {\"alpha\": 0.1},   # set alpha manually (no CV here)\n",
        "        \"use_scaler\": True,\n",
        "        \"use_onehot\": True\n",
        "    },\n",
        "}\n",
        "\n",
        "# Pick model and initialize runner\n",
        "runner = ModelRunner(\n",
        "    feature_dict=feature_dict,\n",
        "    model_cls=model_configs[\"Lasso\"][\"cls\"],\n",
        "    model_params=model_configs[\"Lasso\"].get(\"params\", {}),\n",
        "    use_scaler=model_configs[\"Lasso\"].get(\"use_scaler\", True),\n",
        "    use_onehot=model_configs[\"Lasso\"].get(\"use_onehot\", True)\n",
        ")\n",
        "\n"
      ],
      "metadata": {
        "id": "C_RMboA1PO7p"
      },
      "execution_count": null,
      "outputs": []
    },
    {
      "cell_type": "code",
      "source": [
        "\n",
        "X = sample_train_df[feature_dict[\"continuous_features\"]\n",
        "                    + feature_dict[\"categorical_features\"]\n",
        "                    + feature_dict[\"boolean_features\"]]\n",
        "y = sample_train_df[\"energy_consumption\"]\n",
        "\n",
        "runner.fit(X, y)\n",
        "\n",
        "\n",
        "preds_df = runner.predict(sample_test_df[feature_dict[\"continuous_features\"] + feature_dict[\"categorical_features\"] + feature_dict[\"boolean_features\"]])\n"
      ],
      "metadata": {
        "id": "eXd1HjmVGR-i"
      },
      "execution_count": null,
      "outputs": []
    },
    {
      "cell_type": "code",
      "source": [
        "preds_df"
      ],
      "metadata": {
        "colab": {
          "base_uri": "https://localhost:8080/"
        },
        "id": "XaHGrSg0FArH",
        "outputId": "68cf7692-81a8-416a-8e45-fdaf66f080ee"
      },
      "execution_count": null,
      "outputs": [
        {
          "output_type": "execute_result",
          "data": {
            "text/plain": [
              "array([0.20105573, 0.21493031, 0.22712048, ..., 0.22079666, 0.23124103,\n",
              "       0.25479705])"
            ]
          },
          "metadata": {},
          "execution_count": 17
        }
      ]
    },
    {
      "cell_type": "code",
      "source": [
        "del model_configs, runner, X, y, preds_df"
      ],
      "metadata": {
        "id": "Dk6TfDGLWHe_"
      },
      "execution_count": null,
      "outputs": []
    },
    {
      "cell_type": "markdown",
      "source": [
        "## 2.Evaluate Function"
      ],
      "metadata": {
        "id": "GGAp7f1PGSYQ"
      }
    },
    {
      "cell_type": "code",
      "source": [
        "def run_model_for_customer(model_runner, model_name, lcl_id, train_df, test_df, feature_dict):\n",
        "    train_data = train_df[train_df[\"LCLid\"] == lcl_id]\n",
        "    test_data  = test_df[test_df[\"LCLid\"] == lcl_id]\n",
        "\n",
        "    X_train = train_data[\n",
        "        feature_dict[\"continuous_features\"]\n",
        "        + feature_dict[\"categorical_features\"]\n",
        "        + feature_dict[\"boolean_features\"]\n",
        "    ]\n",
        "    y_train = train_data[\"energy_consumption\"]\n",
        "\n",
        "    X_test = test_data[\n",
        "        feature_dict[\"continuous_features\"]\n",
        "        + feature_dict[\"categorical_features\"]\n",
        "        + feature_dict[\"boolean_features\"]\n",
        "    ]\n",
        "    y_test = test_data[\"energy_consumption\"]\n",
        "\n",
        "    # fit + predict\n",
        "    model_runner.fit(X_train, y_train)\n",
        "    y_pred = model_runner.predict(X_test)\n",
        "\n",
        "    # predictions\n",
        "    preds_df = pd.DataFrame({\n",
        "        \"LCLid\": lcl_id,\n",
        "        \"timestamp\": test_data[\"timestamp\"].values,\n",
        "        \"y_true\": y_test.values,\n",
        "        \"y_pred\": y_pred,\n",
        "        \"model\": model_name\n",
        "    })\n",
        "\n",
        "    # metrics\n",
        "    m = calculate_metrics(\n",
        "        y=y_test,\n",
        "        y_pred=pd.Series(y_pred, index=y_test.index),\n",
        "        name=model_name,\n",
        "        y_train=y_train\n",
        "    )\n",
        "    m[\"LCLid\"] = lcl_id\n",
        "    m[\"model\"] = model_name\n",
        "\n",
        "    return preds_df, pd.DataFrame([m])\n"
      ],
      "metadata": {
        "id": "kdQhdelIXDSX"
      },
      "execution_count": null,
      "outputs": []
    },
    {
      "cell_type": "code",
      "source": [
        "\n",
        "from lightgbm import LGBMRegressor\n",
        "\n",
        "model_configs = {\n",
        "    \"Lasso\": {\n",
        "        \"cls\": Lasso,\n",
        "        \"params\": {\"alpha\": 0.1},   # set alpha manually (no CV here)\n",
        "        \"use_scaler\": True,\n",
        "        \"use_onehot\": True\n",
        "    },\n",
        "    \"LightGBM\": {\n",
        "        \"cls\": LGBMRegressor,\n",
        "        \"params\": {\"n_estimators\": 200, \"learning_rate\": 0.05},\n",
        "        \"use_scaler\": False,\n",
        "        \"use_onehot\": True\n",
        "    }\n",
        "}\n",
        "\n",
        "\n",
        "runner = ModelRunner(\n",
        "    feature_dict=feature_dict,\n",
        "    model_cls = model_configs[\"LightGBM\"][\"cls\"],\n",
        "    model_params=model_configs[\"LightGBM\"].get(\"params\", {}),\n",
        "    use_scaler=model_configs[\"LightGBM\"].get(\"use_scaler\", True),\n",
        "    use_onehot=model_configs[\"LightGBM\"].get(\"use_onehot\", True)\n",
        ")\n",
        "\n",
        "\n",
        "preds_df, metrics_df = run_model_for_customer(\n",
        "          runner,\n",
        "          model_name = \"LightGBM\",\n",
        "          lcl_id = \"MAC000193\",\n",
        "          train_df = train_df,\n",
        "          test_df = test_df,\n",
        "          feature_dict = feature_dict)\n"
      ],
      "metadata": {
        "colab": {
          "base_uri": "https://localhost:8080/"
        },
        "id": "CydYBrUoEH-Q",
        "outputId": "f680536d-4e38-4a6f-eb54-110ba9b819eb"
      },
      "execution_count": null,
      "outputs": [
        {
          "output_type": "stream",
          "name": "stdout",
          "text": [
            "[LightGBM] [Info] Auto-choosing row-wise multi-threading, the overhead of testing was 0.007758 seconds.\n",
            "You can set `force_row_wise=true` to remove the overhead.\n",
            "And if memory is not enough, you can set `force_col_wise=true`.\n",
            "[LightGBM] [Info] Total Bins 10122\n",
            "[LightGBM] [Info] Number of data points in the train set: 34750, number of used features: 521\n",
            "[LightGBM] [Info] Start training from score 0.234064\n"
          ]
        },
        {
          "output_type": "stream",
          "name": "stderr",
          "text": [
            "/usr/local/lib/python3.12/dist-packages/sklearn/utils/validation.py:2739: UserWarning:\n",
            "\n",
            "X does not have valid feature names, but LGBMRegressor was fitted with feature names\n",
            "\n"
          ]
        }
      ]
    },
    {
      "cell_type": "code",
      "source": [
        "display( preds_df.head(3) )\n",
        "metrics_df"
      ],
      "metadata": {
        "colab": {
          "base_uri": "https://localhost:8080/",
          "height": 207
        },
        "id": "8wOnil1RFRVq",
        "outputId": "6320326b-c591-48e8-a4cf-1f8c8dfd103b"
      },
      "execution_count": null,
      "outputs": [
        {
          "output_type": "display_data",
          "data": {
            "text/plain": [
              "       LCLid           timestamp  y_true    y_pred     model\n",
              "0  MAC000193 2014-01-01 00:00:00   0.223  0.106294  LightGBM\n",
              "1  MAC000193 2014-01-01 00:30:00   0.274  0.099000  LightGBM\n",
              "2  MAC000193 2014-01-01 01:00:00   0.308  0.154841  LightGBM"
            ],
            "text/html": [
              "\n",
              "  <div id=\"df-b5957b37-c2bf-4bd1-9363-1636781c580c\" class=\"colab-df-container\">\n",
              "    <div>\n",
              "<style scoped>\n",
              "    .dataframe tbody tr th:only-of-type {\n",
              "        vertical-align: middle;\n",
              "    }\n",
              "\n",
              "    .dataframe tbody tr th {\n",
              "        vertical-align: top;\n",
              "    }\n",
              "\n",
              "    .dataframe thead th {\n",
              "        text-align: right;\n",
              "    }\n",
              "</style>\n",
              "<table border=\"1\" class=\"dataframe\">\n",
              "  <thead>\n",
              "    <tr style=\"text-align: right;\">\n",
              "      <th></th>\n",
              "      <th>LCLid</th>\n",
              "      <th>timestamp</th>\n",
              "      <th>y_true</th>\n",
              "      <th>y_pred</th>\n",
              "      <th>model</th>\n",
              "    </tr>\n",
              "  </thead>\n",
              "  <tbody>\n",
              "    <tr>\n",
              "      <th>0</th>\n",
              "      <td>MAC000193</td>\n",
              "      <td>2014-01-01 00:00:00</td>\n",
              "      <td>0.223</td>\n",
              "      <td>0.106294</td>\n",
              "      <td>LightGBM</td>\n",
              "    </tr>\n",
              "    <tr>\n",
              "      <th>1</th>\n",
              "      <td>MAC000193</td>\n",
              "      <td>2014-01-01 00:30:00</td>\n",
              "      <td>0.274</td>\n",
              "      <td>0.099000</td>\n",
              "      <td>LightGBM</td>\n",
              "    </tr>\n",
              "    <tr>\n",
              "      <th>2</th>\n",
              "      <td>MAC000193</td>\n",
              "      <td>2014-01-01 01:00:00</td>\n",
              "      <td>0.308</td>\n",
              "      <td>0.154841</td>\n",
              "      <td>LightGBM</td>\n",
              "    </tr>\n",
              "  </tbody>\n",
              "</table>\n",
              "</div>\n",
              "    <div class=\"colab-df-buttons\">\n",
              "\n",
              "  <div class=\"colab-df-container\">\n",
              "    <button class=\"colab-df-convert\" onclick=\"convertToInteractive('df-b5957b37-c2bf-4bd1-9363-1636781c580c')\"\n",
              "            title=\"Convert this dataframe to an interactive table.\"\n",
              "            style=\"display:none;\">\n",
              "\n",
              "  <svg xmlns=\"http://www.w3.org/2000/svg\" height=\"24px\" viewBox=\"0 -960 960 960\">\n",
              "    <path d=\"M120-120v-720h720v720H120Zm60-500h600v-160H180v160Zm220 220h160v-160H400v160Zm0 220h160v-160H400v160ZM180-400h160v-160H180v160Zm440 0h160v-160H620v160ZM180-180h160v-160H180v160Zm440 0h160v-160H620v160Z\"/>\n",
              "  </svg>\n",
              "    </button>\n",
              "\n",
              "  <style>\n",
              "    .colab-df-container {\n",
              "      display:flex;\n",
              "      gap: 12px;\n",
              "    }\n",
              "\n",
              "    .colab-df-convert {\n",
              "      background-color: #E8F0FE;\n",
              "      border: none;\n",
              "      border-radius: 50%;\n",
              "      cursor: pointer;\n",
              "      display: none;\n",
              "      fill: #1967D2;\n",
              "      height: 32px;\n",
              "      padding: 0 0 0 0;\n",
              "      width: 32px;\n",
              "    }\n",
              "\n",
              "    .colab-df-convert:hover {\n",
              "      background-color: #E2EBFA;\n",
              "      box-shadow: 0px 1px 2px rgba(60, 64, 67, 0.3), 0px 1px 3px 1px rgba(60, 64, 67, 0.15);\n",
              "      fill: #174EA6;\n",
              "    }\n",
              "\n",
              "    .colab-df-buttons div {\n",
              "      margin-bottom: 4px;\n",
              "    }\n",
              "\n",
              "    [theme=dark] .colab-df-convert {\n",
              "      background-color: #3B4455;\n",
              "      fill: #D2E3FC;\n",
              "    }\n",
              "\n",
              "    [theme=dark] .colab-df-convert:hover {\n",
              "      background-color: #434B5C;\n",
              "      box-shadow: 0px 1px 3px 1px rgba(0, 0, 0, 0.15);\n",
              "      filter: drop-shadow(0px 1px 2px rgba(0, 0, 0, 0.3));\n",
              "      fill: #FFFFFF;\n",
              "    }\n",
              "  </style>\n",
              "\n",
              "    <script>\n",
              "      const buttonEl =\n",
              "        document.querySelector('#df-b5957b37-c2bf-4bd1-9363-1636781c580c button.colab-df-convert');\n",
              "      buttonEl.style.display =\n",
              "        google.colab.kernel.accessAllowed ? 'block' : 'none';\n",
              "\n",
              "      async function convertToInteractive(key) {\n",
              "        const element = document.querySelector('#df-b5957b37-c2bf-4bd1-9363-1636781c580c');\n",
              "        const dataTable =\n",
              "          await google.colab.kernel.invokeFunction('convertToInteractive',\n",
              "                                                    [key], {});\n",
              "        if (!dataTable) return;\n",
              "\n",
              "        const docLinkHtml = 'Like what you see? Visit the ' +\n",
              "          '<a target=\"_blank\" href=https://colab.research.google.com/notebooks/data_table.ipynb>data table notebook</a>'\n",
              "          + ' to learn more about interactive tables.';\n",
              "        element.innerHTML = '';\n",
              "        dataTable['output_type'] = 'display_data';\n",
              "        await google.colab.output.renderOutput(dataTable, element);\n",
              "        const docLink = document.createElement('div');\n",
              "        docLink.innerHTML = docLinkHtml;\n",
              "        element.appendChild(docLink);\n",
              "      }\n",
              "    </script>\n",
              "  </div>\n",
              "\n",
              "\n",
              "    <div id=\"df-c146373d-3661-4cdb-8c41-ba0664a6a2b2\">\n",
              "      <button class=\"colab-df-quickchart\" onclick=\"quickchart('df-c146373d-3661-4cdb-8c41-ba0664a6a2b2')\"\n",
              "                title=\"Suggest charts\"\n",
              "                style=\"display:none;\">\n",
              "\n",
              "<svg xmlns=\"http://www.w3.org/2000/svg\" height=\"24px\"viewBox=\"0 0 24 24\"\n",
              "     width=\"24px\">\n",
              "    <g>\n",
              "        <path d=\"M19 3H5c-1.1 0-2 .9-2 2v14c0 1.1.9 2 2 2h14c1.1 0 2-.9 2-2V5c0-1.1-.9-2-2-2zM9 17H7v-7h2v7zm4 0h-2V7h2v10zm4 0h-2v-4h2v4z\"/>\n",
              "    </g>\n",
              "</svg>\n",
              "      </button>\n",
              "\n",
              "<style>\n",
              "  .colab-df-quickchart {\n",
              "      --bg-color: #E8F0FE;\n",
              "      --fill-color: #1967D2;\n",
              "      --hover-bg-color: #E2EBFA;\n",
              "      --hover-fill-color: #174EA6;\n",
              "      --disabled-fill-color: #AAA;\n",
              "      --disabled-bg-color: #DDD;\n",
              "  }\n",
              "\n",
              "  [theme=dark] .colab-df-quickchart {\n",
              "      --bg-color: #3B4455;\n",
              "      --fill-color: #D2E3FC;\n",
              "      --hover-bg-color: #434B5C;\n",
              "      --hover-fill-color: #FFFFFF;\n",
              "      --disabled-bg-color: #3B4455;\n",
              "      --disabled-fill-color: #666;\n",
              "  }\n",
              "\n",
              "  .colab-df-quickchart {\n",
              "    background-color: var(--bg-color);\n",
              "    border: none;\n",
              "    border-radius: 50%;\n",
              "    cursor: pointer;\n",
              "    display: none;\n",
              "    fill: var(--fill-color);\n",
              "    height: 32px;\n",
              "    padding: 0;\n",
              "    width: 32px;\n",
              "  }\n",
              "\n",
              "  .colab-df-quickchart:hover {\n",
              "    background-color: var(--hover-bg-color);\n",
              "    box-shadow: 0 1px 2px rgba(60, 64, 67, 0.3), 0 1px 3px 1px rgba(60, 64, 67, 0.15);\n",
              "    fill: var(--button-hover-fill-color);\n",
              "  }\n",
              "\n",
              "  .colab-df-quickchart-complete:disabled,\n",
              "  .colab-df-quickchart-complete:disabled:hover {\n",
              "    background-color: var(--disabled-bg-color);\n",
              "    fill: var(--disabled-fill-color);\n",
              "    box-shadow: none;\n",
              "  }\n",
              "\n",
              "  .colab-df-spinner {\n",
              "    border: 2px solid var(--fill-color);\n",
              "    border-color: transparent;\n",
              "    border-bottom-color: var(--fill-color);\n",
              "    animation:\n",
              "      spin 1s steps(1) infinite;\n",
              "  }\n",
              "\n",
              "  @keyframes spin {\n",
              "    0% {\n",
              "      border-color: transparent;\n",
              "      border-bottom-color: var(--fill-color);\n",
              "      border-left-color: var(--fill-color);\n",
              "    }\n",
              "    20% {\n",
              "      border-color: transparent;\n",
              "      border-left-color: var(--fill-color);\n",
              "      border-top-color: var(--fill-color);\n",
              "    }\n",
              "    30% {\n",
              "      border-color: transparent;\n",
              "      border-left-color: var(--fill-color);\n",
              "      border-top-color: var(--fill-color);\n",
              "      border-right-color: var(--fill-color);\n",
              "    }\n",
              "    40% {\n",
              "      border-color: transparent;\n",
              "      border-right-color: var(--fill-color);\n",
              "      border-top-color: var(--fill-color);\n",
              "    }\n",
              "    60% {\n",
              "      border-color: transparent;\n",
              "      border-right-color: var(--fill-color);\n",
              "    }\n",
              "    80% {\n",
              "      border-color: transparent;\n",
              "      border-right-color: var(--fill-color);\n",
              "      border-bottom-color: var(--fill-color);\n",
              "    }\n",
              "    90% {\n",
              "      border-color: transparent;\n",
              "      border-bottom-color: var(--fill-color);\n",
              "    }\n",
              "  }\n",
              "</style>\n",
              "\n",
              "      <script>\n",
              "        async function quickchart(key) {\n",
              "          const quickchartButtonEl =\n",
              "            document.querySelector('#' + key + ' button');\n",
              "          quickchartButtonEl.disabled = true;  // To prevent multiple clicks.\n",
              "          quickchartButtonEl.classList.add('colab-df-spinner');\n",
              "          try {\n",
              "            const charts = await google.colab.kernel.invokeFunction(\n",
              "                'suggestCharts', [key], {});\n",
              "          } catch (error) {\n",
              "            console.error('Error during call to suggestCharts:', error);\n",
              "          }\n",
              "          quickchartButtonEl.classList.remove('colab-df-spinner');\n",
              "          quickchartButtonEl.classList.add('colab-df-quickchart-complete');\n",
              "        }\n",
              "        (() => {\n",
              "          let quickchartButtonEl =\n",
              "            document.querySelector('#df-c146373d-3661-4cdb-8c41-ba0664a6a2b2 button');\n",
              "          quickchartButtonEl.style.display =\n",
              "            google.colab.kernel.accessAllowed ? 'block' : 'none';\n",
              "        })();\n",
              "      </script>\n",
              "    </div>\n",
              "\n",
              "    </div>\n",
              "  </div>\n"
            ],
            "application/vnd.google.colaboratory.intrinsic+json": {
              "type": "dataframe",
              "summary": "{\n  \"name\": \"metrics_df\",\n  \"rows\": 3,\n  \"fields\": [\n    {\n      \"column\": \"LCLid\",\n      \"properties\": {\n        \"dtype\": \"category\",\n        \"num_unique_values\": 1,\n        \"samples\": [\n          \"MAC000193\"\n        ],\n        \"semantic_type\": \"\",\n        \"description\": \"\"\n      }\n    },\n    {\n      \"column\": \"timestamp\",\n      \"properties\": {\n        \"dtype\": \"date\",\n        \"min\": \"2014-01-01 00:00:00\",\n        \"max\": \"2014-01-01 01:00:00\",\n        \"num_unique_values\": 3,\n        \"samples\": [\n          \"2014-01-01 00:00:00\"\n        ],\n        \"semantic_type\": \"\",\n        \"description\": \"\"\n      }\n    },\n    {\n      \"column\": \"y_true\",\n      \"properties\": {\n        \"dtype\": \"number\",\n        \"std\": 0.0427823951332009,\n        \"min\": 0.223,\n        \"max\": 0.308,\n        \"num_unique_values\": 3,\n        \"samples\": [\n          0.223\n        ],\n        \"semantic_type\": \"\",\n        \"description\": \"\"\n      }\n    },\n    {\n      \"column\": \"y_pred\",\n      \"properties\": {\n        \"dtype\": \"number\",\n        \"std\": 0.030354327996699484,\n        \"min\": 0.0989999144645704,\n        \"max\": 0.15484139596638605,\n        \"num_unique_values\": 3,\n        \"samples\": [\n          0.10629415788424362\n        ],\n        \"semantic_type\": \"\",\n        \"description\": \"\"\n      }\n    },\n    {\n      \"column\": \"model\",\n      \"properties\": {\n        \"dtype\": \"category\",\n        \"num_unique_values\": 1,\n        \"samples\": [\n          \"LightGBM\"\n        ],\n        \"semantic_type\": \"\",\n        \"description\": \"\"\n      }\n    }\n  ]\n}"
            }
          },
          "metadata": {}
        },
        {
          "output_type": "execute_result",
          "data": {
            "text/plain": [
              "  Algorithm    MAE   RMSE  WAPE   MASE  Forecast Bias(%)      LCLid     model\n",
              "0  LightGBM  0.151  0.261  0.43  1.176             3.489  MAC000193  LightGBM"
            ],
            "text/html": [
              "\n",
              "  <div id=\"df-e8f6854b-df69-4bf0-a80a-46ecbad787ed\" class=\"colab-df-container\">\n",
              "    <div>\n",
              "<style scoped>\n",
              "    .dataframe tbody tr th:only-of-type {\n",
              "        vertical-align: middle;\n",
              "    }\n",
              "\n",
              "    .dataframe tbody tr th {\n",
              "        vertical-align: top;\n",
              "    }\n",
              "\n",
              "    .dataframe thead th {\n",
              "        text-align: right;\n",
              "    }\n",
              "</style>\n",
              "<table border=\"1\" class=\"dataframe\">\n",
              "  <thead>\n",
              "    <tr style=\"text-align: right;\">\n",
              "      <th></th>\n",
              "      <th>Algorithm</th>\n",
              "      <th>MAE</th>\n",
              "      <th>RMSE</th>\n",
              "      <th>WAPE</th>\n",
              "      <th>MASE</th>\n",
              "      <th>Forecast Bias(%)</th>\n",
              "      <th>LCLid</th>\n",
              "      <th>model</th>\n",
              "    </tr>\n",
              "  </thead>\n",
              "  <tbody>\n",
              "    <tr>\n",
              "      <th>0</th>\n",
              "      <td>LightGBM</td>\n",
              "      <td>0.151</td>\n",
              "      <td>0.261</td>\n",
              "      <td>0.43</td>\n",
              "      <td>1.176</td>\n",
              "      <td>3.489</td>\n",
              "      <td>MAC000193</td>\n",
              "      <td>LightGBM</td>\n",
              "    </tr>\n",
              "  </tbody>\n",
              "</table>\n",
              "</div>\n",
              "    <div class=\"colab-df-buttons\">\n",
              "\n",
              "  <div class=\"colab-df-container\">\n",
              "    <button class=\"colab-df-convert\" onclick=\"convertToInteractive('df-e8f6854b-df69-4bf0-a80a-46ecbad787ed')\"\n",
              "            title=\"Convert this dataframe to an interactive table.\"\n",
              "            style=\"display:none;\">\n",
              "\n",
              "  <svg xmlns=\"http://www.w3.org/2000/svg\" height=\"24px\" viewBox=\"0 -960 960 960\">\n",
              "    <path d=\"M120-120v-720h720v720H120Zm60-500h600v-160H180v160Zm220 220h160v-160H400v160Zm0 220h160v-160H400v160ZM180-400h160v-160H180v160Zm440 0h160v-160H620v160ZM180-180h160v-160H180v160Zm440 0h160v-160H620v160Z\"/>\n",
              "  </svg>\n",
              "    </button>\n",
              "\n",
              "  <style>\n",
              "    .colab-df-container {\n",
              "      display:flex;\n",
              "      gap: 12px;\n",
              "    }\n",
              "\n",
              "    .colab-df-convert {\n",
              "      background-color: #E8F0FE;\n",
              "      border: none;\n",
              "      border-radius: 50%;\n",
              "      cursor: pointer;\n",
              "      display: none;\n",
              "      fill: #1967D2;\n",
              "      height: 32px;\n",
              "      padding: 0 0 0 0;\n",
              "      width: 32px;\n",
              "    }\n",
              "\n",
              "    .colab-df-convert:hover {\n",
              "      background-color: #E2EBFA;\n",
              "      box-shadow: 0px 1px 2px rgba(60, 64, 67, 0.3), 0px 1px 3px 1px rgba(60, 64, 67, 0.15);\n",
              "      fill: #174EA6;\n",
              "    }\n",
              "\n",
              "    .colab-df-buttons div {\n",
              "      margin-bottom: 4px;\n",
              "    }\n",
              "\n",
              "    [theme=dark] .colab-df-convert {\n",
              "      background-color: #3B4455;\n",
              "      fill: #D2E3FC;\n",
              "    }\n",
              "\n",
              "    [theme=dark] .colab-df-convert:hover {\n",
              "      background-color: #434B5C;\n",
              "      box-shadow: 0px 1px 3px 1px rgba(0, 0, 0, 0.15);\n",
              "      filter: drop-shadow(0px 1px 2px rgba(0, 0, 0, 0.3));\n",
              "      fill: #FFFFFF;\n",
              "    }\n",
              "  </style>\n",
              "\n",
              "    <script>\n",
              "      const buttonEl =\n",
              "        document.querySelector('#df-e8f6854b-df69-4bf0-a80a-46ecbad787ed button.colab-df-convert');\n",
              "      buttonEl.style.display =\n",
              "        google.colab.kernel.accessAllowed ? 'block' : 'none';\n",
              "\n",
              "      async function convertToInteractive(key) {\n",
              "        const element = document.querySelector('#df-e8f6854b-df69-4bf0-a80a-46ecbad787ed');\n",
              "        const dataTable =\n",
              "          await google.colab.kernel.invokeFunction('convertToInteractive',\n",
              "                                                    [key], {});\n",
              "        if (!dataTable) return;\n",
              "\n",
              "        const docLinkHtml = 'Like what you see? Visit the ' +\n",
              "          '<a target=\"_blank\" href=https://colab.research.google.com/notebooks/data_table.ipynb>data table notebook</a>'\n",
              "          + ' to learn more about interactive tables.';\n",
              "        element.innerHTML = '';\n",
              "        dataTable['output_type'] = 'display_data';\n",
              "        await google.colab.output.renderOutput(dataTable, element);\n",
              "        const docLink = document.createElement('div');\n",
              "        docLink.innerHTML = docLinkHtml;\n",
              "        element.appendChild(docLink);\n",
              "      }\n",
              "    </script>\n",
              "  </div>\n",
              "\n",
              "\n",
              "  <div id=\"id_7acba77b-19f0-4b9b-a1cf-fe22d3762fb4\">\n",
              "    <style>\n",
              "      .colab-df-generate {\n",
              "        background-color: #E8F0FE;\n",
              "        border: none;\n",
              "        border-radius: 50%;\n",
              "        cursor: pointer;\n",
              "        display: none;\n",
              "        fill: #1967D2;\n",
              "        height: 32px;\n",
              "        padding: 0 0 0 0;\n",
              "        width: 32px;\n",
              "      }\n",
              "\n",
              "      .colab-df-generate:hover {\n",
              "        background-color: #E2EBFA;\n",
              "        box-shadow: 0px 1px 2px rgba(60, 64, 67, 0.3), 0px 1px 3px 1px rgba(60, 64, 67, 0.15);\n",
              "        fill: #174EA6;\n",
              "      }\n",
              "\n",
              "      [theme=dark] .colab-df-generate {\n",
              "        background-color: #3B4455;\n",
              "        fill: #D2E3FC;\n",
              "      }\n",
              "\n",
              "      [theme=dark] .colab-df-generate:hover {\n",
              "        background-color: #434B5C;\n",
              "        box-shadow: 0px 1px 3px 1px rgba(0, 0, 0, 0.15);\n",
              "        filter: drop-shadow(0px 1px 2px rgba(0, 0, 0, 0.3));\n",
              "        fill: #FFFFFF;\n",
              "      }\n",
              "    </style>\n",
              "    <button class=\"colab-df-generate\" onclick=\"generateWithVariable('metrics_df')\"\n",
              "            title=\"Generate code using this dataframe.\"\n",
              "            style=\"display:none;\">\n",
              "\n",
              "  <svg xmlns=\"http://www.w3.org/2000/svg\" height=\"24px\"viewBox=\"0 0 24 24\"\n",
              "       width=\"24px\">\n",
              "    <path d=\"M7,19H8.4L18.45,9,17,7.55,7,17.6ZM5,21V16.75L18.45,3.32a2,2,0,0,1,2.83,0l1.4,1.43a1.91,1.91,0,0,1,.58,1.4,1.91,1.91,0,0,1-.58,1.4L9.25,21ZM18.45,9,17,7.55Zm-12,3A5.31,5.31,0,0,0,4.9,8.1,5.31,5.31,0,0,0,1,6.5,5.31,5.31,0,0,0,4.9,4.9,5.31,5.31,0,0,0,6.5,1,5.31,5.31,0,0,0,8.1,4.9,5.31,5.31,0,0,0,12,6.5,5.46,5.46,0,0,0,6.5,12Z\"/>\n",
              "  </svg>\n",
              "    </button>\n",
              "    <script>\n",
              "      (() => {\n",
              "      const buttonEl =\n",
              "        document.querySelector('#id_7acba77b-19f0-4b9b-a1cf-fe22d3762fb4 button.colab-df-generate');\n",
              "      buttonEl.style.display =\n",
              "        google.colab.kernel.accessAllowed ? 'block' : 'none';\n",
              "\n",
              "      buttonEl.onclick = () => {\n",
              "        google.colab.notebook.generateWithVariable('metrics_df');\n",
              "      }\n",
              "      })();\n",
              "    </script>\n",
              "  </div>\n",
              "\n",
              "    </div>\n",
              "  </div>\n"
            ],
            "application/vnd.google.colaboratory.intrinsic+json": {
              "type": "dataframe",
              "variable_name": "metrics_df",
              "summary": "{\n  \"name\": \"metrics_df\",\n  \"rows\": 1,\n  \"fields\": [\n    {\n      \"column\": \"Algorithm\",\n      \"properties\": {\n        \"dtype\": \"string\",\n        \"num_unique_values\": 1,\n        \"samples\": [\n          \"LightGBM\"\n        ],\n        \"semantic_type\": \"\",\n        \"description\": \"\"\n      }\n    },\n    {\n      \"column\": \"MAE\",\n      \"properties\": {\n        \"dtype\": \"number\",\n        \"std\": null,\n        \"min\": 0.151,\n        \"max\": 0.151,\n        \"num_unique_values\": 1,\n        \"samples\": [\n          0.151\n        ],\n        \"semantic_type\": \"\",\n        \"description\": \"\"\n      }\n    },\n    {\n      \"column\": \"RMSE\",\n      \"properties\": {\n        \"dtype\": \"number\",\n        \"std\": null,\n        \"min\": 0.261,\n        \"max\": 0.261,\n        \"num_unique_values\": 1,\n        \"samples\": [\n          0.261\n        ],\n        \"semantic_type\": \"\",\n        \"description\": \"\"\n      }\n    },\n    {\n      \"column\": \"WAPE\",\n      \"properties\": {\n        \"dtype\": \"number\",\n        \"std\": null,\n        \"min\": 0.43,\n        \"max\": 0.43,\n        \"num_unique_values\": 1,\n        \"samples\": [\n          0.43\n        ],\n        \"semantic_type\": \"\",\n        \"description\": \"\"\n      }\n    },\n    {\n      \"column\": \"MASE\",\n      \"properties\": {\n        \"dtype\": \"number\",\n        \"std\": null,\n        \"min\": 1.176,\n        \"max\": 1.176,\n        \"num_unique_values\": 1,\n        \"samples\": [\n          1.176\n        ],\n        \"semantic_type\": \"\",\n        \"description\": \"\"\n      }\n    },\n    {\n      \"column\": \"Forecast Bias(%)\",\n      \"properties\": {\n        \"dtype\": \"number\",\n        \"std\": null,\n        \"min\": 3.489,\n        \"max\": 3.489,\n        \"num_unique_values\": 1,\n        \"samples\": [\n          3.489\n        ],\n        \"semantic_type\": \"\",\n        \"description\": \"\"\n      }\n    },\n    {\n      \"column\": \"LCLid\",\n      \"properties\": {\n        \"dtype\": \"string\",\n        \"num_unique_values\": 1,\n        \"samples\": [\n          \"MAC000193\"\n        ],\n        \"semantic_type\": \"\",\n        \"description\": \"\"\n      }\n    },\n    {\n      \"column\": \"model\",\n      \"properties\": {\n        \"dtype\": \"string\",\n        \"num_unique_values\": 1,\n        \"samples\": [\n          \"LightGBM\"\n        ],\n        \"semantic_type\": \"\",\n        \"description\": \"\"\n      }\n    }\n  ]\n}"
            }
          },
          "metadata": {},
          "execution_count": 30
        }
      ]
    },
    {
      "cell_type": "markdown",
      "source": [
        "## 3.Loop Models and Data"
      ],
      "metadata": {
        "id": "iYFf5k5oG4BG"
      }
    },
    {
      "cell_type": "code",
      "source": [
        "\n",
        "from sklearn.linear_model import LassoCV\n",
        "from lightgbm import LGBMRegressor\n",
        "\n",
        "model_configs = [\n",
        "    {\"name\": \"LassoCV\", \"cls\": Lasso, \"params\": {}, \"use_scaler\": True, \"use_onehot\": True},\n",
        "    {\"name\": \"LightGBM\", \"cls\": LGBMRegressor, \"params\": {\"n_estimators\": 200, \"learning_rate\": 0.05}, \"use_scaler\": False, \"use_onehot\": True},\n",
        "]\n",
        "lcl_ids = sorted(train_df[\"LCLid\"].unique())\n",
        "\n",
        "all_preds = []\n",
        "all_metrics = []\n",
        "\n",
        "for config in model_configs:\n",
        "    runner = ModelRunner(\n",
        "        feature_dict=feature_dict,\n",
        "        model_cls=config[\"cls\"],\n",
        "        model_params=config.get(\"params\", {}),\n",
        "        use_scaler=config.get(\"use_scaler\", True),\n",
        "        use_onehot=config.get(\"use_onehot\", True)\n",
        "    )\n",
        "\n",
        "    model_name = config[\"name\"]\n",
        "\n",
        "    for lcl_id in tqdm(lcl_ids, desc=f\"Running {model_name}\"):\n",
        "        preds_df, metrics_df = run_model_for_customer(\n",
        "                  runner,\n",
        "                  model_name = model_name,\n",
        "                  lcl_id = lcl_id,\n",
        "                  train_df = train_df,\n",
        "                  test_df = test_df,\n",
        "                  feature_dict = feature_dict)\n",
        "\n",
        "        all_preds.append(preds_df)\n",
        "\n",
        "        metrics_df[\"LCLid\"] = lcl_id\n",
        "        metrics_df[\"model\"] = model_name\n",
        "        all_metrics.append( metrics_df)\n",
        "\n",
        "\n",
        "all_preds = pd.concat(all_preds, ignore_index=True)\n",
        "all_metrics = pd.concat(all_metrics, ignore_index=True)"
      ],
      "metadata": {
        "colab": {
          "base_uri": "https://localhost:8080/"
        },
        "collapsed": true,
        "id": "nHIR98o5ATAV",
        "outputId": "1ed165c9-058d-4ade-a767-2772c4bea859"
      },
      "execution_count": null,
      "outputs": [
        {
          "output_type": "stream",
          "name": "stderr",
          "text": [
            "Running LassoCV: 100%|██████████| 150/150 [01:10<00:00,  2.14it/s]\n",
            "Running LightGBM:   0%|          | 0/150 [00:00<?, ?it/s]"
          ]
        },
        {
          "output_type": "stream",
          "name": "stdout",
          "text": [
            "[LightGBM] [Info] Auto-choosing row-wise multi-threading, the overhead of testing was 0.005523 seconds.\n",
            "You can set `force_row_wise=true` to remove the overhead.\n",
            "And if memory is not enough, you can set `force_col_wise=true`.\n",
            "[LightGBM] [Info] Total Bins 10122\n",
            "[LightGBM] [Info] Number of data points in the train set: 34750, number of used features: 521\n",
            "[LightGBM] [Info] Start training from score 0.123107\n"
          ]
        },
        {
          "output_type": "stream",
          "name": "stderr",
          "text": [
            "/usr/local/lib/python3.12/dist-packages/sklearn/utils/validation.py:2739: UserWarning:\n",
            "\n",
            "X does not have valid feature names, but LGBMRegressor was fitted with feature names\n",
            "\n",
            "\rRunning LightGBM:   1%|          | 1/150 [00:01<03:53,  1.56s/it]"
          ]
        },
        {
          "output_type": "stream",
          "name": "stdout",
          "text": [
            "[LightGBM] [Info] Auto-choosing row-wise multi-threading, the overhead of testing was 0.004814 seconds.\n",
            "You can set `force_row_wise=true` to remove the overhead.\n",
            "And if memory is not enough, you can set `force_col_wise=true`.\n",
            "[LightGBM] [Info] Total Bins 10122\n",
            "[LightGBM] [Info] Number of data points in the train set: 34750, number of used features: 521\n",
            "[LightGBM] [Info] Start training from score 0.240958\n"
          ]
        },
        {
          "output_type": "stream",
          "name": "stderr",
          "text": [
            "/usr/local/lib/python3.12/dist-packages/sklearn/utils/validation.py:2739: UserWarning:\n",
            "\n",
            "X does not have valid feature names, but LGBMRegressor was fitted with feature names\n",
            "\n",
            "\rRunning LightGBM:   1%|▏         | 2/150 [00:03<03:43,  1.51s/it]"
          ]
        },
        {
          "output_type": "stream",
          "name": "stdout",
          "text": [
            "[LightGBM] [Info] Auto-choosing row-wise multi-threading, the overhead of testing was 0.005696 seconds.\n",
            "You can set `force_row_wise=true` to remove the overhead.\n",
            "And if memory is not enough, you can set `force_col_wise=true`.\n",
            "[LightGBM] [Info] Total Bins 10122\n",
            "[LightGBM] [Info] Number of data points in the train set: 34750, number of used features: 521\n",
            "[LightGBM] [Info] Start training from score 0.140718\n"
          ]
        },
        {
          "output_type": "stream",
          "name": "stderr",
          "text": [
            "/usr/local/lib/python3.12/dist-packages/sklearn/utils/validation.py:2739: UserWarning:\n",
            "\n",
            "X does not have valid feature names, but LGBMRegressor was fitted with feature names\n",
            "\n",
            "\rRunning LightGBM:   2%|▏         | 3/150 [00:04<03:41,  1.51s/it]"
          ]
        },
        {
          "output_type": "stream",
          "name": "stdout",
          "text": [
            "[LightGBM] [Info] Auto-choosing row-wise multi-threading, the overhead of testing was 0.006137 seconds.\n",
            "You can set `force_row_wise=true` to remove the overhead.\n",
            "And if memory is not enough, you can set `force_col_wise=true`.\n",
            "[LightGBM] [Info] Total Bins 10122\n",
            "[LightGBM] [Info] Number of data points in the train set: 34750, number of used features: 521\n",
            "[LightGBM] [Info] Start training from score 0.123137\n"
          ]
        },
        {
          "output_type": "stream",
          "name": "stderr",
          "text": [
            "/usr/local/lib/python3.12/dist-packages/sklearn/utils/validation.py:2739: UserWarning:\n",
            "\n",
            "X does not have valid feature names, but LGBMRegressor was fitted with feature names\n",
            "\n",
            "\rRunning LightGBM:   3%|▎         | 4/150 [00:06<03:43,  1.53s/it]"
          ]
        },
        {
          "output_type": "stream",
          "name": "stdout",
          "text": [
            "[LightGBM] [Info] Auto-choosing row-wise multi-threading, the overhead of testing was 0.004903 seconds.\n",
            "You can set `force_row_wise=true` to remove the overhead.\n",
            "And if memory is not enough, you can set `force_col_wise=true`.\n",
            "[LightGBM] [Info] Total Bins 10122\n",
            "[LightGBM] [Info] Number of data points in the train set: 34750, number of used features: 521\n",
            "[LightGBM] [Info] Start training from score 0.110167\n"
          ]
        },
        {
          "output_type": "stream",
          "name": "stderr",
          "text": [
            "/usr/local/lib/python3.12/dist-packages/sklearn/utils/validation.py:2739: UserWarning:\n",
            "\n",
            "X does not have valid feature names, but LGBMRegressor was fitted with feature names\n",
            "\n",
            "\rRunning LightGBM:   3%|▎         | 5/150 [00:07<03:40,  1.52s/it]"
          ]
        },
        {
          "output_type": "stream",
          "name": "stdout",
          "text": [
            "[LightGBM] [Info] Auto-choosing row-wise multi-threading, the overhead of testing was 0.004613 seconds.\n",
            "You can set `force_row_wise=true` to remove the overhead.\n",
            "And if memory is not enough, you can set `force_col_wise=true`.\n",
            "[LightGBM] [Info] Total Bins 10122\n",
            "[LightGBM] [Info] Number of data points in the train set: 34750, number of used features: 521\n",
            "[LightGBM] [Info] Start training from score 0.172473\n"
          ]
        },
        {
          "output_type": "stream",
          "name": "stderr",
          "text": [
            "/usr/local/lib/python3.12/dist-packages/sklearn/utils/validation.py:2739: UserWarning:\n",
            "\n",
            "X does not have valid feature names, but LGBMRegressor was fitted with feature names\n",
            "\n",
            "\rRunning LightGBM:   4%|▍         | 6/150 [00:09<03:32,  1.48s/it]"
          ]
        },
        {
          "output_type": "stream",
          "name": "stdout",
          "text": [
            "[LightGBM] [Info] Auto-choosing row-wise multi-threading, the overhead of testing was 0.004699 seconds.\n",
            "You can set `force_row_wise=true` to remove the overhead.\n",
            "And if memory is not enough, you can set `force_col_wise=true`.\n",
            "[LightGBM] [Info] Total Bins 10122\n",
            "[LightGBM] [Info] Number of data points in the train set: 34750, number of used features: 521\n",
            "[LightGBM] [Info] Start training from score 0.118541\n"
          ]
        },
        {
          "output_type": "stream",
          "name": "stderr",
          "text": [
            "/usr/local/lib/python3.12/dist-packages/sklearn/utils/validation.py:2739: UserWarning:\n",
            "\n",
            "X does not have valid feature names, but LGBMRegressor was fitted with feature names\n",
            "\n",
            "\rRunning LightGBM:   5%|▍         | 7/150 [00:10<03:33,  1.49s/it]"
          ]
        },
        {
          "output_type": "stream",
          "name": "stdout",
          "text": [
            "[LightGBM] [Info] Auto-choosing row-wise multi-threading, the overhead of testing was 0.005013 seconds.\n",
            "You can set `force_row_wise=true` to remove the overhead.\n",
            "And if memory is not enough, you can set `force_col_wise=true`.\n",
            "[LightGBM] [Info] Total Bins 10122\n",
            "[LightGBM] [Info] Number of data points in the train set: 34750, number of used features: 521\n",
            "[LightGBM] [Info] Start training from score 0.175950\n"
          ]
        },
        {
          "output_type": "stream",
          "name": "stderr",
          "text": [
            "/usr/local/lib/python3.12/dist-packages/sklearn/utils/validation.py:2739: UserWarning:\n",
            "\n",
            "X does not have valid feature names, but LGBMRegressor was fitted with feature names\n",
            "\n",
            "\rRunning LightGBM:   5%|▌         | 8/150 [00:12<03:36,  1.52s/it]"
          ]
        },
        {
          "output_type": "stream",
          "name": "stdout",
          "text": [
            "[LightGBM] [Info] Auto-choosing row-wise multi-threading, the overhead of testing was 0.006198 seconds.\n",
            "You can set `force_row_wise=true` to remove the overhead.\n",
            "And if memory is not enough, you can set `force_col_wise=true`.\n",
            "[LightGBM] [Info] Total Bins 10122\n",
            "[LightGBM] [Info] Number of data points in the train set: 34750, number of used features: 521\n",
            "[LightGBM] [Info] Start training from score 0.234064\n"
          ]
        },
        {
          "output_type": "stream",
          "name": "stderr",
          "text": [
            "/usr/local/lib/python3.12/dist-packages/sklearn/utils/validation.py:2739: UserWarning:\n",
            "\n",
            "X does not have valid feature names, but LGBMRegressor was fitted with feature names\n",
            "\n",
            "\rRunning LightGBM:   6%|▌         | 9/150 [00:13<03:35,  1.53s/it]"
          ]
        },
        {
          "output_type": "stream",
          "name": "stdout",
          "text": [
            "[LightGBM] [Info] Auto-choosing row-wise multi-threading, the overhead of testing was 0.005586 seconds.\n",
            "You can set `force_row_wise=true` to remove the overhead.\n",
            "And if memory is not enough, you can set `force_col_wise=true`.\n",
            "[LightGBM] [Info] Total Bins 10122\n",
            "[LightGBM] [Info] Number of data points in the train set: 34750, number of used features: 521\n",
            "[LightGBM] [Info] Start training from score 0.184619\n"
          ]
        },
        {
          "output_type": "stream",
          "name": "stderr",
          "text": [
            "/usr/local/lib/python3.12/dist-packages/sklearn/utils/validation.py:2739: UserWarning:\n",
            "\n",
            "X does not have valid feature names, but LGBMRegressor was fitted with feature names\n",
            "\n",
            "\rRunning LightGBM:   7%|▋         | 10/150 [00:15<03:29,  1.50s/it]"
          ]
        },
        {
          "output_type": "stream",
          "name": "stdout",
          "text": [
            "[LightGBM] [Info] Auto-choosing row-wise multi-threading, the overhead of testing was 0.006888 seconds.\n",
            "You can set `force_row_wise=true` to remove the overhead.\n",
            "And if memory is not enough, you can set `force_col_wise=true`.\n",
            "[LightGBM] [Info] Total Bins 10122\n",
            "[LightGBM] [Info] Number of data points in the train set: 34750, number of used features: 521\n",
            "[LightGBM] [Info] Start training from score 0.314622\n"
          ]
        },
        {
          "output_type": "stream",
          "name": "stderr",
          "text": [
            "/usr/local/lib/python3.12/dist-packages/sklearn/utils/validation.py:2739: UserWarning:\n",
            "\n",
            "X does not have valid feature names, but LGBMRegressor was fitted with feature names\n",
            "\n",
            "\rRunning LightGBM:   7%|▋         | 11/150 [00:16<03:35,  1.55s/it]"
          ]
        },
        {
          "output_type": "stream",
          "name": "stdout",
          "text": [
            "[LightGBM] [Info] Auto-choosing row-wise multi-threading, the overhead of testing was 0.004992 seconds.\n",
            "You can set `force_row_wise=true` to remove the overhead.\n",
            "And if memory is not enough, you can set `force_col_wise=true`.\n",
            "[LightGBM] [Info] Total Bins 10122\n",
            "[LightGBM] [Info] Number of data points in the train set: 34750, number of used features: 521\n",
            "[LightGBM] [Info] Start training from score 0.061026\n"
          ]
        },
        {
          "output_type": "stream",
          "name": "stderr",
          "text": [
            "/usr/local/lib/python3.12/dist-packages/sklearn/utils/validation.py:2739: UserWarning:\n",
            "\n",
            "X does not have valid feature names, but LGBMRegressor was fitted with feature names\n",
            "\n",
            "\rRunning LightGBM:   8%|▊         | 12/150 [00:18<03:34,  1.56s/it]"
          ]
        },
        {
          "output_type": "stream",
          "name": "stdout",
          "text": [
            "[LightGBM] [Info] Auto-choosing row-wise multi-threading, the overhead of testing was 0.006833 seconds.\n",
            "You can set `force_row_wise=true` to remove the overhead.\n",
            "And if memory is not enough, you can set `force_col_wise=true`.\n",
            "[LightGBM] [Info] Total Bins 10119\n",
            "[LightGBM] [Info] Number of data points in the train set: 31774, number of used features: 520\n",
            "[LightGBM] [Info] Start training from score 0.141133\n"
          ]
        },
        {
          "output_type": "stream",
          "name": "stderr",
          "text": [
            "/usr/local/lib/python3.12/dist-packages/sklearn/utils/validation.py:2739: UserWarning:\n",
            "\n",
            "X does not have valid feature names, but LGBMRegressor was fitted with feature names\n",
            "\n",
            "\rRunning LightGBM:   9%|▊         | 13/150 [00:19<03:25,  1.50s/it]"
          ]
        },
        {
          "output_type": "stream",
          "name": "stdout",
          "text": [
            "[LightGBM] [Info] Auto-choosing row-wise multi-threading, the overhead of testing was 0.006584 seconds.\n",
            "You can set `force_row_wise=true` to remove the overhead.\n",
            "And if memory is not enough, you can set `force_col_wise=true`.\n",
            "[LightGBM] [Info] Total Bins 10119\n",
            "[LightGBM] [Info] Number of data points in the train set: 31582, number of used features: 520\n",
            "[LightGBM] [Info] Start training from score 0.745145\n"
          ]
        },
        {
          "output_type": "stream",
          "name": "stderr",
          "text": [
            "/usr/local/lib/python3.12/dist-packages/sklearn/utils/validation.py:2739: UserWarning:\n",
            "\n",
            "X does not have valid feature names, but LGBMRegressor was fitted with feature names\n",
            "\n",
            "\rRunning LightGBM:   9%|▉         | 14/150 [00:21<03:25,  1.51s/it]"
          ]
        },
        {
          "output_type": "stream",
          "name": "stdout",
          "text": [
            "[LightGBM] [Info] Auto-choosing row-wise multi-threading, the overhead of testing was 0.006331 seconds.\n",
            "You can set `force_row_wise=true` to remove the overhead.\n",
            "And if memory is not enough, you can set `force_col_wise=true`.\n",
            "[LightGBM] [Info] Total Bins 10115\n",
            "[LightGBM] [Info] Number of data points in the train set: 29806, number of used features: 519\n",
            "[LightGBM] [Info] Start training from score 0.158225\n"
          ]
        },
        {
          "output_type": "stream",
          "name": "stderr",
          "text": [
            "/usr/local/lib/python3.12/dist-packages/sklearn/utils/validation.py:2739: UserWarning:\n",
            "\n",
            "X does not have valid feature names, but LGBMRegressor was fitted with feature names\n",
            "\n",
            "\rRunning LightGBM:  10%|█         | 15/150 [00:22<03:21,  1.50s/it]"
          ]
        },
        {
          "output_type": "stream",
          "name": "stdout",
          "text": [
            "[LightGBM] [Info] Auto-choosing row-wise multi-threading, the overhead of testing was 0.006541 seconds.\n",
            "You can set `force_row_wise=true` to remove the overhead.\n",
            "And if memory is not enough, you can set `force_col_wise=true`.\n",
            "[LightGBM] [Info] Total Bins 10115\n",
            "[LightGBM] [Info] Number of data points in the train set: 29806, number of used features: 519\n",
            "[LightGBM] [Info] Start training from score 0.048950\n"
          ]
        },
        {
          "output_type": "stream",
          "name": "stderr",
          "text": [
            "/usr/local/lib/python3.12/dist-packages/sklearn/utils/validation.py:2739: UserWarning:\n",
            "\n",
            "X does not have valid feature names, but LGBMRegressor was fitted with feature names\n",
            "\n",
            "\rRunning LightGBM:  11%|█         | 16/150 [00:24<03:17,  1.48s/it]"
          ]
        },
        {
          "output_type": "stream",
          "name": "stdout",
          "text": [
            "[LightGBM] [Info] Auto-choosing row-wise multi-threading, the overhead of testing was 0.006303 seconds.\n",
            "You can set `force_row_wise=true` to remove the overhead.\n",
            "And if memory is not enough, you can set `force_col_wise=true`.\n",
            "[LightGBM] [Info] Total Bins 10115\n",
            "[LightGBM] [Info] Number of data points in the train set: 29758, number of used features: 519\n",
            "[LightGBM] [Info] Start training from score 0.224489\n"
          ]
        },
        {
          "output_type": "stream",
          "name": "stderr",
          "text": [
            "/usr/local/lib/python3.12/dist-packages/sklearn/utils/validation.py:2739: UserWarning:\n",
            "\n",
            "X does not have valid feature names, but LGBMRegressor was fitted with feature names\n",
            "\n",
            "\rRunning LightGBM:  11%|█▏        | 17/150 [00:25<03:17,  1.49s/it]"
          ]
        },
        {
          "output_type": "stream",
          "name": "stdout",
          "text": [
            "[LightGBM] [Info] Auto-choosing row-wise multi-threading, the overhead of testing was 0.006038 seconds.\n",
            "You can set `force_row_wise=true` to remove the overhead.\n",
            "And if memory is not enough, you can set `force_col_wise=true`.\n",
            "[LightGBM] [Info] Total Bins 10115\n",
            "[LightGBM] [Info] Number of data points in the train set: 29710, number of used features: 519\n",
            "[LightGBM] [Info] Start training from score 0.111417\n"
          ]
        },
        {
          "output_type": "stream",
          "name": "stderr",
          "text": [
            "/usr/local/lib/python3.12/dist-packages/sklearn/utils/validation.py:2739: UserWarning:\n",
            "\n",
            "X does not have valid feature names, but LGBMRegressor was fitted with feature names\n",
            "\n",
            "\rRunning LightGBM:  12%|█▏        | 18/150 [00:27<03:14,  1.47s/it]"
          ]
        },
        {
          "output_type": "stream",
          "name": "stdout",
          "text": [
            "[LightGBM] [Info] Auto-choosing row-wise multi-threading, the overhead of testing was 0.008457 seconds.\n",
            "You can set `force_row_wise=true` to remove the overhead.\n",
            "And if memory is not enough, you can set `force_col_wise=true`.\n",
            "[LightGBM] [Info] Total Bins 10115\n",
            "[LightGBM] [Info] Number of data points in the train set: 29518, number of used features: 519\n",
            "[LightGBM] [Info] Start training from score 0.171473\n"
          ]
        },
        {
          "output_type": "stream",
          "name": "stderr",
          "text": [
            "/usr/local/lib/python3.12/dist-packages/sklearn/utils/validation.py:2739: UserWarning:\n",
            "\n",
            "X does not have valid feature names, but LGBMRegressor was fitted with feature names\n",
            "\n",
            "\rRunning LightGBM:  13%|█▎        | 19/150 [00:28<03:09,  1.45s/it]"
          ]
        },
        {
          "output_type": "stream",
          "name": "stdout",
          "text": [
            "[LightGBM] [Info] Auto-choosing row-wise multi-threading, the overhead of testing was 0.006260 seconds.\n",
            "You can set `force_row_wise=true` to remove the overhead.\n",
            "And if memory is not enough, you can set `force_col_wise=true`.\n",
            "[LightGBM] [Info] Total Bins 10115\n",
            "[LightGBM] [Info] Number of data points in the train set: 29470, number of used features: 519\n",
            "[LightGBM] [Info] Start training from score 0.270872\n"
          ]
        },
        {
          "output_type": "stream",
          "name": "stderr",
          "text": [
            "/usr/local/lib/python3.12/dist-packages/sklearn/utils/validation.py:2739: UserWarning:\n",
            "\n",
            "X does not have valid feature names, but LGBMRegressor was fitted with feature names\n",
            "\n",
            "\rRunning LightGBM:  13%|█▎        | 20/150 [00:29<03:07,  1.44s/it]"
          ]
        },
        {
          "output_type": "stream",
          "name": "stdout",
          "text": [
            "[LightGBM] [Info] Auto-choosing row-wise multi-threading, the overhead of testing was 0.006497 seconds.\n",
            "You can set `force_row_wise=true` to remove the overhead.\n",
            "And if memory is not enough, you can set `force_col_wise=true`.\n",
            "[LightGBM] [Info] Total Bins 10115\n",
            "[LightGBM] [Info] Number of data points in the train set: 29422, number of used features: 519\n",
            "[LightGBM] [Info] Start training from score 0.053576\n"
          ]
        },
        {
          "output_type": "stream",
          "name": "stderr",
          "text": [
            "/usr/local/lib/python3.12/dist-packages/sklearn/utils/validation.py:2739: UserWarning:\n",
            "\n",
            "X does not have valid feature names, but LGBMRegressor was fitted with feature names\n",
            "\n",
            "\rRunning LightGBM:  14%|█▍        | 21/150 [00:31<03:01,  1.40s/it]"
          ]
        },
        {
          "output_type": "stream",
          "name": "stdout",
          "text": [
            "[LightGBM] [Info] Auto-choosing row-wise multi-threading, the overhead of testing was 0.008098 seconds.\n",
            "You can set `force_row_wise=true` to remove the overhead.\n",
            "And if memory is not enough, you can set `force_col_wise=true`.\n",
            "[LightGBM] [Info] Total Bins 10115\n",
            "[LightGBM] [Info] Number of data points in the train set: 29422, number of used features: 519\n",
            "[LightGBM] [Info] Start training from score 0.050401\n"
          ]
        },
        {
          "output_type": "stream",
          "name": "stderr",
          "text": [
            "/usr/local/lib/python3.12/dist-packages/sklearn/utils/validation.py:2739: UserWarning:\n",
            "\n",
            "X does not have valid feature names, but LGBMRegressor was fitted with feature names\n",
            "\n",
            "\rRunning LightGBM:  15%|█▍        | 22/150 [00:32<03:03,  1.43s/it]"
          ]
        },
        {
          "output_type": "stream",
          "name": "stdout",
          "text": [
            "[LightGBM] [Info] Auto-choosing row-wise multi-threading, the overhead of testing was 0.006305 seconds.\n",
            "You can set `force_row_wise=true` to remove the overhead.\n",
            "And if memory is not enough, you can set `force_col_wise=true`.\n",
            "[LightGBM] [Info] Total Bins 10115\n",
            "[LightGBM] [Info] Number of data points in the train set: 29422, number of used features: 519\n",
            "[LightGBM] [Info] Start training from score 0.237649\n"
          ]
        },
        {
          "output_type": "stream",
          "name": "stderr",
          "text": [
            "/usr/local/lib/python3.12/dist-packages/sklearn/utils/validation.py:2739: UserWarning:\n",
            "\n",
            "X does not have valid feature names, but LGBMRegressor was fitted with feature names\n",
            "\n",
            "\rRunning LightGBM:  15%|█▌        | 23/150 [00:34<03:05,  1.46s/it]"
          ]
        },
        {
          "output_type": "stream",
          "name": "stdout",
          "text": [
            "[LightGBM] [Info] Auto-choosing row-wise multi-threading, the overhead of testing was 0.008630 seconds.\n",
            "You can set `force_row_wise=true` to remove the overhead.\n",
            "And if memory is not enough, you can set `force_col_wise=true`.\n",
            "[LightGBM] [Info] Total Bins 10115\n",
            "[LightGBM] [Info] Number of data points in the train set: 29182, number of used features: 519\n",
            "[LightGBM] [Info] Start training from score 0.089346\n"
          ]
        },
        {
          "output_type": "stream",
          "name": "stderr",
          "text": [
            "/usr/local/lib/python3.12/dist-packages/sklearn/utils/validation.py:2739: UserWarning:\n",
            "\n",
            "X does not have valid feature names, but LGBMRegressor was fitted with feature names\n",
            "\n",
            "\rRunning LightGBM:  16%|█▌        | 24/150 [00:35<03:06,  1.48s/it]"
          ]
        },
        {
          "output_type": "stream",
          "name": "stdout",
          "text": [
            "[LightGBM] [Info] Auto-choosing row-wise multi-threading, the overhead of testing was 0.006623 seconds.\n",
            "You can set `force_row_wise=true` to remove the overhead.\n",
            "And if memory is not enough, you can set `force_col_wise=true`.\n",
            "[LightGBM] [Info] Total Bins 10116\n",
            "[LightGBM] [Info] Number of data points in the train set: 29086, number of used features: 519\n",
            "[LightGBM] [Info] Start training from score 0.383389\n"
          ]
        },
        {
          "output_type": "stream",
          "name": "stderr",
          "text": [
            "/usr/local/lib/python3.12/dist-packages/sklearn/utils/validation.py:2739: UserWarning:\n",
            "\n",
            "X does not have valid feature names, but LGBMRegressor was fitted with feature names\n",
            "\n",
            "\rRunning LightGBM:  17%|█▋        | 25/150 [00:37<03:10,  1.52s/it]"
          ]
        },
        {
          "output_type": "stream",
          "name": "stdout",
          "text": [
            "[LightGBM] [Info] Auto-choosing row-wise multi-threading, the overhead of testing was 0.005957 seconds.\n",
            "You can set `force_row_wise=true` to remove the overhead.\n",
            "And if memory is not enough, you can set `force_col_wise=true`.\n",
            "[LightGBM] [Info] Total Bins 10116\n",
            "[LightGBM] [Info] Number of data points in the train set: 29086, number of used features: 519\n",
            "[LightGBM] [Info] Start training from score 0.136088\n"
          ]
        },
        {
          "output_type": "stream",
          "name": "stderr",
          "text": [
            "/usr/local/lib/python3.12/dist-packages/sklearn/utils/validation.py:2739: UserWarning:\n",
            "\n",
            "X does not have valid feature names, but LGBMRegressor was fitted with feature names\n",
            "\n",
            "\rRunning LightGBM:  17%|█▋        | 26/150 [00:38<03:10,  1.53s/it]"
          ]
        },
        {
          "output_type": "stream",
          "name": "stdout",
          "text": [
            "[LightGBM] [Info] Auto-choosing row-wise multi-threading, the overhead of testing was 0.008299 seconds.\n",
            "You can set `force_row_wise=true` to remove the overhead.\n",
            "And if memory is not enough, you can set `force_col_wise=true`.\n",
            "[LightGBM] [Info] Total Bins 10116\n",
            "[LightGBM] [Info] Number of data points in the train set: 29086, number of used features: 519\n",
            "[LightGBM] [Info] Start training from score 0.110337\n"
          ]
        },
        {
          "output_type": "stream",
          "name": "stderr",
          "text": [
            "/usr/local/lib/python3.12/dist-packages/sklearn/utils/validation.py:2739: UserWarning:\n",
            "\n",
            "X does not have valid feature names, but LGBMRegressor was fitted with feature names\n",
            "\n",
            "\rRunning LightGBM:  18%|█▊        | 27/150 [00:40<03:06,  1.52s/it]"
          ]
        },
        {
          "output_type": "stream",
          "name": "stdout",
          "text": [
            "[LightGBM] [Info] Auto-choosing row-wise multi-threading, the overhead of testing was 0.008013 seconds.\n",
            "You can set `force_row_wise=true` to remove the overhead.\n",
            "And if memory is not enough, you can set `force_col_wise=true`.\n",
            "[LightGBM] [Info] Total Bins 10116\n",
            "[LightGBM] [Info] Number of data points in the train set: 29086, number of used features: 519\n",
            "[LightGBM] [Info] Start training from score 0.142194\n"
          ]
        },
        {
          "output_type": "stream",
          "name": "stderr",
          "text": [
            "/usr/local/lib/python3.12/dist-packages/sklearn/utils/validation.py:2739: UserWarning:\n",
            "\n",
            "X does not have valid feature names, but LGBMRegressor was fitted with feature names\n",
            "\n",
            "\rRunning LightGBM:  19%|█▊        | 28/150 [00:41<03:03,  1.51s/it]"
          ]
        },
        {
          "output_type": "stream",
          "name": "stdout",
          "text": [
            "[LightGBM] [Info] Auto-choosing row-wise multi-threading, the overhead of testing was 0.006171 seconds.\n",
            "You can set `force_row_wise=true` to remove the overhead.\n",
            "And if memory is not enough, you can set `force_col_wise=true`.\n",
            "[LightGBM] [Info] Total Bins 10114\n",
            "[LightGBM] [Info] Number of data points in the train set: 28894, number of used features: 518\n",
            "[LightGBM] [Info] Start training from score 0.093801\n"
          ]
        },
        {
          "output_type": "stream",
          "name": "stderr",
          "text": [
            "/usr/local/lib/python3.12/dist-packages/sklearn/utils/validation.py:2739: UserWarning:\n",
            "\n",
            "X does not have valid feature names, but LGBMRegressor was fitted with feature names\n",
            "\n",
            "\rRunning LightGBM:  19%|█▉        | 29/150 [00:43<02:51,  1.42s/it]"
          ]
        },
        {
          "output_type": "stream",
          "name": "stdout",
          "text": [
            "[LightGBM] [Info] Auto-choosing row-wise multi-threading, the overhead of testing was 0.005926 seconds.\n",
            "You can set `force_row_wise=true` to remove the overhead.\n",
            "And if memory is not enough, you can set `force_col_wise=true`.\n",
            "[LightGBM] [Info] Total Bins 10114\n",
            "[LightGBM] [Info] Number of data points in the train set: 28894, number of used features: 518\n",
            "[LightGBM] [Info] Start training from score 0.267639\n"
          ]
        },
        {
          "output_type": "stream",
          "name": "stderr",
          "text": [
            "/usr/local/lib/python3.12/dist-packages/sklearn/utils/validation.py:2739: UserWarning:\n",
            "\n",
            "X does not have valid feature names, but LGBMRegressor was fitted with feature names\n",
            "\n",
            "\rRunning LightGBM:  20%|██        | 30/150 [00:44<02:49,  1.41s/it]"
          ]
        },
        {
          "output_type": "stream",
          "name": "stdout",
          "text": [
            "[LightGBM] [Info] Auto-choosing row-wise multi-threading, the overhead of testing was 0.006481 seconds.\n",
            "You can set `force_row_wise=true` to remove the overhead.\n",
            "And if memory is not enough, you can set `force_col_wise=true`.\n",
            "[LightGBM] [Info] Total Bins 10113\n",
            "[LightGBM] [Info] Number of data points in the train set: 28846, number of used features: 518\n",
            "[LightGBM] [Info] Start training from score 0.620874\n"
          ]
        },
        {
          "output_type": "stream",
          "name": "stderr",
          "text": [
            "/usr/local/lib/python3.12/dist-packages/sklearn/utils/validation.py:2739: UserWarning:\n",
            "\n",
            "X does not have valid feature names, but LGBMRegressor was fitted with feature names\n",
            "\n",
            "\rRunning LightGBM:  21%|██        | 31/150 [00:45<02:48,  1.41s/it]"
          ]
        },
        {
          "output_type": "stream",
          "name": "stdout",
          "text": [
            "[LightGBM] [Info] Auto-choosing row-wise multi-threading, the overhead of testing was 0.005851 seconds.\n",
            "You can set `force_row_wise=true` to remove the overhead.\n",
            "And if memory is not enough, you can set `force_col_wise=true`.\n",
            "[LightGBM] [Info] Total Bins 10113\n",
            "[LightGBM] [Info] Number of data points in the train set: 28846, number of used features: 518\n",
            "[LightGBM] [Info] Start training from score 0.080210\n"
          ]
        },
        {
          "output_type": "stream",
          "name": "stderr",
          "text": [
            "/usr/local/lib/python3.12/dist-packages/sklearn/utils/validation.py:2739: UserWarning:\n",
            "\n",
            "X does not have valid feature names, but LGBMRegressor was fitted with feature names\n",
            "\n",
            "\rRunning LightGBM:  21%|██▏       | 32/150 [00:47<02:50,  1.44s/it]"
          ]
        },
        {
          "output_type": "stream",
          "name": "stdout",
          "text": [
            "[LightGBM] [Info] Auto-choosing row-wise multi-threading, the overhead of testing was 0.006325 seconds.\n",
            "You can set `force_row_wise=true` to remove the overhead.\n",
            "And if memory is not enough, you can set `force_col_wise=true`.\n",
            "[LightGBM] [Info] Total Bins 10054\n",
            "[LightGBM] [Info] Number of data points in the train set: 28510, number of used features: 518\n",
            "[LightGBM] [Info] Start training from score 0.037489\n"
          ]
        },
        {
          "output_type": "stream",
          "name": "stderr",
          "text": [
            "/usr/local/lib/python3.12/dist-packages/sklearn/utils/validation.py:2739: UserWarning:\n",
            "\n",
            "X does not have valid feature names, but LGBMRegressor was fitted with feature names\n",
            "\n",
            "\rRunning LightGBM:  22%|██▏       | 33/150 [00:48<02:44,  1.40s/it]"
          ]
        },
        {
          "output_type": "stream",
          "name": "stdout",
          "text": [
            "[LightGBM] [Info] Auto-choosing row-wise multi-threading, the overhead of testing was 0.006014 seconds.\n",
            "You can set `force_row_wise=true` to remove the overhead.\n",
            "And if memory is not enough, you can set `force_col_wise=true`.\n",
            "[LightGBM] [Info] Total Bins 10115\n",
            "[LightGBM] [Info] Number of data points in the train set: 28270, number of used features: 518\n",
            "[LightGBM] [Info] Start training from score 0.158056\n"
          ]
        },
        {
          "output_type": "stream",
          "name": "stderr",
          "text": [
            "/usr/local/lib/python3.12/dist-packages/sklearn/utils/validation.py:2739: UserWarning:\n",
            "\n",
            "X does not have valid feature names, but LGBMRegressor was fitted with feature names\n",
            "\n",
            "\rRunning LightGBM:  23%|██▎       | 34/150 [00:50<02:37,  1.36s/it]"
          ]
        },
        {
          "output_type": "stream",
          "name": "stdout",
          "text": [
            "[LightGBM] [Info] Auto-choosing row-wise multi-threading, the overhead of testing was 0.008660 seconds.\n",
            "You can set `force_row_wise=true` to remove the overhead.\n",
            "And if memory is not enough, you can set `force_col_wise=true`.\n",
            "[LightGBM] [Info] Total Bins 10115\n",
            "[LightGBM] [Info] Number of data points in the train set: 28270, number of used features: 518\n",
            "[LightGBM] [Info] Start training from score 0.192135\n"
          ]
        },
        {
          "output_type": "stream",
          "name": "stderr",
          "text": [
            "/usr/local/lib/python3.12/dist-packages/sklearn/utils/validation.py:2739: UserWarning:\n",
            "\n",
            "X does not have valid feature names, but LGBMRegressor was fitted with feature names\n",
            "\n",
            "\rRunning LightGBM:  23%|██▎       | 35/150 [00:51<02:35,  1.35s/it]"
          ]
        },
        {
          "output_type": "stream",
          "name": "stdout",
          "text": [
            "[LightGBM] [Info] Auto-choosing row-wise multi-threading, the overhead of testing was 0.005948 seconds.\n",
            "You can set `force_row_wise=true` to remove the overhead.\n",
            "And if memory is not enough, you can set `force_col_wise=true`.\n",
            "[LightGBM] [Info] Total Bins 10115\n",
            "[LightGBM] [Info] Number of data points in the train set: 28270, number of used features: 518\n",
            "[LightGBM] [Info] Start training from score 0.227404\n"
          ]
        },
        {
          "output_type": "stream",
          "name": "stderr",
          "text": [
            "/usr/local/lib/python3.12/dist-packages/sklearn/utils/validation.py:2739: UserWarning:\n",
            "\n",
            "X does not have valid feature names, but LGBMRegressor was fitted with feature names\n",
            "\n",
            "\rRunning LightGBM:  24%|██▍       | 36/150 [00:52<02:26,  1.28s/it]"
          ]
        },
        {
          "output_type": "stream",
          "name": "stdout",
          "text": [
            "[LightGBM] [Info] Auto-choosing row-wise multi-threading, the overhead of testing was 0.006019 seconds.\n",
            "You can set `force_row_wise=true` to remove the overhead.\n",
            "And if memory is not enough, you can set `force_col_wise=true`.\n",
            "[LightGBM] [Info] Total Bins 9705\n",
            "[LightGBM] [Info] Number of data points in the train set: 28270, number of used features: 518\n",
            "[LightGBM] [Info] Start training from score 0.028969\n"
          ]
        },
        {
          "output_type": "stream",
          "name": "stderr",
          "text": [
            "/usr/local/lib/python3.12/dist-packages/sklearn/utils/validation.py:2739: UserWarning:\n",
            "\n",
            "X does not have valid feature names, but LGBMRegressor was fitted with feature names\n",
            "\n",
            "\rRunning LightGBM:  25%|██▍       | 37/150 [00:53<02:23,  1.27s/it]"
          ]
        },
        {
          "output_type": "stream",
          "name": "stdout",
          "text": [
            "[LightGBM] [Info] Auto-choosing row-wise multi-threading, the overhead of testing was 0.005906 seconds.\n",
            "You can set `force_row_wise=true` to remove the overhead.\n",
            "And if memory is not enough, you can set `force_col_wise=true`.\n",
            "[LightGBM] [Info] Total Bins 10115\n",
            "[LightGBM] [Info] Number of data points in the train set: 28270, number of used features: 518\n",
            "[LightGBM] [Info] Start training from score 0.187617\n"
          ]
        },
        {
          "output_type": "stream",
          "name": "stderr",
          "text": [
            "/usr/local/lib/python3.12/dist-packages/sklearn/utils/validation.py:2739: UserWarning:\n",
            "\n",
            "X does not have valid feature names, but LGBMRegressor was fitted with feature names\n",
            "\n",
            "\rRunning LightGBM:  25%|██▌       | 38/150 [00:54<02:20,  1.26s/it]"
          ]
        },
        {
          "output_type": "stream",
          "name": "stdout",
          "text": [
            "[LightGBM] [Info] Auto-choosing row-wise multi-threading, the overhead of testing was 0.005464 seconds.\n",
            "You can set `force_row_wise=true` to remove the overhead.\n",
            "And if memory is not enough, you can set `force_col_wise=true`.\n",
            "[LightGBM] [Info] Total Bins 10115\n",
            "[LightGBM] [Info] Number of data points in the train set: 28126, number of used features: 518\n",
            "[LightGBM] [Info] Start training from score 0.215009\n"
          ]
        },
        {
          "output_type": "stream",
          "name": "stderr",
          "text": [
            "/usr/local/lib/python3.12/dist-packages/sklearn/utils/validation.py:2739: UserWarning:\n",
            "\n",
            "X does not have valid feature names, but LGBMRegressor was fitted with feature names\n",
            "\n",
            "\rRunning LightGBM:  26%|██▌       | 39/150 [00:56<02:22,  1.28s/it]"
          ]
        },
        {
          "output_type": "stream",
          "name": "stdout",
          "text": [
            "[LightGBM] [Info] Auto-choosing row-wise multi-threading, the overhead of testing was 0.006085 seconds.\n",
            "You can set `force_row_wise=true` to remove the overhead.\n",
            "And if memory is not enough, you can set `force_col_wise=true`.\n",
            "[LightGBM] [Info] Total Bins 10115\n",
            "[LightGBM] [Info] Number of data points in the train set: 28078, number of used features: 518\n",
            "[LightGBM] [Info] Start training from score 0.131264\n"
          ]
        },
        {
          "output_type": "stream",
          "name": "stderr",
          "text": [
            "/usr/local/lib/python3.12/dist-packages/sklearn/utils/validation.py:2739: UserWarning:\n",
            "\n",
            "X does not have valid feature names, but LGBMRegressor was fitted with feature names\n",
            "\n",
            "\rRunning LightGBM:  27%|██▋       | 40/150 [00:57<02:19,  1.27s/it]"
          ]
        },
        {
          "output_type": "stream",
          "name": "stdout",
          "text": [
            "[LightGBM] [Info] Auto-choosing row-wise multi-threading, the overhead of testing was 0.005943 seconds.\n",
            "You can set `force_row_wise=true` to remove the overhead.\n",
            "And if memory is not enough, you can set `force_col_wise=true`.\n",
            "[LightGBM] [Info] Total Bins 10115\n",
            "[LightGBM] [Info] Number of data points in the train set: 27934, number of used features: 518\n",
            "[LightGBM] [Info] Start training from score 0.130972\n"
          ]
        },
        {
          "output_type": "stream",
          "name": "stderr",
          "text": [
            "/usr/local/lib/python3.12/dist-packages/sklearn/utils/validation.py:2739: UserWarning:\n",
            "\n",
            "X does not have valid feature names, but LGBMRegressor was fitted with feature names\n",
            "\n",
            "\rRunning LightGBM:  27%|██▋       | 41/150 [00:58<02:16,  1.25s/it]"
          ]
        },
        {
          "output_type": "stream",
          "name": "stdout",
          "text": [
            "[LightGBM] [Info] Auto-choosing row-wise multi-threading, the overhead of testing was 0.005783 seconds.\n",
            "You can set `force_row_wise=true` to remove the overhead.\n",
            "And if memory is not enough, you can set `force_col_wise=true`.\n",
            "[LightGBM] [Info] Total Bins 10115\n",
            "[LightGBM] [Info] Number of data points in the train set: 27886, number of used features: 518\n",
            "[LightGBM] [Info] Start training from score 0.114186\n"
          ]
        },
        {
          "output_type": "stream",
          "name": "stderr",
          "text": [
            "/usr/local/lib/python3.12/dist-packages/sklearn/utils/validation.py:2739: UserWarning:\n",
            "\n",
            "X does not have valid feature names, but LGBMRegressor was fitted with feature names\n",
            "\n",
            "\rRunning LightGBM:  28%|██▊       | 42/150 [01:00<02:16,  1.26s/it]"
          ]
        },
        {
          "output_type": "stream",
          "name": "stdout",
          "text": [
            "[LightGBM] [Info] Auto-choosing row-wise multi-threading, the overhead of testing was 0.006269 seconds.\n",
            "You can set `force_row_wise=true` to remove the overhead.\n",
            "And if memory is not enough, you can set `force_col_wise=true`.\n",
            "[LightGBM] [Info] Total Bins 10115\n",
            "[LightGBM] [Info] Number of data points in the train set: 27886, number of used features: 518\n",
            "[LightGBM] [Info] Start training from score 0.224434\n"
          ]
        },
        {
          "output_type": "stream",
          "name": "stderr",
          "text": [
            "/usr/local/lib/python3.12/dist-packages/sklearn/utils/validation.py:2739: UserWarning:\n",
            "\n",
            "X does not have valid feature names, but LGBMRegressor was fitted with feature names\n",
            "\n",
            "\rRunning LightGBM:  29%|██▊       | 43/150 [01:01<02:19,  1.30s/it]"
          ]
        },
        {
          "output_type": "stream",
          "name": "stdout",
          "text": [
            "[LightGBM] [Info] Auto-choosing row-wise multi-threading, the overhead of testing was 0.007985 seconds.\n",
            "You can set `force_row_wise=true` to remove the overhead.\n",
            "And if memory is not enough, you can set `force_col_wise=true`.\n",
            "[LightGBM] [Info] Total Bins 10115\n",
            "[LightGBM] [Info] Number of data points in the train set: 27886, number of used features: 518\n",
            "[LightGBM] [Info] Start training from score 0.207128\n"
          ]
        },
        {
          "output_type": "stream",
          "name": "stderr",
          "text": [
            "/usr/local/lib/python3.12/dist-packages/sklearn/utils/validation.py:2739: UserWarning:\n",
            "\n",
            "X does not have valid feature names, but LGBMRegressor was fitted with feature names\n",
            "\n",
            "\rRunning LightGBM:  29%|██▉       | 44/150 [01:02<02:23,  1.35s/it]"
          ]
        },
        {
          "output_type": "stream",
          "name": "stdout",
          "text": [
            "[LightGBM] [Info] Auto-choosing row-wise multi-threading, the overhead of testing was 0.005982 seconds.\n",
            "You can set `force_row_wise=true` to remove the overhead.\n",
            "And if memory is not enough, you can set `force_col_wise=true`.\n",
            "[LightGBM] [Info] Total Bins 10115\n",
            "[LightGBM] [Info] Number of data points in the train set: 27742, number of used features: 518\n",
            "[LightGBM] [Info] Start training from score 0.101215\n"
          ]
        },
        {
          "output_type": "stream",
          "name": "stderr",
          "text": [
            "/usr/local/lib/python3.12/dist-packages/sklearn/utils/validation.py:2739: UserWarning:\n",
            "\n",
            "X does not have valid feature names, but LGBMRegressor was fitted with feature names\n",
            "\n",
            "\rRunning LightGBM:  30%|███       | 45/150 [01:04<02:20,  1.34s/it]"
          ]
        },
        {
          "output_type": "stream",
          "name": "stdout",
          "text": [
            "[LightGBM] [Info] Auto-choosing row-wise multi-threading, the overhead of testing was 0.006085 seconds.\n",
            "You can set `force_row_wise=true` to remove the overhead.\n",
            "And if memory is not enough, you can set `force_col_wise=true`.\n",
            "[LightGBM] [Info] Total Bins 10115\n",
            "[LightGBM] [Info] Number of data points in the train set: 27694, number of used features: 518\n",
            "[LightGBM] [Info] Start training from score 0.184817\n"
          ]
        },
        {
          "output_type": "stream",
          "name": "stderr",
          "text": [
            "/usr/local/lib/python3.12/dist-packages/sklearn/utils/validation.py:2739: UserWarning:\n",
            "\n",
            "X does not have valid feature names, but LGBMRegressor was fitted with feature names\n",
            "\n",
            "\rRunning LightGBM:  31%|███       | 46/150 [01:05<02:18,  1.34s/it]"
          ]
        },
        {
          "output_type": "stream",
          "name": "stdout",
          "text": [
            "[LightGBM] [Info] Auto-choosing row-wise multi-threading, the overhead of testing was 0.006514 seconds.\n",
            "You can set `force_row_wise=true` to remove the overhead.\n",
            "And if memory is not enough, you can set `force_col_wise=true`.\n",
            "[LightGBM] [Info] Total Bins 10114\n",
            "[LightGBM] [Info] Number of data points in the train set: 27550, number of used features: 518\n",
            "[LightGBM] [Info] Start training from score 0.420987\n"
          ]
        },
        {
          "output_type": "stream",
          "name": "stderr",
          "text": [
            "/usr/local/lib/python3.12/dist-packages/sklearn/utils/validation.py:2739: UserWarning:\n",
            "\n",
            "X does not have valid feature names, but LGBMRegressor was fitted with feature names\n",
            "\n",
            "\rRunning LightGBM:  31%|███▏      | 47/150 [01:06<02:16,  1.33s/it]"
          ]
        },
        {
          "output_type": "stream",
          "name": "stdout",
          "text": [
            "[LightGBM] [Info] Auto-choosing row-wise multi-threading, the overhead of testing was 0.005919 seconds.\n",
            "You can set `force_row_wise=true` to remove the overhead.\n",
            "And if memory is not enough, you can set `force_col_wise=true`.\n",
            "[LightGBM] [Info] Total Bins 10114\n",
            "[LightGBM] [Info] Number of data points in the train set: 27406, number of used features: 518\n",
            "[LightGBM] [Info] Start training from score 0.197844\n"
          ]
        },
        {
          "output_type": "stream",
          "name": "stderr",
          "text": [
            "/usr/local/lib/python3.12/dist-packages/sklearn/utils/validation.py:2739: UserWarning:\n",
            "\n",
            "X does not have valid feature names, but LGBMRegressor was fitted with feature names\n",
            "\n",
            "\rRunning LightGBM:  32%|███▏      | 48/150 [01:08<02:18,  1.35s/it]"
          ]
        },
        {
          "output_type": "stream",
          "name": "stdout",
          "text": [
            "[LightGBM] [Info] Auto-choosing row-wise multi-threading, the overhead of testing was 0.007750 seconds.\n",
            "You can set `force_row_wise=true` to remove the overhead.\n",
            "And if memory is not enough, you can set `force_col_wise=true`.\n",
            "[LightGBM] [Info] Total Bins 10114\n",
            "[LightGBM] [Info] Number of data points in the train set: 27166, number of used features: 518\n",
            "[LightGBM] [Info] Start training from score 0.139008\n"
          ]
        },
        {
          "output_type": "stream",
          "name": "stderr",
          "text": [
            "/usr/local/lib/python3.12/dist-packages/sklearn/utils/validation.py:2739: UserWarning:\n",
            "\n",
            "X does not have valid feature names, but LGBMRegressor was fitted with feature names\n",
            "\n",
            "\rRunning LightGBM:  33%|███▎      | 49/150 [01:09<02:14,  1.33s/it]"
          ]
        },
        {
          "output_type": "stream",
          "name": "stdout",
          "text": [
            "[LightGBM] [Info] Auto-choosing row-wise multi-threading, the overhead of testing was 0.006174 seconds.\n",
            "You can set `force_row_wise=true` to remove the overhead.\n",
            "And if memory is not enough, you can set `force_col_wise=true`.\n",
            "[LightGBM] [Info] Total Bins 10114\n",
            "[LightGBM] [Info] Number of data points in the train set: 27166, number of used features: 518\n",
            "[LightGBM] [Info] Start training from score 0.113380\n"
          ]
        },
        {
          "output_type": "stream",
          "name": "stderr",
          "text": [
            "/usr/local/lib/python3.12/dist-packages/sklearn/utils/validation.py:2739: UserWarning:\n",
            "\n",
            "X does not have valid feature names, but LGBMRegressor was fitted with feature names\n",
            "\n",
            "\rRunning LightGBM:  33%|███▎      | 50/150 [01:10<02:11,  1.31s/it]"
          ]
        },
        {
          "output_type": "stream",
          "name": "stdout",
          "text": [
            "[LightGBM] [Info] Auto-choosing row-wise multi-threading, the overhead of testing was 0.005462 seconds.\n",
            "You can set `force_row_wise=true` to remove the overhead.\n",
            "And if memory is not enough, you can set `force_col_wise=true`.\n",
            "[LightGBM] [Info] Total Bins 10114\n",
            "[LightGBM] [Info] Number of data points in the train set: 27118, number of used features: 518\n",
            "[LightGBM] [Info] Start training from score 0.061312\n"
          ]
        },
        {
          "output_type": "stream",
          "name": "stderr",
          "text": [
            "/usr/local/lib/python3.12/dist-packages/sklearn/utils/validation.py:2739: UserWarning:\n",
            "\n",
            "X does not have valid feature names, but LGBMRegressor was fitted with feature names\n",
            "\n",
            "\rRunning LightGBM:  34%|███▍      | 51/150 [01:11<02:06,  1.28s/it]"
          ]
        },
        {
          "output_type": "stream",
          "name": "stdout",
          "text": [
            "[LightGBM] [Info] Auto-choosing row-wise multi-threading, the overhead of testing was 0.005317 seconds.\n",
            "You can set `force_row_wise=true` to remove the overhead.\n",
            "And if memory is not enough, you can set `force_col_wise=true`.\n",
            "[LightGBM] [Info] Total Bins 10114\n",
            "[LightGBM] [Info] Number of data points in the train set: 27070, number of used features: 518\n",
            "[LightGBM] [Info] Start training from score 0.088722\n"
          ]
        },
        {
          "output_type": "stream",
          "name": "stderr",
          "text": [
            "/usr/local/lib/python3.12/dist-packages/sklearn/utils/validation.py:2739: UserWarning:\n",
            "\n",
            "X does not have valid feature names, but LGBMRegressor was fitted with feature names\n",
            "\n",
            "\rRunning LightGBM:  35%|███▍      | 52/150 [01:13<02:12,  1.36s/it]"
          ]
        },
        {
          "output_type": "stream",
          "name": "stdout",
          "text": [
            "[LightGBM] [Info] Auto-choosing row-wise multi-threading, the overhead of testing was 0.007751 seconds.\n",
            "You can set `force_row_wise=true` to remove the overhead.\n",
            "And if memory is not enough, you can set `force_col_wise=true`.\n",
            "[LightGBM] [Info] Total Bins 10114\n",
            "[LightGBM] [Info] Number of data points in the train set: 27022, number of used features: 518\n",
            "[LightGBM] [Info] Start training from score 0.082889\n"
          ]
        },
        {
          "output_type": "stream",
          "name": "stderr",
          "text": [
            "/usr/local/lib/python3.12/dist-packages/sklearn/utils/validation.py:2739: UserWarning:\n",
            "\n",
            "X does not have valid feature names, but LGBMRegressor was fitted with feature names\n",
            "\n",
            "\rRunning LightGBM:  35%|███▌      | 53/150 [01:14<02:08,  1.32s/it]"
          ]
        },
        {
          "output_type": "stream",
          "name": "stdout",
          "text": [
            "[LightGBM] [Info] Auto-choosing row-wise multi-threading, the overhead of testing was 0.005867 seconds.\n",
            "You can set `force_row_wise=true` to remove the overhead.\n",
            "And if memory is not enough, you can set `force_col_wise=true`.\n",
            "[LightGBM] [Info] Total Bins 10114\n",
            "[LightGBM] [Info] Number of data points in the train set: 27022, number of used features: 518\n",
            "[LightGBM] [Info] Start training from score 0.219438\n"
          ]
        },
        {
          "output_type": "stream",
          "name": "stderr",
          "text": [
            "/usr/local/lib/python3.12/dist-packages/sklearn/utils/validation.py:2739: UserWarning:\n",
            "\n",
            "X does not have valid feature names, but LGBMRegressor was fitted with feature names\n",
            "\n",
            "\rRunning LightGBM:  36%|███▌      | 54/150 [01:16<02:08,  1.33s/it]"
          ]
        },
        {
          "output_type": "stream",
          "name": "stdout",
          "text": [
            "[LightGBM] [Info] Auto-choosing row-wise multi-threading, the overhead of testing was 0.005589 seconds.\n",
            "You can set `force_row_wise=true` to remove the overhead.\n",
            "And if memory is not enough, you can set `force_col_wise=true`.\n",
            "[LightGBM] [Info] Total Bins 10114\n",
            "[LightGBM] [Info] Number of data points in the train set: 26926, number of used features: 518\n",
            "[LightGBM] [Info] Start training from score 0.055889\n"
          ]
        },
        {
          "output_type": "stream",
          "name": "stderr",
          "text": [
            "/usr/local/lib/python3.12/dist-packages/sklearn/utils/validation.py:2739: UserWarning:\n",
            "\n",
            "X does not have valid feature names, but LGBMRegressor was fitted with feature names\n",
            "\n",
            "\rRunning LightGBM:  37%|███▋      | 55/150 [01:17<02:05,  1.32s/it]"
          ]
        },
        {
          "output_type": "stream",
          "name": "stdout",
          "text": [
            "[LightGBM] [Info] Auto-choosing row-wise multi-threading, the overhead of testing was 0.005654 seconds.\n",
            "You can set `force_row_wise=true` to remove the overhead.\n",
            "And if memory is not enough, you can set `force_col_wise=true`.\n",
            "[LightGBM] [Info] Total Bins 10114\n",
            "[LightGBM] [Info] Number of data points in the train set: 26878, number of used features: 518\n",
            "[LightGBM] [Info] Start training from score 0.168201\n"
          ]
        },
        {
          "output_type": "stream",
          "name": "stderr",
          "text": [
            "/usr/local/lib/python3.12/dist-packages/sklearn/utils/validation.py:2739: UserWarning:\n",
            "\n",
            "X does not have valid feature names, but LGBMRegressor was fitted with feature names\n",
            "\n",
            "\rRunning LightGBM:  37%|███▋      | 56/150 [01:18<02:01,  1.29s/it]"
          ]
        },
        {
          "output_type": "stream",
          "name": "stdout",
          "text": [
            "[LightGBM] [Info] Auto-choosing row-wise multi-threading, the overhead of testing was 0.005808 seconds.\n",
            "You can set `force_row_wise=true` to remove the overhead.\n",
            "And if memory is not enough, you can set `force_col_wise=true`.\n",
            "[LightGBM] [Info] Total Bins 10114\n",
            "[LightGBM] [Info] Number of data points in the train set: 26878, number of used features: 518\n",
            "[LightGBM] [Info] Start training from score 0.124742\n"
          ]
        },
        {
          "output_type": "stream",
          "name": "stderr",
          "text": [
            "/usr/local/lib/python3.12/dist-packages/sklearn/utils/validation.py:2739: UserWarning:\n",
            "\n",
            "X does not have valid feature names, but LGBMRegressor was fitted with feature names\n",
            "\n",
            "\rRunning LightGBM:  38%|███▊      | 57/150 [01:19<01:58,  1.27s/it]"
          ]
        },
        {
          "output_type": "stream",
          "name": "stdout",
          "text": [
            "[LightGBM] [Info] Auto-choosing row-wise multi-threading, the overhead of testing was 0.006003 seconds.\n",
            "You can set `force_row_wise=true` to remove the overhead.\n",
            "And if memory is not enough, you can set `force_col_wise=true`.\n",
            "[LightGBM] [Info] Total Bins 10114\n",
            "[LightGBM] [Info] Number of data points in the train set: 26686, number of used features: 518\n",
            "[LightGBM] [Info] Start training from score 0.096232\n"
          ]
        },
        {
          "output_type": "stream",
          "name": "stderr",
          "text": [
            "/usr/local/lib/python3.12/dist-packages/sklearn/utils/validation.py:2739: UserWarning:\n",
            "\n",
            "X does not have valid feature names, but LGBMRegressor was fitted with feature names\n",
            "\n",
            "\rRunning LightGBM:  39%|███▊      | 58/150 [01:21<02:00,  1.31s/it]"
          ]
        },
        {
          "output_type": "stream",
          "name": "stdout",
          "text": [
            "[LightGBM] [Info] Auto-choosing row-wise multi-threading, the overhead of testing was 0.005631 seconds.\n",
            "You can set `force_row_wise=true` to remove the overhead.\n",
            "And if memory is not enough, you can set `force_col_wise=true`.\n",
            "[LightGBM] [Info] Total Bins 10114\n",
            "[LightGBM] [Info] Number of data points in the train set: 26638, number of used features: 518\n",
            "[LightGBM] [Info] Start training from score 0.189379\n"
          ]
        },
        {
          "output_type": "stream",
          "name": "stderr",
          "text": [
            "/usr/local/lib/python3.12/dist-packages/sklearn/utils/validation.py:2739: UserWarning:\n",
            "\n",
            "X does not have valid feature names, but LGBMRegressor was fitted with feature names\n",
            "\n",
            "\rRunning LightGBM:  39%|███▉      | 59/150 [01:22<01:56,  1.28s/it]"
          ]
        },
        {
          "output_type": "stream",
          "name": "stdout",
          "text": [
            "[LightGBM] [Info] Auto-choosing row-wise multi-threading, the overhead of testing was 0.006236 seconds.\n",
            "You can set `force_row_wise=true` to remove the overhead.\n",
            "And if memory is not enough, you can set `force_col_wise=true`.\n",
            "[LightGBM] [Info] Total Bins 10114\n",
            "[LightGBM] [Info] Number of data points in the train set: 26542, number of used features: 518\n",
            "[LightGBM] [Info] Start training from score 0.380552\n"
          ]
        },
        {
          "output_type": "stream",
          "name": "stderr",
          "text": [
            "/usr/local/lib/python3.12/dist-packages/sklearn/utils/validation.py:2739: UserWarning:\n",
            "\n",
            "X does not have valid feature names, but LGBMRegressor was fitted with feature names\n",
            "\n",
            "\rRunning LightGBM:  40%|████      | 60/150 [01:23<01:58,  1.31s/it]"
          ]
        },
        {
          "output_type": "stream",
          "name": "stdout",
          "text": [
            "[LightGBM] [Info] Auto-choosing row-wise multi-threading, the overhead of testing was 0.007648 seconds.\n",
            "You can set `force_row_wise=true` to remove the overhead.\n",
            "And if memory is not enough, you can set `force_col_wise=true`.\n",
            "[LightGBM] [Info] Total Bins 10113\n",
            "[LightGBM] [Info] Number of data points in the train set: 26350, number of used features: 518\n",
            "[LightGBM] [Info] Start training from score 0.214028\n"
          ]
        },
        {
          "output_type": "stream",
          "name": "stderr",
          "text": [
            "/usr/local/lib/python3.12/dist-packages/sklearn/utils/validation.py:2739: UserWarning:\n",
            "\n",
            "X does not have valid feature names, but LGBMRegressor was fitted with feature names\n",
            "\n",
            "\rRunning LightGBM:  41%|████      | 61/150 [01:25<02:00,  1.36s/it]"
          ]
        },
        {
          "output_type": "stream",
          "name": "stdout",
          "text": [
            "[LightGBM] [Info] Auto-choosing row-wise multi-threading, the overhead of testing was 0.006051 seconds.\n",
            "You can set `force_row_wise=true` to remove the overhead.\n",
            "And if memory is not enough, you can set `force_col_wise=true`.\n",
            "[LightGBM] [Info] Total Bins 10113\n",
            "[LightGBM] [Info] Number of data points in the train set: 26062, number of used features: 518\n",
            "[LightGBM] [Info] Start training from score 0.096801\n"
          ]
        },
        {
          "output_type": "stream",
          "name": "stderr",
          "text": [
            "/usr/local/lib/python3.12/dist-packages/sklearn/utils/validation.py:2739: UserWarning:\n",
            "\n",
            "X does not have valid feature names, but LGBMRegressor was fitted with feature names\n",
            "\n",
            "\rRunning LightGBM:  41%|████▏     | 62/150 [01:26<02:02,  1.39s/it]"
          ]
        },
        {
          "output_type": "stream",
          "name": "stdout",
          "text": [
            "[LightGBM] [Info] Auto-choosing row-wise multi-threading, the overhead of testing was 0.005274 seconds.\n",
            "You can set `force_row_wise=true` to remove the overhead.\n",
            "And if memory is not enough, you can set `force_col_wise=true`.\n",
            "[LightGBM] [Info] Total Bins 10113\n",
            "[LightGBM] [Info] Number of data points in the train set: 26014, number of used features: 518\n",
            "[LightGBM] [Info] Start training from score 0.066808\n"
          ]
        },
        {
          "output_type": "stream",
          "name": "stderr",
          "text": [
            "/usr/local/lib/python3.12/dist-packages/sklearn/utils/validation.py:2739: UserWarning:\n",
            "\n",
            "X does not have valid feature names, but LGBMRegressor was fitted with feature names\n",
            "\n",
            "\rRunning LightGBM:  42%|████▏     | 63/150 [01:28<01:56,  1.34s/it]"
          ]
        },
        {
          "output_type": "stream",
          "name": "stdout",
          "text": [
            "[LightGBM] [Info] Auto-choosing row-wise multi-threading, the overhead of testing was 0.006169 seconds.\n",
            "You can set `force_row_wise=true` to remove the overhead.\n",
            "And if memory is not enough, you can set `force_col_wise=true`.\n",
            "[LightGBM] [Info] Total Bins 10115\n",
            "[LightGBM] [Info] Number of data points in the train set: 29374, number of used features: 519\n",
            "[LightGBM] [Info] Start training from score 0.281246\n"
          ]
        },
        {
          "output_type": "stream",
          "name": "stderr",
          "text": [
            "/usr/local/lib/python3.12/dist-packages/sklearn/utils/validation.py:2739: UserWarning:\n",
            "\n",
            "X does not have valid feature names, but LGBMRegressor was fitted with feature names\n",
            "\n",
            "\rRunning LightGBM:  43%|████▎     | 64/150 [01:29<01:56,  1.35s/it]"
          ]
        },
        {
          "output_type": "stream",
          "name": "stdout",
          "text": [
            "[LightGBM] [Info] Auto-choosing row-wise multi-threading, the overhead of testing was 0.006496 seconds.\n",
            "You can set `force_row_wise=true` to remove the overhead.\n",
            "And if memory is not enough, you can set `force_col_wise=true`.\n",
            "[LightGBM] [Info] Total Bins 10115\n",
            "[LightGBM] [Info] Number of data points in the train set: 29374, number of used features: 519\n",
            "[LightGBM] [Info] Start training from score 0.176722\n"
          ]
        },
        {
          "output_type": "stream",
          "name": "stderr",
          "text": [
            "/usr/local/lib/python3.12/dist-packages/sklearn/utils/validation.py:2739: UserWarning:\n",
            "\n",
            "X does not have valid feature names, but LGBMRegressor was fitted with feature names\n",
            "\n",
            "\rRunning LightGBM:  43%|████▎     | 65/150 [01:30<01:55,  1.35s/it]"
          ]
        },
        {
          "output_type": "stream",
          "name": "stdout",
          "text": [
            "[LightGBM] [Info] Auto-choosing row-wise multi-threading, the overhead of testing was 0.006266 seconds.\n",
            "You can set `force_row_wise=true` to remove the overhead.\n",
            "And if memory is not enough, you can set `force_col_wise=true`.\n",
            "[LightGBM] [Info] Total Bins 10115\n",
            "[LightGBM] [Info] Number of data points in the train set: 29230, number of used features: 519\n",
            "[LightGBM] [Info] Start training from score 0.120540\n"
          ]
        },
        {
          "output_type": "stream",
          "name": "stderr",
          "text": [
            "/usr/local/lib/python3.12/dist-packages/sklearn/utils/validation.py:2739: UserWarning:\n",
            "\n",
            "X does not have valid feature names, but LGBMRegressor was fitted with feature names\n",
            "\n",
            "\rRunning LightGBM:  44%|████▍     | 66/150 [01:32<01:56,  1.39s/it]"
          ]
        },
        {
          "output_type": "stream",
          "name": "stdout",
          "text": [
            "[LightGBM] [Info] Auto-choosing row-wise multi-threading, the overhead of testing was 0.006015 seconds.\n",
            "You can set `force_row_wise=true` to remove the overhead.\n",
            "And if memory is not enough, you can set `force_col_wise=true`.\n",
            "[LightGBM] [Info] Total Bins 10115\n",
            "[LightGBM] [Info] Number of data points in the train set: 29230, number of used features: 519\n",
            "[LightGBM] [Info] Start training from score 0.632225\n"
          ]
        },
        {
          "output_type": "stream",
          "name": "stderr",
          "text": [
            "/usr/local/lib/python3.12/dist-packages/sklearn/utils/validation.py:2739: UserWarning:\n",
            "\n",
            "X does not have valid feature names, but LGBMRegressor was fitted with feature names\n",
            "\n",
            "\rRunning LightGBM:  45%|████▍     | 67/150 [01:33<01:54,  1.37s/it]"
          ]
        },
        {
          "output_type": "stream",
          "name": "stdout",
          "text": [
            "[LightGBM] [Info] Auto-choosing row-wise multi-threading, the overhead of testing was 0.006165 seconds.\n",
            "You can set `force_row_wise=true` to remove the overhead.\n",
            "And if memory is not enough, you can set `force_col_wise=true`.\n",
            "[LightGBM] [Info] Total Bins 10116\n",
            "[LightGBM] [Info] Number of data points in the train set: 29086, number of used features: 519\n",
            "[LightGBM] [Info] Start training from score 0.085329\n"
          ]
        },
        {
          "output_type": "stream",
          "name": "stderr",
          "text": [
            "/usr/local/lib/python3.12/dist-packages/sklearn/utils/validation.py:2739: UserWarning:\n",
            "\n",
            "X does not have valid feature names, but LGBMRegressor was fitted with feature names\n",
            "\n",
            "\rRunning LightGBM:  45%|████▌     | 68/150 [01:35<01:56,  1.42s/it]"
          ]
        },
        {
          "output_type": "stream",
          "name": "stdout",
          "text": [
            "[LightGBM] [Info] Auto-choosing row-wise multi-threading, the overhead of testing was 0.005898 seconds.\n",
            "You can set `force_row_wise=true` to remove the overhead.\n",
            "And if memory is not enough, you can set `force_col_wise=true`.\n",
            "[LightGBM] [Info] Total Bins 10114\n",
            "[LightGBM] [Info] Number of data points in the train set: 28894, number of used features: 518\n",
            "[LightGBM] [Info] Start training from score 0.291651\n"
          ]
        },
        {
          "output_type": "stream",
          "name": "stderr",
          "text": [
            "/usr/local/lib/python3.12/dist-packages/sklearn/utils/validation.py:2739: UserWarning:\n",
            "\n",
            "X does not have valid feature names, but LGBMRegressor was fitted with feature names\n",
            "\n",
            "\rRunning LightGBM:  46%|████▌     | 69/150 [01:36<01:59,  1.47s/it]"
          ]
        },
        {
          "output_type": "stream",
          "name": "stdout",
          "text": [
            "[LightGBM] [Info] Auto-choosing col-wise multi-threading, the overhead of testing was 0.018523 seconds.\n",
            "You can set `force_col_wise=true` to remove the overhead.\n",
            "[LightGBM] [Info] Total Bins 10114\n",
            "[LightGBM] [Info] Number of data points in the train set: 28942, number of used features: 518\n",
            "[LightGBM] [Info] Start training from score 0.166060\n"
          ]
        },
        {
          "output_type": "stream",
          "name": "stderr",
          "text": [
            "/usr/local/lib/python3.12/dist-packages/sklearn/utils/validation.py:2739: UserWarning:\n",
            "\n",
            "X does not have valid feature names, but LGBMRegressor was fitted with feature names\n",
            "\n",
            "\rRunning LightGBM:  47%|████▋     | 70/150 [01:38<01:56,  1.46s/it]"
          ]
        },
        {
          "output_type": "stream",
          "name": "stdout",
          "text": [
            "[LightGBM] [Info] Auto-choosing row-wise multi-threading, the overhead of testing was 0.005893 seconds.\n",
            "You can set `force_row_wise=true` to remove the overhead.\n",
            "And if memory is not enough, you can set `force_col_wise=true`.\n",
            "[LightGBM] [Info] Total Bins 10114\n",
            "[LightGBM] [Info] Number of data points in the train set: 28894, number of used features: 518\n",
            "[LightGBM] [Info] Start training from score 0.144631\n"
          ]
        },
        {
          "output_type": "stream",
          "name": "stderr",
          "text": [
            "/usr/local/lib/python3.12/dist-packages/sklearn/utils/validation.py:2739: UserWarning:\n",
            "\n",
            "X does not have valid feature names, but LGBMRegressor was fitted with feature names\n",
            "\n",
            "\rRunning LightGBM:  47%|████▋     | 71/150 [01:39<01:52,  1.43s/it]"
          ]
        },
        {
          "output_type": "stream",
          "name": "stdout",
          "text": [
            "[LightGBM] [Info] Auto-choosing row-wise multi-threading, the overhead of testing was 0.005309 seconds.\n",
            "You can set `force_row_wise=true` to remove the overhead.\n",
            "And if memory is not enough, you can set `force_col_wise=true`.\n",
            "[LightGBM] [Info] Total Bins 10112\n",
            "[LightGBM] [Info] Number of data points in the train set: 25582, number of used features: 518\n",
            "[LightGBM] [Info] Start training from score 0.289946\n"
          ]
        },
        {
          "output_type": "stream",
          "name": "stderr",
          "text": [
            "/usr/local/lib/python3.12/dist-packages/sklearn/utils/validation.py:2739: UserWarning:\n",
            "\n",
            "X does not have valid feature names, but LGBMRegressor was fitted with feature names\n",
            "\n",
            "\rRunning LightGBM:  48%|████▊     | 72/150 [01:40<01:46,  1.37s/it]"
          ]
        },
        {
          "output_type": "stream",
          "name": "stdout",
          "text": [
            "[LightGBM] [Info] Auto-choosing row-wise multi-threading, the overhead of testing was 0.005661 seconds.\n",
            "You can set `force_row_wise=true` to remove the overhead.\n",
            "And if memory is not enough, you can set `force_col_wise=true`.\n",
            "[LightGBM] [Info] Total Bins 10112\n",
            "[LightGBM] [Info] Number of data points in the train set: 25582, number of used features: 518\n",
            "[LightGBM] [Info] Start training from score 0.212831\n"
          ]
        },
        {
          "output_type": "stream",
          "name": "stderr",
          "text": [
            "/usr/local/lib/python3.12/dist-packages/sklearn/utils/validation.py:2739: UserWarning:\n",
            "\n",
            "X does not have valid feature names, but LGBMRegressor was fitted with feature names\n",
            "\n",
            "\rRunning LightGBM:  49%|████▊     | 73/150 [01:42<01:44,  1.36s/it]"
          ]
        },
        {
          "output_type": "stream",
          "name": "stdout",
          "text": [
            "[LightGBM] [Info] Auto-choosing row-wise multi-threading, the overhead of testing was 0.005035 seconds.\n",
            "You can set `force_row_wise=true` to remove the overhead.\n",
            "And if memory is not enough, you can set `force_col_wise=true`.\n",
            "[LightGBM] [Info] Total Bins 10112\n",
            "[LightGBM] [Info] Number of data points in the train set: 25582, number of used features: 518\n",
            "[LightGBM] [Info] Start training from score 0.242967\n"
          ]
        },
        {
          "output_type": "stream",
          "name": "stderr",
          "text": [
            "/usr/local/lib/python3.12/dist-packages/sklearn/utils/validation.py:2739: UserWarning:\n",
            "\n",
            "X does not have valid feature names, but LGBMRegressor was fitted with feature names\n",
            "\n",
            "\rRunning LightGBM:  49%|████▉     | 74/150 [01:43<01:40,  1.32s/it]"
          ]
        },
        {
          "output_type": "stream",
          "name": "stdout",
          "text": [
            "[LightGBM] [Info] Auto-choosing row-wise multi-threading, the overhead of testing was 0.006144 seconds.\n",
            "You can set `force_row_wise=true` to remove the overhead.\n",
            "And if memory is not enough, you can set `force_col_wise=true`.\n",
            "[LightGBM] [Info] Total Bins 10114\n",
            "[LightGBM] [Info] Number of data points in the train set: 28750, number of used features: 518\n",
            "[LightGBM] [Info] Start training from score 0.175214\n"
          ]
        },
        {
          "output_type": "stream",
          "name": "stderr",
          "text": [
            "/usr/local/lib/python3.12/dist-packages/sklearn/utils/validation.py:2739: UserWarning:\n",
            "\n",
            "X does not have valid feature names, but LGBMRegressor was fitted with feature names\n",
            "\n",
            "\rRunning LightGBM:  50%|█████     | 75/150 [01:44<01:38,  1.32s/it]"
          ]
        },
        {
          "output_type": "stream",
          "name": "stdout",
          "text": [
            "[LightGBM] [Info] Auto-choosing row-wise multi-threading, the overhead of testing was 0.006339 seconds.\n",
            "You can set `force_row_wise=true` to remove the overhead.\n",
            "And if memory is not enough, you can set `force_col_wise=true`.\n",
            "[LightGBM] [Info] Total Bins 10114\n",
            "[LightGBM] [Info] Number of data points in the train set: 28558, number of used features: 518\n",
            "[LightGBM] [Info] Start training from score 0.112215\n"
          ]
        },
        {
          "output_type": "stream",
          "name": "stderr",
          "text": [
            "/usr/local/lib/python3.12/dist-packages/sklearn/utils/validation.py:2739: UserWarning:\n",
            "\n",
            "X does not have valid feature names, but LGBMRegressor was fitted with feature names\n",
            "\n",
            "\rRunning LightGBM:  51%|█████     | 76/150 [01:45<01:36,  1.31s/it]"
          ]
        },
        {
          "output_type": "stream",
          "name": "stdout",
          "text": [
            "[LightGBM] [Info] Auto-choosing row-wise multi-threading, the overhead of testing was 0.005552 seconds.\n",
            "You can set `force_row_wise=true` to remove the overhead.\n",
            "And if memory is not enough, you can set `force_col_wise=true`.\n",
            "[LightGBM] [Info] Total Bins 10113\n",
            "[LightGBM] [Info] Number of data points in the train set: 26446, number of used features: 518\n",
            "[LightGBM] [Info] Start training from score 0.149923\n"
          ]
        },
        {
          "output_type": "stream",
          "name": "stderr",
          "text": [
            "/usr/local/lib/python3.12/dist-packages/sklearn/utils/validation.py:2739: UserWarning:\n",
            "\n",
            "X does not have valid feature names, but LGBMRegressor was fitted with feature names\n",
            "\n",
            "\rRunning LightGBM:  51%|█████▏    | 77/150 [01:47<01:36,  1.32s/it]"
          ]
        },
        {
          "output_type": "stream",
          "name": "stdout",
          "text": [
            "[LightGBM] [Info] Auto-choosing row-wise multi-threading, the overhead of testing was 0.007880 seconds.\n",
            "You can set `force_row_wise=true` to remove the overhead.\n",
            "And if memory is not enough, you can set `force_col_wise=true`.\n",
            "[LightGBM] [Info] Total Bins 10114\n",
            "[LightGBM] [Info] Number of data points in the train set: 28510, number of used features: 518\n",
            "[LightGBM] [Info] Start training from score 0.123253\n"
          ]
        },
        {
          "output_type": "stream",
          "name": "stderr",
          "text": [
            "/usr/local/lib/python3.12/dist-packages/sklearn/utils/validation.py:2739: UserWarning:\n",
            "\n",
            "X does not have valid feature names, but LGBMRegressor was fitted with feature names\n",
            "\n",
            "\rRunning LightGBM:  52%|█████▏    | 78/150 [01:48<01:37,  1.35s/it]"
          ]
        },
        {
          "output_type": "stream",
          "name": "stdout",
          "text": [
            "[LightGBM] [Info] Auto-choosing row-wise multi-threading, the overhead of testing was 0.005886 seconds.\n",
            "You can set `force_row_wise=true` to remove the overhead.\n",
            "And if memory is not enough, you can set `force_col_wise=true`.\n",
            "[LightGBM] [Info] Total Bins 10114\n",
            "[LightGBM] [Info] Number of data points in the train set: 28462, number of used features: 518\n",
            "[LightGBM] [Info] Start training from score 0.069162\n"
          ]
        },
        {
          "output_type": "stream",
          "name": "stderr",
          "text": [
            "/usr/local/lib/python3.12/dist-packages/sklearn/utils/validation.py:2739: UserWarning:\n",
            "\n",
            "X does not have valid feature names, but LGBMRegressor was fitted with feature names\n",
            "\n",
            "\rRunning LightGBM:  53%|█████▎    | 79/150 [01:49<01:35,  1.34s/it]"
          ]
        },
        {
          "output_type": "stream",
          "name": "stdout",
          "text": [
            "[LightGBM] [Info] Auto-choosing row-wise multi-threading, the overhead of testing was 0.005955 seconds.\n",
            "You can set `force_row_wise=true` to remove the overhead.\n",
            "And if memory is not enough, you can set `force_col_wise=true`.\n",
            "[LightGBM] [Info] Total Bins 10113\n",
            "[LightGBM] [Info] Number of data points in the train set: 25918, number of used features: 518\n",
            "[LightGBM] [Info] Start training from score 0.150186\n"
          ]
        },
        {
          "output_type": "stream",
          "name": "stderr",
          "text": [
            "/usr/local/lib/python3.12/dist-packages/sklearn/utils/validation.py:2739: UserWarning:\n",
            "\n",
            "X does not have valid feature names, but LGBMRegressor was fitted with feature names\n",
            "\n",
            "\rRunning LightGBM:  53%|█████▎    | 80/150 [01:51<01:32,  1.32s/it]"
          ]
        },
        {
          "output_type": "stream",
          "name": "stdout",
          "text": [
            "[LightGBM] [Info] Auto-choosing row-wise multi-threading, the overhead of testing was 0.005479 seconds.\n",
            "You can set `force_row_wise=true` to remove the overhead.\n",
            "And if memory is not enough, you can set `force_col_wise=true`.\n",
            "[LightGBM] [Info] Total Bins 10112\n",
            "[LightGBM] [Info] Number of data points in the train set: 25774, number of used features: 518\n",
            "[LightGBM] [Info] Start training from score 0.124372\n"
          ]
        },
        {
          "output_type": "stream",
          "name": "stderr",
          "text": [
            "/usr/local/lib/python3.12/dist-packages/sklearn/utils/validation.py:2739: UserWarning:\n",
            "\n",
            "X does not have valid feature names, but LGBMRegressor was fitted with feature names\n",
            "\n",
            "\rRunning LightGBM:  54%|█████▍    | 81/150 [01:52<01:27,  1.27s/it]"
          ]
        },
        {
          "output_type": "stream",
          "name": "stdout",
          "text": [
            "[LightGBM] [Info] Auto-choosing row-wise multi-threading, the overhead of testing was 0.005631 seconds.\n",
            "You can set `force_row_wise=true` to remove the overhead.\n",
            "And if memory is not enough, you can set `force_col_wise=true`.\n",
            "[LightGBM] [Info] Total Bins 10113\n",
            "[LightGBM] [Info] Number of data points in the train set: 25870, number of used features: 518\n",
            "[LightGBM] [Info] Start training from score 0.096810\n"
          ]
        },
        {
          "output_type": "stream",
          "name": "stderr",
          "text": [
            "/usr/local/lib/python3.12/dist-packages/sklearn/utils/validation.py:2739: UserWarning:\n",
            "\n",
            "X does not have valid feature names, but LGBMRegressor was fitted with feature names\n",
            "\n",
            "\rRunning LightGBM:  55%|█████▍    | 82/150 [01:53<01:27,  1.28s/it]"
          ]
        },
        {
          "output_type": "stream",
          "name": "stdout",
          "text": [
            "[LightGBM] [Info] Auto-choosing row-wise multi-threading, the overhead of testing was 0.005671 seconds.\n",
            "You can set `force_row_wise=true` to remove the overhead.\n",
            "And if memory is not enough, you can set `force_col_wise=true`.\n",
            "[LightGBM] [Info] Total Bins 10113\n",
            "[LightGBM] [Info] Number of data points in the train set: 25822, number of used features: 518\n",
            "[LightGBM] [Info] Start training from score 0.390852\n"
          ]
        },
        {
          "output_type": "stream",
          "name": "stderr",
          "text": [
            "/usr/local/lib/python3.12/dist-packages/sklearn/utils/validation.py:2739: UserWarning:\n",
            "\n",
            "X does not have valid feature names, but LGBMRegressor was fitted with feature names\n",
            "\n",
            "\rRunning LightGBM:  55%|█████▌    | 83/150 [01:54<01:24,  1.26s/it]"
          ]
        },
        {
          "output_type": "stream",
          "name": "stdout",
          "text": [
            "[LightGBM] [Info] Auto-choosing row-wise multi-threading, the overhead of testing was 0.005815 seconds.\n",
            "You can set `force_row_wise=true` to remove the overhead.\n",
            "And if memory is not enough, you can set `force_col_wise=true`.\n",
            "[LightGBM] [Info] Total Bins 8780\n",
            "[LightGBM] [Info] Number of data points in the train set: 28126, number of used features: 518\n",
            "[LightGBM] [Info] Start training from score 0.016050\n"
          ]
        },
        {
          "output_type": "stream",
          "name": "stderr",
          "text": [
            "/usr/local/lib/python3.12/dist-packages/sklearn/utils/validation.py:2739: UserWarning:\n",
            "\n",
            "X does not have valid feature names, but LGBMRegressor was fitted with feature names\n",
            "\n",
            "\rRunning LightGBM:  56%|█████▌    | 84/150 [01:56<01:24,  1.28s/it]"
          ]
        },
        {
          "output_type": "stream",
          "name": "stdout",
          "text": [
            "[LightGBM] [Info] Auto-choosing row-wise multi-threading, the overhead of testing was 0.005722 seconds.\n",
            "You can set `force_row_wise=true` to remove the overhead.\n",
            "And if memory is not enough, you can set `force_col_wise=true`.\n",
            "[LightGBM] [Info] Total Bins 10115\n",
            "[LightGBM] [Info] Number of data points in the train set: 28222, number of used features: 518\n",
            "[LightGBM] [Info] Start training from score 0.112403\n"
          ]
        },
        {
          "output_type": "stream",
          "name": "stderr",
          "text": [
            "/usr/local/lib/python3.12/dist-packages/sklearn/utils/validation.py:2739: UserWarning:\n",
            "\n",
            "X does not have valid feature names, but LGBMRegressor was fitted with feature names\n",
            "\n",
            "\rRunning LightGBM:  57%|█████▋    | 85/150 [01:57<01:24,  1.29s/it]"
          ]
        },
        {
          "output_type": "stream",
          "name": "stdout",
          "text": [
            "[LightGBM] [Info] Auto-choosing row-wise multi-threading, the overhead of testing was 0.005616 seconds.\n",
            "You can set `force_row_wise=true` to remove the overhead.\n",
            "And if memory is not enough, you can set `force_col_wise=true`.\n",
            "[LightGBM] [Info] Total Bins 10114\n",
            "[LightGBM] [Info] Number of data points in the train set: 28174, number of used features: 518\n",
            "[LightGBM] [Info] Start training from score 0.271651\n"
          ]
        },
        {
          "output_type": "stream",
          "name": "stderr",
          "text": [
            "/usr/local/lib/python3.12/dist-packages/sklearn/utils/validation.py:2739: UserWarning:\n",
            "\n",
            "X does not have valid feature names, but LGBMRegressor was fitted with feature names\n",
            "\n",
            "\rRunning LightGBM:  57%|█████▋    | 86/150 [01:58<01:22,  1.30s/it]"
          ]
        },
        {
          "output_type": "stream",
          "name": "stdout",
          "text": [
            "[LightGBM] [Info] Auto-choosing row-wise multi-threading, the overhead of testing was 0.007223 seconds.\n",
            "You can set `force_row_wise=true` to remove the overhead.\n",
            "And if memory is not enough, you can set `force_col_wise=true`.\n",
            "[LightGBM] [Info] Total Bins 10112\n",
            "[LightGBM] [Info] Number of data points in the train set: 25342, number of used features: 518\n",
            "[LightGBM] [Info] Start training from score 0.382650\n"
          ]
        },
        {
          "output_type": "stream",
          "name": "stderr",
          "text": [
            "/usr/local/lib/python3.12/dist-packages/sklearn/utils/validation.py:2739: UserWarning:\n",
            "\n",
            "X does not have valid feature names, but LGBMRegressor was fitted with feature names\n",
            "\n",
            "\rRunning LightGBM:  58%|█████▊    | 87/150 [02:00<01:24,  1.34s/it]"
          ]
        },
        {
          "output_type": "stream",
          "name": "stdout",
          "text": [
            "[LightGBM] [Info] Auto-choosing row-wise multi-threading, the overhead of testing was 0.005222 seconds.\n",
            "You can set `force_row_wise=true` to remove the overhead.\n",
            "And if memory is not enough, you can set `force_col_wise=true`.\n",
            "[LightGBM] [Info] Total Bins 10112\n",
            "[LightGBM] [Info] Number of data points in the train set: 22222, number of used features: 518\n",
            "[LightGBM] [Info] Start training from score 0.279190\n"
          ]
        },
        {
          "output_type": "stream",
          "name": "stderr",
          "text": [
            "/usr/local/lib/python3.12/dist-packages/sklearn/utils/validation.py:2739: UserWarning:\n",
            "\n",
            "X does not have valid feature names, but LGBMRegressor was fitted with feature names\n",
            "\n",
            "\rRunning LightGBM:  59%|█████▊    | 88/150 [02:01<01:18,  1.27s/it]"
          ]
        },
        {
          "output_type": "stream",
          "name": "stdout",
          "text": [
            "[LightGBM] [Info] Auto-choosing row-wise multi-threading, the overhead of testing was 0.004749 seconds.\n",
            "You can set `force_row_wise=true` to remove the overhead.\n",
            "And if memory is not enough, you can set `force_col_wise=true`.\n",
            "[LightGBM] [Info] Total Bins 10111\n",
            "[LightGBM] [Info] Number of data points in the train set: 21886, number of used features: 518\n",
            "[LightGBM] [Info] Start training from score 0.395919\n"
          ]
        },
        {
          "output_type": "stream",
          "name": "stderr",
          "text": [
            "/usr/local/lib/python3.12/dist-packages/sklearn/utils/validation.py:2739: UserWarning:\n",
            "\n",
            "X does not have valid feature names, but LGBMRegressor was fitted with feature names\n",
            "\n",
            "\rRunning LightGBM:  59%|█████▉    | 89/150 [02:02<01:15,  1.24s/it]"
          ]
        },
        {
          "output_type": "stream",
          "name": "stdout",
          "text": [
            "[LightGBM] [Info] Auto-choosing row-wise multi-threading, the overhead of testing was 0.005000 seconds.\n",
            "You can set `force_row_wise=true` to remove the overhead.\n",
            "And if memory is not enough, you can set `force_col_wise=true`.\n",
            "[LightGBM] [Info] Total Bins 10111\n",
            "[LightGBM] [Info] Number of data points in the train set: 21886, number of used features: 518\n",
            "[LightGBM] [Info] Start training from score 0.113613\n"
          ]
        },
        {
          "output_type": "stream",
          "name": "stderr",
          "text": [
            "/usr/local/lib/python3.12/dist-packages/sklearn/utils/validation.py:2739: UserWarning:\n",
            "\n",
            "X does not have valid feature names, but LGBMRegressor was fitted with feature names\n",
            "\n",
            "\rRunning LightGBM:  60%|██████    | 90/150 [02:03<01:13,  1.22s/it]"
          ]
        },
        {
          "output_type": "stream",
          "name": "stdout",
          "text": [
            "[LightGBM] [Info] Auto-choosing row-wise multi-threading, the overhead of testing was 0.006267 seconds.\n",
            "You can set `force_row_wise=true` to remove the overhead.\n",
            "And if memory is not enough, you can set `force_col_wise=true`.\n",
            "[LightGBM] [Info] Total Bins 10111\n",
            "[LightGBM] [Info] Number of data points in the train set: 21742, number of used features: 518\n",
            "[LightGBM] [Info] Start training from score 0.232553\n"
          ]
        },
        {
          "output_type": "stream",
          "name": "stderr",
          "text": [
            "/usr/local/lib/python3.12/dist-packages/sklearn/utils/validation.py:2739: UserWarning:\n",
            "\n",
            "X does not have valid feature names, but LGBMRegressor was fitted with feature names\n",
            "\n",
            "\rRunning LightGBM:  61%|██████    | 91/150 [02:04<01:09,  1.18s/it]"
          ]
        },
        {
          "output_type": "stream",
          "name": "stdout",
          "text": [
            "[LightGBM] [Info] Auto-choosing row-wise multi-threading, the overhead of testing was 0.004833 seconds.\n",
            "You can set `force_row_wise=true` to remove the overhead.\n",
            "And if memory is not enough, you can set `force_col_wise=true`.\n",
            "[LightGBM] [Info] Total Bins 10111\n",
            "[LightGBM] [Info] Number of data points in the train set: 21694, number of used features: 518\n",
            "[LightGBM] [Info] Start training from score 0.263322\n"
          ]
        },
        {
          "output_type": "stream",
          "name": "stderr",
          "text": [
            "/usr/local/lib/python3.12/dist-packages/sklearn/utils/validation.py:2739: UserWarning:\n",
            "\n",
            "X does not have valid feature names, but LGBMRegressor was fitted with feature names\n",
            "\n",
            "\rRunning LightGBM:  61%|██████▏   | 92/150 [02:05<01:06,  1.15s/it]"
          ]
        },
        {
          "output_type": "stream",
          "name": "stdout",
          "text": [
            "[LightGBM] [Info] Auto-choosing row-wise multi-threading, the overhead of testing was 0.004696 seconds.\n",
            "You can set `force_row_wise=true` to remove the overhead.\n",
            "And if memory is not enough, you can set `force_col_wise=true`.\n",
            "[LightGBM] [Info] Total Bins 10111\n",
            "[LightGBM] [Info] Number of data points in the train set: 21550, number of used features: 518\n",
            "[LightGBM] [Info] Start training from score 0.132267\n"
          ]
        },
        {
          "output_type": "stream",
          "name": "stderr",
          "text": [
            "/usr/local/lib/python3.12/dist-packages/sklearn/utils/validation.py:2739: UserWarning:\n",
            "\n",
            "X does not have valid feature names, but LGBMRegressor was fitted with feature names\n",
            "\n",
            "\rRunning LightGBM:  62%|██████▏   | 93/150 [02:07<01:05,  1.16s/it]"
          ]
        },
        {
          "output_type": "stream",
          "name": "stdout",
          "text": [
            "[LightGBM] [Info] Auto-choosing row-wise multi-threading, the overhead of testing was 0.004984 seconds.\n",
            "You can set `force_row_wise=true` to remove the overhead.\n",
            "And if memory is not enough, you can set `force_col_wise=true`.\n",
            "[LightGBM] [Info] Total Bins 10111\n",
            "[LightGBM] [Info] Number of data points in the train set: 21502, number of used features: 518\n",
            "[LightGBM] [Info] Start training from score 0.303222\n"
          ]
        },
        {
          "output_type": "stream",
          "name": "stderr",
          "text": [
            "/usr/local/lib/python3.12/dist-packages/sklearn/utils/validation.py:2739: UserWarning:\n",
            "\n",
            "X does not have valid feature names, but LGBMRegressor was fitted with feature names\n",
            "\n",
            "\rRunning LightGBM:  63%|██████▎   | 94/150 [02:08<01:04,  1.15s/it]"
          ]
        },
        {
          "output_type": "stream",
          "name": "stdout",
          "text": [
            "[LightGBM] [Info] Auto-choosing row-wise multi-threading, the overhead of testing was 0.004792 seconds.\n",
            "You can set `force_row_wise=true` to remove the overhead.\n",
            "And if memory is not enough, you can set `force_col_wise=true`.\n",
            "[LightGBM] [Info] Total Bins 10111\n",
            "[LightGBM] [Info] Number of data points in the train set: 21502, number of used features: 518\n",
            "[LightGBM] [Info] Start training from score 0.210487\n"
          ]
        },
        {
          "output_type": "stream",
          "name": "stderr",
          "text": [
            "/usr/local/lib/python3.12/dist-packages/sklearn/utils/validation.py:2739: UserWarning:\n",
            "\n",
            "X does not have valid feature names, but LGBMRegressor was fitted with feature names\n",
            "\n",
            "\rRunning LightGBM:  63%|██████▎   | 95/150 [02:09<01:03,  1.15s/it]"
          ]
        },
        {
          "output_type": "stream",
          "name": "stdout",
          "text": [
            "[LightGBM] [Info] Auto-choosing row-wise multi-threading, the overhead of testing was 0.004478 seconds.\n",
            "You can set `force_row_wise=true` to remove the overhead.\n",
            "And if memory is not enough, you can set `force_col_wise=true`.\n",
            "[LightGBM] [Info] Total Bins 10111\n",
            "[LightGBM] [Info] Number of data points in the train set: 21502, number of used features: 518\n",
            "[LightGBM] [Info] Start training from score 0.296434\n"
          ]
        },
        {
          "output_type": "stream",
          "name": "stderr",
          "text": [
            "/usr/local/lib/python3.12/dist-packages/sklearn/utils/validation.py:2739: UserWarning:\n",
            "\n",
            "X does not have valid feature names, but LGBMRegressor was fitted with feature names\n",
            "\n",
            "\rRunning LightGBM:  64%|██████▍   | 96/150 [02:10<01:03,  1.17s/it]"
          ]
        },
        {
          "output_type": "stream",
          "name": "stdout",
          "text": [
            "[LightGBM] [Info] Auto-choosing row-wise multi-threading, the overhead of testing was 0.005465 seconds.\n",
            "You can set `force_row_wise=true` to remove the overhead.\n",
            "And if memory is not enough, you can set `force_col_wise=true`.\n",
            "[LightGBM] [Info] Total Bins 10111\n",
            "[LightGBM] [Info] Number of data points in the train set: 17950, number of used features: 518\n",
            "[LightGBM] [Info] Start training from score 0.135570\n"
          ]
        },
        {
          "output_type": "stream",
          "name": "stderr",
          "text": [
            "/usr/local/lib/python3.12/dist-packages/sklearn/utils/validation.py:2739: UserWarning:\n",
            "\n",
            "X does not have valid feature names, but LGBMRegressor was fitted with feature names\n",
            "\n",
            "\rRunning LightGBM:  65%|██████▍   | 97/150 [02:11<01:01,  1.16s/it]"
          ]
        },
        {
          "output_type": "stream",
          "name": "stdout",
          "text": [
            "[LightGBM] [Info] Auto-choosing row-wise multi-threading, the overhead of testing was 0.004920 seconds.\n",
            "You can set `force_row_wise=true` to remove the overhead.\n",
            "And if memory is not enough, you can set `force_col_wise=true`.\n",
            "[LightGBM] [Info] Total Bins 10111\n",
            "[LightGBM] [Info] Number of data points in the train set: 21406, number of used features: 518\n",
            "[LightGBM] [Info] Start training from score 0.125642\n"
          ]
        },
        {
          "output_type": "stream",
          "name": "stderr",
          "text": [
            "/usr/local/lib/python3.12/dist-packages/sklearn/utils/validation.py:2739: UserWarning:\n",
            "\n",
            "X does not have valid feature names, but LGBMRegressor was fitted with feature names\n",
            "\n",
            "\rRunning LightGBM:  65%|██████▌   | 98/150 [02:12<00:58,  1.13s/it]"
          ]
        },
        {
          "output_type": "stream",
          "name": "stdout",
          "text": [
            "[LightGBM] [Info] Auto-choosing row-wise multi-threading, the overhead of testing was 0.004881 seconds.\n",
            "You can set `force_row_wise=true` to remove the overhead.\n",
            "And if memory is not enough, you can set `force_col_wise=true`.\n",
            "[LightGBM] [Info] Total Bins 10111\n",
            "[LightGBM] [Info] Number of data points in the train set: 21214, number of used features: 518\n",
            "[LightGBM] [Info] Start training from score 0.279760\n"
          ]
        },
        {
          "output_type": "stream",
          "name": "stderr",
          "text": [
            "/usr/local/lib/python3.12/dist-packages/sklearn/utils/validation.py:2739: UserWarning:\n",
            "\n",
            "X does not have valid feature names, but LGBMRegressor was fitted with feature names\n",
            "\n",
            "\rRunning LightGBM:  66%|██████▌   | 99/150 [02:14<00:59,  1.17s/it]"
          ]
        },
        {
          "output_type": "stream",
          "name": "stdout",
          "text": [
            "[LightGBM] [Info] Auto-choosing row-wise multi-threading, the overhead of testing was 0.004822 seconds.\n",
            "You can set `force_row_wise=true` to remove the overhead.\n",
            "And if memory is not enough, you can set `force_col_wise=true`.\n",
            "[LightGBM] [Info] Total Bins 10111\n",
            "[LightGBM] [Info] Number of data points in the train set: 21214, number of used features: 518\n",
            "[LightGBM] [Info] Start training from score 0.153447\n"
          ]
        },
        {
          "output_type": "stream",
          "name": "stderr",
          "text": [
            "/usr/local/lib/python3.12/dist-packages/sklearn/utils/validation.py:2739: UserWarning:\n",
            "\n",
            "X does not have valid feature names, but LGBMRegressor was fitted with feature names\n",
            "\n",
            "\rRunning LightGBM:  67%|██████▋   | 100/150 [02:15<00:59,  1.19s/it]"
          ]
        },
        {
          "output_type": "stream",
          "name": "stdout",
          "text": [
            "[LightGBM] [Info] Auto-choosing row-wise multi-threading, the overhead of testing was 0.004694 seconds.\n",
            "You can set `force_row_wise=true` to remove the overhead.\n",
            "And if memory is not enough, you can set `force_col_wise=true`.\n",
            "[LightGBM] [Info] Total Bins 10111\n",
            "[LightGBM] [Info] Number of data points in the train set: 21214, number of used features: 518\n",
            "[LightGBM] [Info] Start training from score 0.123565\n"
          ]
        },
        {
          "output_type": "stream",
          "name": "stderr",
          "text": [
            "/usr/local/lib/python3.12/dist-packages/sklearn/utils/validation.py:2739: UserWarning:\n",
            "\n",
            "X does not have valid feature names, but LGBMRegressor was fitted with feature names\n",
            "\n",
            "\rRunning LightGBM:  67%|██████▋   | 101/150 [02:16<00:59,  1.22s/it]"
          ]
        },
        {
          "output_type": "stream",
          "name": "stdout",
          "text": [
            "[LightGBM] [Info] Auto-choosing row-wise multi-threading, the overhead of testing was 0.004857 seconds.\n",
            "You can set `force_row_wise=true` to remove the overhead.\n",
            "And if memory is not enough, you can set `force_col_wise=true`.\n",
            "[LightGBM] [Info] Total Bins 10111\n",
            "[LightGBM] [Info] Number of data points in the train set: 21070, number of used features: 518\n",
            "[LightGBM] [Info] Start training from score 0.130459\n"
          ]
        },
        {
          "output_type": "stream",
          "name": "stderr",
          "text": [
            "/usr/local/lib/python3.12/dist-packages/sklearn/utils/validation.py:2739: UserWarning:\n",
            "\n",
            "X does not have valid feature names, but LGBMRegressor was fitted with feature names\n",
            "\n",
            "\rRunning LightGBM:  68%|██████▊   | 102/150 [02:17<01:00,  1.26s/it]"
          ]
        },
        {
          "output_type": "stream",
          "name": "stdout",
          "text": [
            "[LightGBM] [Info] Auto-choosing row-wise multi-threading, the overhead of testing was 0.004687 seconds.\n",
            "You can set `force_row_wise=true` to remove the overhead.\n",
            "And if memory is not enough, you can set `force_col_wise=true`.\n",
            "[LightGBM] [Info] Total Bins 9783\n",
            "[LightGBM] [Info] Number of data points in the train set: 21022, number of used features: 518\n",
            "[LightGBM] [Info] Start training from score 0.044165\n"
          ]
        },
        {
          "output_type": "stream",
          "name": "stderr",
          "text": [
            "/usr/local/lib/python3.12/dist-packages/sklearn/utils/validation.py:2739: UserWarning:\n",
            "\n",
            "X does not have valid feature names, but LGBMRegressor was fitted with feature names\n",
            "\n",
            "\rRunning LightGBM:  69%|██████▊   | 103/150 [02:19<00:59,  1.27s/it]"
          ]
        },
        {
          "output_type": "stream",
          "name": "stdout",
          "text": [
            "[LightGBM] [Info] Auto-choosing row-wise multi-threading, the overhead of testing was 0.004648 seconds.\n",
            "You can set `force_row_wise=true` to remove the overhead.\n",
            "And if memory is not enough, you can set `force_col_wise=true`.\n",
            "[LightGBM] [Info] Total Bins 10111\n",
            "[LightGBM] [Info] Number of data points in the train set: 21022, number of used features: 518\n",
            "[LightGBM] [Info] Start training from score 0.196068\n"
          ]
        },
        {
          "output_type": "stream",
          "name": "stderr",
          "text": [
            "/usr/local/lib/python3.12/dist-packages/sklearn/utils/validation.py:2739: UserWarning:\n",
            "\n",
            "X does not have valid feature names, but LGBMRegressor was fitted with feature names\n",
            "\n",
            "\rRunning LightGBM:  69%|██████▉   | 104/150 [02:20<00:57,  1.25s/it]"
          ]
        },
        {
          "output_type": "stream",
          "name": "stdout",
          "text": [
            "[LightGBM] [Info] Auto-choosing row-wise multi-threading, the overhead of testing was 0.004318 seconds.\n",
            "You can set `force_row_wise=true` to remove the overhead.\n",
            "And if memory is not enough, you can set `force_col_wise=true`.\n",
            "[LightGBM] [Info] Total Bins 10111\n",
            "[LightGBM] [Info] Number of data points in the train set: 20830, number of used features: 518\n",
            "[LightGBM] [Info] Start training from score 0.407438\n"
          ]
        },
        {
          "output_type": "stream",
          "name": "stderr",
          "text": [
            "/usr/local/lib/python3.12/dist-packages/sklearn/utils/validation.py:2739: UserWarning:\n",
            "\n",
            "X does not have valid feature names, but LGBMRegressor was fitted with feature names\n",
            "\n",
            "\rRunning LightGBM:  70%|███████   | 105/150 [02:21<00:55,  1.23s/it]"
          ]
        },
        {
          "output_type": "stream",
          "name": "stdout",
          "text": [
            "[LightGBM] [Info] Auto-choosing row-wise multi-threading, the overhead of testing was 0.006330 seconds.\n",
            "You can set `force_row_wise=true` to remove the overhead.\n",
            "And if memory is not enough, you can set `force_col_wise=true`.\n",
            "[LightGBM] [Info] Total Bins 10111\n",
            "[LightGBM] [Info] Number of data points in the train set: 20734, number of used features: 518\n",
            "[LightGBM] [Info] Start training from score 0.318517\n"
          ]
        },
        {
          "output_type": "stream",
          "name": "stderr",
          "text": [
            "/usr/local/lib/python3.12/dist-packages/sklearn/utils/validation.py:2739: UserWarning:\n",
            "\n",
            "X does not have valid feature names, but LGBMRegressor was fitted with feature names\n",
            "\n",
            "\rRunning LightGBM:  71%|███████   | 106/150 [02:22<00:55,  1.27s/it]"
          ]
        },
        {
          "output_type": "stream",
          "name": "stdout",
          "text": [
            "[LightGBM] [Info] Auto-choosing row-wise multi-threading, the overhead of testing was 0.004879 seconds.\n",
            "You can set `force_row_wise=true` to remove the overhead.\n",
            "And if memory is not enough, you can set `force_col_wise=true`.\n",
            "[LightGBM] [Info] Total Bins 10112\n",
            "[LightGBM] [Info] Number of data points in the train set: 20638, number of used features: 518\n",
            "[LightGBM] [Info] Start training from score 0.390316\n"
          ]
        },
        {
          "output_type": "stream",
          "name": "stderr",
          "text": [
            "/usr/local/lib/python3.12/dist-packages/sklearn/utils/validation.py:2739: UserWarning:\n",
            "\n",
            "X does not have valid feature names, but LGBMRegressor was fitted with feature names\n",
            "\n",
            "\rRunning LightGBM:  71%|███████▏  | 107/150 [02:24<00:55,  1.29s/it]"
          ]
        },
        {
          "output_type": "stream",
          "name": "stdout",
          "text": [
            "[LightGBM] [Info] Auto-choosing row-wise multi-threading, the overhead of testing was 0.004433 seconds.\n",
            "You can set `force_row_wise=true` to remove the overhead.\n",
            "And if memory is not enough, you can set `force_col_wise=true`.\n",
            "[LightGBM] [Info] Total Bins 10112\n",
            "[LightGBM] [Info] Number of data points in the train set: 20494, number of used features: 518\n",
            "[LightGBM] [Info] Start training from score 0.376616\n"
          ]
        },
        {
          "output_type": "stream",
          "name": "stderr",
          "text": [
            "/usr/local/lib/python3.12/dist-packages/sklearn/utils/validation.py:2739: UserWarning:\n",
            "\n",
            "X does not have valid feature names, but LGBMRegressor was fitted with feature names\n",
            "\n",
            "\rRunning LightGBM:  72%|███████▏  | 108/150 [02:25<00:52,  1.25s/it]"
          ]
        },
        {
          "output_type": "stream",
          "name": "stdout",
          "text": [
            "[LightGBM] [Info] Auto-choosing row-wise multi-threading, the overhead of testing was 0.004236 seconds.\n",
            "You can set `force_row_wise=true` to remove the overhead.\n",
            "And if memory is not enough, you can set `force_col_wise=true`.\n",
            "[LightGBM] [Info] Total Bins 10112\n",
            "[LightGBM] [Info] Number of data points in the train set: 20350, number of used features: 518\n",
            "[LightGBM] [Info] Start training from score 0.275123\n"
          ]
        },
        {
          "output_type": "stream",
          "name": "stderr",
          "text": [
            "/usr/local/lib/python3.12/dist-packages/sklearn/utils/validation.py:2739: UserWarning:\n",
            "\n",
            "X does not have valid feature names, but LGBMRegressor was fitted with feature names\n",
            "\n",
            "\rRunning LightGBM:  73%|███████▎  | 109/150 [02:26<00:50,  1.24s/it]"
          ]
        },
        {
          "output_type": "stream",
          "name": "stdout",
          "text": [
            "[LightGBM] [Info] Auto-choosing row-wise multi-threading, the overhead of testing was 0.005064 seconds.\n",
            "You can set `force_row_wise=true` to remove the overhead.\n",
            "And if memory is not enough, you can set `force_col_wise=true`.\n",
            "[LightGBM] [Info] Total Bins 10112\n",
            "[LightGBM] [Info] Number of data points in the train set: 25726, number of used features: 518\n",
            "[LightGBM] [Info] Start training from score 0.379139\n"
          ]
        },
        {
          "output_type": "stream",
          "name": "stderr",
          "text": [
            "/usr/local/lib/python3.12/dist-packages/sklearn/utils/validation.py:2739: UserWarning:\n",
            "\n",
            "X does not have valid feature names, but LGBMRegressor was fitted with feature names\n",
            "\n",
            "\rRunning LightGBM:  73%|███████▎  | 110/150 [02:27<00:47,  1.19s/it]"
          ]
        },
        {
          "output_type": "stream",
          "name": "stdout",
          "text": [
            "[LightGBM] [Info] Auto-choosing row-wise multi-threading, the overhead of testing was 0.005653 seconds.\n",
            "You can set `force_row_wise=true` to remove the overhead.\n",
            "And if memory is not enough, you can set `force_col_wise=true`.\n",
            "[LightGBM] [Info] Total Bins 10115\n",
            "[LightGBM] [Info] Number of data points in the train set: 28030, number of used features: 518\n",
            "[LightGBM] [Info] Start training from score 0.103649\n"
          ]
        },
        {
          "output_type": "stream",
          "name": "stderr",
          "text": [
            "/usr/local/lib/python3.12/dist-packages/sklearn/utils/validation.py:2739: UserWarning:\n",
            "\n",
            "X does not have valid feature names, but LGBMRegressor was fitted with feature names\n",
            "\n",
            "\rRunning LightGBM:  74%|███████▍  | 111/150 [02:28<00:46,  1.19s/it]"
          ]
        },
        {
          "output_type": "stream",
          "name": "stdout",
          "text": [
            "[LightGBM] [Info] Auto-choosing row-wise multi-threading, the overhead of testing was 0.005952 seconds.\n",
            "You can set `force_row_wise=true` to remove the overhead.\n",
            "And if memory is not enough, you can set `force_col_wise=true`.\n",
            "[LightGBM] [Info] Total Bins 10115\n",
            "[LightGBM] [Info] Number of data points in the train set: 28030, number of used features: 518\n",
            "[LightGBM] [Info] Start training from score 0.225159\n"
          ]
        },
        {
          "output_type": "stream",
          "name": "stderr",
          "text": [
            "/usr/local/lib/python3.12/dist-packages/sklearn/utils/validation.py:2739: UserWarning:\n",
            "\n",
            "X does not have valid feature names, but LGBMRegressor was fitted with feature names\n",
            "\n",
            "\rRunning LightGBM:  75%|███████▍  | 112/150 [02:30<00:46,  1.22s/it]"
          ]
        },
        {
          "output_type": "stream",
          "name": "stdout",
          "text": [
            "[LightGBM] [Info] Auto-choosing row-wise multi-threading, the overhead of testing was 0.005507 seconds.\n",
            "You can set `force_row_wise=true` to remove the overhead.\n",
            "And if memory is not enough, you can set `force_col_wise=true`.\n",
            "[LightGBM] [Info] Total Bins 10115\n",
            "[LightGBM] [Info] Number of data points in the train set: 27934, number of used features: 518\n",
            "[LightGBM] [Info] Start training from score 0.096628\n"
          ]
        },
        {
          "output_type": "stream",
          "name": "stderr",
          "text": [
            "/usr/local/lib/python3.12/dist-packages/sklearn/utils/validation.py:2739: UserWarning:\n",
            "\n",
            "X does not have valid feature names, but LGBMRegressor was fitted with feature names\n",
            "\n",
            "\rRunning LightGBM:  75%|███████▌  | 113/150 [02:31<00:44,  1.21s/it]"
          ]
        },
        {
          "output_type": "stream",
          "name": "stdout",
          "text": [
            "[LightGBM] [Info] Auto-choosing row-wise multi-threading, the overhead of testing was 0.005905 seconds.\n",
            "You can set `force_row_wise=true` to remove the overhead.\n",
            "And if memory is not enough, you can set `force_col_wise=true`.\n",
            "[LightGBM] [Info] Total Bins 10115\n",
            "[LightGBM] [Info] Number of data points in the train set: 27790, number of used features: 518\n",
            "[LightGBM] [Info] Start training from score 0.243454\n"
          ]
        },
        {
          "output_type": "stream",
          "name": "stderr",
          "text": [
            "/usr/local/lib/python3.12/dist-packages/sklearn/utils/validation.py:2739: UserWarning:\n",
            "\n",
            "X does not have valid feature names, but LGBMRegressor was fitted with feature names\n",
            "\n",
            "\rRunning LightGBM:  76%|███████▌  | 114/150 [02:32<00:43,  1.19s/it]"
          ]
        },
        {
          "output_type": "stream",
          "name": "stdout",
          "text": [
            "[LightGBM] [Info] Auto-choosing row-wise multi-threading, the overhead of testing was 0.008818 seconds.\n",
            "You can set `force_row_wise=true` to remove the overhead.\n",
            "And if memory is not enough, you can set `force_col_wise=true`.\n",
            "[LightGBM] [Info] Total Bins 10118\n",
            "[LightGBM] [Info] Number of data points in the train set: 31198, number of used features: 520\n",
            "[LightGBM] [Info] Start training from score 0.120145\n"
          ]
        },
        {
          "output_type": "stream",
          "name": "stderr",
          "text": [
            "/usr/local/lib/python3.12/dist-packages/sklearn/utils/validation.py:2739: UserWarning:\n",
            "\n",
            "X does not have valid feature names, but LGBMRegressor was fitted with feature names\n",
            "\n",
            "\rRunning LightGBM:  77%|███████▋  | 115/150 [02:34<00:45,  1.30s/it]"
          ]
        },
        {
          "output_type": "stream",
          "name": "stdout",
          "text": [
            "[LightGBM] [Info] Auto-choosing row-wise multi-threading, the overhead of testing was 0.006449 seconds.\n",
            "You can set `force_row_wise=true` to remove the overhead.\n",
            "And if memory is not enough, you can set `force_col_wise=true`.\n",
            "[LightGBM] [Info] Total Bins 10118\n",
            "[LightGBM] [Info] Number of data points in the train set: 31150, number of used features: 520\n",
            "[LightGBM] [Info] Start training from score 0.143517\n"
          ]
        },
        {
          "output_type": "stream",
          "name": "stderr",
          "text": [
            "/usr/local/lib/python3.12/dist-packages/sklearn/utils/validation.py:2739: UserWarning:\n",
            "\n",
            "X does not have valid feature names, but LGBMRegressor was fitted with feature names\n",
            "\n",
            "\rRunning LightGBM:  77%|███████▋  | 116/150 [02:35<00:43,  1.28s/it]"
          ]
        },
        {
          "output_type": "stream",
          "name": "stdout",
          "text": [
            "[LightGBM] [Info] Auto-choosing row-wise multi-threading, the overhead of testing was 0.006131 seconds.\n",
            "You can set `force_row_wise=true` to remove the overhead.\n",
            "And if memory is not enough, you can set `force_col_wise=true`.\n",
            "[LightGBM] [Info] Total Bins 10118\n",
            "[LightGBM] [Info] Number of data points in the train set: 30958, number of used features: 520\n",
            "[LightGBM] [Info] Start training from score 0.131238\n"
          ]
        },
        {
          "output_type": "stream",
          "name": "stderr",
          "text": [
            "/usr/local/lib/python3.12/dist-packages/sklearn/utils/validation.py:2739: UserWarning:\n",
            "\n",
            "X does not have valid feature names, but LGBMRegressor was fitted with feature names\n",
            "\n",
            "\rRunning LightGBM:  78%|███████▊  | 117/150 [02:36<00:41,  1.27s/it]"
          ]
        },
        {
          "output_type": "stream",
          "name": "stdout",
          "text": [
            "[LightGBM] [Info] Auto-choosing row-wise multi-threading, the overhead of testing was 0.006123 seconds.\n",
            "You can set `force_row_wise=true` to remove the overhead.\n",
            "And if memory is not enough, you can set `force_col_wise=true`.\n",
            "[LightGBM] [Info] Total Bins 10118\n",
            "[LightGBM] [Info] Number of data points in the train set: 30958, number of used features: 520\n",
            "[LightGBM] [Info] Start training from score 0.299799\n"
          ]
        },
        {
          "output_type": "stream",
          "name": "stderr",
          "text": [
            "/usr/local/lib/python3.12/dist-packages/sklearn/utils/validation.py:2739: UserWarning:\n",
            "\n",
            "X does not have valid feature names, but LGBMRegressor was fitted with feature names\n",
            "\n",
            "\rRunning LightGBM:  79%|███████▊  | 118/150 [02:37<00:39,  1.24s/it]"
          ]
        },
        {
          "output_type": "stream",
          "name": "stdout",
          "text": [
            "[LightGBM] [Info] Auto-choosing row-wise multi-threading, the overhead of testing was 0.004853 seconds.\n",
            "You can set `force_row_wise=true` to remove the overhead.\n",
            "And if memory is not enough, you can set `force_col_wise=true`.\n",
            "[LightGBM] [Info] Total Bins 10122\n",
            "[LightGBM] [Info] Number of data points in the train set: 34750, number of used features: 521\n",
            "[LightGBM] [Info] Start training from score 0.394764\n"
          ]
        },
        {
          "output_type": "stream",
          "name": "stderr",
          "text": [
            "/usr/local/lib/python3.12/dist-packages/sklearn/utils/validation.py:2739: UserWarning:\n",
            "\n",
            "X does not have valid feature names, but LGBMRegressor was fitted with feature names\n",
            "\n",
            "\rRunning LightGBM:  79%|███████▉  | 119/150 [02:39<00:41,  1.33s/it]"
          ]
        },
        {
          "output_type": "stream",
          "name": "stdout",
          "text": [
            "[LightGBM] [Info] Auto-choosing row-wise multi-threading, the overhead of testing was 0.004878 seconds.\n",
            "You can set `force_row_wise=true` to remove the overhead.\n",
            "And if memory is not enough, you can set `force_col_wise=true`.\n",
            "[LightGBM] [Info] Total Bins 10122\n",
            "[LightGBM] [Info] Number of data points in the train set: 34750, number of used features: 521\n",
            "[LightGBM] [Info] Start training from score 0.114495\n"
          ]
        },
        {
          "output_type": "stream",
          "name": "stderr",
          "text": [
            "/usr/local/lib/python3.12/dist-packages/sklearn/utils/validation.py:2739: UserWarning:\n",
            "\n",
            "X does not have valid feature names, but LGBMRegressor was fitted with feature names\n",
            "\n",
            "\rRunning LightGBM:  80%|████████  | 120/150 [02:40<00:41,  1.37s/it]"
          ]
        },
        {
          "output_type": "stream",
          "name": "stdout",
          "text": [
            "[LightGBM] [Info] Auto-choosing row-wise multi-threading, the overhead of testing was 0.004499 seconds.\n",
            "You can set `force_row_wise=true` to remove the overhead.\n",
            "And if memory is not enough, you can set `force_col_wise=true`.\n",
            "[LightGBM] [Info] Total Bins 10122\n",
            "[LightGBM] [Info] Number of data points in the train set: 34750, number of used features: 521\n",
            "[LightGBM] [Info] Start training from score 0.257359\n"
          ]
        },
        {
          "output_type": "stream",
          "name": "stderr",
          "text": [
            "/usr/local/lib/python3.12/dist-packages/sklearn/utils/validation.py:2739: UserWarning:\n",
            "\n",
            "X does not have valid feature names, but LGBMRegressor was fitted with feature names\n",
            "\n",
            "\rRunning LightGBM:  81%|████████  | 121/150 [02:42<00:39,  1.37s/it]"
          ]
        },
        {
          "output_type": "stream",
          "name": "stdout",
          "text": [
            "[LightGBM] [Info] Auto-choosing row-wise multi-threading, the overhead of testing was 0.004760 seconds.\n",
            "You can set `force_row_wise=true` to remove the overhead.\n",
            "And if memory is not enough, you can set `force_col_wise=true`.\n",
            "[LightGBM] [Info] Total Bins 10122\n",
            "[LightGBM] [Info] Number of data points in the train set: 34750, number of used features: 521\n",
            "[LightGBM] [Info] Start training from score 0.266874\n"
          ]
        },
        {
          "output_type": "stream",
          "name": "stderr",
          "text": [
            "/usr/local/lib/python3.12/dist-packages/sklearn/utils/validation.py:2739: UserWarning:\n",
            "\n",
            "X does not have valid feature names, but LGBMRegressor was fitted with feature names\n",
            "\n",
            "\rRunning LightGBM:  81%|████████▏ | 122/150 [02:43<00:39,  1.41s/it]"
          ]
        },
        {
          "output_type": "stream",
          "name": "stdout",
          "text": [
            "[LightGBM] [Info] Auto-choosing row-wise multi-threading, the overhead of testing was 0.004798 seconds.\n",
            "You can set `force_row_wise=true` to remove the overhead.\n",
            "And if memory is not enough, you can set `force_col_wise=true`.\n",
            "[LightGBM] [Info] Total Bins 10122\n",
            "[LightGBM] [Info] Number of data points in the train set: 34750, number of used features: 521\n",
            "[LightGBM] [Info] Start training from score 0.066495\n"
          ]
        },
        {
          "output_type": "stream",
          "name": "stderr",
          "text": [
            "/usr/local/lib/python3.12/dist-packages/sklearn/utils/validation.py:2739: UserWarning:\n",
            "\n",
            "X does not have valid feature names, but LGBMRegressor was fitted with feature names\n",
            "\n",
            "\rRunning LightGBM:  82%|████████▏ | 123/150 [02:45<00:39,  1.47s/it]"
          ]
        },
        {
          "output_type": "stream",
          "name": "stdout",
          "text": [
            "[LightGBM] [Info] Auto-choosing row-wise multi-threading, the overhead of testing was 0.007351 seconds.\n",
            "You can set `force_row_wise=true` to remove the overhead.\n",
            "And if memory is not enough, you can set `force_col_wise=true`.\n",
            "[LightGBM] [Info] Total Bins 10112\n",
            "[LightGBM] [Info] Number of data points in the train set: 25438, number of used features: 518\n",
            "[LightGBM] [Info] Start training from score 0.106291\n"
          ]
        },
        {
          "output_type": "stream",
          "name": "stderr",
          "text": [
            "/usr/local/lib/python3.12/dist-packages/sklearn/utils/validation.py:2739: UserWarning:\n",
            "\n",
            "X does not have valid feature names, but LGBMRegressor was fitted with feature names\n",
            "\n",
            "\rRunning LightGBM:  83%|████████▎ | 124/150 [02:46<00:37,  1.45s/it]"
          ]
        },
        {
          "output_type": "stream",
          "name": "stdout",
          "text": [
            "[LightGBM] [Info] Auto-choosing row-wise multi-threading, the overhead of testing was 0.005522 seconds.\n",
            "You can set `force_row_wise=true` to remove the overhead.\n",
            "And if memory is not enough, you can set `force_col_wise=true`.\n",
            "[LightGBM] [Info] Total Bins 10112\n",
            "[LightGBM] [Info] Number of data points in the train set: 25438, number of used features: 518\n",
            "[LightGBM] [Info] Start training from score 0.074401\n"
          ]
        },
        {
          "output_type": "stream",
          "name": "stderr",
          "text": [
            "/usr/local/lib/python3.12/dist-packages/sklearn/utils/validation.py:2739: UserWarning:\n",
            "\n",
            "X does not have valid feature names, but LGBMRegressor was fitted with feature names\n",
            "\n",
            "\rRunning LightGBM:  83%|████████▎ | 125/150 [02:47<00:34,  1.39s/it]"
          ]
        },
        {
          "output_type": "stream",
          "name": "stdout",
          "text": [
            "[LightGBM] [Info] Auto-choosing row-wise multi-threading, the overhead of testing was 0.007912 seconds.\n",
            "You can set `force_row_wise=true` to remove the overhead.\n",
            "And if memory is not enough, you can set `force_col_wise=true`.\n",
            "[LightGBM] [Info] Total Bins 10112\n",
            "[LightGBM] [Info] Number of data points in the train set: 25438, number of used features: 518\n",
            "[LightGBM] [Info] Start training from score 0.268979\n"
          ]
        },
        {
          "output_type": "stream",
          "name": "stderr",
          "text": [
            "/usr/local/lib/python3.12/dist-packages/sklearn/utils/validation.py:2739: UserWarning:\n",
            "\n",
            "X does not have valid feature names, but LGBMRegressor was fitted with feature names\n",
            "\n",
            "\rRunning LightGBM:  84%|████████▍ | 126/150 [02:49<00:32,  1.35s/it]"
          ]
        },
        {
          "output_type": "stream",
          "name": "stdout",
          "text": [
            "[LightGBM] [Info] Auto-choosing row-wise multi-threading, the overhead of testing was 0.005552 seconds.\n",
            "You can set `force_row_wise=true` to remove the overhead.\n",
            "And if memory is not enough, you can set `force_col_wise=true`.\n",
            "[LightGBM] [Info] Total Bins 10112\n",
            "[LightGBM] [Info] Number of data points in the train set: 25390, number of used features: 518\n",
            "[LightGBM] [Info] Start training from score 0.211202\n"
          ]
        },
        {
          "output_type": "stream",
          "name": "stderr",
          "text": [
            "/usr/local/lib/python3.12/dist-packages/sklearn/utils/validation.py:2739: UserWarning:\n",
            "\n",
            "X does not have valid feature names, but LGBMRegressor was fitted with feature names\n",
            "\n",
            "\rRunning LightGBM:  85%|████████▍ | 127/150 [02:50<00:30,  1.31s/it]"
          ]
        },
        {
          "output_type": "stream",
          "name": "stdout",
          "text": [
            "[LightGBM] [Info] Auto-choosing row-wise multi-threading, the overhead of testing was 0.006114 seconds.\n",
            "You can set `force_row_wise=true` to remove the overhead.\n",
            "And if memory is not enough, you can set `force_col_wise=true`.\n",
            "[LightGBM] [Info] Total Bins 10116\n",
            "[LightGBM] [Info] Number of data points in the train set: 30190, number of used features: 519\n",
            "[LightGBM] [Info] Start training from score 0.093925\n"
          ]
        },
        {
          "output_type": "stream",
          "name": "stderr",
          "text": [
            "/usr/local/lib/python3.12/dist-packages/sklearn/utils/validation.py:2739: UserWarning:\n",
            "\n",
            "X does not have valid feature names, but LGBMRegressor was fitted with feature names\n",
            "\n",
            "\rRunning LightGBM:  85%|████████▌ | 128/150 [02:51<00:29,  1.35s/it]"
          ]
        },
        {
          "output_type": "stream",
          "name": "stdout",
          "text": [
            "[LightGBM] [Info] Auto-choosing row-wise multi-threading, the overhead of testing was 0.006058 seconds.\n",
            "You can set `force_row_wise=true` to remove the overhead.\n",
            "And if memory is not enough, you can set `force_col_wise=true`.\n",
            "[LightGBM] [Info] Total Bins 10116\n",
            "[LightGBM] [Info] Number of data points in the train set: 30142, number of used features: 519\n",
            "[LightGBM] [Info] Start training from score 0.142023\n"
          ]
        },
        {
          "output_type": "stream",
          "name": "stderr",
          "text": [
            "/usr/local/lib/python3.12/dist-packages/sklearn/utils/validation.py:2739: UserWarning:\n",
            "\n",
            "X does not have valid feature names, but LGBMRegressor was fitted with feature names\n",
            "\n",
            "\rRunning LightGBM:  86%|████████▌ | 129/150 [02:53<00:27,  1.33s/it]"
          ]
        },
        {
          "output_type": "stream",
          "name": "stdout",
          "text": [
            "[LightGBM] [Info] Auto-choosing row-wise multi-threading, the overhead of testing was 0.006677 seconds.\n",
            "You can set `force_row_wise=true` to remove the overhead.\n",
            "And if memory is not enough, you can set `force_col_wise=true`.\n",
            "[LightGBM] [Info] Total Bins 10116\n",
            "[LightGBM] [Info] Number of data points in the train set: 30142, number of used features: 519\n",
            "[LightGBM] [Info] Start training from score 0.104904\n"
          ]
        },
        {
          "output_type": "stream",
          "name": "stderr",
          "text": [
            "/usr/local/lib/python3.12/dist-packages/sklearn/utils/validation.py:2739: UserWarning:\n",
            "\n",
            "X does not have valid feature names, but LGBMRegressor was fitted with feature names\n",
            "\n",
            "\rRunning LightGBM:  87%|████████▋ | 130/150 [02:54<00:26,  1.30s/it]"
          ]
        },
        {
          "output_type": "stream",
          "name": "stdout",
          "text": [
            "[LightGBM] [Info] Auto-choosing row-wise multi-threading, the overhead of testing was 0.004797 seconds.\n",
            "You can set `force_row_wise=true` to remove the overhead.\n",
            "And if memory is not enough, you can set `force_col_wise=true`.\n",
            "[LightGBM] [Info] Total Bins 10122\n",
            "[LightGBM] [Info] Number of data points in the train set: 34750, number of used features: 521\n",
            "[LightGBM] [Info] Start training from score 0.098785\n"
          ]
        },
        {
          "output_type": "stream",
          "name": "stderr",
          "text": [
            "/usr/local/lib/python3.12/dist-packages/sklearn/utils/validation.py:2739: UserWarning:\n",
            "\n",
            "X does not have valid feature names, but LGBMRegressor was fitted with feature names\n",
            "\n",
            "\rRunning LightGBM:  87%|████████▋ | 131/150 [02:55<00:26,  1.38s/it]"
          ]
        },
        {
          "output_type": "stream",
          "name": "stdout",
          "text": [
            "[LightGBM] [Info] Auto-choosing row-wise multi-threading, the overhead of testing was 0.005893 seconds.\n",
            "You can set `force_row_wise=true` to remove the overhead.\n",
            "And if memory is not enough, you can set `force_col_wise=true`.\n",
            "[LightGBM] [Info] Total Bins 10122\n",
            "[LightGBM] [Info] Number of data points in the train set: 34078, number of used features: 521\n",
            "[LightGBM] [Info] Start training from score 0.324165\n"
          ]
        },
        {
          "output_type": "stream",
          "name": "stderr",
          "text": [
            "/usr/local/lib/python3.12/dist-packages/sklearn/utils/validation.py:2739: UserWarning:\n",
            "\n",
            "X does not have valid feature names, but LGBMRegressor was fitted with feature names\n",
            "\n",
            "\rRunning LightGBM:  88%|████████▊ | 132/150 [02:57<00:25,  1.43s/it]"
          ]
        },
        {
          "output_type": "stream",
          "name": "stdout",
          "text": [
            "[LightGBM] [Info] Auto-choosing row-wise multi-threading, the overhead of testing was 0.004510 seconds.\n",
            "You can set `force_row_wise=true` to remove the overhead.\n",
            "And if memory is not enough, you can set `force_col_wise=true`.\n",
            "[LightGBM] [Info] Total Bins 10122\n",
            "[LightGBM] [Info] Number of data points in the train set: 33982, number of used features: 521\n",
            "[LightGBM] [Info] Start training from score 0.433265\n"
          ]
        },
        {
          "output_type": "stream",
          "name": "stderr",
          "text": [
            "/usr/local/lib/python3.12/dist-packages/sklearn/utils/validation.py:2739: UserWarning:\n",
            "\n",
            "X does not have valid feature names, but LGBMRegressor was fitted with feature names\n",
            "\n",
            "\rRunning LightGBM:  89%|████████▊ | 133/150 [02:58<00:23,  1.41s/it]"
          ]
        },
        {
          "output_type": "stream",
          "name": "stdout",
          "text": [
            "[LightGBM] [Info] Auto-choosing row-wise multi-threading, the overhead of testing was 0.006893 seconds.\n",
            "You can set `force_row_wise=true` to remove the overhead.\n",
            "And if memory is not enough, you can set `force_col_wise=true`.\n",
            "[LightGBM] [Info] Total Bins 10121\n",
            "[LightGBM] [Info] Number of data points in the train set: 33502, number of used features: 520\n",
            "[LightGBM] [Info] Start training from score 0.181005\n"
          ]
        },
        {
          "output_type": "stream",
          "name": "stderr",
          "text": [
            "/usr/local/lib/python3.12/dist-packages/sklearn/utils/validation.py:2739: UserWarning:\n",
            "\n",
            "X does not have valid feature names, but LGBMRegressor was fitted with feature names\n",
            "\n",
            "\rRunning LightGBM:  89%|████████▉ | 134/150 [03:00<00:22,  1.38s/it]"
          ]
        },
        {
          "output_type": "stream",
          "name": "stdout",
          "text": [
            "[LightGBM] [Info] Auto-choosing row-wise multi-threading, the overhead of testing was 0.007238 seconds.\n",
            "You can set `force_row_wise=true` to remove the overhead.\n",
            "And if memory is not enough, you can set `force_col_wise=true`.\n",
            "[LightGBM] [Info] Total Bins 10120\n",
            "[LightGBM] [Info] Number of data points in the train set: 33406, number of used features: 520\n",
            "[LightGBM] [Info] Start training from score 0.309022\n"
          ]
        },
        {
          "output_type": "stream",
          "name": "stderr",
          "text": [
            "/usr/local/lib/python3.12/dist-packages/sklearn/utils/validation.py:2739: UserWarning:\n",
            "\n",
            "X does not have valid feature names, but LGBMRegressor was fitted with feature names\n",
            "\n",
            "\rRunning LightGBM:  90%|█████████ | 135/150 [03:01<00:20,  1.35s/it]"
          ]
        },
        {
          "output_type": "stream",
          "name": "stdout",
          "text": [
            "[LightGBM] [Info] Auto-choosing row-wise multi-threading, the overhead of testing was 0.005977 seconds.\n",
            "You can set `force_row_wise=true` to remove the overhead.\n",
            "And if memory is not enough, you can set `force_col_wise=true`.\n",
            "[LightGBM] [Info] Total Bins 10114\n",
            "[LightGBM] [Info] Number of data points in the train set: 27550, number of used features: 518\n",
            "[LightGBM] [Info] Start training from score 0.133903\n"
          ]
        },
        {
          "output_type": "stream",
          "name": "stderr",
          "text": [
            "/usr/local/lib/python3.12/dist-packages/sklearn/utils/validation.py:2739: UserWarning:\n",
            "\n",
            "X does not have valid feature names, but LGBMRegressor was fitted with feature names\n",
            "\n",
            "\rRunning LightGBM:  91%|█████████ | 136/150 [03:02<00:18,  1.30s/it]"
          ]
        },
        {
          "output_type": "stream",
          "name": "stdout",
          "text": [
            "[LightGBM] [Info] Auto-choosing row-wise multi-threading, the overhead of testing was 0.005706 seconds.\n",
            "You can set `force_row_wise=true` to remove the overhead.\n",
            "And if memory is not enough, you can set `force_col_wise=true`.\n",
            "[LightGBM] [Info] Total Bins 10114\n",
            "[LightGBM] [Info] Number of data points in the train set: 27502, number of used features: 518\n",
            "[LightGBM] [Info] Start training from score 0.158466\n"
          ]
        },
        {
          "output_type": "stream",
          "name": "stderr",
          "text": [
            "/usr/local/lib/python3.12/dist-packages/sklearn/utils/validation.py:2739: UserWarning:\n",
            "\n",
            "X does not have valid feature names, but LGBMRegressor was fitted with feature names\n",
            "\n",
            "\rRunning LightGBM:  91%|█████████▏| 137/150 [03:03<00:16,  1.29s/it]"
          ]
        },
        {
          "output_type": "stream",
          "name": "stdout",
          "text": [
            "[LightGBM] [Info] Auto-choosing row-wise multi-threading, the overhead of testing was 0.006200 seconds.\n",
            "You can set `force_row_wise=true` to remove the overhead.\n",
            "And if memory is not enough, you can set `force_col_wise=true`.\n",
            "[LightGBM] [Info] Total Bins 10114\n",
            "[LightGBM] [Info] Number of data points in the train set: 27502, number of used features: 518\n",
            "[LightGBM] [Info] Start training from score 0.299455\n"
          ]
        },
        {
          "output_type": "stream",
          "name": "stderr",
          "text": [
            "/usr/local/lib/python3.12/dist-packages/sklearn/utils/validation.py:2739: UserWarning:\n",
            "\n",
            "X does not have valid feature names, but LGBMRegressor was fitted with feature names\n",
            "\n",
            "\rRunning LightGBM:  92%|█████████▏| 138/150 [03:05<00:15,  1.29s/it]"
          ]
        },
        {
          "output_type": "stream",
          "name": "stdout",
          "text": [
            "[LightGBM] [Info] Auto-choosing row-wise multi-threading, the overhead of testing was 0.005572 seconds.\n",
            "You can set `force_row_wise=true` to remove the overhead.\n",
            "And if memory is not enough, you can set `force_col_wise=true`.\n",
            "[LightGBM] [Info] Total Bins 10114\n",
            "[LightGBM] [Info] Number of data points in the train set: 27502, number of used features: 518\n",
            "[LightGBM] [Info] Start training from score 0.119169\n"
          ]
        },
        {
          "output_type": "stream",
          "name": "stderr",
          "text": [
            "/usr/local/lib/python3.12/dist-packages/sklearn/utils/validation.py:2739: UserWarning:\n",
            "\n",
            "X does not have valid feature names, but LGBMRegressor was fitted with feature names\n",
            "\n",
            "\rRunning LightGBM:  93%|█████████▎| 139/150 [03:06<00:14,  1.29s/it]"
          ]
        },
        {
          "output_type": "stream",
          "name": "stdout",
          "text": [
            "[LightGBM] [Info] Auto-choosing row-wise multi-threading, the overhead of testing was 0.006922 seconds.\n",
            "You can set `force_row_wise=true` to remove the overhead.\n",
            "And if memory is not enough, you can set `force_col_wise=true`.\n",
            "[LightGBM] [Info] Total Bins 10119\n",
            "[LightGBM] [Info] Number of data points in the train set: 33166, number of used features: 520\n",
            "[LightGBM] [Info] Start training from score 0.134120\n"
          ]
        },
        {
          "output_type": "stream",
          "name": "stderr",
          "text": [
            "/usr/local/lib/python3.12/dist-packages/sklearn/utils/validation.py:2739: UserWarning:\n",
            "\n",
            "X does not have valid feature names, but LGBMRegressor was fitted with feature names\n",
            "\n",
            "\rRunning LightGBM:  93%|█████████▎| 140/150 [03:07<00:13,  1.36s/it]"
          ]
        },
        {
          "output_type": "stream",
          "name": "stdout",
          "text": [
            "[LightGBM] [Info] Auto-choosing row-wise multi-threading, the overhead of testing was 0.010102 seconds.\n",
            "You can set `force_row_wise=true` to remove the overhead.\n",
            "And if memory is not enough, you can set `force_col_wise=true`.\n",
            "[LightGBM] [Info] Total Bins 10120\n",
            "[LightGBM] [Info] Number of data points in the train set: 33070, number of used features: 520\n",
            "[LightGBM] [Info] Start training from score 0.081433\n"
          ]
        },
        {
          "output_type": "stream",
          "name": "stderr",
          "text": [
            "/usr/local/lib/python3.12/dist-packages/sklearn/utils/validation.py:2739: UserWarning:\n",
            "\n",
            "X does not have valid feature names, but LGBMRegressor was fitted with feature names\n",
            "\n",
            "\rRunning LightGBM:  94%|█████████▍| 141/150 [03:09<00:12,  1.39s/it]"
          ]
        },
        {
          "output_type": "stream",
          "name": "stdout",
          "text": [
            "[LightGBM] [Info] Auto-choosing row-wise multi-threading, the overhead of testing was 0.010446 seconds.\n",
            "You can set `force_row_wise=true` to remove the overhead.\n",
            "And if memory is not enough, you can set `force_col_wise=true`.\n",
            "[LightGBM] [Info] Total Bins 10120\n",
            "[LightGBM] [Info] Number of data points in the train set: 33070, number of used features: 520\n",
            "[LightGBM] [Info] Start training from score 0.454610\n"
          ]
        },
        {
          "output_type": "stream",
          "name": "stderr",
          "text": [
            "/usr/local/lib/python3.12/dist-packages/sklearn/utils/validation.py:2739: UserWarning:\n",
            "\n",
            "X does not have valid feature names, but LGBMRegressor was fitted with feature names\n",
            "\n",
            "\rRunning LightGBM:  95%|█████████▍| 142/150 [03:10<00:11,  1.41s/it]"
          ]
        },
        {
          "output_type": "stream",
          "name": "stdout",
          "text": [
            "[LightGBM] [Info] Auto-choosing row-wise multi-threading, the overhead of testing was 0.006574 seconds.\n",
            "You can set `force_row_wise=true` to remove the overhead.\n",
            "And if memory is not enough, you can set `force_col_wise=true`.\n",
            "[LightGBM] [Info] Total Bins 10120\n",
            "[LightGBM] [Info] Number of data points in the train set: 32638, number of used features: 520\n",
            "[LightGBM] [Info] Start training from score 0.646448\n"
          ]
        },
        {
          "output_type": "stream",
          "name": "stderr",
          "text": [
            "/usr/local/lib/python3.12/dist-packages/sklearn/utils/validation.py:2739: UserWarning:\n",
            "\n",
            "X does not have valid feature names, but LGBMRegressor was fitted with feature names\n",
            "\n",
            "\rRunning LightGBM:  95%|█████████▌| 143/150 [03:12<00:10,  1.44s/it]"
          ]
        },
        {
          "output_type": "stream",
          "name": "stdout",
          "text": [
            "[LightGBM] [Info] Auto-choosing row-wise multi-threading, the overhead of testing was 0.006347 seconds.\n",
            "You can set `force_row_wise=true` to remove the overhead.\n",
            "And if memory is not enough, you can set `force_col_wise=true`.\n",
            "[LightGBM] [Info] Total Bins 10120\n",
            "[LightGBM] [Info] Number of data points in the train set: 32590, number of used features: 520\n",
            "[LightGBM] [Info] Start training from score 0.090897\n"
          ]
        },
        {
          "output_type": "stream",
          "name": "stderr",
          "text": [
            "/usr/local/lib/python3.12/dist-packages/sklearn/utils/validation.py:2739: UserWarning:\n",
            "\n",
            "X does not have valid feature names, but LGBMRegressor was fitted with feature names\n",
            "\n",
            "\rRunning LightGBM:  96%|█████████▌| 144/150 [03:13<00:08,  1.47s/it]"
          ]
        },
        {
          "output_type": "stream",
          "name": "stdout",
          "text": [
            "[LightGBM] [Info] Auto-choosing row-wise multi-threading, the overhead of testing was 0.007331 seconds.\n",
            "You can set `force_row_wise=true` to remove the overhead.\n",
            "And if memory is not enough, you can set `force_col_wise=true`.\n",
            "[LightGBM] [Info] Total Bins 10120\n",
            "[LightGBM] [Info] Number of data points in the train set: 32302, number of used features: 520\n",
            "[LightGBM] [Info] Start training from score 0.076924\n"
          ]
        },
        {
          "output_type": "stream",
          "name": "stderr",
          "text": [
            "/usr/local/lib/python3.12/dist-packages/sklearn/utils/validation.py:2739: UserWarning:\n",
            "\n",
            "X does not have valid feature names, but LGBMRegressor was fitted with feature names\n",
            "\n",
            "\rRunning LightGBM:  97%|█████████▋| 145/150 [03:15<00:07,  1.43s/it]"
          ]
        },
        {
          "output_type": "stream",
          "name": "stdout",
          "text": [
            "[LightGBM] [Info] Auto-choosing row-wise multi-threading, the overhead of testing was 0.007045 seconds.\n",
            "You can set `force_row_wise=true` to remove the overhead.\n",
            "And if memory is not enough, you can set `force_col_wise=true`.\n",
            "[LightGBM] [Info] Total Bins 10120\n",
            "[LightGBM] [Info] Number of data points in the train set: 32254, number of used features: 520\n",
            "[LightGBM] [Info] Start training from score 0.187922\n"
          ]
        },
        {
          "output_type": "stream",
          "name": "stderr",
          "text": [
            "/usr/local/lib/python3.12/dist-packages/sklearn/utils/validation.py:2739: UserWarning:\n",
            "\n",
            "X does not have valid feature names, but LGBMRegressor was fitted with feature names\n",
            "\n",
            "\rRunning LightGBM:  97%|█████████▋| 146/150 [03:16<00:05,  1.38s/it]"
          ]
        },
        {
          "output_type": "stream",
          "name": "stdout",
          "text": [
            "[LightGBM] [Info] Auto-choosing row-wise multi-threading, the overhead of testing was 0.006457 seconds.\n",
            "You can set `force_row_wise=true` to remove the overhead.\n",
            "And if memory is not enough, you can set `force_col_wise=true`.\n",
            "[LightGBM] [Info] Total Bins 10120\n",
            "[LightGBM] [Info] Number of data points in the train set: 32158, number of used features: 520\n",
            "[LightGBM] [Info] Start training from score 0.201968\n"
          ]
        },
        {
          "output_type": "stream",
          "name": "stderr",
          "text": [
            "/usr/local/lib/python3.12/dist-packages/sklearn/utils/validation.py:2739: UserWarning:\n",
            "\n",
            "X does not have valid feature names, but LGBMRegressor was fitted with feature names\n",
            "\n",
            "\rRunning LightGBM:  98%|█████████▊| 147/150 [03:17<00:04,  1.34s/it]"
          ]
        },
        {
          "output_type": "stream",
          "name": "stdout",
          "text": [
            "[LightGBM] [Info] Auto-choosing row-wise multi-threading, the overhead of testing was 0.006426 seconds.\n",
            "You can set `force_row_wise=true` to remove the overhead.\n",
            "And if memory is not enough, you can set `force_col_wise=true`.\n",
            "[LightGBM] [Info] Total Bins 10115\n",
            "[LightGBM] [Info] Number of data points in the train set: 29614, number of used features: 519\n",
            "[LightGBM] [Info] Start training from score 0.127198\n"
          ]
        },
        {
          "output_type": "stream",
          "name": "stderr",
          "text": [
            "/usr/local/lib/python3.12/dist-packages/sklearn/utils/validation.py:2739: UserWarning:\n",
            "\n",
            "X does not have valid feature names, but LGBMRegressor was fitted with feature names\n",
            "\n",
            "\rRunning LightGBM:  99%|█████████▊| 148/150 [03:19<00:02,  1.34s/it]"
          ]
        },
        {
          "output_type": "stream",
          "name": "stdout",
          "text": [
            "[LightGBM] [Info] Auto-choosing row-wise multi-threading, the overhead of testing was 0.008658 seconds.\n",
            "You can set `force_row_wise=true` to remove the overhead.\n",
            "And if memory is not enough, you can set `force_col_wise=true`.\n",
            "[LightGBM] [Info] Total Bins 10114\n",
            "[LightGBM] [Info] Number of data points in the train set: 29566, number of used features: 519\n",
            "[LightGBM] [Info] Start training from score 0.172397\n"
          ]
        },
        {
          "output_type": "stream",
          "name": "stderr",
          "text": [
            "/usr/local/lib/python3.12/dist-packages/sklearn/utils/validation.py:2739: UserWarning:\n",
            "\n",
            "X does not have valid feature names, but LGBMRegressor was fitted with feature names\n",
            "\n",
            "\rRunning LightGBM:  99%|█████████▉| 149/150 [03:20<00:01,  1.40s/it]"
          ]
        },
        {
          "output_type": "stream",
          "name": "stdout",
          "text": [
            "[LightGBM] [Info] Auto-choosing row-wise multi-threading, the overhead of testing was 0.006268 seconds.\n",
            "You can set `force_row_wise=true` to remove the overhead.\n",
            "And if memory is not enough, you can set `force_col_wise=true`.\n",
            "[LightGBM] [Info] Total Bins 10114\n",
            "[LightGBM] [Info] Number of data points in the train set: 29566, number of used features: 519\n",
            "[LightGBM] [Info] Start training from score 0.159199\n"
          ]
        },
        {
          "output_type": "stream",
          "name": "stderr",
          "text": [
            "/usr/local/lib/python3.12/dist-packages/sklearn/utils/validation.py:2739: UserWarning:\n",
            "\n",
            "X does not have valid feature names, but LGBMRegressor was fitted with feature names\n",
            "\n",
            "Running LightGBM: 100%|██████████| 150/150 [03:22<00:00,  1.35s/it]\n"
          ]
        }
      ]
    },
    {
      "cell_type": "code",
      "source": [
        "average_metrics_by_algorithm = all_metrics.groupby('Algorithm').mean(numeric_only=True)\n",
        "display(average_metrics_by_algorithm)"
      ],
      "metadata": {
        "colab": {
          "base_uri": "https://localhost:8080/",
          "height": 143
        },
        "id": "WgI6mW-zXDIu",
        "outputId": "5a1302f3-c7d1-4e07-c558-deb84be294e1"
      },
      "execution_count": null,
      "outputs": [
        {
          "output_type": "display_data",
          "data": {
            "text/plain": [
              "                MAE      RMSE      WAPE      MASE  Forecast Bias(%)\n",
              "Algorithm                                                          \n",
              "LassoCV    0.148453  0.224453  0.669433  1.832313          6.471987\n",
              "LightGBM   0.076873  0.137420  0.359733  0.972353         -0.931067"
            ],
            "text/html": [
              "\n",
              "  <div id=\"df-d3433b60-42da-4f9c-866e-16830d7bf3c7\" class=\"colab-df-container\">\n",
              "    <div>\n",
              "<style scoped>\n",
              "    .dataframe tbody tr th:only-of-type {\n",
              "        vertical-align: middle;\n",
              "    }\n",
              "\n",
              "    .dataframe tbody tr th {\n",
              "        vertical-align: top;\n",
              "    }\n",
              "\n",
              "    .dataframe thead th {\n",
              "        text-align: right;\n",
              "    }\n",
              "</style>\n",
              "<table border=\"1\" class=\"dataframe\">\n",
              "  <thead>\n",
              "    <tr style=\"text-align: right;\">\n",
              "      <th></th>\n",
              "      <th>MAE</th>\n",
              "      <th>RMSE</th>\n",
              "      <th>WAPE</th>\n",
              "      <th>MASE</th>\n",
              "      <th>Forecast Bias(%)</th>\n",
              "    </tr>\n",
              "    <tr>\n",
              "      <th>Algorithm</th>\n",
              "      <th></th>\n",
              "      <th></th>\n",
              "      <th></th>\n",
              "      <th></th>\n",
              "      <th></th>\n",
              "    </tr>\n",
              "  </thead>\n",
              "  <tbody>\n",
              "    <tr>\n",
              "      <th>LassoCV</th>\n",
              "      <td>0.148453</td>\n",
              "      <td>0.224453</td>\n",
              "      <td>0.669433</td>\n",
              "      <td>1.832313</td>\n",
              "      <td>6.471987</td>\n",
              "    </tr>\n",
              "    <tr>\n",
              "      <th>LightGBM</th>\n",
              "      <td>0.076873</td>\n",
              "      <td>0.137420</td>\n",
              "      <td>0.359733</td>\n",
              "      <td>0.972353</td>\n",
              "      <td>-0.931067</td>\n",
              "    </tr>\n",
              "  </tbody>\n",
              "</table>\n",
              "</div>\n",
              "    <div class=\"colab-df-buttons\">\n",
              "\n",
              "  <div class=\"colab-df-container\">\n",
              "    <button class=\"colab-df-convert\" onclick=\"convertToInteractive('df-d3433b60-42da-4f9c-866e-16830d7bf3c7')\"\n",
              "            title=\"Convert this dataframe to an interactive table.\"\n",
              "            style=\"display:none;\">\n",
              "\n",
              "  <svg xmlns=\"http://www.w3.org/2000/svg\" height=\"24px\" viewBox=\"0 -960 960 960\">\n",
              "    <path d=\"M120-120v-720h720v720H120Zm60-500h600v-160H180v160Zm220 220h160v-160H400v160Zm0 220h160v-160H400v160ZM180-400h160v-160H180v160Zm440 0h160v-160H620v160ZM180-180h160v-160H180v160Zm440 0h160v-160H620v160Z\"/>\n",
              "  </svg>\n",
              "    </button>\n",
              "\n",
              "  <style>\n",
              "    .colab-df-container {\n",
              "      display:flex;\n",
              "      gap: 12px;\n",
              "    }\n",
              "\n",
              "    .colab-df-convert {\n",
              "      background-color: #E8F0FE;\n",
              "      border: none;\n",
              "      border-radius: 50%;\n",
              "      cursor: pointer;\n",
              "      display: none;\n",
              "      fill: #1967D2;\n",
              "      height: 32px;\n",
              "      padding: 0 0 0 0;\n",
              "      width: 32px;\n",
              "    }\n",
              "\n",
              "    .colab-df-convert:hover {\n",
              "      background-color: #E2EBFA;\n",
              "      box-shadow: 0px 1px 2px rgba(60, 64, 67, 0.3), 0px 1px 3px 1px rgba(60, 64, 67, 0.15);\n",
              "      fill: #174EA6;\n",
              "    }\n",
              "\n",
              "    .colab-df-buttons div {\n",
              "      margin-bottom: 4px;\n",
              "    }\n",
              "\n",
              "    [theme=dark] .colab-df-convert {\n",
              "      background-color: #3B4455;\n",
              "      fill: #D2E3FC;\n",
              "    }\n",
              "\n",
              "    [theme=dark] .colab-df-convert:hover {\n",
              "      background-color: #434B5C;\n",
              "      box-shadow: 0px 1px 3px 1px rgba(0, 0, 0, 0.15);\n",
              "      filter: drop-shadow(0px 1px 2px rgba(0, 0, 0, 0.3));\n",
              "      fill: #FFFFFF;\n",
              "    }\n",
              "  </style>\n",
              "\n",
              "    <script>\n",
              "      const buttonEl =\n",
              "        document.querySelector('#df-d3433b60-42da-4f9c-866e-16830d7bf3c7 button.colab-df-convert');\n",
              "      buttonEl.style.display =\n",
              "        google.colab.kernel.accessAllowed ? 'block' : 'none';\n",
              "\n",
              "      async function convertToInteractive(key) {\n",
              "        const element = document.querySelector('#df-d3433b60-42da-4f9c-866e-16830d7bf3c7');\n",
              "        const dataTable =\n",
              "          await google.colab.kernel.invokeFunction('convertToInteractive',\n",
              "                                                    [key], {});\n",
              "        if (!dataTable) return;\n",
              "\n",
              "        const docLinkHtml = 'Like what you see? Visit the ' +\n",
              "          '<a target=\"_blank\" href=https://colab.research.google.com/notebooks/data_table.ipynb>data table notebook</a>'\n",
              "          + ' to learn more about interactive tables.';\n",
              "        element.innerHTML = '';\n",
              "        dataTable['output_type'] = 'display_data';\n",
              "        await google.colab.output.renderOutput(dataTable, element);\n",
              "        const docLink = document.createElement('div');\n",
              "        docLink.innerHTML = docLinkHtml;\n",
              "        element.appendChild(docLink);\n",
              "      }\n",
              "    </script>\n",
              "  </div>\n",
              "\n",
              "\n",
              "    <div id=\"df-6f59f199-6884-475b-b83f-c5de3bf7e857\">\n",
              "      <button class=\"colab-df-quickchart\" onclick=\"quickchart('df-6f59f199-6884-475b-b83f-c5de3bf7e857')\"\n",
              "                title=\"Suggest charts\"\n",
              "                style=\"display:none;\">\n",
              "\n",
              "<svg xmlns=\"http://www.w3.org/2000/svg\" height=\"24px\"viewBox=\"0 0 24 24\"\n",
              "     width=\"24px\">\n",
              "    <g>\n",
              "        <path d=\"M19 3H5c-1.1 0-2 .9-2 2v14c0 1.1.9 2 2 2h14c1.1 0 2-.9 2-2V5c0-1.1-.9-2-2-2zM9 17H7v-7h2v7zm4 0h-2V7h2v10zm4 0h-2v-4h2v4z\"/>\n",
              "    </g>\n",
              "</svg>\n",
              "      </button>\n",
              "\n",
              "<style>\n",
              "  .colab-df-quickchart {\n",
              "      --bg-color: #E8F0FE;\n",
              "      --fill-color: #1967D2;\n",
              "      --hover-bg-color: #E2EBFA;\n",
              "      --hover-fill-color: #174EA6;\n",
              "      --disabled-fill-color: #AAA;\n",
              "      --disabled-bg-color: #DDD;\n",
              "  }\n",
              "\n",
              "  [theme=dark] .colab-df-quickchart {\n",
              "      --bg-color: #3B4455;\n",
              "      --fill-color: #D2E3FC;\n",
              "      --hover-bg-color: #434B5C;\n",
              "      --hover-fill-color: #FFFFFF;\n",
              "      --disabled-bg-color: #3B4455;\n",
              "      --disabled-fill-color: #666;\n",
              "  }\n",
              "\n",
              "  .colab-df-quickchart {\n",
              "    background-color: var(--bg-color);\n",
              "    border: none;\n",
              "    border-radius: 50%;\n",
              "    cursor: pointer;\n",
              "    display: none;\n",
              "    fill: var(--fill-color);\n",
              "    height: 32px;\n",
              "    padding: 0;\n",
              "    width: 32px;\n",
              "  }\n",
              "\n",
              "  .colab-df-quickchart:hover {\n",
              "    background-color: var(--hover-bg-color);\n",
              "    box-shadow: 0 1px 2px rgba(60, 64, 67, 0.3), 0 1px 3px 1px rgba(60, 64, 67, 0.15);\n",
              "    fill: var(--button-hover-fill-color);\n",
              "  }\n",
              "\n",
              "  .colab-df-quickchart-complete:disabled,\n",
              "  .colab-df-quickchart-complete:disabled:hover {\n",
              "    background-color: var(--disabled-bg-color);\n",
              "    fill: var(--disabled-fill-color);\n",
              "    box-shadow: none;\n",
              "  }\n",
              "\n",
              "  .colab-df-spinner {\n",
              "    border: 2px solid var(--fill-color);\n",
              "    border-color: transparent;\n",
              "    border-bottom-color: var(--fill-color);\n",
              "    animation:\n",
              "      spin 1s steps(1) infinite;\n",
              "  }\n",
              "\n",
              "  @keyframes spin {\n",
              "    0% {\n",
              "      border-color: transparent;\n",
              "      border-bottom-color: var(--fill-color);\n",
              "      border-left-color: var(--fill-color);\n",
              "    }\n",
              "    20% {\n",
              "      border-color: transparent;\n",
              "      border-left-color: var(--fill-color);\n",
              "      border-top-color: var(--fill-color);\n",
              "    }\n",
              "    30% {\n",
              "      border-color: transparent;\n",
              "      border-left-color: var(--fill-color);\n",
              "      border-top-color: var(--fill-color);\n",
              "      border-right-color: var(--fill-color);\n",
              "    }\n",
              "    40% {\n",
              "      border-color: transparent;\n",
              "      border-right-color: var(--fill-color);\n",
              "      border-top-color: var(--fill-color);\n",
              "    }\n",
              "    60% {\n",
              "      border-color: transparent;\n",
              "      border-right-color: var(--fill-color);\n",
              "    }\n",
              "    80% {\n",
              "      border-color: transparent;\n",
              "      border-right-color: var(--fill-color);\n",
              "      border-bottom-color: var(--fill-color);\n",
              "    }\n",
              "    90% {\n",
              "      border-color: transparent;\n",
              "      border-bottom-color: var(--fill-color);\n",
              "    }\n",
              "  }\n",
              "</style>\n",
              "\n",
              "      <script>\n",
              "        async function quickchart(key) {\n",
              "          const quickchartButtonEl =\n",
              "            document.querySelector('#' + key + ' button');\n",
              "          quickchartButtonEl.disabled = true;  // To prevent multiple clicks.\n",
              "          quickchartButtonEl.classList.add('colab-df-spinner');\n",
              "          try {\n",
              "            const charts = await google.colab.kernel.invokeFunction(\n",
              "                'suggestCharts', [key], {});\n",
              "          } catch (error) {\n",
              "            console.error('Error during call to suggestCharts:', error);\n",
              "          }\n",
              "          quickchartButtonEl.classList.remove('colab-df-spinner');\n",
              "          quickchartButtonEl.classList.add('colab-df-quickchart-complete');\n",
              "        }\n",
              "        (() => {\n",
              "          let quickchartButtonEl =\n",
              "            document.querySelector('#df-6f59f199-6884-475b-b83f-c5de3bf7e857 button');\n",
              "          quickchartButtonEl.style.display =\n",
              "            google.colab.kernel.accessAllowed ? 'block' : 'none';\n",
              "        })();\n",
              "      </script>\n",
              "    </div>\n",
              "\n",
              "  <div id=\"id_e683617c-2508-4541-9174-3fb57c4a2c75\">\n",
              "    <style>\n",
              "      .colab-df-generate {\n",
              "        background-color: #E8F0FE;\n",
              "        border: none;\n",
              "        border-radius: 50%;\n",
              "        cursor: pointer;\n",
              "        display: none;\n",
              "        fill: #1967D2;\n",
              "        height: 32px;\n",
              "        padding: 0 0 0 0;\n",
              "        width: 32px;\n",
              "      }\n",
              "\n",
              "      .colab-df-generate:hover {\n",
              "        background-color: #E2EBFA;\n",
              "        box-shadow: 0px 1px 2px rgba(60, 64, 67, 0.3), 0px 1px 3px 1px rgba(60, 64, 67, 0.15);\n",
              "        fill: #174EA6;\n",
              "      }\n",
              "\n",
              "      [theme=dark] .colab-df-generate {\n",
              "        background-color: #3B4455;\n",
              "        fill: #D2E3FC;\n",
              "      }\n",
              "\n",
              "      [theme=dark] .colab-df-generate:hover {\n",
              "        background-color: #434B5C;\n",
              "        box-shadow: 0px 1px 3px 1px rgba(0, 0, 0, 0.15);\n",
              "        filter: drop-shadow(0px 1px 2px rgba(0, 0, 0, 0.3));\n",
              "        fill: #FFFFFF;\n",
              "      }\n",
              "    </style>\n",
              "    <button class=\"colab-df-generate\" onclick=\"generateWithVariable('average_metrics_by_algorithm')\"\n",
              "            title=\"Generate code using this dataframe.\"\n",
              "            style=\"display:none;\">\n",
              "\n",
              "  <svg xmlns=\"http://www.w3.org/2000/svg\" height=\"24px\"viewBox=\"0 0 24 24\"\n",
              "       width=\"24px\">\n",
              "    <path d=\"M7,19H8.4L18.45,9,17,7.55,7,17.6ZM5,21V16.75L18.45,3.32a2,2,0,0,1,2.83,0l1.4,1.43a1.91,1.91,0,0,1,.58,1.4,1.91,1.91,0,0,1-.58,1.4L9.25,21ZM18.45,9,17,7.55Zm-12,3A5.31,5.31,0,0,0,4.9,8.1,5.31,5.31,0,0,0,1,6.5,5.31,5.31,0,0,0,4.9,4.9,5.31,5.31,0,0,0,6.5,1,5.31,5.31,0,0,0,8.1,4.9,5.31,5.31,0,0,0,12,6.5,5.46,5.46,0,0,0,6.5,12Z\"/>\n",
              "  </svg>\n",
              "    </button>\n",
              "    <script>\n",
              "      (() => {\n",
              "      const buttonEl =\n",
              "        document.querySelector('#id_e683617c-2508-4541-9174-3fb57c4a2c75 button.colab-df-generate');\n",
              "      buttonEl.style.display =\n",
              "        google.colab.kernel.accessAllowed ? 'block' : 'none';\n",
              "\n",
              "      buttonEl.onclick = () => {\n",
              "        google.colab.notebook.generateWithVariable('average_metrics_by_algorithm');\n",
              "      }\n",
              "      })();\n",
              "    </script>\n",
              "  </div>\n",
              "\n",
              "    </div>\n",
              "  </div>\n"
            ],
            "application/vnd.google.colaboratory.intrinsic+json": {
              "type": "dataframe",
              "variable_name": "average_metrics_by_algorithm",
              "summary": "{\n  \"name\": \"average_metrics_by_algorithm\",\n  \"rows\": 2,\n  \"fields\": [\n    {\n      \"column\": \"Algorithm\",\n      \"properties\": {\n        \"dtype\": \"string\",\n        \"num_unique_values\": 2,\n        \"samples\": [\n          \"LightGBM\",\n          \"LassoCV\"\n        ],\n        \"semantic_type\": \"\",\n        \"description\": \"\"\n      }\n    },\n    {\n      \"column\": \"MAE\",\n      \"properties\": {\n        \"dtype\": \"number\",\n        \"std\": 0.050614703397333066,\n        \"min\": 0.07687333333333334,\n        \"max\": 0.14845333333333333,\n        \"num_unique_values\": 2,\n        \"samples\": [\n          0.07687333333333334,\n          0.14845333333333333\n        ],\n        \"semantic_type\": \"\",\n        \"description\": \"\"\n      }\n    },\n    {\n      \"column\": \"RMSE\",\n      \"properties\": {\n        \"dtype\": \"number\",\n        \"std\": 0.0615418601892692,\n        \"min\": 0.13742,\n        \"max\": 0.22445333333333334,\n        \"num_unique_values\": 2,\n        \"samples\": [\n          0.13742,\n          0.22445333333333334\n        ],\n        \"semantic_type\": \"\",\n        \"description\": \"\"\n      }\n    },\n    {\n      \"column\": \"WAPE\",\n      \"properties\": {\n        \"dtype\": \"number\",\n        \"std\": 0.21899097013347374,\n        \"min\": 0.35973333333333335,\n        \"max\": 0.6694333333333333,\n        \"num_unique_values\": 2,\n        \"samples\": [\n          0.35973333333333335,\n          0.6694333333333333\n        ],\n        \"semantic_type\": \"\",\n        \"description\": \"\"\n      }\n    },\n    {\n      \"column\": \"MASE\",\n      \"properties\": {\n        \"dtype\": \"number\",\n        \"std\": 0.6080835475491833,\n        \"min\": 0.9723533333333334,\n        \"max\": 1.8323133333333332,\n        \"num_unique_values\": 2,\n        \"samples\": [\n          0.9723533333333334,\n          1.8323133333333332\n        ],\n        \"semantic_type\": \"\",\n        \"description\": \"\"\n      }\n    },\n    {\n      \"column\": \"Forecast Bias(%)\",\n      \"properties\": {\n        \"dtype\": \"number\",\n        \"std\": 5.234749213485674,\n        \"min\": -0.9310666666666668,\n        \"max\": 6.471986666666667,\n        \"num_unique_values\": 2,\n        \"samples\": [\n          -0.9310666666666668,\n          6.471986666666667\n        ],\n        \"semantic_type\": \"\",\n        \"description\": \"\"\n      }\n    }\n  ]\n}"
            }
          },
          "metadata": {}
        }
      ]
    },
    {
      "cell_type": "markdown",
      "source": [
        "# 3). Ensemble"
      ],
      "metadata": {
        "id": "R_CrbJZWaEAm"
      }
    },
    {
      "cell_type": "markdown",
      "source": [
        "## a). Simple hill climbing"
      ],
      "metadata": {
        "id": "sldb_tsla4r3"
      }
    },
    {
      "cell_type": "code",
      "source": [
        "#@title Digraph: greedy_ensemble_selection\n",
        "from graphviz import Digraph\n",
        "\n",
        "dot = Digraph(\"hill_climb\", format=\"png\")\n",
        "dot.attr(rankdir=\"TB\", size=\"8,6\")  # top to bottom layout\n",
        "\n",
        "# -------------------------\n",
        "# Nodes\n",
        "# -------------------------\n",
        "dot.node(\"M1\", \"Model M1\\nRMSE = 1.10\", shape=\"ellipse\")\n",
        "dot.node(\"M2\", \"Model M2\\nRMSE = 0.98\", shape=\"ellipse\")\n",
        "dot.node(\"M3\", \"Model M3\\nRMSE = 0.95 ✅ (Best)\", shape=\"ellipse\", style=\"filled\", fillcolor=\"lightgreen\")\n",
        "dot.node(\"M4\", \"Model M4\\nRMSE = 1.02\", shape=\"ellipse\")\n",
        "\n",
        "# Selection decision (highlight M3 as the best)\n",
        "dot.node(\"M3_SELECTED\", \"Selected Start: M3\\n(Lowest RMSE = 0.95)\", shape=\"box\", style=\"filled\", fillcolor=\"lightgray\")\n",
        "\n",
        "# Connect all models to selection node\n",
        "dot.edge(\"M1\", \"M3_SELECTED\", label=\"compare\")\n",
        "dot.edge(\"M2\", \"M3_SELECTED\", label=\"compare\")\n",
        "dot.edge(\"M3\", \"M3_SELECTED\", label=\"selected\", color=\"green\", penwidth=\"2\")\n",
        "dot.edge(\"M4\", \"M3_SELECTED\", label=\"compare\")\n",
        "\n",
        "# Candidate combinations\n",
        "dot.node(\"M3_M1\", \"Try M3 + M1\\nRMSE = 0.90 ✅ (Best)\", shape=\"ellipse\", fillcolor=\"lightblue\", style=\"filled\")\n",
        "dot.node(\"M3_M2\", \"Try M3 + M2\\nRMSE = 0.92\", shape=\"ellipse\")\n",
        "dot.node(\"M3_M4\", \"Try M3 + M4\\nRMSE = 0.95\", shape=\"ellipse\")\n",
        "\n",
        "# Selected path (M3+M1)\n",
        "dot.node(\"M3_M1_FINAL\", \"Selected: M3 + M1\\n→ Move Forward\", shape=\"box\", style=\"filled\", fillcolor=\"lightgreen\")\n",
        "\n",
        "# Next round of attempts\n",
        "dot.node(\"M3_M1_M2\", \"Try M3 + M1 + M2\\nRMSE = 0.91 ❌\", shape=\"ellipse\")\n",
        "dot.node(\"M3_M1_M4\", \"Try M3 + M1 + M4\\nRMSE = 0.92 ❌\", shape=\"ellipse\")\n",
        "\n",
        "# Hidden better combination (global optimum)\n",
        "dot.node(\"GLOBAL\", \"M3 + M1 + M2 + M4\\nRMSE = 0.85 ⭐\\n(Global Optimum - Unexplored)\",\n",
        "         shape=\"ellipse\", style=\"dashed\")\n",
        "\n",
        "# -------------------------\n",
        "# Edges\n",
        "# -------------------------\n",
        "# Stage 1: initial model to all candidates\n",
        "dot.edge(\"M3_SELECTED\", \"M3_M1\", label=\"Candidate 1\")\n",
        "dot.edge(\"M3_SELECTED\", \"M3_M2\", label=\"Candidate 2\")\n",
        "dot.edge(\"M3_SELECTED\", \"M3_M4\", label=\"Candidate 3\")\n",
        "\n",
        "# Selection decision\n",
        "dot.edge(\"M3_M1\", \"M3_M1_FINAL\", label=\"Select best (lowest RMSE)\", color=\"green\", penwidth=\"2\")\n",
        "\n",
        "# Stage 2: new round\n",
        "dot.edge(\"M3_M1_FINAL\", \"M3_M1_M2\", label=\"Next candidates\")\n",
        "dot.edge(\"M3_M1_FINAL\", \"M3_M1_M4\", label=\"Next candidates\")\n",
        "\n",
        "# Unexplored global optimum\n",
        "dot.edge(\"M3_M1_M2\", \"GLOBAL\", style=\"dashed\", label=\"Unexplored\")\n",
        "dot.edge(\"M3_M1_M4\", \"GLOBAL\", style=\"dashed\", label=\"Unexplored\")\n",
        "\n",
        "# -------------------------\n",
        "# Render\n",
        "# -------------------------\n",
        "dot.attr(label=\"Greedy Ensemble Hill-Climbing Process\\n(Selection and Local Optimum)\", fontsize=\"16\")\n",
        "dot\n"
      ],
      "metadata": {
        "colab": {
          "base_uri": "https://localhost:8080/",
          "height": 597
        },
        "cellView": "form",
        "id": "3340u_bkaL2i",
        "outputId": "c0196073-f62c-430c-961f-77363c34321c"
      },
      "execution_count": null,
      "outputs": [
        {
          "output_type": "execute_result",
          "data": {
            "image/svg+xml": "<?xml version=\"1.0\" encoding=\"UTF-8\" standalone=\"no\"?>\n<!DOCTYPE svg PUBLIC \"-//W3C//DTD SVG 1.1//EN\"\n \"http://www.w3.org/Graphics/SVG/1.1/DTD/svg11.dtd\">\n<!-- Generated by graphviz version 2.43.0 (0)\n -->\n<!-- Title: hill_climb Pages: 1 -->\n<svg width=\"518pt\" height=\"432pt\"\n viewBox=\"0.00 0.00 517.97 432.00\" xmlns=\"http://www.w3.org/2000/svg\" xmlns:xlink=\"http://www.w3.org/1999/xlink\">\n<g id=\"graph0\" class=\"graph\" transform=\"scale(0.7 0.7) rotate(0) translate(4 615.17)\">\n<title>hill_climb</title>\n<polygon fill=\"white\" stroke=\"transparent\" points=\"-4,4 -4,-615.17 738.39,-615.17 738.39,4 -4,4\"/>\n<text text-anchor=\"middle\" x=\"367.2\" y=\"-27.2\" font-family=\"Times,serif\" font-size=\"16.00\">Greedy Ensemble Hill&#45;Climbing Process</text>\n<text text-anchor=\"middle\" x=\"367.2\" y=\"-9.2\" font-family=\"Times,serif\" font-size=\"16.00\">(Selection and Local Optimum)</text>\n<!-- M1 -->\n<g id=\"node1\" class=\"node\">\n<title>M1</title>\n<ellipse fill=\"none\" stroke=\"black\" cx=\"136.92\" cy=\"-584.3\" rx=\"66.44\" ry=\"26.74\"/>\n<text text-anchor=\"middle\" x=\"136.92\" y=\"-588.1\" font-family=\"Times,serif\" font-size=\"14.00\">Model M1</text>\n<text text-anchor=\"middle\" x=\"136.92\" y=\"-573.1\" font-family=\"Times,serif\" font-size=\"14.00\">RMSE = 1.10</text>\n</g>\n<!-- M3_SELECTED -->\n<g id=\"node5\" class=\"node\">\n<title>M3_SELECTED</title>\n<polygon fill=\"lightgray\" stroke=\"black\" points=\"455.92,-506.43 309.92,-506.43 309.92,-468.43 455.92,-468.43 455.92,-506.43\"/>\n<text text-anchor=\"middle\" x=\"382.92\" y=\"-491.23\" font-family=\"Times,serif\" font-size=\"14.00\">Selected Start: M3</text>\n<text text-anchor=\"middle\" x=\"382.92\" y=\"-476.23\" font-family=\"Times,serif\" font-size=\"14.00\">(Lowest RMSE = 0.95)</text>\n</g>\n<!-- M1&#45;&gt;M3_SELECTED -->\n<g id=\"edge1\" class=\"edge\">\n<title>M1&#45;&gt;M3_SELECTED</title>\n<path fill=\"none\" stroke=\"black\" d=\"M181.78,-564.31C210.08,-552.49 247.48,-537.16 280.92,-524.43 293.78,-519.54 307.62,-514.5 320.84,-509.8\"/>\n<polygon fill=\"black\" stroke=\"black\" points=\"322.07,-513.08 330.33,-506.44 319.74,-506.48 322.07,-513.08\"/>\n<text text-anchor=\"middle\" x=\"304.92\" y=\"-528.23\" font-family=\"Times,serif\" font-size=\"14.00\">compare</text>\n</g>\n<!-- M2 -->\n<g id=\"node2\" class=\"node\">\n<title>M2</title>\n<ellipse fill=\"none\" stroke=\"black\" cx=\"287.92\" cy=\"-584.3\" rx=\"66.44\" ry=\"26.74\"/>\n<text text-anchor=\"middle\" x=\"287.92\" y=\"-588.1\" font-family=\"Times,serif\" font-size=\"14.00\">Model M2</text>\n<text text-anchor=\"middle\" x=\"287.92\" y=\"-573.1\" font-family=\"Times,serif\" font-size=\"14.00\">RMSE = 0.98</text>\n</g>\n<!-- M2&#45;&gt;M3_SELECTED -->\n<g id=\"edge2\" class=\"edge\">\n<title>M2&#45;&gt;M3_SELECTED</title>\n<path fill=\"none\" stroke=\"black\" d=\"M312.39,-558.87C326.21,-545.07 343.47,-527.83 357.45,-513.87\"/>\n<polygon fill=\"black\" stroke=\"black\" points=\"360.24,-516.03 364.84,-506.49 355.29,-511.08 360.24,-516.03\"/>\n<text text-anchor=\"middle\" x=\"370.92\" y=\"-528.23\" font-family=\"Times,serif\" font-size=\"14.00\">compare</text>\n</g>\n<!-- M3 -->\n<g id=\"node3\" class=\"node\">\n<title>M3</title>\n<ellipse fill=\"lightgreen\" stroke=\"black\" cx=\"477.92\" cy=\"-584.3\" rx=\"105.22\" ry=\"26.74\"/>\n<text text-anchor=\"middle\" x=\"477.92\" y=\"-588.1\" font-family=\"Times,serif\" font-size=\"14.00\">Model M3</text>\n<text text-anchor=\"middle\" x=\"477.92\" y=\"-573.1\" font-family=\"Times,serif\" font-size=\"14.00\">RMSE = 0.95 ✅ (Best)</text>\n</g>\n<!-- M3&#45;&gt;M3_SELECTED -->\n<g id=\"edge3\" class=\"edge\">\n<title>M3&#45;&gt;M3_SELECTED</title>\n<path fill=\"none\" stroke=\"green\" stroke-width=\"2\" d=\"M452.47,-557.88C438.83,-544.27 422.09,-527.54 408.44,-513.92\"/>\n<polygon fill=\"green\" stroke=\"green\" stroke-width=\"2\" points=\"410.77,-511.3 401.22,-506.71 405.82,-516.25 410.77,-511.3\"/>\n<text text-anchor=\"middle\" x=\"455.92\" y=\"-528.23\" font-family=\"Times,serif\" font-size=\"14.00\">selected</text>\n</g>\n<!-- M4 -->\n<g id=\"node4\" class=\"node\">\n<title>M4</title>\n<ellipse fill=\"none\" stroke=\"black\" cx=\"667.92\" cy=\"-584.3\" rx=\"66.44\" ry=\"26.74\"/>\n<text text-anchor=\"middle\" x=\"667.92\" y=\"-588.1\" font-family=\"Times,serif\" font-size=\"14.00\">Model M4</text>\n<text text-anchor=\"middle\" x=\"667.92\" y=\"-573.1\" font-family=\"Times,serif\" font-size=\"14.00\">RMSE = 1.02</text>\n</g>\n<!-- M4&#45;&gt;M3_SELECTED -->\n<g id=\"edge4\" class=\"edge\">\n<title>M4&#45;&gt;M3_SELECTED</title>\n<path fill=\"none\" stroke=\"black\" d=\"M618.07,-566.26C609.36,-563.3 600.38,-560.27 591.92,-557.43 543.63,-541.24 488.95,-523.2 447.64,-509.63\"/>\n<polygon fill=\"black\" stroke=\"black\" points=\"448.57,-506.25 437.98,-506.46 446.38,-512.9 448.57,-506.25\"/>\n<text text-anchor=\"middle\" x=\"557.92\" y=\"-528.23\" font-family=\"Times,serif\" font-size=\"14.00\">compare</text>\n</g>\n<!-- M3_M1 -->\n<g id=\"node6\" class=\"node\">\n<title>M3_M1</title>\n<ellipse fill=\"lightblue\" stroke=\"black\" cx=\"191.92\" cy=\"-390.56\" rx=\"105.22\" ry=\"26.74\"/>\n<text text-anchor=\"middle\" x=\"191.92\" y=\"-394.36\" font-family=\"Times,serif\" font-size=\"14.00\">Try M3 + M1</text>\n<text text-anchor=\"middle\" x=\"191.92\" y=\"-379.36\" font-family=\"Times,serif\" font-size=\"14.00\">RMSE = 0.90 ✅ (Best)</text>\n</g>\n<!-- M3_SELECTED&#45;&gt;M3_M1 -->\n<g id=\"edge5\" class=\"edge\">\n<title>M3_SELECTED&#45;&gt;M3_M1</title>\n<path fill=\"none\" stroke=\"black\" d=\"M346.55,-468.37C318.67,-454.52 279.71,-435.17 247.87,-419.35\"/>\n<polygon fill=\"black\" stroke=\"black\" points=\"249.18,-416.1 238.67,-414.78 246.07,-422.36 249.18,-416.1\"/>\n<text text-anchor=\"middle\" x=\"343.92\" y=\"-439.23\" font-family=\"Times,serif\" font-size=\"14.00\">Candidate 1</text>\n</g>\n<!-- M3_M2 -->\n<g id=\"node7\" class=\"node\">\n<title>M3_M2</title>\n<ellipse fill=\"none\" stroke=\"black\" cx=\"382.92\" cy=\"-390.56\" rx=\"67.35\" ry=\"26.74\"/>\n<text text-anchor=\"middle\" x=\"382.92\" y=\"-394.36\" font-family=\"Times,serif\" font-size=\"14.00\">Try M3 + M2</text>\n<text text-anchor=\"middle\" x=\"382.92\" y=\"-379.36\" font-family=\"Times,serif\" font-size=\"14.00\">RMSE = 0.92</text>\n</g>\n<!-- M3_SELECTED&#45;&gt;M3_M2 -->\n<g id=\"edge6\" class=\"edge\">\n<title>M3_SELECTED&#45;&gt;M3_M2</title>\n<path fill=\"none\" stroke=\"black\" d=\"M382.92,-468.14C382.92,-456.73 382.92,-441.64 382.92,-427.88\"/>\n<polygon fill=\"black\" stroke=\"black\" points=\"386.42,-427.69 382.92,-417.69 379.42,-427.69 386.42,-427.69\"/>\n<text text-anchor=\"middle\" x=\"415.92\" y=\"-439.23\" font-family=\"Times,serif\" font-size=\"14.00\">Candidate 2</text>\n</g>\n<!-- M3_M4 -->\n<g id=\"node8\" class=\"node\">\n<title>M3_M4</title>\n<ellipse fill=\"none\" stroke=\"black\" cx=\"534.92\" cy=\"-390.56\" rx=\"67.35\" ry=\"26.74\"/>\n<text text-anchor=\"middle\" x=\"534.92\" y=\"-394.36\" font-family=\"Times,serif\" font-size=\"14.00\">Try M3 + M4</text>\n<text text-anchor=\"middle\" x=\"534.92\" y=\"-379.36\" font-family=\"Times,serif\" font-size=\"14.00\">RMSE = 0.95</text>\n</g>\n<!-- M3_SELECTED&#45;&gt;M3_M4 -->\n<g id=\"edge7\" class=\"edge\">\n<title>M3_SELECTED&#45;&gt;M3_M4</title>\n<path fill=\"none\" stroke=\"black\" d=\"M420.54,-468.38C431.19,-462.92 442.66,-456.71 452.92,-450.43 467.66,-441.42 483.2,-430.63 496.74,-420.75\"/>\n<polygon fill=\"black\" stroke=\"black\" points=\"498.92,-423.5 504.89,-414.75 494.77,-417.86 498.92,-423.5\"/>\n<text text-anchor=\"middle\" x=\"505.92\" y=\"-439.23\" font-family=\"Times,serif\" font-size=\"14.00\">Candidate 3</text>\n</g>\n<!-- M3_M1_FINAL -->\n<g id=\"node9\" class=\"node\">\n<title>M3_M1_FINAL</title>\n<polygon fill=\"lightgreen\" stroke=\"black\" points=\"254.42,-312.69 129.42,-312.69 129.42,-274.69 254.42,-274.69 254.42,-312.69\"/>\n<text text-anchor=\"middle\" x=\"191.92\" y=\"-297.49\" font-family=\"Times,serif\" font-size=\"14.00\">Selected: M3 + M1</text>\n<text text-anchor=\"middle\" x=\"191.92\" y=\"-282.49\" font-family=\"Times,serif\" font-size=\"14.00\">→ Move Forward</text>\n</g>\n<!-- M3_M1&#45;&gt;M3_M1_FINAL -->\n<g id=\"edge8\" class=\"edge\">\n<title>M3_M1&#45;&gt;M3_M1_FINAL</title>\n<path fill=\"none\" stroke=\"green\" stroke-width=\"2\" d=\"M191.92,-363.64C191.92,-351.04 191.92,-335.87 191.92,-322.97\"/>\n<polygon fill=\"green\" stroke=\"green\" stroke-width=\"2\" points=\"195.42,-322.78 191.92,-312.78 188.42,-322.78 195.42,-322.78\"/>\n<text text-anchor=\"middle\" x=\"265.92\" y=\"-334.49\" font-family=\"Times,serif\" font-size=\"14.00\">Select best (lowest RMSE)</text>\n</g>\n<!-- M3_M1_M2 -->\n<g id=\"node10\" class=\"node\">\n<title>M3_M1_M2</title>\n<ellipse fill=\"none\" stroke=\"black\" cx=\"91.92\" cy=\"-196.82\" rx=\"91.85\" ry=\"26.74\"/>\n<text text-anchor=\"middle\" x=\"91.92\" y=\"-200.62\" font-family=\"Times,serif\" font-size=\"14.00\">Try M3 + M1 + M2</text>\n<text text-anchor=\"middle\" x=\"91.92\" y=\"-185.62\" font-family=\"Times,serif\" font-size=\"14.00\">RMSE = 0.91 ❌</text>\n</g>\n<!-- M3_M1_FINAL&#45;&gt;M3_M1_M2 -->\n<g id=\"edge9\" class=\"edge\">\n<title>M3_M1_FINAL&#45;&gt;M3_M1_M2</title>\n<path fill=\"none\" stroke=\"black\" d=\"M172.64,-274.4C159.38,-261.82 141.4,-244.76 125.78,-229.94\"/>\n<polygon fill=\"black\" stroke=\"black\" points=\"127.99,-227.22 118.33,-222.87 123.17,-232.3 127.99,-227.22\"/>\n<text text-anchor=\"middle\" x=\"197.92\" y=\"-245.49\" font-family=\"Times,serif\" font-size=\"14.00\">Next candidates</text>\n</g>\n<!-- M3_M1_M4 -->\n<g id=\"node11\" class=\"node\">\n<title>M3_M1_M4</title>\n<ellipse fill=\"none\" stroke=\"black\" cx=\"293.92\" cy=\"-196.82\" rx=\"91.85\" ry=\"26.74\"/>\n<text text-anchor=\"middle\" x=\"293.92\" y=\"-200.62\" font-family=\"Times,serif\" font-size=\"14.00\">Try M3 + M1 + M4</text>\n<text text-anchor=\"middle\" x=\"293.92\" y=\"-185.62\" font-family=\"Times,serif\" font-size=\"14.00\">RMSE = 0.92 ❌</text>\n</g>\n<!-- M3_M1_FINAL&#45;&gt;M3_M1_M4 -->\n<g id=\"edge10\" class=\"edge\">\n<title>M3_M1_FINAL&#45;&gt;M3_M1_M4</title>\n<path fill=\"none\" stroke=\"black\" d=\"M222.53,-274.58C230.5,-269.26 238.83,-263.13 245.92,-256.69 254.29,-249.09 262.44,-239.98 269.58,-231.22\"/>\n<polygon fill=\"black\" stroke=\"black\" points=\"272.36,-233.34 275.83,-223.32 266.87,-228.99 272.36,-233.34\"/>\n<text text-anchor=\"middle\" x=\"304.92\" y=\"-245.49\" font-family=\"Times,serif\" font-size=\"14.00\">Next candidates</text>\n</g>\n<!-- GLOBAL -->\n<g id=\"node12\" class=\"node\">\n<title>GLOBAL</title>\n<ellipse fill=\"none\" stroke=\"black\" stroke-dasharray=\"5,2\" cx=\"191.92\" cy=\"-81.48\" rx=\"137.77\" ry=\"37.45\"/>\n<text text-anchor=\"middle\" x=\"191.92\" y=\"-92.78\" font-family=\"Times,serif\" font-size=\"14.00\">M3 + M1 + M2 + M4</text>\n<text text-anchor=\"middle\" x=\"191.92\" y=\"-77.78\" font-family=\"Times,serif\" font-size=\"14.00\">RMSE = 0.85 ⭐</text>\n<text text-anchor=\"middle\" x=\"191.92\" y=\"-62.78\" font-family=\"Times,serif\" font-size=\"14.00\">(Global Optimum &#45; Unexplored)</text>\n</g>\n<!-- M3_M1_M2&#45;&gt;GLOBAL -->\n<g id=\"edge11\" class=\"edge\">\n<title>M3_M1_M2&#45;&gt;GLOBAL</title>\n<path fill=\"none\" stroke=\"black\" stroke-dasharray=\"5,2\" d=\"M114.12,-170.67C125.68,-157.56 140.15,-141.16 153.47,-126.06\"/>\n<polygon fill=\"black\" stroke=\"black\" points=\"156.32,-128.13 160.31,-118.31 151.07,-123.49 156.32,-128.13\"/>\n<text text-anchor=\"middle\" x=\"173.92\" y=\"-140.75\" font-family=\"Times,serif\" font-size=\"14.00\">Unexplored</text>\n</g>\n<!-- M3_M1_M4&#45;&gt;GLOBAL -->\n<g id=\"edge12\" class=\"edge\">\n<title>M3_M1_M4&#45;&gt;GLOBAL</title>\n<path fill=\"none\" stroke=\"black\" stroke-dasharray=\"5,2\" d=\"M271.29,-170.67C259.49,-157.56 244.73,-141.16 231.14,-126.06\"/>\n<polygon fill=\"black\" stroke=\"black\" points=\"233.46,-123.4 224.17,-118.31 228.26,-128.09 233.46,-123.4\"/>\n<text text-anchor=\"middle\" x=\"284.92\" y=\"-140.75\" font-family=\"Times,serif\" font-size=\"14.00\">Unexplored</text>\n</g>\n</g>\n</svg>\n",
            "text/plain": [
              "<graphviz.graphs.Digraph at 0x7ca263f4a6c0>"
            ]
          },
          "metadata": {},
          "execution_count": 71
        }
      ]
    },
    {
      "cell_type": "code",
      "source": [
        "#@title Function: greedy_ensemble_selection\n",
        "import pandas as pd\n",
        "import numpy as np\n",
        "from sklearn.metrics import mean_squared_error\n",
        "\n",
        "def greedy_ensemble_selection(\n",
        "    pred_wide_val,\n",
        "    target_col,\n",
        "    evaluate_fn=None,\n",
        "    verbose=True,\n",
        "):\n",
        "    \"\"\"\n",
        "    Greedy (hill-climbing) ensemble selector with flexible user-defined evaluation.\n",
        "\n",
        "    Parameters\n",
        "    ----------\n",
        "    pred_wide_val : pd.DataFrame\n",
        "        DataFrame containing model predictions and a target column.\n",
        "        Each row corresponds to a timestamp or sample.\n",
        "    target_col : str\n",
        "        Name of the target column in pred_wide_val.\n",
        "    evaluate_fn : callable, optional\n",
        "        A function taking (y_true, y_pred) -> float (smaller is better).\n",
        "        If not provided, defaults to RMSE.\n",
        "    verbose : bool\n",
        "        If True, prints progress messages.\n",
        "\n",
        "    Returns\n",
        "    -------\n",
        "    best_models : list of str\n",
        "        Names of model columns selected for the ensemble.\n",
        "    best_score : float\n",
        "        The best (lowest) score achieved by the ensemble.\n",
        "    \"\"\"\n",
        "\n",
        "    # -------------------------------------------------\n",
        "    # Default evaluation = RMSE if not provided\n",
        "    # -------------------------------------------------\n",
        "    if evaluate_fn is None:\n",
        "        def evaluate_fn(y_true, y_pred):\n",
        "            return np.sqrt(mean_squared_error(y_true, y_pred))\n",
        "        if verbose:\n",
        "            print(\"Using default metric: RMSE\")\n",
        "\n",
        "    # -------------------------------------------------\n",
        "    # Initialization\n",
        "    # -------------------------------------------------\n",
        "    model_cols = [c for c in pred_wide_val.columns if c != target_col]\n",
        "    y_true = pred_wide_val[target_col].values\n",
        "\n",
        "    # Step 1: Evaluate single models\n",
        "    scores = {m: evaluate_fn(y_true, pred_wide_val[m]) for m in model_cols}\n",
        "    best_model = min(scores, key=scores.get)\n",
        "    best_models = [best_model]\n",
        "    best_score = scores[best_model]\n",
        "    remaining_models = [m for m in model_cols if m != best_model]\n",
        "\n",
        "    if verbose:\n",
        "        print(f\"Start with: {best_model} (score={best_score:.5f})\")\n",
        "\n",
        "    # -------------------------------------------------\n",
        "    # Step 2: Iteratively add models\n",
        "    # -------------------------------------------------\n",
        "    improved = True\n",
        "    while improved and remaining_models:\n",
        "        improved = False\n",
        "        stage_results = []\n",
        "\n",
        "        for m in remaining_models:\n",
        "            temp_models = best_models + [m]\n",
        "            y_pred = pred_wide_val[temp_models].mean(axis=1)\n",
        "            score = evaluate_fn(y_true, y_pred)\n",
        "            stage_results.append((m, score))\n",
        "\n",
        "        # Pick model that gives the lowest score\n",
        "        m_best, score_best = min(stage_results, key=lambda x: x[1])\n",
        "\n",
        "        if score_best < best_score:\n",
        "            best_models.append(m_best)\n",
        "            best_score = score_best\n",
        "            remaining_models.remove(m_best)\n",
        "            improved = True\n",
        "            if verbose:\n",
        "                print(f\"  + Added {m_best}, score improved to {best_score:.5f}\")\n",
        "        else:\n",
        "            if verbose:\n",
        "                print(\"No further improvement — stopping.\")\n",
        "\n",
        "    if verbose:\n",
        "        print(f\"\\n✅ Final Ensemble: {best_models}\")\n",
        "        print(f\"✅ Final Score: {best_score:.5f}\")\n",
        "\n",
        "    return best_models, best_score\n"
      ],
      "metadata": {
        "id": "HRQOxAwqXDBu"
      },
      "execution_count": null,
      "outputs": []
    },
    {
      "cell_type": "code",
      "source": [
        "#@title Synthetic Dataset\n",
        "import pandas as pd\n",
        "import numpy as np\n",
        "\n",
        "np.random.seed(42)\n",
        "\n",
        "# Parameters\n",
        "n_customers = 3\n",
        "n_timestamps = 10\n",
        "timestamps = pd.date_range(\"2024-01-01\", periods=n_timestamps, freq=\"D\")\n",
        "models = [\"FFT\", \"Lasso\", \"LightGBM\", \"Theta\", \"XGB_RF\"]\n",
        "\n",
        "# Create one big dataframe\n",
        "records = []\n",
        "for cust in range(1, n_customers + 1):\n",
        "    for t in timestamps:\n",
        "        # True signal for each customer (slightly different base)\n",
        "        true_val = 50 + 10 * np.sin(2 * np.pi * (t.dayofyear % 30) / 30) + np.random.normal(0, 2)\n",
        "\n",
        "        # Model predictions with noise\n",
        "        preds = {\n",
        "            \"FFT\": true_val + np.random.normal(0, 3),\n",
        "            \"Lasso\": true_val + np.random.normal(0, 4),\n",
        "            \"LightGBM\": true_val + np.random.normal(0, 2),\n",
        "            \"Theta\": true_val + np.random.normal(0, 3.5),\n",
        "            \"XGB_RF\": true_val + np.random.normal(0, 1.5),\n",
        "        }\n",
        "\n",
        "        preds[\"energy_consumption\"] = true_val\n",
        "        preds[\"timestamp\"] = t\n",
        "        preds[\"LCLid\"] = f\"CUST_{cust:03d}\"\n",
        "        records.append(preds)\n",
        "\n",
        "pred_wide_val = pd.DataFrame(records).set_index([\"LCLid\", \"timestamp\"])\n",
        "pred_wide_val.head(8)\n"
      ],
      "metadata": {
        "colab": {
          "base_uri": "https://localhost:8080/",
          "height": 331
        },
        "cellView": "form",
        "id": "KaeOyMfaepYe",
        "outputId": "70f67900-6025-4e9d-edfb-f2c21f70c6f6"
      },
      "execution_count": null,
      "outputs": [
        {
          "output_type": "execute_result",
          "data": {
            "text/plain": [
              "                           FFT      Lasso   LightGBM      Theta     XGB_RF  \\\n",
              "LCLid    timestamp                                                           \n",
              "CUST_001 2024-01-01  52.657752  55.663299  56.118605  52.253008  52.721340   \n",
              "         2024-01-02  59.528096  55.347895  58.310912  55.603830  56.527197   \n",
              "         2024-01-03  50.621936  49.462106  55.237202  52.816868  56.833148   \n",
              "         2024-01-04  51.378489  61.477995  55.163848  55.851749  53.478278   \n",
              "         2024-01-05  57.904256  52.967514  58.322885  55.469253  57.133948   \n",
              "         2024-01-06  63.863986  58.253163  56.191730  61.186059  56.475886   \n",
              "         2024-01-07  54.483936  55.050202  60.756669  62.947579  60.619999   \n",
              "         2024-01-08  58.810611  53.799834  58.274234  58.101687  61.299606   \n",
              "\n",
              "                     energy_consumption  \n",
              "LCLid    timestamp                       \n",
              "CUST_001 2024-01-01           53.072545  \n",
              "         2024-01-02           57.225792  \n",
              "         2024-01-03           56.361777  \n",
              "         2024-01-04           55.615400  \n",
              "         2024-01-05           57.571489  \n",
              "         2024-01-06           58.307152  \n",
              "         2024-01-07           60.362946  \n",
              "         2024-01-08           59.713922  "
            ],
            "text/html": [
              "\n",
              "  <div id=\"df-bf7f44b6-6a23-4b59-af11-0c4475e9d200\" class=\"colab-df-container\">\n",
              "    <div>\n",
              "<style scoped>\n",
              "    .dataframe tbody tr th:only-of-type {\n",
              "        vertical-align: middle;\n",
              "    }\n",
              "\n",
              "    .dataframe tbody tr th {\n",
              "        vertical-align: top;\n",
              "    }\n",
              "\n",
              "    .dataframe thead th {\n",
              "        text-align: right;\n",
              "    }\n",
              "</style>\n",
              "<table border=\"1\" class=\"dataframe\">\n",
              "  <thead>\n",
              "    <tr style=\"text-align: right;\">\n",
              "      <th></th>\n",
              "      <th></th>\n",
              "      <th>FFT</th>\n",
              "      <th>Lasso</th>\n",
              "      <th>LightGBM</th>\n",
              "      <th>Theta</th>\n",
              "      <th>XGB_RF</th>\n",
              "      <th>energy_consumption</th>\n",
              "    </tr>\n",
              "    <tr>\n",
              "      <th>LCLid</th>\n",
              "      <th>timestamp</th>\n",
              "      <th></th>\n",
              "      <th></th>\n",
              "      <th></th>\n",
              "      <th></th>\n",
              "      <th></th>\n",
              "      <th></th>\n",
              "    </tr>\n",
              "  </thead>\n",
              "  <tbody>\n",
              "    <tr>\n",
              "      <th rowspan=\"8\" valign=\"top\">CUST_001</th>\n",
              "      <th>2024-01-01</th>\n",
              "      <td>52.657752</td>\n",
              "      <td>55.663299</td>\n",
              "      <td>56.118605</td>\n",
              "      <td>52.253008</td>\n",
              "      <td>52.721340</td>\n",
              "      <td>53.072545</td>\n",
              "    </tr>\n",
              "    <tr>\n",
              "      <th>2024-01-02</th>\n",
              "      <td>59.528096</td>\n",
              "      <td>55.347895</td>\n",
              "      <td>58.310912</td>\n",
              "      <td>55.603830</td>\n",
              "      <td>56.527197</td>\n",
              "      <td>57.225792</td>\n",
              "    </tr>\n",
              "    <tr>\n",
              "      <th>2024-01-03</th>\n",
              "      <td>50.621936</td>\n",
              "      <td>49.462106</td>\n",
              "      <td>55.237202</td>\n",
              "      <td>52.816868</td>\n",
              "      <td>56.833148</td>\n",
              "      <td>56.361777</td>\n",
              "    </tr>\n",
              "    <tr>\n",
              "      <th>2024-01-04</th>\n",
              "      <td>51.378489</td>\n",
              "      <td>61.477995</td>\n",
              "      <td>55.163848</td>\n",
              "      <td>55.851749</td>\n",
              "      <td>53.478278</td>\n",
              "      <td>55.615400</td>\n",
              "    </tr>\n",
              "    <tr>\n",
              "      <th>2024-01-05</th>\n",
              "      <td>57.904256</td>\n",
              "      <td>52.967514</td>\n",
              "      <td>58.322885</td>\n",
              "      <td>55.469253</td>\n",
              "      <td>57.133948</td>\n",
              "      <td>57.571489</td>\n",
              "    </tr>\n",
              "    <tr>\n",
              "      <th>2024-01-06</th>\n",
              "      <td>63.863986</td>\n",
              "      <td>58.253163</td>\n",
              "      <td>56.191730</td>\n",
              "      <td>61.186059</td>\n",
              "      <td>56.475886</td>\n",
              "      <td>58.307152</td>\n",
              "    </tr>\n",
              "    <tr>\n",
              "      <th>2024-01-07</th>\n",
              "      <td>54.483936</td>\n",
              "      <td>55.050202</td>\n",
              "      <td>60.756669</td>\n",
              "      <td>62.947579</td>\n",
              "      <td>60.619999</td>\n",
              "      <td>60.362946</td>\n",
              "    </tr>\n",
              "    <tr>\n",
              "      <th>2024-01-08</th>\n",
              "      <td>58.810611</td>\n",
              "      <td>53.799834</td>\n",
              "      <td>58.274234</td>\n",
              "      <td>58.101687</td>\n",
              "      <td>61.299606</td>\n",
              "      <td>59.713922</td>\n",
              "    </tr>\n",
              "  </tbody>\n",
              "</table>\n",
              "</div>\n",
              "    <div class=\"colab-df-buttons\">\n",
              "\n",
              "  <div class=\"colab-df-container\">\n",
              "    <button class=\"colab-df-convert\" onclick=\"convertToInteractive('df-bf7f44b6-6a23-4b59-af11-0c4475e9d200')\"\n",
              "            title=\"Convert this dataframe to an interactive table.\"\n",
              "            style=\"display:none;\">\n",
              "\n",
              "  <svg xmlns=\"http://www.w3.org/2000/svg\" height=\"24px\" viewBox=\"0 -960 960 960\">\n",
              "    <path d=\"M120-120v-720h720v720H120Zm60-500h600v-160H180v160Zm220 220h160v-160H400v160Zm0 220h160v-160H400v160ZM180-400h160v-160H180v160Zm440 0h160v-160H620v160ZM180-180h160v-160H180v160Zm440 0h160v-160H620v160Z\"/>\n",
              "  </svg>\n",
              "    </button>\n",
              "\n",
              "  <style>\n",
              "    .colab-df-container {\n",
              "      display:flex;\n",
              "      gap: 12px;\n",
              "    }\n",
              "\n",
              "    .colab-df-convert {\n",
              "      background-color: #E8F0FE;\n",
              "      border: none;\n",
              "      border-radius: 50%;\n",
              "      cursor: pointer;\n",
              "      display: none;\n",
              "      fill: #1967D2;\n",
              "      height: 32px;\n",
              "      padding: 0 0 0 0;\n",
              "      width: 32px;\n",
              "    }\n",
              "\n",
              "    .colab-df-convert:hover {\n",
              "      background-color: #E2EBFA;\n",
              "      box-shadow: 0px 1px 2px rgba(60, 64, 67, 0.3), 0px 1px 3px 1px rgba(60, 64, 67, 0.15);\n",
              "      fill: #174EA6;\n",
              "    }\n",
              "\n",
              "    .colab-df-buttons div {\n",
              "      margin-bottom: 4px;\n",
              "    }\n",
              "\n",
              "    [theme=dark] .colab-df-convert {\n",
              "      background-color: #3B4455;\n",
              "      fill: #D2E3FC;\n",
              "    }\n",
              "\n",
              "    [theme=dark] .colab-df-convert:hover {\n",
              "      background-color: #434B5C;\n",
              "      box-shadow: 0px 1px 3px 1px rgba(0, 0, 0, 0.15);\n",
              "      filter: drop-shadow(0px 1px 2px rgba(0, 0, 0, 0.3));\n",
              "      fill: #FFFFFF;\n",
              "    }\n",
              "  </style>\n",
              "\n",
              "    <script>\n",
              "      const buttonEl =\n",
              "        document.querySelector('#df-bf7f44b6-6a23-4b59-af11-0c4475e9d200 button.colab-df-convert');\n",
              "      buttonEl.style.display =\n",
              "        google.colab.kernel.accessAllowed ? 'block' : 'none';\n",
              "\n",
              "      async function convertToInteractive(key) {\n",
              "        const element = document.querySelector('#df-bf7f44b6-6a23-4b59-af11-0c4475e9d200');\n",
              "        const dataTable =\n",
              "          await google.colab.kernel.invokeFunction('convertToInteractive',\n",
              "                                                    [key], {});\n",
              "        if (!dataTable) return;\n",
              "\n",
              "        const docLinkHtml = 'Like what you see? Visit the ' +\n",
              "          '<a target=\"_blank\" href=https://colab.research.google.com/notebooks/data_table.ipynb>data table notebook</a>'\n",
              "          + ' to learn more about interactive tables.';\n",
              "        element.innerHTML = '';\n",
              "        dataTable['output_type'] = 'display_data';\n",
              "        await google.colab.output.renderOutput(dataTable, element);\n",
              "        const docLink = document.createElement('div');\n",
              "        docLink.innerHTML = docLinkHtml;\n",
              "        element.appendChild(docLink);\n",
              "      }\n",
              "    </script>\n",
              "  </div>\n",
              "\n",
              "\n",
              "    <div id=\"df-a557e330-1daf-489e-8ee7-5d2b11555725\">\n",
              "      <button class=\"colab-df-quickchart\" onclick=\"quickchart('df-a557e330-1daf-489e-8ee7-5d2b11555725')\"\n",
              "                title=\"Suggest charts\"\n",
              "                style=\"display:none;\">\n",
              "\n",
              "<svg xmlns=\"http://www.w3.org/2000/svg\" height=\"24px\"viewBox=\"0 0 24 24\"\n",
              "     width=\"24px\">\n",
              "    <g>\n",
              "        <path d=\"M19 3H5c-1.1 0-2 .9-2 2v14c0 1.1.9 2 2 2h14c1.1 0 2-.9 2-2V5c0-1.1-.9-2-2-2zM9 17H7v-7h2v7zm4 0h-2V7h2v10zm4 0h-2v-4h2v4z\"/>\n",
              "    </g>\n",
              "</svg>\n",
              "      </button>\n",
              "\n",
              "<style>\n",
              "  .colab-df-quickchart {\n",
              "      --bg-color: #E8F0FE;\n",
              "      --fill-color: #1967D2;\n",
              "      --hover-bg-color: #E2EBFA;\n",
              "      --hover-fill-color: #174EA6;\n",
              "      --disabled-fill-color: #AAA;\n",
              "      --disabled-bg-color: #DDD;\n",
              "  }\n",
              "\n",
              "  [theme=dark] .colab-df-quickchart {\n",
              "      --bg-color: #3B4455;\n",
              "      --fill-color: #D2E3FC;\n",
              "      --hover-bg-color: #434B5C;\n",
              "      --hover-fill-color: #FFFFFF;\n",
              "      --disabled-bg-color: #3B4455;\n",
              "      --disabled-fill-color: #666;\n",
              "  }\n",
              "\n",
              "  .colab-df-quickchart {\n",
              "    background-color: var(--bg-color);\n",
              "    border: none;\n",
              "    border-radius: 50%;\n",
              "    cursor: pointer;\n",
              "    display: none;\n",
              "    fill: var(--fill-color);\n",
              "    height: 32px;\n",
              "    padding: 0;\n",
              "    width: 32px;\n",
              "  }\n",
              "\n",
              "  .colab-df-quickchart:hover {\n",
              "    background-color: var(--hover-bg-color);\n",
              "    box-shadow: 0 1px 2px rgba(60, 64, 67, 0.3), 0 1px 3px 1px rgba(60, 64, 67, 0.15);\n",
              "    fill: var(--button-hover-fill-color);\n",
              "  }\n",
              "\n",
              "  .colab-df-quickchart-complete:disabled,\n",
              "  .colab-df-quickchart-complete:disabled:hover {\n",
              "    background-color: var(--disabled-bg-color);\n",
              "    fill: var(--disabled-fill-color);\n",
              "    box-shadow: none;\n",
              "  }\n",
              "\n",
              "  .colab-df-spinner {\n",
              "    border: 2px solid var(--fill-color);\n",
              "    border-color: transparent;\n",
              "    border-bottom-color: var(--fill-color);\n",
              "    animation:\n",
              "      spin 1s steps(1) infinite;\n",
              "  }\n",
              "\n",
              "  @keyframes spin {\n",
              "    0% {\n",
              "      border-color: transparent;\n",
              "      border-bottom-color: var(--fill-color);\n",
              "      border-left-color: var(--fill-color);\n",
              "    }\n",
              "    20% {\n",
              "      border-color: transparent;\n",
              "      border-left-color: var(--fill-color);\n",
              "      border-top-color: var(--fill-color);\n",
              "    }\n",
              "    30% {\n",
              "      border-color: transparent;\n",
              "      border-left-color: var(--fill-color);\n",
              "      border-top-color: var(--fill-color);\n",
              "      border-right-color: var(--fill-color);\n",
              "    }\n",
              "    40% {\n",
              "      border-color: transparent;\n",
              "      border-right-color: var(--fill-color);\n",
              "      border-top-color: var(--fill-color);\n",
              "    }\n",
              "    60% {\n",
              "      border-color: transparent;\n",
              "      border-right-color: var(--fill-color);\n",
              "    }\n",
              "    80% {\n",
              "      border-color: transparent;\n",
              "      border-right-color: var(--fill-color);\n",
              "      border-bottom-color: var(--fill-color);\n",
              "    }\n",
              "    90% {\n",
              "      border-color: transparent;\n",
              "      border-bottom-color: var(--fill-color);\n",
              "    }\n",
              "  }\n",
              "</style>\n",
              "\n",
              "      <script>\n",
              "        async function quickchart(key) {\n",
              "          const quickchartButtonEl =\n",
              "            document.querySelector('#' + key + ' button');\n",
              "          quickchartButtonEl.disabled = true;  // To prevent multiple clicks.\n",
              "          quickchartButtonEl.classList.add('colab-df-spinner');\n",
              "          try {\n",
              "            const charts = await google.colab.kernel.invokeFunction(\n",
              "                'suggestCharts', [key], {});\n",
              "          } catch (error) {\n",
              "            console.error('Error during call to suggestCharts:', error);\n",
              "          }\n",
              "          quickchartButtonEl.classList.remove('colab-df-spinner');\n",
              "          quickchartButtonEl.classList.add('colab-df-quickchart-complete');\n",
              "        }\n",
              "        (() => {\n",
              "          let quickchartButtonEl =\n",
              "            document.querySelector('#df-a557e330-1daf-489e-8ee7-5d2b11555725 button');\n",
              "          quickchartButtonEl.style.display =\n",
              "            google.colab.kernel.accessAllowed ? 'block' : 'none';\n",
              "        })();\n",
              "      </script>\n",
              "    </div>\n",
              "\n",
              "    </div>\n",
              "  </div>\n"
            ],
            "application/vnd.google.colaboratory.intrinsic+json": {
              "type": "dataframe",
              "variable_name": "pred_wide_val",
              "summary": "{\n  \"name\": \"pred_wide_val\",\n  \"rows\": 30,\n  \"fields\": [\n    {\n      \"column\": \"FFT\",\n      \"properties\": {\n        \"dtype\": \"number\",\n        \"std\": 4.411703410386776,\n        \"min\": 50.38740059168831,\n        \"max\": 65.09826673870761,\n        \"num_unique_values\": 30,\n        \"samples\": [\n          59.80036315664241,\n          62.610655233246284,\n          55.36588974021141\n        ],\n        \"semantic_type\": \"\",\n        \"description\": \"\"\n      }\n    },\n    {\n      \"column\": \"Lasso\",\n      \"properties\": {\n        \"dtype\": \"number\",\n        \"std\": 4.528551283940008,\n        \"min\": 45.32722002834585,\n        \"max\": 66.11591462867483,\n        \"num_unique_values\": 30,\n        \"samples\": [\n          66.11591462867483,\n          56.89650788613821,\n          59.96832242792979\n        ],\n        \"semantic_type\": \"\",\n        \"description\": \"\"\n      }\n    },\n    {\n      \"column\": \"LightGBM\",\n      \"properties\": {\n        \"dtype\": \"number\",\n        \"std\": 3.630789559333202,\n        \"min\": 48.72835518432568,\n        \"max\": 64.98987519323991,\n        \"num_unique_values\": 30,\n        \"samples\": [\n          63.08797196557054,\n          59.04939596845208,\n          61.67276819807813\n        ],\n        \"semantic_type\": \"\",\n        \"description\": \"\"\n      }\n    },\n    {\n      \"column\": \"Theta\",\n      \"properties\": {\n        \"dtype\": \"number\",\n        \"std\": 4.361755137180179,\n        \"min\": 46.65897177176516,\n        \"max\": 65.86144057486605,\n        \"num_unique_values\": 30,\n        \"samples\": [\n          65.13962067167826,\n          58.33234172568506,\n          53.43229136854898\n        ],\n        \"semantic_type\": \"\",\n        \"description\": \"\"\n      }\n    },\n    {\n      \"column\": \"XGB_RF\",\n      \"properties\": {\n        \"dtype\": \"number\",\n        \"std\": 3.5341861205113103,\n        \"min\": 52.18913824270567,\n        \"max\": 65.10759958567846,\n        \"num_unique_values\": 30,\n        \"samples\": [\n          65.10759958567846,\n          57.509447839449436,\n          59.33543347731173\n        ],\n        \"semantic_type\": \"\",\n        \"description\": \"\"\n      }\n    },\n    {\n      \"column\": \"energy_consumption\",\n      \"properties\": {\n        \"dtype\": \"number\",\n        \"std\": 3.048273933918536,\n        \"min\": 51.12076843248702,\n        \"max\": 63.67676797597225,\n        \"num_unique_values\": 30,\n        \"samples\": [\n          62.26241011169754,\n          59.704720261647616,\n          59.058482689513276\n        ],\n        \"semantic_type\": \"\",\n        \"description\": \"\"\n      }\n    }\n  ]\n}"
            }
          },
          "metadata": {},
          "execution_count": 40
        }
      ]
    },
    {
      "cell_type": "code",
      "source": [
        "from sklearn.metrics import mean_squared_error\n",
        "def evaluate_fn(y_true, y_pred):\n",
        "    return np.sqrt(mean_squared_error(y_true, y_pred))"
      ],
      "metadata": {
        "id": "yGzB_yFRfHeq"
      },
      "execution_count": null,
      "outputs": []
    },
    {
      "cell_type": "code",
      "source": [
        "from sklearn.metrics import mean_absolute_error\n",
        "\n",
        "def mae(y_true, y_pred):\n",
        "    return mean_absolute_error(y_true, y_pred)\n",
        "\n",
        "best_models, best_mae = greedy_ensemble_selection(\n",
        "    pred_wide_val,\n",
        "    target_col=\"energy_consumption\",\n",
        "    evaluate_fn=mae\n",
        ")\n"
      ],
      "metadata": {
        "colab": {
          "base_uri": "https://localhost:8080/"
        },
        "id": "YgfPOUstXC6J",
        "outputId": "28c2b63e-1965-4bfd-c6a8-c2977c2410e0"
      },
      "execution_count": null,
      "outputs": [
        {
          "output_type": "stream",
          "name": "stdout",
          "text": [
            "Start with: XGB_RF (score=1.28940)\n",
            "  + Added LightGBM, score improved to 0.83790\n",
            "No further improvement — stopping.\n",
            "\n",
            "✅ Final Ensemble: ['XGB_RF', 'LightGBM']\n",
            "✅ Final Score: 0.83790\n"
          ]
        }
      ]
    },
    {
      "cell_type": "code",
      "source": [],
      "metadata": {
        "id": "ErEiFsY7acdM"
      },
      "execution_count": null,
      "outputs": []
    },
    {
      "cell_type": "markdown",
      "source": [
        "## b). Stochastic hill climbing\n",
        "\n",
        "| Variant                           | Behavior                                                         | When to Stop                                                                     |\n",
        "| :-------------------------------- | :--------------------------------------------------------------- | :------------------------------------------------------------------------------- |\n",
        "| **Pure stochastic hill climbing** | Randomly pick one neighbor, move if it improves                  | Continue until *no improving neighbor found after many tries* or iteration limit |\n",
        "| **Random-restart hill climbing**  | Run stochastic hill climbing *multiple times* from random starts | Keep the best result among runs                                                  |\n"
      ],
      "metadata": {
        "id": "8NBnVoPmcd5d"
      }
    },
    {
      "cell_type": "code",
      "source": [
        "#@title Digraph: stochastic_hill_climbing (refined)\n",
        "from graphviz import Digraph\n",
        "\n",
        "dot = Digraph(\"stochastic_hill\", format=\"png\")\n",
        "dot.attr(rankdir=\"TB\", size=\"8,8\")\n",
        "\n",
        "# =========================================================\n",
        "# Stage 0: Evaluate all individual models\n",
        "# =========================================================\n",
        "dot.node(\"M1\", \"Model M1\\nRMSE = 1.10\", shape=\"ellipse\")\n",
        "dot.node(\"M2\", \"Model M2\\nRMSE = 0.98\", shape=\"ellipse\")\n",
        "dot.node(\"M3\", \"Model M3\\nRMSE = 0.95 ✅ (Start)\", shape=\"ellipse\", style=\"filled\", fillcolor=\"lightgreen\")\n",
        "dot.node(\"M4\", \"Model M4\\nRMSE = 1.02\", shape=\"ellipse\")\n",
        "\n",
        "dot.node(\"START\", \"Selected Start: M3\\n(Current RMSE = 0.95)\", shape=\"box\", style=\"filled\", fillcolor=\"lightgray\")\n",
        "\n",
        "dot.edge(\"M1\", \"START\", label=\"compare\")\n",
        "dot.edge(\"M2\", \"START\", label=\"compare\")\n",
        "dot.edge(\"M3\", \"START\", label=\"selected\", color=\"green\", penwidth=\"2\")\n",
        "dot.edge(\"M4\", \"START\", label=\"compare\")\n",
        "\n",
        "# =========================================================\n",
        "# Stage 1: Randomly pick a neighbor from M3\n",
        "# =========================================================\n",
        "dot.node(\"CAND_STAGE1\",\n",
        "         \"Possible candidates from M3:\\nM3+M1 | M3+M2 | M3+M4\",\n",
        "         shape=\"box\", style=\"filled\", fillcolor=\"white\")\n",
        "dot.edge(\"START\", \"CAND_STAGE1\", label=\"Generate neighbors\")\n",
        "\n",
        "# Candidate nodes\n",
        "dot.node(\"M3_M1_CAND\", \"Candidate: M3 + M1\\nRMSE = 0.90\", shape=\"ellipse\")\n",
        "dot.node(\"M3_M2_CAND\", \"Candidate: M3 + M2\\nRMSE = 0.92 ✅ (Randomly Picked)\",\n",
        "         shape=\"ellipse\", style=\"filled\", fillcolor=\"lightblue\")\n",
        "dot.node(\"M3_M4_CAND\", \"Candidate: M3 + M4\\nRMSE = 0.95\", shape=\"ellipse\")\n",
        "\n",
        "# Connect them\n",
        "dot.edge(\"CAND_STAGE1\", \"M3_M1_CAND\", label=\"Option 1\")\n",
        "dot.edge(\"CAND_STAGE1\", \"M3_M2_CAND\", label=\"Option 2 (Chosen Randomly)\", color=\"green\", penwidth=\"2\")\n",
        "dot.edge(\"CAND_STAGE1\", \"M3_M4_CAND\", label=\"Option 3\")\n",
        "\n",
        "# Move accepted\n",
        "dot.node(\"ACCEPT1\", \"Move accepted!\\nNew current = M3 + M2\\n(RMSE = 0.92)\",\n",
        "         shape=\"box\", style=\"filled\", fillcolor=\"lightgreen\")\n",
        "dot.edge(\"M3_M2_CAND\", \"ACCEPT1\", label=\"Improved ✓\", color=\"green\")\n",
        "\n",
        "# =========================================================\n",
        "# Stage 2: Randomly pick next neighbor from M3+M2\n",
        "# =========================================================\n",
        "dot.node(\"CAND_STAGE2\",\n",
        "         \"Possible candidates from M3+M2:\\nM3+M2+M1 | M3+M2+M4\",\n",
        "         shape=\"box\", style=\"filled\", fillcolor=\"white\")\n",
        "dot.edge(\"ACCEPT1\", \"CAND_STAGE2\", label=\"Generate next neighbors\")\n",
        "\n",
        "# Candidate nodes\n",
        "dot.node(\"M3_M2_M1_CAND\", \"Candidate: M3 + M2 + M1\\nRMSE = 0.89\", shape=\"ellipse\")\n",
        "dot.node(\"M3_M2_M4_CAND\", \"Candidate: M3 + M2 + M4\\nRMSE = 0.94 ❌ (Randomly Picked)\",\n",
        "         shape=\"ellipse\", style=\"filled\", fillcolor=\"mistyrose\")\n",
        "\n",
        "# Connect them\n",
        "dot.edge(\"CAND_STAGE2\", \"M3_M2_M1_CAND\", label=\"Option 1\")\n",
        "dot.edge(\"CAND_STAGE2\", \"M3_M2_M4_CAND\", label=\"Option 2 (Chosen Randomly)\", color=\"orange\", penwidth=\"2\")\n",
        "\n",
        "# Evaluate and reject if worse\n",
        "dot.node(\"REJECT\", \"No improvement → stay at M3 + M2\", shape=\"box\", style=\"filled\", fillcolor=\"lightgray\")\n",
        "dot.edge(\"M3_M2_M4_CAND\", \"REJECT\", label=\"Not improved ✗\", color=\"red\")\n",
        "\n",
        "# =========================================================\n",
        "# Hidden global optimum (same as before)\n",
        "# =========================================================\n",
        "dot.node(\"GLOBAL\", \"M3 + M1 + M2 + M4\\nRMSE = 0.85 ⭐\\n(Global Optimum - May reach with luck)\",\n",
        "         shape=\"ellipse\", style=\"dashed\")\n",
        "dot.edge(\"REJECT\", \"GLOBAL\", style=\"dashed\", label=\"Possible random path\")\n",
        "\n",
        "# =========================================================\n",
        "# Render and label\n",
        "# =========================================================\n",
        "dot.attr(label=\"Stochastic Hill-Climbing Ensemble Process\\n(Random neighbor selection and probabilistic improvement)\", fontsize=\"16\")\n",
        "dot\n"
      ],
      "metadata": {
        "colab": {
          "base_uri": "https://localhost:8080/",
          "height": 789
        },
        "id": "MTp8WenTcl5a",
        "outputId": "0e41c972-a162-4fc1-bfeb-1061a7dc7ec3"
      },
      "execution_count": null,
      "outputs": [
        {
          "output_type": "execute_result",
          "data": {
            "image/svg+xml": "<?xml version=\"1.0\" encoding=\"UTF-8\" standalone=\"no\"?>\n<!DOCTYPE svg PUBLIC \"-//W3C//DTD SVG 1.1//EN\"\n \"http://www.w3.org/Graphics/SVG/1.1/DTD/svg11.dtd\">\n<!-- Generated by graphviz version 2.43.0 (0)\n -->\n<!-- Title: stochastic_hill Pages: 1 -->\n<svg width=\"515pt\" height=\"576pt\"\n viewBox=\"0.00 0.00 515.03 576.00\" xmlns=\"http://www.w3.org/2000/svg\" xmlns:xlink=\"http://www.w3.org/1999/xlink\">\n<g id=\"graph0\" class=\"graph\" transform=\"scale(0.64 0.64) rotate(0) translate(4 895.17)\">\n<title>stochastic_hill</title>\n<polygon fill=\"white\" stroke=\"transparent\" points=\"-4,4 -4,-895.17 799.99,-895.17 799.99,4 -4,4\"/>\n<text text-anchor=\"middle\" x=\"398\" y=\"-27.2\" font-family=\"Times,serif\" font-size=\"16.00\">Stochastic Hill&#45;Climbing Ensemble Process</text>\n<text text-anchor=\"middle\" x=\"398\" y=\"-9.2\" font-family=\"Times,serif\" font-size=\"16.00\">(Random neighbor selection and probabilistic improvement)</text>\n<!-- M1 -->\n<g id=\"node1\" class=\"node\">\n<title>M1</title>\n<ellipse fill=\"none\" stroke=\"black\" cx=\"118.75\" cy=\"-864.3\" rx=\"66.44\" ry=\"26.74\"/>\n<text text-anchor=\"middle\" x=\"118.75\" y=\"-868.1\" font-family=\"Times,serif\" font-size=\"14.00\">Model M1</text>\n<text text-anchor=\"middle\" x=\"118.75\" y=\"-853.1\" font-family=\"Times,serif\" font-size=\"14.00\">RMSE = 1.10</text>\n</g>\n<!-- START -->\n<g id=\"node5\" class=\"node\">\n<title>START</title>\n<polygon fill=\"lightgray\" stroke=\"black\" points=\"438.75,-786.43 290.75,-786.43 290.75,-748.43 438.75,-748.43 438.75,-786.43\"/>\n<text text-anchor=\"middle\" x=\"364.75\" y=\"-771.23\" font-family=\"Times,serif\" font-size=\"14.00\">Selected Start: M3</text>\n<text text-anchor=\"middle\" x=\"364.75\" y=\"-756.23\" font-family=\"Times,serif\" font-size=\"14.00\">(Current RMSE = 0.95)</text>\n</g>\n<!-- M1&#45;&gt;START -->\n<g id=\"edge1\" class=\"edge\">\n<title>M1&#45;&gt;START</title>\n<path fill=\"none\" stroke=\"black\" d=\"M163.61,-844.31C191.91,-832.49 229.31,-817.16 262.75,-804.43 275.6,-799.54 289.45,-794.5 302.67,-789.8\"/>\n<polygon fill=\"black\" stroke=\"black\" points=\"303.9,-793.08 312.16,-786.44 301.56,-786.48 303.9,-793.08\"/>\n<text text-anchor=\"middle\" x=\"286.75\" y=\"-808.23\" font-family=\"Times,serif\" font-size=\"14.00\">compare</text>\n</g>\n<!-- M2 -->\n<g id=\"node2\" class=\"node\">\n<title>M2</title>\n<ellipse fill=\"none\" stroke=\"black\" cx=\"269.75\" cy=\"-864.3\" rx=\"66.44\" ry=\"26.74\"/>\n<text text-anchor=\"middle\" x=\"269.75\" y=\"-868.1\" font-family=\"Times,serif\" font-size=\"14.00\">Model M2</text>\n<text text-anchor=\"middle\" x=\"269.75\" y=\"-853.1\" font-family=\"Times,serif\" font-size=\"14.00\">RMSE = 0.98</text>\n</g>\n<!-- M2&#45;&gt;START -->\n<g id=\"edge2\" class=\"edge\">\n<title>M2&#45;&gt;START</title>\n<path fill=\"none\" stroke=\"black\" d=\"M294.22,-838.87C308.04,-825.07 325.3,-807.83 339.28,-793.87\"/>\n<polygon fill=\"black\" stroke=\"black\" points=\"342.07,-796.03 346.67,-786.49 337.12,-791.08 342.07,-796.03\"/>\n<text text-anchor=\"middle\" x=\"352.75\" y=\"-808.23\" font-family=\"Times,serif\" font-size=\"14.00\">compare</text>\n</g>\n<!-- M3 -->\n<g id=\"node3\" class=\"node\">\n<title>M3</title>\n<ellipse fill=\"lightgreen\" stroke=\"black\" cx=\"460.75\" cy=\"-864.3\" rx=\"106.13\" ry=\"26.74\"/>\n<text text-anchor=\"middle\" x=\"460.75\" y=\"-868.1\" font-family=\"Times,serif\" font-size=\"14.00\">Model M3</text>\n<text text-anchor=\"middle\" x=\"460.75\" y=\"-853.1\" font-family=\"Times,serif\" font-size=\"14.00\">RMSE = 0.95 ✅ (Start)</text>\n</g>\n<!-- M3&#45;&gt;START -->\n<g id=\"edge3\" class=\"edge\">\n<title>M3&#45;&gt;START</title>\n<path fill=\"none\" stroke=\"green\" stroke-width=\"2\" d=\"M435.28,-838.13C421.41,-824.42 404.29,-807.5 390.39,-793.77\"/>\n<polygon fill=\"green\" stroke=\"green\" stroke-width=\"2\" points=\"392.61,-791.04 383.04,-786.5 387.69,-796.02 392.61,-791.04\"/>\n<text text-anchor=\"middle\" x=\"437.75\" y=\"-808.23\" font-family=\"Times,serif\" font-size=\"14.00\">selected</text>\n</g>\n<!-- M4 -->\n<g id=\"node4\" class=\"node\">\n<title>M4</title>\n<ellipse fill=\"none\" stroke=\"black\" cx=\"651.75\" cy=\"-864.3\" rx=\"66.44\" ry=\"26.74\"/>\n<text text-anchor=\"middle\" x=\"651.75\" y=\"-868.1\" font-family=\"Times,serif\" font-size=\"14.00\">Model M4</text>\n<text text-anchor=\"middle\" x=\"651.75\" y=\"-853.1\" font-family=\"Times,serif\" font-size=\"14.00\">RMSE = 1.02</text>\n</g>\n<!-- M4&#45;&gt;START -->\n<g id=\"edge4\" class=\"edge\">\n<title>M4&#45;&gt;START</title>\n<path fill=\"none\" stroke=\"black\" d=\"M601.91,-846.24C593.19,-843.29 584.21,-840.26 575.75,-837.43 527.18,-821.23 472.2,-803.26 430.54,-789.72\"/>\n<polygon fill=\"black\" stroke=\"black\" points=\"431.38,-786.32 420.79,-786.56 429.22,-792.97 431.38,-786.32\"/>\n<text text-anchor=\"middle\" x=\"541.75\" y=\"-808.23\" font-family=\"Times,serif\" font-size=\"14.00\">compare</text>\n</g>\n<!-- CAND_STAGE1 -->\n<g id=\"node6\" class=\"node\">\n<title>CAND_STAGE1</title>\n<polygon fill=\"white\" stroke=\"black\" points=\"454.75,-697.43 274.75,-697.43 274.75,-659.43 454.75,-659.43 454.75,-697.43\"/>\n<text text-anchor=\"middle\" x=\"364.75\" y=\"-682.23\" font-family=\"Times,serif\" font-size=\"14.00\">Possible candidates from M3:</text>\n<text text-anchor=\"middle\" x=\"364.75\" y=\"-667.23\" font-family=\"Times,serif\" font-size=\"14.00\">M3+M1 | M3+M2 | M3+M4</text>\n</g>\n<!-- START&#45;&gt;CAND_STAGE1 -->\n<g id=\"edge5\" class=\"edge\">\n<title>START&#45;&gt;CAND_STAGE1</title>\n<path fill=\"none\" stroke=\"black\" d=\"M364.75,-748.41C364.75,-736.63 364.75,-720.99 364.75,-707.59\"/>\n<polygon fill=\"black\" stroke=\"black\" points=\"368.25,-707.44 364.75,-697.44 361.25,-707.44 368.25,-707.44\"/>\n<text text-anchor=\"middle\" x=\"417.75\" y=\"-719.23\" font-family=\"Times,serif\" font-size=\"14.00\">Generate neighbors</text>\n</g>\n<!-- M3_M1_CAND -->\n<g id=\"node7\" class=\"node\">\n<title>M3_M1_CAND</title>\n<ellipse fill=\"none\" stroke=\"black\" cx=\"94.75\" cy=\"-581.56\" rx=\"94.51\" ry=\"26.74\"/>\n<text text-anchor=\"middle\" x=\"94.75\" y=\"-585.36\" font-family=\"Times,serif\" font-size=\"14.00\">Candidate: M3 + M1</text>\n<text text-anchor=\"middle\" x=\"94.75\" y=\"-570.36\" font-family=\"Times,serif\" font-size=\"14.00\">RMSE = 0.90</text>\n</g>\n<!-- CAND_STAGE1&#45;&gt;M3_M1_CAND -->\n<g id=\"edge6\" class=\"edge\">\n<title>CAND_STAGE1&#45;&gt;M3_M1_CAND</title>\n<path fill=\"none\" stroke=\"black\" d=\"M313.33,-659.37C270.39,-644.28 208.84,-622.65 162,-606.19\"/>\n<polygon fill=\"black\" stroke=\"black\" points=\"163.13,-602.88 152.53,-602.87 160.81,-609.48 163.13,-602.88\"/>\n<text text-anchor=\"middle\" x=\"287.25\" y=\"-630.23\" font-family=\"Times,serif\" font-size=\"14.00\">Option 1</text>\n</g>\n<!-- M3_M2_CAND -->\n<g id=\"node8\" class=\"node\">\n<title>M3_M2_CAND</title>\n<ellipse fill=\"lightblue\" stroke=\"black\" cx=\"364.75\" cy=\"-581.56\" rx=\"156.96\" ry=\"26.74\"/>\n<text text-anchor=\"middle\" x=\"364.75\" y=\"-585.36\" font-family=\"Times,serif\" font-size=\"14.00\">Candidate: M3 + M2</text>\n<text text-anchor=\"middle\" x=\"364.75\" y=\"-570.36\" font-family=\"Times,serif\" font-size=\"14.00\">RMSE = 0.92 ✅ (Randomly Picked)</text>\n</g>\n<!-- CAND_STAGE1&#45;&gt;M3_M2_CAND -->\n<g id=\"edge7\" class=\"edge\">\n<title>CAND_STAGE1&#45;&gt;M3_M2_CAND</title>\n<path fill=\"none\" stroke=\"green\" stroke-width=\"2\" d=\"M364.75,-659.14C364.75,-647.73 364.75,-632.64 364.75,-618.88\"/>\n<polygon fill=\"green\" stroke=\"green\" stroke-width=\"2\" points=\"368.25,-618.69 364.75,-608.69 361.25,-618.69 368.25,-618.69\"/>\n<text text-anchor=\"middle\" x=\"446.25\" y=\"-630.23\" font-family=\"Times,serif\" font-size=\"14.00\">Option 2 (Chosen Randomly)</text>\n</g>\n<!-- M3_M4_CAND -->\n<g id=\"node9\" class=\"node\">\n<title>M3_M4_CAND</title>\n<ellipse fill=\"none\" stroke=\"black\" cx=\"634.75\" cy=\"-581.56\" rx=\"94.51\" ry=\"26.74\"/>\n<text text-anchor=\"middle\" x=\"634.75\" y=\"-585.36\" font-family=\"Times,serif\" font-size=\"14.00\">Candidate: M3 + M4</text>\n<text text-anchor=\"middle\" x=\"634.75\" y=\"-570.36\" font-family=\"Times,serif\" font-size=\"14.00\">RMSE = 0.95</text>\n</g>\n<!-- CAND_STAGE1&#45;&gt;M3_M4_CAND -->\n<g id=\"edge8\" class=\"edge\">\n<title>CAND_STAGE1&#45;&gt;M3_M4_CAND</title>\n<path fill=\"none\" stroke=\"black\" d=\"M455.06,-663.24C480.34,-657.86 507.52,-650.72 531.75,-641.43 551.73,-633.78 572.46,-622.64 590.04,-612.11\"/>\n<polygon fill=\"black\" stroke=\"black\" points=\"592.22,-614.88 598.92,-606.68 588.56,-608.91 592.22,-614.88\"/>\n<text text-anchor=\"middle\" x=\"588.25\" y=\"-630.23\" font-family=\"Times,serif\" font-size=\"14.00\">Option 3</text>\n</g>\n<!-- ACCEPT1 -->\n<g id=\"node10\" class=\"node\">\n<title>ACCEPT1</title>\n<polygon fill=\"lightgreen\" stroke=\"black\" points=\"442.25,-503.69 287.25,-503.69 287.25,-450.69 442.25,-450.69 442.25,-503.69\"/>\n<text text-anchor=\"middle\" x=\"364.75\" y=\"-488.49\" font-family=\"Times,serif\" font-size=\"14.00\">Move accepted!</text>\n<text text-anchor=\"middle\" x=\"364.75\" y=\"-473.49\" font-family=\"Times,serif\" font-size=\"14.00\">New current = M3 + M2</text>\n<text text-anchor=\"middle\" x=\"364.75\" y=\"-458.49\" font-family=\"Times,serif\" font-size=\"14.00\">(RMSE = 0.92)</text>\n</g>\n<!-- M3_M2_CAND&#45;&gt;ACCEPT1 -->\n<g id=\"edge9\" class=\"edge\">\n<title>M3_M2_CAND&#45;&gt;ACCEPT1</title>\n<path fill=\"none\" stroke=\"green\" d=\"M364.75,-554.47C364.75,-542.22 364.75,-527.43 364.75,-514.14\"/>\n<polygon fill=\"green\" stroke=\"green\" points=\"368.25,-513.89 364.75,-503.89 361.25,-513.89 368.25,-513.89\"/>\n<text text-anchor=\"middle\" x=\"400.75\" y=\"-525.49\" font-family=\"Times,serif\" font-size=\"14.00\">Improved ✓</text>\n</g>\n<!-- CAND_STAGE2 -->\n<g id=\"node11\" class=\"node\">\n<title>CAND_STAGE2</title>\n<polygon fill=\"white\" stroke=\"black\" points=\"468.75,-399.69 260.75,-399.69 260.75,-361.69 468.75,-361.69 468.75,-399.69\"/>\n<text text-anchor=\"middle\" x=\"364.75\" y=\"-384.49\" font-family=\"Times,serif\" font-size=\"14.00\">Possible candidates from M3+M2:</text>\n<text text-anchor=\"middle\" x=\"364.75\" y=\"-369.49\" font-family=\"Times,serif\" font-size=\"14.00\">M3+M2+M1 | M3+M2+M4</text>\n</g>\n<!-- ACCEPT1&#45;&gt;CAND_STAGE2 -->\n<g id=\"edge10\" class=\"edge\">\n<title>ACCEPT1&#45;&gt;CAND_STAGE2</title>\n<path fill=\"none\" stroke=\"black\" d=\"M364.75,-450.37C364.75,-437.82 364.75,-422.71 364.75,-409.86\"/>\n<polygon fill=\"black\" stroke=\"black\" points=\"368.25,-409.7 364.75,-399.7 361.25,-409.7 368.25,-409.7\"/>\n<text text-anchor=\"middle\" x=\"431.25\" y=\"-421.49\" font-family=\"Times,serif\" font-size=\"14.00\">Generate next neighbors</text>\n</g>\n<!-- M3_M2_M1_CAND -->\n<g id=\"node12\" class=\"node\">\n<title>M3_M2_M1_CAND</title>\n<ellipse fill=\"none\" stroke=\"black\" cx=\"328.75\" cy=\"-283.82\" rx=\"119.5\" ry=\"26.74\"/>\n<text text-anchor=\"middle\" x=\"328.75\" y=\"-287.62\" font-family=\"Times,serif\" font-size=\"14.00\">Candidate: M3 + M2 + M1</text>\n<text text-anchor=\"middle\" x=\"328.75\" y=\"-272.62\" font-family=\"Times,serif\" font-size=\"14.00\">RMSE = 0.89</text>\n</g>\n<!-- CAND_STAGE2&#45;&gt;M3_M2_M1_CAND -->\n<g id=\"edge11\" class=\"edge\">\n<title>CAND_STAGE2&#45;&gt;M3_M2_M1_CAND</title>\n<path fill=\"none\" stroke=\"black\" d=\"M357.81,-361.4C353.4,-349.76 347.53,-334.31 342.22,-320.33\"/>\n<polygon fill=\"black\" stroke=\"black\" points=\"345.49,-319.06 338.67,-310.95 338.94,-321.54 345.49,-319.06\"/>\n<text text-anchor=\"middle\" x=\"376.25\" y=\"-332.49\" font-family=\"Times,serif\" font-size=\"14.00\">Option 1</text>\n</g>\n<!-- M3_M2_M4_CAND -->\n<g id=\"node13\" class=\"node\">\n<title>M3_M2_M4_CAND</title>\n<ellipse fill=\"mistyrose\" stroke=\"black\" cx=\"622.75\" cy=\"-283.82\" rx=\"156.96\" ry=\"26.74\"/>\n<text text-anchor=\"middle\" x=\"622.75\" y=\"-287.62\" font-family=\"Times,serif\" font-size=\"14.00\">Candidate: M3 + M2 + M4</text>\n<text text-anchor=\"middle\" x=\"622.75\" y=\"-272.62\" font-family=\"Times,serif\" font-size=\"14.00\">RMSE = 0.94 ❌ (Randomly Picked)</text>\n</g>\n<!-- CAND_STAGE2&#45;&gt;M3_M2_M4_CAND -->\n<g id=\"edge12\" class=\"edge\">\n<title>CAND_STAGE2&#45;&gt;M3_M2_M4_CAND</title>\n<path fill=\"none\" stroke=\"orange\" stroke-width=\"2\" d=\"M413.89,-361.63C452.08,-347.58 505.68,-327.87 549.01,-311.94\"/>\n<polygon fill=\"orange\" stroke=\"orange\" stroke-width=\"2\" points=\"550.48,-315.13 558.66,-308.39 548.06,-308.56 550.48,-315.13\"/>\n<text text-anchor=\"middle\" x=\"582.25\" y=\"-332.49\" font-family=\"Times,serif\" font-size=\"14.00\">Option 2 (Chosen Randomly)</text>\n</g>\n<!-- REJECT -->\n<g id=\"node14\" class=\"node\">\n<title>REJECT</title>\n<polygon fill=\"lightgray\" stroke=\"black\" points=\"735.75,-205.95 509.75,-205.95 509.75,-169.95 735.75,-169.95 735.75,-205.95\"/>\n<text text-anchor=\"middle\" x=\"622.75\" y=\"-184.25\" font-family=\"Times,serif\" font-size=\"14.00\">No improvement → stay at M3 + M2</text>\n</g>\n<!-- M3_M2_M4_CAND&#45;&gt;REJECT -->\n<g id=\"edge13\" class=\"edge\">\n<title>M3_M2_M4_CAND&#45;&gt;REJECT</title>\n<path fill=\"none\" stroke=\"red\" d=\"M622.75,-256.92C622.75,-244.29 622.75,-229.09 622.75,-216.27\"/>\n<polygon fill=\"red\" stroke=\"red\" points=\"626.25,-216.17 622.75,-206.17 619.25,-216.17 626.25,-216.17\"/>\n<text text-anchor=\"middle\" x=\"670.25\" y=\"-227.75\" font-family=\"Times,serif\" font-size=\"14.00\">Not improved ✗</text>\n</g>\n<!-- GLOBAL -->\n<g id=\"node15\" class=\"node\">\n<title>GLOBAL</title>\n<ellipse fill=\"none\" stroke=\"black\" stroke-dasharray=\"5,2\" cx=\"622.75\" cy=\"-81.48\" rx=\"173.48\" ry=\"37.45\"/>\n<text text-anchor=\"middle\" x=\"622.75\" y=\"-92.78\" font-family=\"Times,serif\" font-size=\"14.00\">M3 + M1 + M2 + M4</text>\n<text text-anchor=\"middle\" x=\"622.75\" y=\"-77.78\" font-family=\"Times,serif\" font-size=\"14.00\">RMSE = 0.85 ⭐</text>\n<text text-anchor=\"middle\" x=\"622.75\" y=\"-62.78\" font-family=\"Times,serif\" font-size=\"14.00\">(Global Optimum &#45; May reach with luck)</text>\n</g>\n<!-- REJECT&#45;&gt;GLOBAL -->\n<g id=\"edge14\" class=\"edge\">\n<title>REJECT&#45;&gt;GLOBAL</title>\n<path fill=\"none\" stroke=\"black\" stroke-dasharray=\"5,2\" d=\"M622.75,-169.7C622.75,-158.69 622.75,-143.85 622.75,-129.54\"/>\n<polygon fill=\"black\" stroke=\"black\" points=\"626.25,-129.27 622.75,-119.27 619.25,-129.27 626.25,-129.27\"/>\n<text text-anchor=\"middle\" x=\"681.75\" y=\"-140.75\" font-family=\"Times,serif\" font-size=\"14.00\">Possible random path</text>\n</g>\n</g>\n</svg>\n",
            "text/plain": [
              "<graphviz.graphs.Digraph at 0x7ca28bf29940>"
            ]
          },
          "metadata": {},
          "execution_count": 73
        }
      ]
    },
    {
      "cell_type": "code",
      "source": [
        "#@title Function: stochastic_ensemble_selection\n",
        "import pandas as pd\n",
        "import numpy as np\n",
        "from sklearn.metrics import mean_squared_error\n",
        "import random\n",
        "\n",
        "def stochastic_ensemble_selection(\n",
        "    pred_wide_val,\n",
        "    target_col,\n",
        "    evaluate_fn=None,\n",
        "    max_iterations=50,\n",
        "    random_state=None,\n",
        "    verbose=True,\n",
        "):\n",
        "    \"\"\"\n",
        "    Stochastic hill-climbing ensemble selector.\n",
        "    Randomly picks a candidate model each step and accepts it if the\n",
        "    new ensemble improves the score.\n",
        "\n",
        "    Parameters\n",
        "    ----------\n",
        "    pred_wide_val : pd.DataFrame\n",
        "        DataFrame containing model predictions and a target column.\n",
        "        Each row corresponds to a timestamp or sample.\n",
        "    target_col : str\n",
        "        Name of the target column in pred_wide_val.\n",
        "    evaluate_fn : callable, optional\n",
        "        A function taking (y_true, y_pred) -> float (smaller is better).\n",
        "        If not provided, defaults to RMSE.\n",
        "    max_iterations : int, default=50\n",
        "        Maximum number of random trials.\n",
        "    random_state : int, optional\n",
        "        Random seed for reproducibility.\n",
        "    verbose : bool, default=True\n",
        "        If True, prints progress messages.\n",
        "\n",
        "    Returns\n",
        "    -------\n",
        "    best_models : list of str\n",
        "        Models included in the best ensemble found.\n",
        "    best_score : float\n",
        "        Best (lowest) score achieved.\n",
        "    history : list of dict\n",
        "        Iteration-wise log of scores, candidates, and acceptance decisions.\n",
        "    \"\"\"\n",
        "\n",
        "    # -------------------------------------------------\n",
        "    # Setup\n",
        "    # -------------------------------------------------\n",
        "    if random_state is not None:\n",
        "        random.seed(random_state)\n",
        "        np.random.seed(random_state)\n",
        "\n",
        "    if evaluate_fn is None:\n",
        "        def evaluate_fn(y_true, y_pred):\n",
        "            return np.sqrt(mean_squared_error(y_true, y_pred))\n",
        "        if verbose:\n",
        "            print(\"Using default metric: RMSE\")\n",
        "\n",
        "    model_cols = [c for c in pred_wide_val.columns if c != target_col]\n",
        "    y_true = pred_wide_val[target_col].values\n",
        "\n",
        "    # Step 1: Start from the best single model\n",
        "    scores = {m: evaluate_fn(y_true, pred_wide_val[m]) for m in model_cols}\n",
        "    best_model = min(scores, key=scores.get)\n",
        "    best_models = [best_model]\n",
        "    best_score = scores[best_model]\n",
        "\n",
        "    if verbose:\n",
        "        print(f\"Start with: {best_model} (score={best_score:.5f})\")\n",
        "\n",
        "    # -------------------------------------------------\n",
        "    # Step 2: Randomized search (stochastic hill climbing)\n",
        "    # -------------------------------------------------\n",
        "    history = []\n",
        "    for i in range(max_iterations):\n",
        "        remaining_models = [m for m in model_cols if m not in best_models]\n",
        "        if not remaining_models:\n",
        "            if verbose:\n",
        "                print(\"All models have been used — stopping.\")\n",
        "            break\n",
        "\n",
        "        candidate = random.choice(remaining_models)\n",
        "        temp_models = best_models + [candidate]\n",
        "        y_pred = pred_wide_val[temp_models].mean(axis=1)\n",
        "        score = evaluate_fn(y_true, y_pred)\n",
        "\n",
        "        accepted = False\n",
        "        if score < best_score:\n",
        "            # Accept the move\n",
        "            best_models.append(candidate)\n",
        "            best_score = score\n",
        "            accepted = True\n",
        "            if verbose:\n",
        "                print(f\"[Iter {i+1:02d}] Randomly picked {candidate}: improved ✓ (score={best_score:.5f})\")\n",
        "        else:\n",
        "            # Reject the move\n",
        "            if verbose:\n",
        "                print(f\"[Iter {i+1:02d}] Randomly picked {candidate}: no improvement ✗ (score={score:.5f})\")\n",
        "\n",
        "        history.append({\n",
        "            \"iteration\": i + 1,\n",
        "            \"candidate\": candidate,\n",
        "            \"accepted\": accepted,\n",
        "            \"score\": score,\n",
        "            \"best_score\": best_score,\n",
        "            \"current_ensemble\": best_models.copy(),\n",
        "        })\n",
        "\n",
        "    if verbose:\n",
        "        print(f\"\\n✅ Final Ensemble: {best_models}\")\n",
        "        print(f\"✅ Final Score: {best_score:.5f}\")\n",
        "\n",
        "    return best_models, best_score, history\n"
      ],
      "metadata": {
        "cellView": "form",
        "id": "E0rWY-Ukhe9U"
      },
      "execution_count": null,
      "outputs": []
    },
    {
      "cell_type": "code",
      "source": [
        "best_models, best_score, history = stochastic_ensemble_selection(\n",
        "    pred_wide_val,\n",
        "    target_col=\"energy_consumption\",\n",
        "    max_iterations=3,\n",
        "    random_state=42\n",
        ")\n"
      ],
      "metadata": {
        "colab": {
          "base_uri": "https://localhost:8080/"
        },
        "id": "SIub8Zkqhg67",
        "outputId": "0fbd1619-04ae-4a49-b5ab-7049e9f0bc78"
      },
      "execution_count": null,
      "outputs": [
        {
          "output_type": "stream",
          "name": "stdout",
          "text": [
            "Using default metric: RMSE\n",
            "Start with: LightGBM (score=1.67329)\n",
            "[Iter 01] Randomly picked FFT: no improvement ✗ (score=1.78816)\n",
            "[Iter 02] Randomly picked FFT: no improvement ✗ (score=1.78816)\n",
            "[Iter 03] Randomly picked Theta: improved ✓ (score=1.49676)\n",
            "\n",
            "✅ Final Ensemble: ['LightGBM', 'Theta']\n",
            "✅ Final Score: 1.49676\n"
          ]
        }
      ]
    },
    {
      "cell_type": "markdown",
      "source": [
        "## c). Optimal Weighted Ensemble"
      ],
      "metadata": {
        "id": "vn7jzN6fosXj"
      }
    },
    {
      "cell_type": "code",
      "source": [
        "from scipy import optimize\n",
        "import numpy as np\n",
        "import pandas as pd\n",
        "from sklearn.metrics import mean_absolute_error\n",
        "\n",
        "def find_optimal_combination(\n",
        "    candidates,\n",
        "    pred_wide,\n",
        "    target,\n",
        "    metric_fn=mean_absolute_error,\n",
        "    verbose=True,\n",
        "):\n",
        "    \"\"\"Find optimal non-negative weights (sum=1) minimizing forecast error.\"\"\"\n",
        "\n",
        "    def loss_function(weights):\n",
        "        fc = np.sum(pred_wide[candidates].values * np.array(weights), axis=1)\n",
        "        return metric_fn(pred_wide[target].values, fc)\n",
        "\n",
        "    n = len(candidates)\n",
        "    init_w = np.ones(n) / n\n",
        "\n",
        "    constraints = {\"type\": \"eq\", \"fun\": lambda w: np.sum(w) - 1}\n",
        "    bounds = [(0.0, 1.0)] * n\n",
        "\n",
        "    res = optimize.minimize(\n",
        "        loss_function,\n",
        "        x0=init_w,\n",
        "        bounds=bounds,\n",
        "        constraints=constraints,\n",
        "        method=\"SLSQP\",\n",
        "        options={\"ftol\": 1e-9, \"disp\": False},\n",
        "    )\n",
        "\n",
        "    weights = res.x\n",
        "\n",
        "    if verbose:\n",
        "        print(f\"Optimization success: {res.success}\")\n",
        "        print(f\"Optimal Weights: {dict(zip(candidates, np.round(weights, 4)))}\")\n",
        "        print(f\"Minimum {metric_fn.__name__}: {res.fun:.5f}\")\n",
        "\n",
        "    return weights\n",
        "\n",
        "# Example usage\n",
        "candidates = [\"FFT\", \"Lasso\", \"LightGBM\", \"Theta\", \"XGB_RF\"]\n",
        "optimal_weights = find_optimal_combination(\n",
        "    candidates=candidates,\n",
        "    pred_wide=pred_wide_val,\n",
        "    target=\"energy_consumption\",\n",
        "    metric_fn=mean_absolute_error,\n",
        ")\n",
        "\n",
        "weights_df = pd.DataFrame(optimal_weights, index=candidates, columns=['weight'])\n",
        "display(weights_df)"
      ],
      "metadata": {
        "colab": {
          "base_uri": "https://localhost:8080/"
        },
        "id": "fDNcG_ksotHL",
        "outputId": "60eeb58b-7e00-4ee1-82bb-c3d7945dd102"
      },
      "execution_count": null,
      "outputs": [
        {
          "output_type": "stream",
          "name": "stdout",
          "text": [
            "Optimization success: True\n",
            "Optimal Weights: {'FFT': np.float64(0.1158), 'Lasso': np.float64(0.1064), 'LightGBM': np.float64(0.3912), 'Theta': np.float64(0.1353), 'XGB_RF': np.float64(0.2513)}\n",
            "Minimum mean_absolute_error: 0.68611\n"
          ]
        }
      ]
    },
    {
      "cell_type": "code",
      "metadata": {
        "colab": {
          "base_uri": "https://localhost:8080/",
          "height": 206
        },
        "id": "464ad495",
        "outputId": "4faac89f-a3b7-4b6b-b978-99dbe71d2c42"
      },
      "source": [],
      "execution_count": null,
      "outputs": [
        {
          "output_type": "display_data",
          "data": {
            "text/plain": [
              "            weight\n",
              "FFT       0.115790\n",
              "Lasso     0.106405\n",
              "LightGBM  0.391153\n",
              "Theta     0.135343\n",
              "XGB_RF    0.251309"
            ],
            "text/html": [
              "\n",
              "  <div id=\"df-0f6c30cf-64ca-415a-a3dd-2d0ff614a813\" class=\"colab-df-container\">\n",
              "    <div>\n",
              "<style scoped>\n",
              "    .dataframe tbody tr th:only-of-type {\n",
              "        vertical-align: middle;\n",
              "    }\n",
              "\n",
              "    .dataframe tbody tr th {\n",
              "        vertical-align: top;\n",
              "    }\n",
              "\n",
              "    .dataframe thead th {\n",
              "        text-align: right;\n",
              "    }\n",
              "</style>\n",
              "<table border=\"1\" class=\"dataframe\">\n",
              "  <thead>\n",
              "    <tr style=\"text-align: right;\">\n",
              "      <th></th>\n",
              "      <th>weight</th>\n",
              "    </tr>\n",
              "  </thead>\n",
              "  <tbody>\n",
              "    <tr>\n",
              "      <th>FFT</th>\n",
              "      <td>0.115790</td>\n",
              "    </tr>\n",
              "    <tr>\n",
              "      <th>Lasso</th>\n",
              "      <td>0.106405</td>\n",
              "    </tr>\n",
              "    <tr>\n",
              "      <th>LightGBM</th>\n",
              "      <td>0.391153</td>\n",
              "    </tr>\n",
              "    <tr>\n",
              "      <th>Theta</th>\n",
              "      <td>0.135343</td>\n",
              "    </tr>\n",
              "    <tr>\n",
              "      <th>XGB_RF</th>\n",
              "      <td>0.251309</td>\n",
              "    </tr>\n",
              "  </tbody>\n",
              "</table>\n",
              "</div>\n",
              "    <div class=\"colab-df-buttons\">\n",
              "\n",
              "  <div class=\"colab-df-container\">\n",
              "    <button class=\"colab-df-convert\" onclick=\"convertToInteractive('df-0f6c30cf-64ca-415a-a3dd-2d0ff614a813')\"\n",
              "            title=\"Convert this dataframe to an interactive table.\"\n",
              "            style=\"display:none;\">\n",
              "\n",
              "  <svg xmlns=\"http://www.w3.org/2000/svg\" height=\"24px\" viewBox=\"0 -960 960 960\">\n",
              "    <path d=\"M120-120v-720h720v720H120Zm60-500h600v-160H180v160Zm220 220h160v-160H400v160Zm0 220h160v-160H400v160ZM180-400h160v-160H180v160Zm440 0h160v-160H620v160ZM180-180h160v-160H180v160Zm440 0h160v-160H620v160Z\"/>\n",
              "  </svg>\n",
              "    </button>\n",
              "\n",
              "  <style>\n",
              "    .colab-df-container {\n",
              "      display:flex;\n",
              "      gap: 12px;\n",
              "    }\n",
              "\n",
              "    .colab-df-convert {\n",
              "      background-color: #E8F0FE;\n",
              "      border: none;\n",
              "      border-radius: 50%;\n",
              "      cursor: pointer;\n",
              "      display: none;\n",
              "      fill: #1967D2;\n",
              "      height: 32px;\n",
              "      padding: 0 0 0 0;\n",
              "      width: 32px;\n",
              "    }\n",
              "\n",
              "    .colab-df-convert:hover {\n",
              "      background-color: #E2EBFA;\n",
              "      box-shadow: 0px 1px 2px rgba(60, 64, 67, 0.3), 0px 1px 3px 1px rgba(60, 64, 67, 0.15);\n",
              "      fill: #174EA6;\n",
              "    }\n",
              "\n",
              "    .colab-df-buttons div {\n",
              "      margin-bottom: 4px;\n",
              "    }\n",
              "\n",
              "    [theme=dark] .colab-df-convert {\n",
              "      background-color: #3B4455;\n",
              "      fill: #D2E3FC;\n",
              "    }\n",
              "\n",
              "    [theme=dark] .colab-df-convert:hover {\n",
              "      background-color: #434B5C;\n",
              "      box-shadow: 0px 1px 3px 1px rgba(0, 0, 0, 0.15);\n",
              "      filter: drop-shadow(0px 1px 2px rgba(0, 0, 0, 0.3));\n",
              "      fill: #FFFFFF;\n",
              "    }\n",
              "  </style>\n",
              "\n",
              "    <script>\n",
              "      const buttonEl =\n",
              "        document.querySelector('#df-0f6c30cf-64ca-415a-a3dd-2d0ff614a813 button.colab-df-convert');\n",
              "      buttonEl.style.display =\n",
              "        google.colab.kernel.accessAllowed ? 'block' : 'none';\n",
              "\n",
              "      async function convertToInteractive(key) {\n",
              "        const element = document.querySelector('#df-0f6c30cf-64ca-415a-a3dd-2d0ff614a813');\n",
              "        const dataTable =\n",
              "          await google.colab.kernel.invokeFunction('convertToInteractive',\n",
              "                                                    [key], {});\n",
              "        if (!dataTable) return;\n",
              "\n",
              "        const docLinkHtml = 'Like what you see? Visit the ' +\n",
              "          '<a target=\"_blank\" href=https://colab.research.google.com/notebooks/data_table.ipynb>data table notebook</a>'\n",
              "          + ' to learn more about interactive tables.';\n",
              "        element.innerHTML = '';\n",
              "        dataTable['output_type'] = 'display_data';\n",
              "        await google.colab.output.renderOutput(dataTable, element);\n",
              "        const docLink = document.createElement('div');\n",
              "        docLink.innerHTML = docLinkHtml;\n",
              "        element.appendChild(docLink);\n",
              "      }\n",
              "    </script>\n",
              "  </div>\n",
              "\n",
              "\n",
              "    <div id=\"df-6108b8ab-ccb3-4141-a22e-3d8afbe58659\">\n",
              "      <button class=\"colab-df-quickchart\" onclick=\"quickchart('df-6108b8ab-ccb3-4141-a22e-3d8afbe58659')\"\n",
              "                title=\"Suggest charts\"\n",
              "                style=\"display:none;\">\n",
              "\n",
              "<svg xmlns=\"http://www.w3.org/2000/svg\" height=\"24px\"viewBox=\"0 0 24 24\"\n",
              "     width=\"24px\">\n",
              "    <g>\n",
              "        <path d=\"M19 3H5c-1.1 0-2 .9-2 2v14c0 1.1.9 2 2 2h14c1.1 0 2-.9 2-2V5c0-1.1-.9-2-2-2zM9 17H7v-7h2v7zm4 0h-2V7h2v10zm4 0h-2v-4h2v4z\"/>\n",
              "    </g>\n",
              "</svg>\n",
              "      </button>\n",
              "\n",
              "<style>\n",
              "  .colab-df-quickchart {\n",
              "      --bg-color: #E8F0FE;\n",
              "      --fill-color: #1967D2;\n",
              "      --hover-bg-color: #E2EBFA;\n",
              "      --hover-fill-color: #174EA6;\n",
              "      --disabled-fill-color: #AAA;\n",
              "      --disabled-bg-color: #DDD;\n",
              "  }\n",
              "\n",
              "  [theme=dark] .colab-df-quickchart {\n",
              "      --bg-color: #3B4455;\n",
              "      --fill-color: #D2E3FC;\n",
              "      --hover-bg-color: #434B5C;\n",
              "      --hover-fill-color: #FFFFFF;\n",
              "      --disabled-bg-color: #3B4455;\n",
              "      --disabled-fill-color: #666;\n",
              "  }\n",
              "\n",
              "  .colab-df-quickchart {\n",
              "    background-color: var(--bg-color);\n",
              "    border: none;\n",
              "    border-radius: 50%;\n",
              "    cursor: pointer;\n",
              "    display: none;\n",
              "    fill: var(--fill-color);\n",
              "    height: 32px;\n",
              "    padding: 0;\n",
              "    width: 32px;\n",
              "  }\n",
              "\n",
              "  .colab-df-quickchart:hover {\n",
              "    background-color: var(--hover-bg-color);\n",
              "    box-shadow: 0 1px 2px rgba(60, 64, 67, 0.3), 0 1px 3px 1px rgba(60, 64, 67, 0.15);\n",
              "    fill: var(--button-hover-fill-color);\n",
              "  }\n",
              "\n",
              "  .colab-df-quickchart-complete:disabled,\n",
              "  .colab-df-quickchart-complete:disabled:hover {\n",
              "    background-color: var(--disabled-bg-color);\n",
              "    fill: var(--disabled-fill-color);\n",
              "    box-shadow: none;\n",
              "  }\n",
              "\n",
              "  .colab-df-spinner {\n",
              "    border: 2px solid var(--fill-color);\n",
              "    border-color: transparent;\n",
              "    border-bottom-color: var(--fill-color);\n",
              "    animation:\n",
              "      spin 1s steps(1) infinite;\n",
              "  }\n",
              "\n",
              "  @keyframes spin {\n",
              "    0% {\n",
              "      border-color: transparent;\n",
              "      border-bottom-color: var(--fill-color);\n",
              "      border-left-color: var(--fill-color);\n",
              "    }\n",
              "    20% {\n",
              "      border-color: transparent;\n",
              "      border-left-color: var(--fill-color);\n",
              "      border-top-color: var(--fill-color);\n",
              "    }\n",
              "    30% {\n",
              "      border-color: transparent;\n",
              "      border-left-color: var(--fill-color);\n",
              "      border-top-color: var(--fill-color);\n",
              "      border-right-color: var(--fill-color);\n",
              "    }\n",
              "    40% {\n",
              "      border-color: transparent;\n",
              "      border-right-color: var(--fill-color);\n",
              "      border-top-color: var(--fill-color);\n",
              "    }\n",
              "    60% {\n",
              "      border-color: transparent;\n",
              "      border-right-color: var(--fill-color);\n",
              "    }\n",
              "    80% {\n",
              "      border-color: transparent;\n",
              "      border-right-color: var(--fill-color);\n",
              "      border-bottom-color: var(--fill-color);\n",
              "    }\n",
              "    90% {\n",
              "      border-color: transparent;\n",
              "      border-bottom-color: var(--fill-color);\n",
              "    }\n",
              "  }\n",
              "</style>\n",
              "\n",
              "      <script>\n",
              "        async function quickchart(key) {\n",
              "          const quickchartButtonEl =\n",
              "            document.querySelector('#' + key + ' button');\n",
              "          quickchartButtonEl.disabled = true;  // To prevent multiple clicks.\n",
              "          quickchartButtonEl.classList.add('colab-df-spinner');\n",
              "          try {\n",
              "            const charts = await google.colab.kernel.invokeFunction(\n",
              "                'suggestCharts', [key], {});\n",
              "          } catch (error) {\n",
              "            console.error('Error during call to suggestCharts:', error);\n",
              "          }\n",
              "          quickchartButtonEl.classList.remove('colab-df-spinner');\n",
              "          quickchartButtonEl.classList.add('colab-df-quickchart-complete');\n",
              "        }\n",
              "        (() => {\n",
              "          let quickchartButtonEl =\n",
              "            document.querySelector('#df-6108b8ab-ccb3-4141-a22e-3d8afbe58659 button');\n",
              "          quickchartButtonEl.style.display =\n",
              "            google.colab.kernel.accessAllowed ? 'block' : 'none';\n",
              "        })();\n",
              "      </script>\n",
              "    </div>\n",
              "\n",
              "  <div id=\"id_2a1d3391-6416-4b97-9073-ef5564b87052\">\n",
              "    <style>\n",
              "      .colab-df-generate {\n",
              "        background-color: #E8F0FE;\n",
              "        border: none;\n",
              "        border-radius: 50%;\n",
              "        cursor: pointer;\n",
              "        display: none;\n",
              "        fill: #1967D2;\n",
              "        height: 32px;\n",
              "        padding: 0 0 0 0;\n",
              "        width: 32px;\n",
              "      }\n",
              "\n",
              "      .colab-df-generate:hover {\n",
              "        background-color: #E2EBFA;\n",
              "        box-shadow: 0px 1px 2px rgba(60, 64, 67, 0.3), 0px 1px 3px 1px rgba(60, 64, 67, 0.15);\n",
              "        fill: #174EA6;\n",
              "      }\n",
              "\n",
              "      [theme=dark] .colab-df-generate {\n",
              "        background-color: #3B4455;\n",
              "        fill: #D2E3FC;\n",
              "      }\n",
              "\n",
              "      [theme=dark] .colab-df-generate:hover {\n",
              "        background-color: #434B5C;\n",
              "        box-shadow: 0px 1px 3px 1px rgba(0, 0, 0, 0.15);\n",
              "        filter: drop-shadow(0px 1px 2px rgba(0, 0, 0, 0.3));\n",
              "        fill: #FFFFFF;\n",
              "      }\n",
              "    </style>\n",
              "    <button class=\"colab-df-generate\" onclick=\"generateWithVariable('weights_df')\"\n",
              "            title=\"Generate code using this dataframe.\"\n",
              "            style=\"display:none;\">\n",
              "\n",
              "  <svg xmlns=\"http://www.w3.org/2000/svg\" height=\"24px\"viewBox=\"0 0 24 24\"\n",
              "       width=\"24px\">\n",
              "    <path d=\"M7,19H8.4L18.45,9,17,7.55,7,17.6ZM5,21V16.75L18.45,3.32a2,2,0,0,1,2.83,0l1.4,1.43a1.91,1.91,0,0,1,.58,1.4,1.91,1.91,0,0,1-.58,1.4L9.25,21ZM18.45,9,17,7.55Zm-12,3A5.31,5.31,0,0,0,4.9,8.1,5.31,5.31,0,0,0,1,6.5,5.31,5.31,0,0,0,4.9,4.9,5.31,5.31,0,0,0,6.5,1,5.31,5.31,0,0,0,8.1,4.9,5.31,5.31,0,0,0,12,6.5,5.46,5.46,0,0,0,6.5,12Z\"/>\n",
              "  </svg>\n",
              "    </button>\n",
              "    <script>\n",
              "      (() => {\n",
              "      const buttonEl =\n",
              "        document.querySelector('#id_2a1d3391-6416-4b97-9073-ef5564b87052 button.colab-df-generate');\n",
              "      buttonEl.style.display =\n",
              "        google.colab.kernel.accessAllowed ? 'block' : 'none';\n",
              "\n",
              "      buttonEl.onclick = () => {\n",
              "        google.colab.notebook.generateWithVariable('weights_df');\n",
              "      }\n",
              "      })();\n",
              "    </script>\n",
              "  </div>\n",
              "\n",
              "    </div>\n",
              "  </div>\n"
            ],
            "application/vnd.google.colaboratory.intrinsic+json": {
              "type": "dataframe",
              "variable_name": "weights_df",
              "summary": "{\n  \"name\": \"weights_df\",\n  \"rows\": 5,\n  \"fields\": [\n    {\n      \"column\": \"weight\",\n      \"properties\": {\n        \"dtype\": \"number\",\n        \"std\": 0.1216593826491527,\n        \"min\": 0.10640451635996369,\n        \"max\": 0.3911532046073136,\n        \"num_unique_values\": 5,\n        \"samples\": [\n          0.10640451635996369,\n          0.2513087519441467,\n          0.3911532046073136\n        ],\n        \"semantic_type\": \"\",\n        \"description\": \"\"\n      }\n    }\n  ]\n}"
            }
          },
          "metadata": {}
        }
      ]
    },
    {
      "cell_type": "markdown",
      "source": [
        "# Model Config"
      ],
      "metadata": {
        "id": "noIr5FR2DlQx"
      }
    },
    {
      "cell_type": "code",
      "source": [
        "#@title FeatureConfig\n",
        "\n",
        "@dataclass\n",
        "class FeatureConfig:\n",
        "    \"\"\"FeatureConfig describe data, not how to transform it.\"\"\"\n",
        "\n",
        "    continuous_features: List\n",
        "    date: List = None\n",
        "    target: str = None\n",
        "\n",
        "    categorical_features: List = None\n",
        "    boolean_features: List[str] = None\n",
        "\n",
        "    exogenous_features: List[str] = field(\n",
        "        default_factory=list,\n",
        "        metadata={\n",
        "            \"help\": (\n",
        "                        \"These features are not the target but may influence it. \"\n",
        "                        \"Each must already be declared in either 'continuous_features' or 'categorical_features'.\"\n",
        "                    ) } )\n",
        "    original_target = None\n",
        "\n",
        "    def __post_init__(self):\n",
        "        \"\"\"Validate feature configuration after initialization.\"\"\"\n",
        "\n",
        "        all_features = ( self.categorical_features + self.continuous_features + self.boolean_features )\n",
        "\n",
        "        # --- 1. Ensure target/date are not included in features\n",
        "        if self.target in all_features:\n",
        "            raise ValueError( f\"Target column `{self.target}` must not appear in categorical, continuous, or boolean features.\" )\n",
        "\n",
        "        if self.date in all_features:\n",
        "            raise ValueError( f\"Date column `{self.date}` must not appear in categorical, continuous, or boolean features.\" )\n",
        "\n",
        "        # --- 2. Validate exogenous features\n",
        "        extra_exog = set(self.exogenous_features) - set(all_features)\n",
        "        if extra_exog:\n",
        "            raise ValueError(\n",
        "                f\"Exogenous features not present in declared features: {sorted(extra_exog)}\"\n",
        "            )\n",
        "\n",
        "        # --- 3. Ensure no overlaps between feature types\n",
        "        overlaps = (\n",
        "                        set(self.continuous_features) & set(self.categorical_features)\n",
        "                    ) | (\n",
        "                        set(self.continuous_features) & set(self.boolean_features)\n",
        "                    ) | (\n",
        "                        set(self.categorical_features) & set(self.boolean_features)\n",
        "                    )\n",
        "\n",
        "        if overlaps:\n",
        "            raise ValueError(\n",
        "                f\"Features cannot belong to multiple types. Overlapping features: {sorted(overlaps)}\"\n",
        "            )\n",
        "            # --- 6. Default original_target if missing\n",
        "        if self.original_target is None:\n",
        "            self.original_target = self.target\n",
        "\n",
        "    def get_X_y(\n",
        "        self,\n",
        "        df: pd.DataFrame,\n",
        "        categorical: bool = False,\n",
        "        exogenous: bool = False\n",
        "    ):\n",
        "        \"\"\"\n",
        "        Slice a dataframe into X, y, y_orig using the configured feature groups.\n",
        "\n",
        "        Parameters\n",
        "        ----------\n",
        "        df : pd.DataFrame\n",
        "            Source dataframe containing features and target(s).\n",
        "        categorical : bool\n",
        "            If True, include categorical + boolean features in X (in addition to continuous).\n",
        "        exogenous : bool\n",
        "            If True, keep `exogenous_features` in X; otherwise drop them.\n",
        "\n",
        "        Returns\n",
        "        -------\n",
        "        (X, y, y_orig)\n",
        "            X : pd.DataFrame of selected features\n",
        "            y : pd.DataFrame with the target column (or None if missing)\n",
        "            y_orig : pd.DataFrame with the original target column (or None if missing)\n",
        "        \"\"\"\n",
        "        # 1) Build list of expected features\n",
        "        feature_list = list(self.continuous_features)  # start with continuous\n",
        "        if categorical:\n",
        "            feature_list += self.categorical_features + self.boolean_features\n",
        "        if not exogenous:\n",
        "            feature_list = [f for f in feature_list if f not in set(self.exogenous_features)]\n",
        "\n",
        "        # 2) Validate all required features exist\n",
        "        missing = set(feature_list) - set(df.columns)\n",
        "        if missing:\n",
        "            warnings.warn(f\"Missing features dropped: { missing }\")\n",
        "        feature_list = [f for f in feature_list if f in df.columns]\n",
        "\n",
        "        # 3) Slice\n",
        "        X = df.loc[:, feature_list].copy()\n",
        "        y = df[[self.target]].copy() if self.target in df.columns else None\n",
        "        y_orig = df[[self.original_target]].copy() if self.original_target in df.columns else None\n",
        "\n",
        "        return X, y, y_orig\n",
        "\n"
      ],
      "metadata": {
        "cellView": "form",
        "id": "rB3aWMYCCHHa"
      },
      "execution_count": null,
      "outputs": []
    },
    {
      "cell_type": "code",
      "source": [
        "#@title ModelConfig\n",
        "from sklearn.base import BaseEstimator, clone\n",
        "from sklearn.preprocessing import StandardScaler\n",
        "\n",
        "@dataclass\n",
        "class ModelConfig:\n",
        "\n",
        "    # Models\n",
        "    model: BaseEstimator = field(\n",
        "        default=MISSING, metadata={\"help\": \"Sci-kit Learn Compatible model instance\"}\n",
        "    )\n",
        "\n",
        "    name: str = field(\n",
        "        default=None,\n",
        "        metadata={\n",
        "            \"help\": \"Name or identifier for the model. If left None, will use the string representation of the model\"\n",
        "        },\n",
        "    )\n",
        "\n",
        "    # Continuous features preprocessing\n",
        "    apply_normalization: bool = field(\n",
        "        default=False,\n",
        "        metadata={\"help\": \"Whether to normalize continuous features before fitting\"}\n",
        "    )\n",
        "\n",
        "    scaler_model: Optional[BaseEstimator] = field(\n",
        "        default=None,\n",
        "        metadata={\"help\": \"Scaler object to be used for continuous features (e.g., StandardScaler, MinMaxScaler)\"}\n",
        "    )\n",
        "\n",
        "    # Categorical features preprocessing\n",
        "    apply_categorical_encoding: bool = field(\n",
        "        default=False,\n",
        "        metadata={\"help\": \"Whether to encode categorical features before fitting\"}\n",
        "    )\n",
        "\n",
        "    categorical_encoder_model: Optional[BaseEstimator] = field(\n",
        "        default=None,\n",
        "        metadata={\"help\": \"Encoder object for categorical features (e.g., OneHotEncoder, OrdinalEncoder)\"}\n",
        "    )\n",
        "\n",
        "    def __post_init__(self):\n",
        "\n",
        "        if self.model is MISSING:\n",
        "            raise ValueError(\"`model` must be provided.\")\n",
        "\n",
        "        if self.apply_normalization and self.scaler_model is None:\n",
        "            warnings.warn(\n",
        "                            \"`apply_normalization=True` but no scaler_model was provided. \"\n",
        "                            \"Defaulting to StandardScaler().\"\n",
        "                        )\n",
        "            self.scaler_model = StandardScaler()\n",
        "\n",
        "        if self.apply_categorical_encoding and self.categorical_encoder_model is None:\n",
        "            raise ValueError(\"`apply_categorical_encoding=True` but no categorical_encoder_model provided.\")\n",
        "\n",
        "        if self.name is None:\n",
        "            self.name = str(self.model)\n",
        "\n",
        "        # Type safety checks\n",
        "        if self.scaler_model is not None and not isinstance(self.scaler_model, BaseEstimator):\n",
        "            raise TypeError(\"scaler_model must be a scikit-learn estimator.\")\n",
        "        if self.categorical_encoder_model is not None and not isinstance(self.categorical_encoder_model, BaseEstimator):\n",
        "            raise TypeError(\"categorical_encoder_model must be a scikit-learn estimator.\")\n",
        "\n",
        "\n",
        "    def clone(self):\n",
        "      # creates a fresh copy of the estimator with the same hyperparameters but without any fitted state.\n",
        "        self.model = clone(self.model)\n",
        "        return self\n"
      ],
      "metadata": {
        "id": "GReY7WzYErC4"
      },
      "execution_count": null,
      "outputs": []
    },
    {
      "cell_type": "code",
      "source": [
        "#@title ModelWorkflow\n",
        "\n",
        "import copy\n",
        "import warnings\n",
        "import numpy as np\n",
        "import pandas as pd\n",
        "from sklearn.base import clone\n",
        "from sklearn.preprocessing import StandardScaler, OneHotEncoder\n",
        "\n",
        "class ModelWorkflow:\n",
        "    def __init__(\n",
        "        self,\n",
        "        model_config,\n",
        "        feature_config,\n",
        "        target_transformer: object = None,\n",
        "    ) -> None:\n",
        "        \"\"\"\n",
        "        Execution workflow wrapping a scikit-learn style estimator\n",
        "        with preprocessing and optional target transformation.\n",
        "        \"\"\"\n",
        "        self.model_config = model_config\n",
        "        self.feature_config = feature_config\n",
        "        self.target_transformer = target_transformer\n",
        "\n",
        "        # clone model\n",
        "        self._model = clone(self.model_config.model)\n",
        "\n",
        "        # runtime state\n",
        "        self._scaler = None\n",
        "        self._cat_encoder = None\n",
        "        self._encoded_categorical_features = None\n",
        "\n",
        "        # keep track of last datasets for evaluation\n",
        "        self._last_train_df = None\n",
        "        self._last_test_df = None\n",
        "        self._last_y_pred = None\n",
        "\n",
        "        # initialize scaler if needed\n",
        "        if self.model_config.apply_normalization:\n",
        "            self._scaler = clone(self.model_config.scaler_model)\n",
        "\n",
        "        # initialize categorical encoder if needed\n",
        "        if self.model_config.apply_categorical_encoding:\n",
        "            if self.model_config.categorical_encoder_model is None:\n",
        "                warnings.warn(\n",
        "                    \"`apply_categorical_encoding=True` but no encoder set. \"\n",
        "                    \"Defaulting to OneHotEncoder(handle_unknown='ignore').\"\n",
        "                )\n",
        "                self._cat_encoder = OneHotEncoder(handle_unknown=\"ignore\")\n",
        "            else:\n",
        "                self._cat_encoder = clone(self.model_config.categorical_encoder_model)\n",
        "            self._encoded_categorical_features = copy.deepcopy(\n",
        "                self.feature_config.categorical_features\n",
        "            )\n",
        "\n",
        "    # -------------------------------\n",
        "    # Categorical encoding\n",
        "    # -------------------------------\n",
        "    def _encode_categorical_fit(self, X: pd.DataFrame) -> None:\n",
        "        if self._cat_encoder is not None and self._encoded_categorical_features:\n",
        "            self._cat_encoder.fit(X[self._encoded_categorical_features])\n",
        "\n",
        "    def _encode_categorical_transform(self, X: pd.DataFrame) -> pd.DataFrame:\n",
        "        if self._cat_encoder is None or not self._encoded_categorical_features:\n",
        "            return X\n",
        "        encoded = self._cat_encoder.transform(X[self._encoded_categorical_features])\n",
        "        encoded_cols = self._cat_encoder.get_feature_names_out(self._encoded_categorical_features)\n",
        "        X_encoded = pd.DataFrame(encoded, columns=encoded_cols, index=X.index)\n",
        "\n",
        "        # drop original categorical cols, add encoded ones\n",
        "        X = X.drop(columns=self._encoded_categorical_features)\n",
        "        return pd.concat([X, X_encoded], axis=1)\n",
        "\n",
        "    # -------------------------------\n",
        "    # Scaling\n",
        "    # -------------------------------\n",
        "    def _scale_features_fit(self, X: pd.DataFrame) -> None:\n",
        "        if self._scaler is not None and self.feature_config.continuous_features:\n",
        "            self._scaler.fit(X[self.feature_config.continuous_features])\n",
        "\n",
        "    def _scale_features_transform(self, X: pd.DataFrame) -> pd.DataFrame:\n",
        "        if self._scaler is None or not self.feature_config.continuous_features:\n",
        "            return X\n",
        "        scaled = self._scaler.transform(X[self.feature_config.continuous_features])\n",
        "        X_scaled = pd.DataFrame(scaled, columns=self.feature_config.continuous_features, index=X.index)\n",
        "        X = X.copy()\n",
        "        X[self.feature_config.continuous_features] = X_scaled\n",
        "        return X\n",
        "\n",
        "    # -------------------------------\n",
        "    # Target transformation\n",
        "    # -------------------------------\n",
        "    def _transform_target_fit(self, y: pd.Series) -> np.ndarray:\n",
        "        if self.target_transformer is None:\n",
        "            return y.values\n",
        "        return self.target_transformer.fit_transform(y.values.reshape(-1, 1)).ravel()\n",
        "\n",
        "    def _inverse_transform_target(self, y_pred: np.ndarray) -> np.ndarray:\n",
        "        if self.target_transformer is None:\n",
        "            return y_pred\n",
        "        return self.target_transformer.inverse_transform(y_pred.reshape(-1, 1)).ravel()\n",
        "\n",
        "    # -------------------------------\n",
        "    # Public API\n",
        "    # -------------------------------\n",
        "    def fit(self, df: pd.DataFrame, categorical=True, exogenous=True):\n",
        "        \"\"\"Full workflow: extract features & target, preprocess, fit model.\"\"\"\n",
        "        X, y, _ = self.feature_config.get_X_y(df, categorical=categorical, exogenous=exogenous)\n",
        "        self._last_train_df = df.copy()\n",
        "\n",
        "        return self.fit_Xy(X, y)\n",
        "\n",
        "    def fit_Xy(self, X: pd.DataFrame, y: pd.Series):\n",
        "        \"\"\"Lower-level fit if you already have X and y.\"\"\"\n",
        "        # categorical encoding\n",
        "        self._encode_categorical_fit(X)\n",
        "        X_proc = self._encode_categorical_transform(X)\n",
        "\n",
        "        # scaling\n",
        "        self._scale_features_fit(X_proc)\n",
        "        X_proc = self._scale_features_transform(X_proc)\n",
        "\n",
        "        # target transform\n",
        "        y_proc = self._transform_target_fit(y)\n",
        "\n",
        "        # fit model\n",
        "        self._model.fit(X_proc, y_proc)\n",
        "        return self\n",
        "\n",
        "    def predict(self, df: pd.DataFrame, categorical=True, exogenous=True) -> np.ndarray:\n",
        "        \"\"\"Predict from raw dataframe and store test set + predictions.\"\"\"\n",
        "        X, _, _ = self.feature_config.get_X_y(df, categorical=categorical, exogenous=exogenous)\n",
        "        y_pred = self.predict_X(X)\n",
        "        self._last_test_df = df.copy()\n",
        "        self._last_y_pred = pd.Series(y_pred.ravel(), index=df.index)\n",
        "        return y_pred\n",
        "\n",
        "    def predict_X(self, X: pd.DataFrame) -> np.ndarray:\n",
        "        \"\"\"Predict from pre-extracted features.\"\"\"\n",
        "        X_proc = self._encode_categorical_transform(X)\n",
        "        X_proc = self._scale_features_transform(X_proc)\n",
        "        y_pred = self._model.predict(X_proc)\n",
        "        return self._inverse_transform_target(y_pred)\n",
        "\n",
        "    def feature_importance(self) -> pd.DataFrame:\n",
        "        \"\"\"Return feature importances or coefficients if available.\"\"\"\n",
        "        if hasattr(self._model, \"feature_importances_\"):\n",
        "            values = self._model.feature_importances_\n",
        "            features = self._model.feature_names_in_\n",
        "        elif hasattr(self._model, \"coef_\"):\n",
        "            values = self._model.coef_\n",
        "            features = self._model.feature_names_in_\n",
        "        else:\n",
        "            raise AttributeError(\"Model has no feature_importances_ or coef_\")\n",
        "\n",
        "        return pd.DataFrame({\"feature\": features, \"importance\": values})\n",
        "\n",
        "    def evaluate(self, decimals: int = 3) -> Dict[str, float]:\n",
        "        \"\"\"\n",
        "        Evaluate using the last train/test/predict calls.\n",
        "        Requires fit() and predict() to have been called first.\n",
        "        \"\"\"\n",
        "        if self._last_train_df is None or self._last_test_df is None or self._last_y_pred is None:\n",
        "            raise ValueError(\"You must call fit() and predict() before evaluate().\")\n",
        "\n",
        "        # Extract y_true and y_train\n",
        "        _, y_test, _ = self.feature_config.get_X_y(self._last_test_df)\n",
        "        _, y_train, _ = self.feature_config.get_X_y(self._last_train_df)\n",
        "\n",
        "        return calculate_metrics(\n",
        "            y=y_test,\n",
        "            y_pred=self._last_y_pred,\n",
        "            name=self.model_config.name,\n",
        "            y_train=y_train,\n",
        "            decimals=decimals,\n",
        "        )\n",
        "\n",
        "\n"
      ],
      "metadata": {
        "id": "0Wlk0pbcErAQ"
      },
      "execution_count": null,
      "outputs": []
    },
    {
      "cell_type": "code",
      "source": [],
      "metadata": {
        "id": "zNXc_sIuEq9q"
      },
      "execution_count": null,
      "outputs": []
    },
    {
      "cell_type": "code",
      "source": [
        "feature_config = FeatureConfig(\n",
        "                                date = feature_dict['date'],\n",
        "                                continuous_features = feature_dict['continuous_features'],\n",
        "                                categorical_features = feature_dict['categorical_features'],  # overlap on purpose\n",
        "                                boolean_features = feature_dict['boolean_features'],\n",
        "                                exogenous_features = feature_dict['exogenous_features'],\n",
        "                                target=\"energy_consumption\",\n",
        "                            )\n",
        "\n"
      ],
      "metadata": {
        "id": "Yt7J1P2CFI17"
      },
      "execution_count": null,
      "outputs": []
    },
    {
      "cell_type": "code",
      "source": [
        "from sklearn.linear_model import LinearRegression, RidgeCV, LassoCV\n",
        "from sklearn.preprocessing import StandardScaler, OneHotEncoder\n",
        "\n",
        "\n",
        "model_config = ModelConfig(\n",
        "    model=Ridge(),\n",
        "    apply_normalization=True,\n",
        "    scaler_model=StandardScaler(),\n",
        "    apply_categorical_encoding=True,\n",
        "    categorical_encoder_model=OneHotEncoder(handle_unknown=\"ignore\", sparse_output=False)\n",
        ")\n"
      ],
      "metadata": {
        "id": "Sut0ekgHEq61"
      },
      "execution_count": null,
      "outputs": []
    },
    {
      "cell_type": "code",
      "source": [
        "workflow = ModelWorkflow(model_config=model_config, feature_config=feature_config)\n",
        "\n",
        "\n",
        "workflow.fit(sample_train_df)\n",
        "\n",
        "y_pred = workflow.predict(sample_test_df).ravel()\n",
        "\n",
        "\n",
        "workflow.evaluate()\n"
      ],
      "metadata": {
        "colab": {
          "base_uri": "https://localhost:8080/"
        },
        "id": "_Why9aZKFAlU",
        "outputId": "fbbebb03-9404-4490-f678-506528b60ae8"
      },
      "execution_count": null,
      "outputs": [
        {
          "output_type": "execute_result",
          "data": {
            "text/plain": [
              "{'Algorithm': 'Ridge()',\n",
              " 'MAE': np.float64(0.167),\n",
              " 'RMSE': np.float64(0.275),\n",
              " 'WAPE': np.float64(0.477),\n",
              " 'MASE': np.float64(1.302),\n",
              " 'Forecast Bias(%)': np.float64(4.247)}"
            ]
          },
          "metadata": {},
          "execution_count": 70
        }
      ]
    }
  ]
}