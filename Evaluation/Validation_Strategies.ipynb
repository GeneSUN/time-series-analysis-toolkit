{
  "cells": [
    {
      "cell_type": "code",
      "execution_count": 7,
      "id": "77f7dcf3-07f4-44d8-a1af-5a640120f782",
      "metadata": {
        "colab": {
          "base_uri": "https://localhost:8080/"
        },
        "id": "77f7dcf3-07f4-44d8-a1af-5a640120f782",
        "outputId": "3ac66f01-9a86-442d-a980-a8047518bf90"
      },
      "outputs": [
        {
          "name": "stdout",
          "output_type": "stream",
          "text": [
            "/Users\n"
          ]
        }
      ],
      "source": [
        "%cd ../.."
      ]
    },
    {
      "cell_type": "code",
      "execution_count": 8,
      "id": "16f54fc5",
      "metadata": {},
      "outputs": [
        {
          "name": "stdout",
          "output_type": "stream",
          "text": [
            "Requirement already satisfied: plotly in /Library/Frameworks/Python.framework/Versions/3.11/lib/python3.11/site-packages (6.3.0)\n",
            "Requirement already satisfied: narwhals>=1.15.1 in /Library/Frameworks/Python.framework/Versions/3.11/lib/python3.11/site-packages (from plotly) (2.5.0)\n",
            "Requirement already satisfied: packaging in /Library/Frameworks/Python.framework/Versions/3.11/lib/python3.11/site-packages (from plotly) (24.2)\n",
            "\n",
            "\u001b[1m[\u001b[0m\u001b[34;49mnotice\u001b[0m\u001b[1;39;49m]\u001b[0m\u001b[39;49m A new release of pip is available: \u001b[0m\u001b[31;49m25.0.1\u001b[0m\u001b[39;49m -> \u001b[0m\u001b[32;49m25.2\u001b[0m\n",
            "\u001b[1m[\u001b[0m\u001b[34;49mnotice\u001b[0m\u001b[1;39;49m]\u001b[0m\u001b[39;49m To update, run: \u001b[0m\u001b[32;49mpip install --upgrade pip\u001b[0m\n"
          ]
        }
      ],
      "source": [
        "!pip install plotly"
      ]
    },
    {
      "cell_type": "code",
      "execution_count": 9,
      "id": "101a1885-49a6-45b5-af08-203ef716ea1e",
      "metadata": {
        "id": "101a1885-49a6-45b5-af08-203ef716ea1e"
      },
      "outputs": [],
      "source": [
        "import pandas as pd\n",
        "import numpy as np\n",
        "import plotly.express as px\n",
        "import plotly.graph_objects as go\n",
        "\n",
        "from sklearn.model_selection import TimeSeriesSplit"
      ]
    },
    {
      "cell_type": "markdown",
      "id": "80561d16-268c-4454-9a76-56c8ee24a7fa",
      "metadata": {
        "id": "80561d16-268c-4454-9a76-56c8ee24a7fa",
        "jp-MarkdownHeadingCollapsed": true,
        "tags": []
      },
      "source": [
        "# Utility Functions"
      ]
    },
    {
      "cell_type": "code",
      "execution_count": 10,
      "id": "c0684ec3-09b5-423f-b4d2-5b36d591c72e",
      "metadata": {
        "id": "c0684ec3-09b5-423f-b4d2-5b36d591c72e"
      },
      "outputs": [],
      "source": [
        "def plot_temporal_cv_splits(cv, a):\n",
        "    trn_idxs = []\n",
        "    val_idxs = []\n",
        "    datasets = {}  # nested dictionary for train/validation per split\n",
        "\n",
        "    for split_id, (trn_idx, val_idx) in enumerate(cv.split(a)):\n",
        "        trn_idxs.append((np.min(trn_idx), np.max(trn_idx)))\n",
        "        val_idxs.append((np.min(val_idx), np.max(val_idx)))\n",
        "        datasets[f\"split_{split_id}\"] = {\n",
        "            \"train\": a[trn_idx],\n",
        "            \"validation\": a[val_idx]\n",
        "        }\n",
        "\n",
        "    w = 0.8\n",
        "    y = np.arange(len(trn_idxs)) + 1\n",
        "    fig = go.Figure()\n",
        "\n",
        "    for x, ((trn_start, trn_end), (val_start, val_end)) in enumerate(zip(trn_idxs, val_idxs)):\n",
        "        fig.add_shape(\n",
        "            type=\"rect\", y0=x, y1=x+w, x0=trn_start, x1=trn_end,\n",
        "            fillcolor=\"#0356fc\", line=dict(color=\"#002570\", width=0.5),\n",
        "        )\n",
        "        fig.add_shape(\n",
        "            type=\"rect\", y0=x, y1=x+w, x0=val_start-1, x1=val_end-1,\n",
        "            fillcolor=\"#cf0053\", line=dict(color=\"#69002a\", width=0.5),\n",
        "        )\n",
        "        if trn_end != val_start-1:\n",
        "            # plotting gap\n",
        "            fig.add_shape(\n",
        "                type=\"rect\", y0=x, y1=x+w, x0=trn_end, x1=val_start,\n",
        "                fillcolor=\"#0f172e\", line=dict(color=\"#0f172e\", width=0.5),\n",
        "            )\n",
        "\n",
        "    fig.update_xaxes(range=[0, len(a)])\n",
        "    fig.update_yaxes(range=[cv.get_n_splits(), 0])\n",
        "\n",
        "    return fig, datasets\n"
      ]
    },
    {
      "cell_type": "code",
      "execution_count": 11,
      "id": "28199691-c686-4f79-8b8e-1431add18f8e",
      "metadata": {
        "id": "28199691-c686-4f79-8b8e-1431add18f8e"
      },
      "outputs": [],
      "source": [
        "from itertools import groupby\n",
        "from operator import itemgetter\n",
        "\n",
        "def plot_cv_splits(cv, a):\n",
        "    w = 0.8\n",
        "    y = np.arange(cv.get_n_splits()) + 1\n",
        "    _range = np.arange(len(a))\n",
        "    fig = go.Figure()\n",
        "    datasets = {}  # nested dictionary for train/validation per split\n",
        "\n",
        "    for split_id, (trn_idx, val_idx) in enumerate(cv.split(a)):\n",
        "        # store train/validation data\n",
        "        datasets[f\"split_{split_id}\"] = {\n",
        "            \"train\": a[trn_idx],\n",
        "            \"validation\": a[val_idx]\n",
        "        }\n",
        "\n",
        "        val_mask = np.isin(_range, val_idx)\n",
        "        trn_mask = np.isin(_range, trn_idx)\n",
        "        gap_mask = np.logical_not(np.logical_xor(trn_mask, val_mask))\n",
        "\n",
        "        fig.add_shape(\n",
        "            type=\"rect\", y0=split_id, y1=split_id+w, x0=0, x1=len(a),\n",
        "            fillcolor=\"#0356fc\", line=dict(color=\"#002570\", width=0.5),\n",
        "        )\n",
        "        fig.add_shape(\n",
        "            type=\"rect\", y0=split_id, y1=split_id+w,\n",
        "            x0=np.min(val_idx)-1, x1=np.max(val_idx),\n",
        "            fillcolor=\"#cf0053\", line=dict(color=\"#69002a\", width=0.5),\n",
        "        )\n",
        "\n",
        "        if gap_mask.sum() > 0:\n",
        "            # plotting gap\n",
        "            gap = _range[gap_mask]\n",
        "            # splitting based on continuous gap\n",
        "            for k, g in groupby(enumerate(gap), lambda i_x: i_x[0] - i_x[1]):\n",
        "                _gap = list(map(itemgetter(1), g))\n",
        "                gap_min, gap_max = np.min(_gap), np.max(_gap)\n",
        "                fig.add_shape(\n",
        "                    type=\"rect\", y0=split_id, y1=split_id+w,\n",
        "                    x0=gap_min-1, x1=gap_max,\n",
        "                    fillcolor=\"#0f172e\", line=dict(color=\"#0f172e\", width=0.5),\n",
        "                )\n",
        "\n",
        "    fig.update_xaxes(range=[0, len(a)])\n",
        "    fig.update_yaxes(range=[0, cv.get_n_splits()])\n",
        "\n",
        "    return fig, datasets\n"
      ]
    },
    {
      "cell_type": "markdown",
      "id": "a57a75b0-41de-406f-afc9-adfdafbf054d",
      "metadata": {
        "id": "a57a75b0-41de-406f-afc9-adfdafbf054d"
      },
      "source": [
        "# Validation Strategies"
      ]
    },
    {
      "cell_type": "code",
      "execution_count": 12,
      "id": "26749e92-5bb9-4240-9702-d163efb8f6da",
      "metadata": {
        "id": "26749e92-5bb9-4240-9702-d163efb8f6da"
      },
      "outputs": [],
      "source": [
        "N = 50\n",
        "a = np.arange(N)"
      ]
    },
    {
      "cell_type": "markdown",
      "id": "aee6a7ca-af07-4731-a57e-01446a1ba55f",
      "metadata": {
        "id": "aee6a7ca-af07-4731-a57e-01446a1ba55f"
      },
      "source": [
        "## 1.Repeated Holdout with no Overlap (Expanding Window)"
      ]
    },
    {
      "cell_type": "code",
      "execution_count": 13,
      "id": "pANOAxaDUd-o",
      "metadata": {
        "colab": {
          "base_uri": "https://localhost:8080/",
          "height": 517
        },
        "id": "pANOAxaDUd-o",
        "outputId": "dc6bc8d4-bb05-400d-c790-2f0779e1a354"
      },
      "outputs": [
        {
          "data": {
            "application/vnd.plotly.v1+json": {
              "config": {
                "plotlyServerURL": "https://plot.ly"
              },
              "data": [],
              "layout": {
                "height": 500,
                "shapes": [
                  {
                    "fillcolor": "#0356fc",
                    "line": {
                      "color": "#002570",
                      "width": 0.5
                    },
                    "type": "rect",
                    "x0": 0,
                    "x1": 24,
                    "y0": 0,
                    "y1": 0.8
                  },
                  {
                    "fillcolor": "#cf0053",
                    "line": {
                      "color": "#69002a",
                      "width": 0.5
                    },
                    "type": "rect",
                    "x0": 24,
                    "x1": 28,
                    "y0": 0,
                    "y1": 0.8
                  },
                  {
                    "fillcolor": "#0356fc",
                    "line": {
                      "color": "#002570",
                      "width": 0.5
                    },
                    "type": "rect",
                    "x0": 0,
                    "x1": 29,
                    "y0": 1,
                    "y1": 1.8
                  },
                  {
                    "fillcolor": "#cf0053",
                    "line": {
                      "color": "#69002a",
                      "width": 0.5
                    },
                    "type": "rect",
                    "x0": 29,
                    "x1": 33,
                    "y0": 1,
                    "y1": 1.8
                  },
                  {
                    "fillcolor": "#0356fc",
                    "line": {
                      "color": "#002570",
                      "width": 0.5
                    },
                    "type": "rect",
                    "x0": 0,
                    "x1": 34,
                    "y0": 2,
                    "y1": 2.8
                  },
                  {
                    "fillcolor": "#cf0053",
                    "line": {
                      "color": "#69002a",
                      "width": 0.5
                    },
                    "type": "rect",
                    "x0": 34,
                    "x1": 38,
                    "y0": 2,
                    "y1": 2.8
                  },
                  {
                    "fillcolor": "#0356fc",
                    "line": {
                      "color": "#002570",
                      "width": 0.5
                    },
                    "type": "rect",
                    "x0": 0,
                    "x1": 39,
                    "y0": 3,
                    "y1": 3.8
                  },
                  {
                    "fillcolor": "#cf0053",
                    "line": {
                      "color": "#69002a",
                      "width": 0.5
                    },
                    "type": "rect",
                    "x0": 39,
                    "x1": 43,
                    "y0": 3,
                    "y1": 3.8
                  },
                  {
                    "fillcolor": "#0356fc",
                    "line": {
                      "color": "#002570",
                      "width": 0.5
                    },
                    "type": "rect",
                    "x0": 0,
                    "x1": 44,
                    "y0": 4,
                    "y1": 4.8
                  },
                  {
                    "fillcolor": "#cf0053",
                    "line": {
                      "color": "#69002a",
                      "width": 0.5
                    },
                    "type": "rect",
                    "x0": 44,
                    "x1": 48,
                    "y0": 4,
                    "y1": 4.8
                  }
                ],
                "template": {
                  "data": {
                    "bar": [
                      {
                        "error_x": {
                          "color": "#2a3f5f"
                        },
                        "error_y": {
                          "color": "#2a3f5f"
                        },
                        "marker": {
                          "line": {
                            "color": "#E5ECF6",
                            "width": 0.5
                          },
                          "pattern": {
                            "fillmode": "overlay",
                            "size": 10,
                            "solidity": 0.2
                          }
                        },
                        "type": "bar"
                      }
                    ],
                    "barpolar": [
                      {
                        "marker": {
                          "line": {
                            "color": "#E5ECF6",
                            "width": 0.5
                          },
                          "pattern": {
                            "fillmode": "overlay",
                            "size": 10,
                            "solidity": 0.2
                          }
                        },
                        "type": "barpolar"
                      }
                    ],
                    "carpet": [
                      {
                        "aaxis": {
                          "endlinecolor": "#2a3f5f",
                          "gridcolor": "white",
                          "linecolor": "white",
                          "minorgridcolor": "white",
                          "startlinecolor": "#2a3f5f"
                        },
                        "baxis": {
                          "endlinecolor": "#2a3f5f",
                          "gridcolor": "white",
                          "linecolor": "white",
                          "minorgridcolor": "white",
                          "startlinecolor": "#2a3f5f"
                        },
                        "type": "carpet"
                      }
                    ],
                    "choropleth": [
                      {
                        "colorbar": {
                          "outlinewidth": 0,
                          "ticks": ""
                        },
                        "type": "choropleth"
                      }
                    ],
                    "contour": [
                      {
                        "colorbar": {
                          "outlinewidth": 0,
                          "ticks": ""
                        },
                        "colorscale": [
                          [
                            0,
                            "#0d0887"
                          ],
                          [
                            0.1111111111111111,
                            "#46039f"
                          ],
                          [
                            0.2222222222222222,
                            "#7201a8"
                          ],
                          [
                            0.3333333333333333,
                            "#9c179e"
                          ],
                          [
                            0.4444444444444444,
                            "#bd3786"
                          ],
                          [
                            0.5555555555555556,
                            "#d8576b"
                          ],
                          [
                            0.6666666666666666,
                            "#ed7953"
                          ],
                          [
                            0.7777777777777778,
                            "#fb9f3a"
                          ],
                          [
                            0.8888888888888888,
                            "#fdca26"
                          ],
                          [
                            1,
                            "#f0f921"
                          ]
                        ],
                        "type": "contour"
                      }
                    ],
                    "contourcarpet": [
                      {
                        "colorbar": {
                          "outlinewidth": 0,
                          "ticks": ""
                        },
                        "type": "contourcarpet"
                      }
                    ],
                    "heatmap": [
                      {
                        "colorbar": {
                          "outlinewidth": 0,
                          "ticks": ""
                        },
                        "colorscale": [
                          [
                            0,
                            "#0d0887"
                          ],
                          [
                            0.1111111111111111,
                            "#46039f"
                          ],
                          [
                            0.2222222222222222,
                            "#7201a8"
                          ],
                          [
                            0.3333333333333333,
                            "#9c179e"
                          ],
                          [
                            0.4444444444444444,
                            "#bd3786"
                          ],
                          [
                            0.5555555555555556,
                            "#d8576b"
                          ],
                          [
                            0.6666666666666666,
                            "#ed7953"
                          ],
                          [
                            0.7777777777777778,
                            "#fb9f3a"
                          ],
                          [
                            0.8888888888888888,
                            "#fdca26"
                          ],
                          [
                            1,
                            "#f0f921"
                          ]
                        ],
                        "type": "heatmap"
                      }
                    ],
                    "histogram": [
                      {
                        "marker": {
                          "pattern": {
                            "fillmode": "overlay",
                            "size": 10,
                            "solidity": 0.2
                          }
                        },
                        "type": "histogram"
                      }
                    ],
                    "histogram2d": [
                      {
                        "colorbar": {
                          "outlinewidth": 0,
                          "ticks": ""
                        },
                        "colorscale": [
                          [
                            0,
                            "#0d0887"
                          ],
                          [
                            0.1111111111111111,
                            "#46039f"
                          ],
                          [
                            0.2222222222222222,
                            "#7201a8"
                          ],
                          [
                            0.3333333333333333,
                            "#9c179e"
                          ],
                          [
                            0.4444444444444444,
                            "#bd3786"
                          ],
                          [
                            0.5555555555555556,
                            "#d8576b"
                          ],
                          [
                            0.6666666666666666,
                            "#ed7953"
                          ],
                          [
                            0.7777777777777778,
                            "#fb9f3a"
                          ],
                          [
                            0.8888888888888888,
                            "#fdca26"
                          ],
                          [
                            1,
                            "#f0f921"
                          ]
                        ],
                        "type": "histogram2d"
                      }
                    ],
                    "histogram2dcontour": [
                      {
                        "colorbar": {
                          "outlinewidth": 0,
                          "ticks": ""
                        },
                        "colorscale": [
                          [
                            0,
                            "#0d0887"
                          ],
                          [
                            0.1111111111111111,
                            "#46039f"
                          ],
                          [
                            0.2222222222222222,
                            "#7201a8"
                          ],
                          [
                            0.3333333333333333,
                            "#9c179e"
                          ],
                          [
                            0.4444444444444444,
                            "#bd3786"
                          ],
                          [
                            0.5555555555555556,
                            "#d8576b"
                          ],
                          [
                            0.6666666666666666,
                            "#ed7953"
                          ],
                          [
                            0.7777777777777778,
                            "#fb9f3a"
                          ],
                          [
                            0.8888888888888888,
                            "#fdca26"
                          ],
                          [
                            1,
                            "#f0f921"
                          ]
                        ],
                        "type": "histogram2dcontour"
                      }
                    ],
                    "mesh3d": [
                      {
                        "colorbar": {
                          "outlinewidth": 0,
                          "ticks": ""
                        },
                        "type": "mesh3d"
                      }
                    ],
                    "parcoords": [
                      {
                        "line": {
                          "colorbar": {
                            "outlinewidth": 0,
                            "ticks": ""
                          }
                        },
                        "type": "parcoords"
                      }
                    ],
                    "pie": [
                      {
                        "automargin": true,
                        "type": "pie"
                      }
                    ],
                    "scatter": [
                      {
                        "fillpattern": {
                          "fillmode": "overlay",
                          "size": 10,
                          "solidity": 0.2
                        },
                        "type": "scatter"
                      }
                    ],
                    "scatter3d": [
                      {
                        "line": {
                          "colorbar": {
                            "outlinewidth": 0,
                            "ticks": ""
                          }
                        },
                        "marker": {
                          "colorbar": {
                            "outlinewidth": 0,
                            "ticks": ""
                          }
                        },
                        "type": "scatter3d"
                      }
                    ],
                    "scattercarpet": [
                      {
                        "marker": {
                          "colorbar": {
                            "outlinewidth": 0,
                            "ticks": ""
                          }
                        },
                        "type": "scattercarpet"
                      }
                    ],
                    "scattergeo": [
                      {
                        "marker": {
                          "colorbar": {
                            "outlinewidth": 0,
                            "ticks": ""
                          }
                        },
                        "type": "scattergeo"
                      }
                    ],
                    "scattergl": [
                      {
                        "marker": {
                          "colorbar": {
                            "outlinewidth": 0,
                            "ticks": ""
                          }
                        },
                        "type": "scattergl"
                      }
                    ],
                    "scattermap": [
                      {
                        "marker": {
                          "colorbar": {
                            "outlinewidth": 0,
                            "ticks": ""
                          }
                        },
                        "type": "scattermap"
                      }
                    ],
                    "scattermapbox": [
                      {
                        "marker": {
                          "colorbar": {
                            "outlinewidth": 0,
                            "ticks": ""
                          }
                        },
                        "type": "scattermapbox"
                      }
                    ],
                    "scatterpolar": [
                      {
                        "marker": {
                          "colorbar": {
                            "outlinewidth": 0,
                            "ticks": ""
                          }
                        },
                        "type": "scatterpolar"
                      }
                    ],
                    "scatterpolargl": [
                      {
                        "marker": {
                          "colorbar": {
                            "outlinewidth": 0,
                            "ticks": ""
                          }
                        },
                        "type": "scatterpolargl"
                      }
                    ],
                    "scatterternary": [
                      {
                        "marker": {
                          "colorbar": {
                            "outlinewidth": 0,
                            "ticks": ""
                          }
                        },
                        "type": "scatterternary"
                      }
                    ],
                    "surface": [
                      {
                        "colorbar": {
                          "outlinewidth": 0,
                          "ticks": ""
                        },
                        "colorscale": [
                          [
                            0,
                            "#0d0887"
                          ],
                          [
                            0.1111111111111111,
                            "#46039f"
                          ],
                          [
                            0.2222222222222222,
                            "#7201a8"
                          ],
                          [
                            0.3333333333333333,
                            "#9c179e"
                          ],
                          [
                            0.4444444444444444,
                            "#bd3786"
                          ],
                          [
                            0.5555555555555556,
                            "#d8576b"
                          ],
                          [
                            0.6666666666666666,
                            "#ed7953"
                          ],
                          [
                            0.7777777777777778,
                            "#fb9f3a"
                          ],
                          [
                            0.8888888888888888,
                            "#fdca26"
                          ],
                          [
                            1,
                            "#f0f921"
                          ]
                        ],
                        "type": "surface"
                      }
                    ],
                    "table": [
                      {
                        "cells": {
                          "fill": {
                            "color": "#EBF0F8"
                          },
                          "line": {
                            "color": "white"
                          }
                        },
                        "header": {
                          "fill": {
                            "color": "#C8D4E3"
                          },
                          "line": {
                            "color": "white"
                          }
                        },
                        "type": "table"
                      }
                    ]
                  },
                  "layout": {
                    "annotationdefaults": {
                      "arrowcolor": "#2a3f5f",
                      "arrowhead": 0,
                      "arrowwidth": 1
                    },
                    "autotypenumbers": "strict",
                    "coloraxis": {
                      "colorbar": {
                        "outlinewidth": 0,
                        "ticks": ""
                      }
                    },
                    "colorscale": {
                      "diverging": [
                        [
                          0,
                          "#8e0152"
                        ],
                        [
                          0.1,
                          "#c51b7d"
                        ],
                        [
                          0.2,
                          "#de77ae"
                        ],
                        [
                          0.3,
                          "#f1b6da"
                        ],
                        [
                          0.4,
                          "#fde0ef"
                        ],
                        [
                          0.5,
                          "#f7f7f7"
                        ],
                        [
                          0.6,
                          "#e6f5d0"
                        ],
                        [
                          0.7,
                          "#b8e186"
                        ],
                        [
                          0.8,
                          "#7fbc41"
                        ],
                        [
                          0.9,
                          "#4d9221"
                        ],
                        [
                          1,
                          "#276419"
                        ]
                      ],
                      "sequential": [
                        [
                          0,
                          "#0d0887"
                        ],
                        [
                          0.1111111111111111,
                          "#46039f"
                        ],
                        [
                          0.2222222222222222,
                          "#7201a8"
                        ],
                        [
                          0.3333333333333333,
                          "#9c179e"
                        ],
                        [
                          0.4444444444444444,
                          "#bd3786"
                        ],
                        [
                          0.5555555555555556,
                          "#d8576b"
                        ],
                        [
                          0.6666666666666666,
                          "#ed7953"
                        ],
                        [
                          0.7777777777777778,
                          "#fb9f3a"
                        ],
                        [
                          0.8888888888888888,
                          "#fdca26"
                        ],
                        [
                          1,
                          "#f0f921"
                        ]
                      ],
                      "sequentialminus": [
                        [
                          0,
                          "#0d0887"
                        ],
                        [
                          0.1111111111111111,
                          "#46039f"
                        ],
                        [
                          0.2222222222222222,
                          "#7201a8"
                        ],
                        [
                          0.3333333333333333,
                          "#9c179e"
                        ],
                        [
                          0.4444444444444444,
                          "#bd3786"
                        ],
                        [
                          0.5555555555555556,
                          "#d8576b"
                        ],
                        [
                          0.6666666666666666,
                          "#ed7953"
                        ],
                        [
                          0.7777777777777778,
                          "#fb9f3a"
                        ],
                        [
                          0.8888888888888888,
                          "#fdca26"
                        ],
                        [
                          1,
                          "#f0f921"
                        ]
                      ]
                    },
                    "colorway": [
                      "#636efa",
                      "#EF553B",
                      "#00cc96",
                      "#ab63fa",
                      "#FFA15A",
                      "#19d3f3",
                      "#FF6692",
                      "#B6E880",
                      "#FF97FF",
                      "#FECB52"
                    ],
                    "font": {
                      "color": "#2a3f5f"
                    },
                    "geo": {
                      "bgcolor": "white",
                      "lakecolor": "white",
                      "landcolor": "#E5ECF6",
                      "showlakes": true,
                      "showland": true,
                      "subunitcolor": "white"
                    },
                    "hoverlabel": {
                      "align": "left"
                    },
                    "hovermode": "closest",
                    "mapbox": {
                      "style": "light"
                    },
                    "paper_bgcolor": "white",
                    "plot_bgcolor": "#E5ECF6",
                    "polar": {
                      "angularaxis": {
                        "gridcolor": "white",
                        "linecolor": "white",
                        "ticks": ""
                      },
                      "bgcolor": "#E5ECF6",
                      "radialaxis": {
                        "gridcolor": "white",
                        "linecolor": "white",
                        "ticks": ""
                      }
                    },
                    "scene": {
                      "xaxis": {
                        "backgroundcolor": "#E5ECF6",
                        "gridcolor": "white",
                        "gridwidth": 2,
                        "linecolor": "white",
                        "showbackground": true,
                        "ticks": "",
                        "zerolinecolor": "white"
                      },
                      "yaxis": {
                        "backgroundcolor": "#E5ECF6",
                        "gridcolor": "white",
                        "gridwidth": 2,
                        "linecolor": "white",
                        "showbackground": true,
                        "ticks": "",
                        "zerolinecolor": "white"
                      },
                      "zaxis": {
                        "backgroundcolor": "#E5ECF6",
                        "gridcolor": "white",
                        "gridwidth": 2,
                        "linecolor": "white",
                        "showbackground": true,
                        "ticks": "",
                        "zerolinecolor": "white"
                      }
                    },
                    "shapedefaults": {
                      "line": {
                        "color": "#2a3f5f"
                      }
                    },
                    "ternary": {
                      "aaxis": {
                        "gridcolor": "white",
                        "linecolor": "white",
                        "ticks": ""
                      },
                      "baxis": {
                        "gridcolor": "white",
                        "linecolor": "white",
                        "ticks": ""
                      },
                      "bgcolor": "#E5ECF6",
                      "caxis": {
                        "gridcolor": "white",
                        "linecolor": "white",
                        "ticks": ""
                      }
                    },
                    "title": {
                      "x": 0.05
                    },
                    "xaxis": {
                      "automargin": true,
                      "gridcolor": "white",
                      "linecolor": "white",
                      "ticks": "",
                      "title": {
                        "standoff": 15
                      },
                      "zerolinecolor": "white",
                      "zerolinewidth": 2
                    },
                    "yaxis": {
                      "automargin": true,
                      "gridcolor": "white",
                      "linecolor": "white",
                      "ticks": "",
                      "title": {
                        "standoff": 15
                      },
                      "zerolinecolor": "white",
                      "zerolinewidth": 2
                    }
                  }
                },
                "width": 900,
                "xaxis": {
                  "range": [
                    0,
                    50
                  ]
                },
                "yaxis": {
                  "range": [
                    5,
                    0
                  ]
                }
              }
            }
          },
          "metadata": {},
          "output_type": "display_data"
        }
      ],
      "source": [
        "cv = TimeSeriesSplit(n_splits=5, test_size = 5)\n",
        "fig, datasets = plot_temporal_cv_splits(cv, a)\n",
        "fig.update_layout(width=900, height=500)\n",
        "fig.show()"
      ]
    },
    {
      "cell_type": "code",
      "execution_count": 14,
      "id": "6f4c2861-887e-4e09-871d-2b2db59ebf15",
      "metadata": {
        "colab": {
          "base_uri": "https://localhost:8080/",
          "height": 706
        },
        "id": "6f4c2861-887e-4e09-871d-2b2db59ebf15",
        "outputId": "e7c07c9a-28d9-4217-8f54-258b72108628",
        "tags": []
      },
      "outputs": [
        {
          "data": {
            "text/html": [
              "<div>\n",
              "<style scoped>\n",
              "    .dataframe tbody tr th:only-of-type {\n",
              "        vertical-align: middle;\n",
              "    }\n",
              "\n",
              "    .dataframe tbody tr th {\n",
              "        vertical-align: top;\n",
              "    }\n",
              "\n",
              "    .dataframe thead th {\n",
              "        text-align: right;\n",
              "    }\n",
              "</style>\n",
              "<table border=\"1\" class=\"dataframe\">\n",
              "  <thead>\n",
              "    <tr style=\"text-align: right;\">\n",
              "      <th></th>\n",
              "      <th>train</th>\n",
              "      <th>validation</th>\n",
              "    </tr>\n",
              "  </thead>\n",
              "  <tbody>\n",
              "    <tr>\n",
              "      <th>split_0</th>\n",
              "      <td>[0, 1, 2, 3, 4, 5, 6, 7, 8, 9, 10, 11, 12, 13,...</td>\n",
              "      <td>[25, 26, 27, 28, 29]</td>\n",
              "    </tr>\n",
              "    <tr>\n",
              "      <th>split_1</th>\n",
              "      <td>[0, 1, 2, 3, 4, 5, 6, 7, 8, 9, 10, 11, 12, 13,...</td>\n",
              "      <td>[30, 31, 32, 33, 34]</td>\n",
              "    </tr>\n",
              "    <tr>\n",
              "      <th>split_2</th>\n",
              "      <td>[0, 1, 2, 3, 4, 5, 6, 7, 8, 9, 10, 11, 12, 13,...</td>\n",
              "      <td>[35, 36, 37, 38, 39]</td>\n",
              "    </tr>\n",
              "    <tr>\n",
              "      <th>split_3</th>\n",
              "      <td>[0, 1, 2, 3, 4, 5, 6, 7, 8, 9, 10, 11, 12, 13,...</td>\n",
              "      <td>[40, 41, 42, 43, 44]</td>\n",
              "    </tr>\n",
              "    <tr>\n",
              "      <th>split_4</th>\n",
              "      <td>[0, 1, 2, 3, 4, 5, 6, 7, 8, 9, 10, 11, 12, 13,...</td>\n",
              "      <td>[45, 46, 47, 48, 49]</td>\n",
              "    </tr>\n",
              "  </tbody>\n",
              "</table>\n",
              "</div>"
            ],
            "text/plain": [
              "                                                     train  \\\n",
              "split_0  [0, 1, 2, 3, 4, 5, 6, 7, 8, 9, 10, 11, 12, 13,...   \n",
              "split_1  [0, 1, 2, 3, 4, 5, 6, 7, 8, 9, 10, 11, 12, 13,...   \n",
              "split_2  [0, 1, 2, 3, 4, 5, 6, 7, 8, 9, 10, 11, 12, 13,...   \n",
              "split_3  [0, 1, 2, 3, 4, 5, 6, 7, 8, 9, 10, 11, 12, 13,...   \n",
              "split_4  [0, 1, 2, 3, 4, 5, 6, 7, 8, 9, 10, 11, 12, 13,...   \n",
              "\n",
              "                   validation  \n",
              "split_0  [25, 26, 27, 28, 29]  \n",
              "split_1  [30, 31, 32, 33, 34]  \n",
              "split_2  [35, 36, 37, 38, 39]  \n",
              "split_3  [40, 41, 42, 43, 44]  \n",
              "split_4  [45, 46, 47, 48, 49]  "
            ]
          },
          "metadata": {},
          "output_type": "display_data"
        }
      ],
      "source": [
        "\n",
        "datasets_df = pd.DataFrame(datasets)\n",
        "datasets_df_pivoted = datasets_df.T\n",
        "display(datasets_df_pivoted)"
      ]
    },
    {
      "cell_type": "markdown",
      "id": "7b3fcdc5-1889-4913-882c-8b867bd66d5b",
      "metadata": {
        "id": "7b3fcdc5-1889-4913-882c-8b867bd66d5b"
      },
      "source": [
        "## 2.Repeated Holdout with no Overlap (Rolling Window)"
      ]
    },
    {
      "cell_type": "code",
      "execution_count": 15,
      "id": "b47f2a81-4f3e-4563-8c52-7c6d376dc9ed",
      "metadata": {
        "colab": {
          "base_uri": "https://localhost:8080/",
          "height": 706
        },
        "id": "b47f2a81-4f3e-4563-8c52-7c6d376dc9ed",
        "outputId": "a128303b-ea35-4407-c915-491d13a19465",
        "tags": []
      },
      "outputs": [
        {
          "data": {
            "application/vnd.plotly.v1+json": {
              "config": {
                "plotlyServerURL": "https://plot.ly"
              },
              "data": [],
              "layout": {
                "height": 500,
                "shapes": [
                  {
                    "fillcolor": "#0356fc",
                    "line": {
                      "color": "#002570",
                      "width": 0.5
                    },
                    "type": "rect",
                    "x0": 0,
                    "x1": 9,
                    "y0": 0,
                    "y1": 0.8
                  },
                  {
                    "fillcolor": "#cf0053",
                    "line": {
                      "color": "#69002a",
                      "width": 0.5
                    },
                    "type": "rect",
                    "x0": 9,
                    "x1": 16,
                    "y0": 0,
                    "y1": 0.8
                  },
                  {
                    "fillcolor": "#0356fc",
                    "line": {
                      "color": "#002570",
                      "width": 0.5
                    },
                    "type": "rect",
                    "x0": 8,
                    "x1": 17,
                    "y0": 1,
                    "y1": 1.8
                  },
                  {
                    "fillcolor": "#cf0053",
                    "line": {
                      "color": "#69002a",
                      "width": 0.5
                    },
                    "type": "rect",
                    "x0": 17,
                    "x1": 24,
                    "y0": 1,
                    "y1": 1.8
                  },
                  {
                    "fillcolor": "#0356fc",
                    "line": {
                      "color": "#002570",
                      "width": 0.5
                    },
                    "type": "rect",
                    "x0": 16,
                    "x1": 25,
                    "y0": 2,
                    "y1": 2.8
                  },
                  {
                    "fillcolor": "#cf0053",
                    "line": {
                      "color": "#69002a",
                      "width": 0.5
                    },
                    "type": "rect",
                    "x0": 25,
                    "x1": 32,
                    "y0": 2,
                    "y1": 2.8
                  },
                  {
                    "fillcolor": "#0356fc",
                    "line": {
                      "color": "#002570",
                      "width": 0.5
                    },
                    "type": "rect",
                    "x0": 24,
                    "x1": 33,
                    "y0": 3,
                    "y1": 3.8
                  },
                  {
                    "fillcolor": "#cf0053",
                    "line": {
                      "color": "#69002a",
                      "width": 0.5
                    },
                    "type": "rect",
                    "x0": 33,
                    "x1": 40,
                    "y0": 3,
                    "y1": 3.8
                  },
                  {
                    "fillcolor": "#0356fc",
                    "line": {
                      "color": "#002570",
                      "width": 0.5
                    },
                    "type": "rect",
                    "x0": 32,
                    "x1": 41,
                    "y0": 4,
                    "y1": 4.8
                  },
                  {
                    "fillcolor": "#cf0053",
                    "line": {
                      "color": "#69002a",
                      "width": 0.5
                    },
                    "type": "rect",
                    "x0": 41,
                    "x1": 48,
                    "y0": 4,
                    "y1": 4.8
                  }
                ],
                "template": {
                  "data": {
                    "bar": [
                      {
                        "error_x": {
                          "color": "#2a3f5f"
                        },
                        "error_y": {
                          "color": "#2a3f5f"
                        },
                        "marker": {
                          "line": {
                            "color": "#E5ECF6",
                            "width": 0.5
                          },
                          "pattern": {
                            "fillmode": "overlay",
                            "size": 10,
                            "solidity": 0.2
                          }
                        },
                        "type": "bar"
                      }
                    ],
                    "barpolar": [
                      {
                        "marker": {
                          "line": {
                            "color": "#E5ECF6",
                            "width": 0.5
                          },
                          "pattern": {
                            "fillmode": "overlay",
                            "size": 10,
                            "solidity": 0.2
                          }
                        },
                        "type": "barpolar"
                      }
                    ],
                    "carpet": [
                      {
                        "aaxis": {
                          "endlinecolor": "#2a3f5f",
                          "gridcolor": "white",
                          "linecolor": "white",
                          "minorgridcolor": "white",
                          "startlinecolor": "#2a3f5f"
                        },
                        "baxis": {
                          "endlinecolor": "#2a3f5f",
                          "gridcolor": "white",
                          "linecolor": "white",
                          "minorgridcolor": "white",
                          "startlinecolor": "#2a3f5f"
                        },
                        "type": "carpet"
                      }
                    ],
                    "choropleth": [
                      {
                        "colorbar": {
                          "outlinewidth": 0,
                          "ticks": ""
                        },
                        "type": "choropleth"
                      }
                    ],
                    "contour": [
                      {
                        "colorbar": {
                          "outlinewidth": 0,
                          "ticks": ""
                        },
                        "colorscale": [
                          [
                            0,
                            "#0d0887"
                          ],
                          [
                            0.1111111111111111,
                            "#46039f"
                          ],
                          [
                            0.2222222222222222,
                            "#7201a8"
                          ],
                          [
                            0.3333333333333333,
                            "#9c179e"
                          ],
                          [
                            0.4444444444444444,
                            "#bd3786"
                          ],
                          [
                            0.5555555555555556,
                            "#d8576b"
                          ],
                          [
                            0.6666666666666666,
                            "#ed7953"
                          ],
                          [
                            0.7777777777777778,
                            "#fb9f3a"
                          ],
                          [
                            0.8888888888888888,
                            "#fdca26"
                          ],
                          [
                            1,
                            "#f0f921"
                          ]
                        ],
                        "type": "contour"
                      }
                    ],
                    "contourcarpet": [
                      {
                        "colorbar": {
                          "outlinewidth": 0,
                          "ticks": ""
                        },
                        "type": "contourcarpet"
                      }
                    ],
                    "heatmap": [
                      {
                        "colorbar": {
                          "outlinewidth": 0,
                          "ticks": ""
                        },
                        "colorscale": [
                          [
                            0,
                            "#0d0887"
                          ],
                          [
                            0.1111111111111111,
                            "#46039f"
                          ],
                          [
                            0.2222222222222222,
                            "#7201a8"
                          ],
                          [
                            0.3333333333333333,
                            "#9c179e"
                          ],
                          [
                            0.4444444444444444,
                            "#bd3786"
                          ],
                          [
                            0.5555555555555556,
                            "#d8576b"
                          ],
                          [
                            0.6666666666666666,
                            "#ed7953"
                          ],
                          [
                            0.7777777777777778,
                            "#fb9f3a"
                          ],
                          [
                            0.8888888888888888,
                            "#fdca26"
                          ],
                          [
                            1,
                            "#f0f921"
                          ]
                        ],
                        "type": "heatmap"
                      }
                    ],
                    "histogram": [
                      {
                        "marker": {
                          "pattern": {
                            "fillmode": "overlay",
                            "size": 10,
                            "solidity": 0.2
                          }
                        },
                        "type": "histogram"
                      }
                    ],
                    "histogram2d": [
                      {
                        "colorbar": {
                          "outlinewidth": 0,
                          "ticks": ""
                        },
                        "colorscale": [
                          [
                            0,
                            "#0d0887"
                          ],
                          [
                            0.1111111111111111,
                            "#46039f"
                          ],
                          [
                            0.2222222222222222,
                            "#7201a8"
                          ],
                          [
                            0.3333333333333333,
                            "#9c179e"
                          ],
                          [
                            0.4444444444444444,
                            "#bd3786"
                          ],
                          [
                            0.5555555555555556,
                            "#d8576b"
                          ],
                          [
                            0.6666666666666666,
                            "#ed7953"
                          ],
                          [
                            0.7777777777777778,
                            "#fb9f3a"
                          ],
                          [
                            0.8888888888888888,
                            "#fdca26"
                          ],
                          [
                            1,
                            "#f0f921"
                          ]
                        ],
                        "type": "histogram2d"
                      }
                    ],
                    "histogram2dcontour": [
                      {
                        "colorbar": {
                          "outlinewidth": 0,
                          "ticks": ""
                        },
                        "colorscale": [
                          [
                            0,
                            "#0d0887"
                          ],
                          [
                            0.1111111111111111,
                            "#46039f"
                          ],
                          [
                            0.2222222222222222,
                            "#7201a8"
                          ],
                          [
                            0.3333333333333333,
                            "#9c179e"
                          ],
                          [
                            0.4444444444444444,
                            "#bd3786"
                          ],
                          [
                            0.5555555555555556,
                            "#d8576b"
                          ],
                          [
                            0.6666666666666666,
                            "#ed7953"
                          ],
                          [
                            0.7777777777777778,
                            "#fb9f3a"
                          ],
                          [
                            0.8888888888888888,
                            "#fdca26"
                          ],
                          [
                            1,
                            "#f0f921"
                          ]
                        ],
                        "type": "histogram2dcontour"
                      }
                    ],
                    "mesh3d": [
                      {
                        "colorbar": {
                          "outlinewidth": 0,
                          "ticks": ""
                        },
                        "type": "mesh3d"
                      }
                    ],
                    "parcoords": [
                      {
                        "line": {
                          "colorbar": {
                            "outlinewidth": 0,
                            "ticks": ""
                          }
                        },
                        "type": "parcoords"
                      }
                    ],
                    "pie": [
                      {
                        "automargin": true,
                        "type": "pie"
                      }
                    ],
                    "scatter": [
                      {
                        "fillpattern": {
                          "fillmode": "overlay",
                          "size": 10,
                          "solidity": 0.2
                        },
                        "type": "scatter"
                      }
                    ],
                    "scatter3d": [
                      {
                        "line": {
                          "colorbar": {
                            "outlinewidth": 0,
                            "ticks": ""
                          }
                        },
                        "marker": {
                          "colorbar": {
                            "outlinewidth": 0,
                            "ticks": ""
                          }
                        },
                        "type": "scatter3d"
                      }
                    ],
                    "scattercarpet": [
                      {
                        "marker": {
                          "colorbar": {
                            "outlinewidth": 0,
                            "ticks": ""
                          }
                        },
                        "type": "scattercarpet"
                      }
                    ],
                    "scattergeo": [
                      {
                        "marker": {
                          "colorbar": {
                            "outlinewidth": 0,
                            "ticks": ""
                          }
                        },
                        "type": "scattergeo"
                      }
                    ],
                    "scattergl": [
                      {
                        "marker": {
                          "colorbar": {
                            "outlinewidth": 0,
                            "ticks": ""
                          }
                        },
                        "type": "scattergl"
                      }
                    ],
                    "scattermap": [
                      {
                        "marker": {
                          "colorbar": {
                            "outlinewidth": 0,
                            "ticks": ""
                          }
                        },
                        "type": "scattermap"
                      }
                    ],
                    "scattermapbox": [
                      {
                        "marker": {
                          "colorbar": {
                            "outlinewidth": 0,
                            "ticks": ""
                          }
                        },
                        "type": "scattermapbox"
                      }
                    ],
                    "scatterpolar": [
                      {
                        "marker": {
                          "colorbar": {
                            "outlinewidth": 0,
                            "ticks": ""
                          }
                        },
                        "type": "scatterpolar"
                      }
                    ],
                    "scatterpolargl": [
                      {
                        "marker": {
                          "colorbar": {
                            "outlinewidth": 0,
                            "ticks": ""
                          }
                        },
                        "type": "scatterpolargl"
                      }
                    ],
                    "scatterternary": [
                      {
                        "marker": {
                          "colorbar": {
                            "outlinewidth": 0,
                            "ticks": ""
                          }
                        },
                        "type": "scatterternary"
                      }
                    ],
                    "surface": [
                      {
                        "colorbar": {
                          "outlinewidth": 0,
                          "ticks": ""
                        },
                        "colorscale": [
                          [
                            0,
                            "#0d0887"
                          ],
                          [
                            0.1111111111111111,
                            "#46039f"
                          ],
                          [
                            0.2222222222222222,
                            "#7201a8"
                          ],
                          [
                            0.3333333333333333,
                            "#9c179e"
                          ],
                          [
                            0.4444444444444444,
                            "#bd3786"
                          ],
                          [
                            0.5555555555555556,
                            "#d8576b"
                          ],
                          [
                            0.6666666666666666,
                            "#ed7953"
                          ],
                          [
                            0.7777777777777778,
                            "#fb9f3a"
                          ],
                          [
                            0.8888888888888888,
                            "#fdca26"
                          ],
                          [
                            1,
                            "#f0f921"
                          ]
                        ],
                        "type": "surface"
                      }
                    ],
                    "table": [
                      {
                        "cells": {
                          "fill": {
                            "color": "#EBF0F8"
                          },
                          "line": {
                            "color": "white"
                          }
                        },
                        "header": {
                          "fill": {
                            "color": "#C8D4E3"
                          },
                          "line": {
                            "color": "white"
                          }
                        },
                        "type": "table"
                      }
                    ]
                  },
                  "layout": {
                    "annotationdefaults": {
                      "arrowcolor": "#2a3f5f",
                      "arrowhead": 0,
                      "arrowwidth": 1
                    },
                    "autotypenumbers": "strict",
                    "coloraxis": {
                      "colorbar": {
                        "outlinewidth": 0,
                        "ticks": ""
                      }
                    },
                    "colorscale": {
                      "diverging": [
                        [
                          0,
                          "#8e0152"
                        ],
                        [
                          0.1,
                          "#c51b7d"
                        ],
                        [
                          0.2,
                          "#de77ae"
                        ],
                        [
                          0.3,
                          "#f1b6da"
                        ],
                        [
                          0.4,
                          "#fde0ef"
                        ],
                        [
                          0.5,
                          "#f7f7f7"
                        ],
                        [
                          0.6,
                          "#e6f5d0"
                        ],
                        [
                          0.7,
                          "#b8e186"
                        ],
                        [
                          0.8,
                          "#7fbc41"
                        ],
                        [
                          0.9,
                          "#4d9221"
                        ],
                        [
                          1,
                          "#276419"
                        ]
                      ],
                      "sequential": [
                        [
                          0,
                          "#0d0887"
                        ],
                        [
                          0.1111111111111111,
                          "#46039f"
                        ],
                        [
                          0.2222222222222222,
                          "#7201a8"
                        ],
                        [
                          0.3333333333333333,
                          "#9c179e"
                        ],
                        [
                          0.4444444444444444,
                          "#bd3786"
                        ],
                        [
                          0.5555555555555556,
                          "#d8576b"
                        ],
                        [
                          0.6666666666666666,
                          "#ed7953"
                        ],
                        [
                          0.7777777777777778,
                          "#fb9f3a"
                        ],
                        [
                          0.8888888888888888,
                          "#fdca26"
                        ],
                        [
                          1,
                          "#f0f921"
                        ]
                      ],
                      "sequentialminus": [
                        [
                          0,
                          "#0d0887"
                        ],
                        [
                          0.1111111111111111,
                          "#46039f"
                        ],
                        [
                          0.2222222222222222,
                          "#7201a8"
                        ],
                        [
                          0.3333333333333333,
                          "#9c179e"
                        ],
                        [
                          0.4444444444444444,
                          "#bd3786"
                        ],
                        [
                          0.5555555555555556,
                          "#d8576b"
                        ],
                        [
                          0.6666666666666666,
                          "#ed7953"
                        ],
                        [
                          0.7777777777777778,
                          "#fb9f3a"
                        ],
                        [
                          0.8888888888888888,
                          "#fdca26"
                        ],
                        [
                          1,
                          "#f0f921"
                        ]
                      ]
                    },
                    "colorway": [
                      "#636efa",
                      "#EF553B",
                      "#00cc96",
                      "#ab63fa",
                      "#FFA15A",
                      "#19d3f3",
                      "#FF6692",
                      "#B6E880",
                      "#FF97FF",
                      "#FECB52"
                    ],
                    "font": {
                      "color": "#2a3f5f"
                    },
                    "geo": {
                      "bgcolor": "white",
                      "lakecolor": "white",
                      "landcolor": "#E5ECF6",
                      "showlakes": true,
                      "showland": true,
                      "subunitcolor": "white"
                    },
                    "hoverlabel": {
                      "align": "left"
                    },
                    "hovermode": "closest",
                    "mapbox": {
                      "style": "light"
                    },
                    "paper_bgcolor": "white",
                    "plot_bgcolor": "#E5ECF6",
                    "polar": {
                      "angularaxis": {
                        "gridcolor": "white",
                        "linecolor": "white",
                        "ticks": ""
                      },
                      "bgcolor": "#E5ECF6",
                      "radialaxis": {
                        "gridcolor": "white",
                        "linecolor": "white",
                        "ticks": ""
                      }
                    },
                    "scene": {
                      "xaxis": {
                        "backgroundcolor": "#E5ECF6",
                        "gridcolor": "white",
                        "gridwidth": 2,
                        "linecolor": "white",
                        "showbackground": true,
                        "ticks": "",
                        "zerolinecolor": "white"
                      },
                      "yaxis": {
                        "backgroundcolor": "#E5ECF6",
                        "gridcolor": "white",
                        "gridwidth": 2,
                        "linecolor": "white",
                        "showbackground": true,
                        "ticks": "",
                        "zerolinecolor": "white"
                      },
                      "zaxis": {
                        "backgroundcolor": "#E5ECF6",
                        "gridcolor": "white",
                        "gridwidth": 2,
                        "linecolor": "white",
                        "showbackground": true,
                        "ticks": "",
                        "zerolinecolor": "white"
                      }
                    },
                    "shapedefaults": {
                      "line": {
                        "color": "#2a3f5f"
                      }
                    },
                    "ternary": {
                      "aaxis": {
                        "gridcolor": "white",
                        "linecolor": "white",
                        "ticks": ""
                      },
                      "baxis": {
                        "gridcolor": "white",
                        "linecolor": "white",
                        "ticks": ""
                      },
                      "bgcolor": "#E5ECF6",
                      "caxis": {
                        "gridcolor": "white",
                        "linecolor": "white",
                        "ticks": ""
                      }
                    },
                    "title": {
                      "x": 0.05
                    },
                    "xaxis": {
                      "automargin": true,
                      "gridcolor": "white",
                      "linecolor": "white",
                      "ticks": "",
                      "title": {
                        "standoff": 15
                      },
                      "zerolinecolor": "white",
                      "zerolinewidth": 2
                    },
                    "yaxis": {
                      "automargin": true,
                      "gridcolor": "white",
                      "linecolor": "white",
                      "ticks": "",
                      "title": {
                        "standoff": 15
                      },
                      "zerolinecolor": "white",
                      "zerolinewidth": 2
                    }
                  }
                },
                "width": 900,
                "xaxis": {
                  "range": [
                    0,
                    50
                  ]
                },
                "yaxis": {
                  "range": [
                    5,
                    0
                  ]
                }
              }
            }
          },
          "metadata": {},
          "output_type": "display_data"
        },
        {
          "data": {
            "text/html": [
              "<div>\n",
              "<style scoped>\n",
              "    .dataframe tbody tr th:only-of-type {\n",
              "        vertical-align: middle;\n",
              "    }\n",
              "\n",
              "    .dataframe tbody tr th {\n",
              "        vertical-align: top;\n",
              "    }\n",
              "\n",
              "    .dataframe thead th {\n",
              "        text-align: right;\n",
              "    }\n",
              "</style>\n",
              "<table border=\"1\" class=\"dataframe\">\n",
              "  <thead>\n",
              "    <tr style=\"text-align: right;\">\n",
              "      <th></th>\n",
              "      <th>train</th>\n",
              "      <th>validation</th>\n",
              "    </tr>\n",
              "  </thead>\n",
              "  <tbody>\n",
              "    <tr>\n",
              "      <th>split_0</th>\n",
              "      <td>[0, 1, 2, 3, 4, 5, 6, 7, 8, 9]</td>\n",
              "      <td>[10, 11, 12, 13, 14, 15, 16, 17]</td>\n",
              "    </tr>\n",
              "    <tr>\n",
              "      <th>split_1</th>\n",
              "      <td>[8, 9, 10, 11, 12, 13, 14, 15, 16, 17]</td>\n",
              "      <td>[18, 19, 20, 21, 22, 23, 24, 25]</td>\n",
              "    </tr>\n",
              "    <tr>\n",
              "      <th>split_2</th>\n",
              "      <td>[16, 17, 18, 19, 20, 21, 22, 23, 24, 25]</td>\n",
              "      <td>[26, 27, 28, 29, 30, 31, 32, 33]</td>\n",
              "    </tr>\n",
              "    <tr>\n",
              "      <th>split_3</th>\n",
              "      <td>[24, 25, 26, 27, 28, 29, 30, 31, 32, 33]</td>\n",
              "      <td>[34, 35, 36, 37, 38, 39, 40, 41]</td>\n",
              "    </tr>\n",
              "    <tr>\n",
              "      <th>split_4</th>\n",
              "      <td>[32, 33, 34, 35, 36, 37, 38, 39, 40, 41]</td>\n",
              "      <td>[42, 43, 44, 45, 46, 47, 48, 49]</td>\n",
              "    </tr>\n",
              "  </tbody>\n",
              "</table>\n",
              "</div>"
            ],
            "text/plain": [
              "                                            train  \\\n",
              "split_0            [0, 1, 2, 3, 4, 5, 6, 7, 8, 9]   \n",
              "split_1    [8, 9, 10, 11, 12, 13, 14, 15, 16, 17]   \n",
              "split_2  [16, 17, 18, 19, 20, 21, 22, 23, 24, 25]   \n",
              "split_3  [24, 25, 26, 27, 28, 29, 30, 31, 32, 33]   \n",
              "split_4  [32, 33, 34, 35, 36, 37, 38, 39, 40, 41]   \n",
              "\n",
              "                               validation  \n",
              "split_0  [10, 11, 12, 13, 14, 15, 16, 17]  \n",
              "split_1  [18, 19, 20, 21, 22, 23, 24, 25]  \n",
              "split_2  [26, 27, 28, 29, 30, 31, 32, 33]  \n",
              "split_3  [34, 35, 36, 37, 38, 39, 40, 41]  \n",
              "split_4  [42, 43, 44, 45, 46, 47, 48, 49]  "
            ]
          },
          "metadata": {},
          "output_type": "display_data"
        }
      ],
      "source": [
        "cv = TimeSeriesSplit(n_splits=5, max_train_size=10)\n",
        "fig,datasets = plot_temporal_cv_splits(cv, a)\n",
        "fig.update_layout(width=900, height=500)\n",
        "fig.show()\n",
        "\n",
        "datasets_df = pd.DataFrame(datasets)\n",
        "datasets_df_pivoted = datasets_df.T\n",
        "display(datasets_df_pivoted)"
      ]
    },
    {
      "cell_type": "markdown",
      "id": "5a766f62-79b9-4cc2-8924-715c9cff74bf",
      "metadata": {
        "id": "5a766f62-79b9-4cc2-8924-715c9cff74bf"
      },
      "source": [
        "## 3.Repeated Holdout with no Overlap with Gaps (Expanding Window)"
      ]
    },
    {
      "cell_type": "code",
      "execution_count": 16,
      "id": "e7789430-c451-4887-b42d-ec4301b2c9f3",
      "metadata": {
        "colab": {
          "base_uri": "https://localhost:8080/",
          "height": 706
        },
        "id": "e7789430-c451-4887-b42d-ec4301b2c9f3",
        "outputId": "d94ca572-3aeb-4f53-ac6b-0233e74f0d63",
        "tags": []
      },
      "outputs": [
        {
          "data": {
            "application/vnd.plotly.v1+json": {
              "config": {
                "plotlyServerURL": "https://plot.ly"
              },
              "data": [],
              "layout": {
                "height": 500,
                "shapes": [
                  {
                    "fillcolor": "#0356fc",
                    "line": {
                      "color": "#002570",
                      "width": 0.5
                    },
                    "type": "rect",
                    "x0": 0,
                    "x1": 4,
                    "y0": 0,
                    "y1": 0.8
                  },
                  {
                    "fillcolor": "#cf0053",
                    "line": {
                      "color": "#69002a",
                      "width": 0.5
                    },
                    "type": "rect",
                    "x0": 9,
                    "x1": 16,
                    "y0": 0,
                    "y1": 0.8
                  },
                  {
                    "fillcolor": "#0f172e",
                    "line": {
                      "color": "#0f172e",
                      "width": 0.5
                    },
                    "type": "rect",
                    "x0": 4,
                    "x1": 10,
                    "y0": 0,
                    "y1": 0.8
                  },
                  {
                    "fillcolor": "#0356fc",
                    "line": {
                      "color": "#002570",
                      "width": 0.5
                    },
                    "type": "rect",
                    "x0": 0,
                    "x1": 12,
                    "y0": 1,
                    "y1": 1.8
                  },
                  {
                    "fillcolor": "#cf0053",
                    "line": {
                      "color": "#69002a",
                      "width": 0.5
                    },
                    "type": "rect",
                    "x0": 17,
                    "x1": 24,
                    "y0": 1,
                    "y1": 1.8
                  },
                  {
                    "fillcolor": "#0f172e",
                    "line": {
                      "color": "#0f172e",
                      "width": 0.5
                    },
                    "type": "rect",
                    "x0": 12,
                    "x1": 18,
                    "y0": 1,
                    "y1": 1.8
                  },
                  {
                    "fillcolor": "#0356fc",
                    "line": {
                      "color": "#002570",
                      "width": 0.5
                    },
                    "type": "rect",
                    "x0": 0,
                    "x1": 20,
                    "y0": 2,
                    "y1": 2.8
                  },
                  {
                    "fillcolor": "#cf0053",
                    "line": {
                      "color": "#69002a",
                      "width": 0.5
                    },
                    "type": "rect",
                    "x0": 25,
                    "x1": 32,
                    "y0": 2,
                    "y1": 2.8
                  },
                  {
                    "fillcolor": "#0f172e",
                    "line": {
                      "color": "#0f172e",
                      "width": 0.5
                    },
                    "type": "rect",
                    "x0": 20,
                    "x1": 26,
                    "y0": 2,
                    "y1": 2.8
                  },
                  {
                    "fillcolor": "#0356fc",
                    "line": {
                      "color": "#002570",
                      "width": 0.5
                    },
                    "type": "rect",
                    "x0": 0,
                    "x1": 28,
                    "y0": 3,
                    "y1": 3.8
                  },
                  {
                    "fillcolor": "#cf0053",
                    "line": {
                      "color": "#69002a",
                      "width": 0.5
                    },
                    "type": "rect",
                    "x0": 33,
                    "x1": 40,
                    "y0": 3,
                    "y1": 3.8
                  },
                  {
                    "fillcolor": "#0f172e",
                    "line": {
                      "color": "#0f172e",
                      "width": 0.5
                    },
                    "type": "rect",
                    "x0": 28,
                    "x1": 34,
                    "y0": 3,
                    "y1": 3.8
                  },
                  {
                    "fillcolor": "#0356fc",
                    "line": {
                      "color": "#002570",
                      "width": 0.5
                    },
                    "type": "rect",
                    "x0": 0,
                    "x1": 36,
                    "y0": 4,
                    "y1": 4.8
                  },
                  {
                    "fillcolor": "#cf0053",
                    "line": {
                      "color": "#69002a",
                      "width": 0.5
                    },
                    "type": "rect",
                    "x0": 41,
                    "x1": 48,
                    "y0": 4,
                    "y1": 4.8
                  },
                  {
                    "fillcolor": "#0f172e",
                    "line": {
                      "color": "#0f172e",
                      "width": 0.5
                    },
                    "type": "rect",
                    "x0": 36,
                    "x1": 42,
                    "y0": 4,
                    "y1": 4.8
                  }
                ],
                "template": {
                  "data": {
                    "bar": [
                      {
                        "error_x": {
                          "color": "#2a3f5f"
                        },
                        "error_y": {
                          "color": "#2a3f5f"
                        },
                        "marker": {
                          "line": {
                            "color": "#E5ECF6",
                            "width": 0.5
                          },
                          "pattern": {
                            "fillmode": "overlay",
                            "size": 10,
                            "solidity": 0.2
                          }
                        },
                        "type": "bar"
                      }
                    ],
                    "barpolar": [
                      {
                        "marker": {
                          "line": {
                            "color": "#E5ECF6",
                            "width": 0.5
                          },
                          "pattern": {
                            "fillmode": "overlay",
                            "size": 10,
                            "solidity": 0.2
                          }
                        },
                        "type": "barpolar"
                      }
                    ],
                    "carpet": [
                      {
                        "aaxis": {
                          "endlinecolor": "#2a3f5f",
                          "gridcolor": "white",
                          "linecolor": "white",
                          "minorgridcolor": "white",
                          "startlinecolor": "#2a3f5f"
                        },
                        "baxis": {
                          "endlinecolor": "#2a3f5f",
                          "gridcolor": "white",
                          "linecolor": "white",
                          "minorgridcolor": "white",
                          "startlinecolor": "#2a3f5f"
                        },
                        "type": "carpet"
                      }
                    ],
                    "choropleth": [
                      {
                        "colorbar": {
                          "outlinewidth": 0,
                          "ticks": ""
                        },
                        "type": "choropleth"
                      }
                    ],
                    "contour": [
                      {
                        "colorbar": {
                          "outlinewidth": 0,
                          "ticks": ""
                        },
                        "colorscale": [
                          [
                            0,
                            "#0d0887"
                          ],
                          [
                            0.1111111111111111,
                            "#46039f"
                          ],
                          [
                            0.2222222222222222,
                            "#7201a8"
                          ],
                          [
                            0.3333333333333333,
                            "#9c179e"
                          ],
                          [
                            0.4444444444444444,
                            "#bd3786"
                          ],
                          [
                            0.5555555555555556,
                            "#d8576b"
                          ],
                          [
                            0.6666666666666666,
                            "#ed7953"
                          ],
                          [
                            0.7777777777777778,
                            "#fb9f3a"
                          ],
                          [
                            0.8888888888888888,
                            "#fdca26"
                          ],
                          [
                            1,
                            "#f0f921"
                          ]
                        ],
                        "type": "contour"
                      }
                    ],
                    "contourcarpet": [
                      {
                        "colorbar": {
                          "outlinewidth": 0,
                          "ticks": ""
                        },
                        "type": "contourcarpet"
                      }
                    ],
                    "heatmap": [
                      {
                        "colorbar": {
                          "outlinewidth": 0,
                          "ticks": ""
                        },
                        "colorscale": [
                          [
                            0,
                            "#0d0887"
                          ],
                          [
                            0.1111111111111111,
                            "#46039f"
                          ],
                          [
                            0.2222222222222222,
                            "#7201a8"
                          ],
                          [
                            0.3333333333333333,
                            "#9c179e"
                          ],
                          [
                            0.4444444444444444,
                            "#bd3786"
                          ],
                          [
                            0.5555555555555556,
                            "#d8576b"
                          ],
                          [
                            0.6666666666666666,
                            "#ed7953"
                          ],
                          [
                            0.7777777777777778,
                            "#fb9f3a"
                          ],
                          [
                            0.8888888888888888,
                            "#fdca26"
                          ],
                          [
                            1,
                            "#f0f921"
                          ]
                        ],
                        "type": "heatmap"
                      }
                    ],
                    "histogram": [
                      {
                        "marker": {
                          "pattern": {
                            "fillmode": "overlay",
                            "size": 10,
                            "solidity": 0.2
                          }
                        },
                        "type": "histogram"
                      }
                    ],
                    "histogram2d": [
                      {
                        "colorbar": {
                          "outlinewidth": 0,
                          "ticks": ""
                        },
                        "colorscale": [
                          [
                            0,
                            "#0d0887"
                          ],
                          [
                            0.1111111111111111,
                            "#46039f"
                          ],
                          [
                            0.2222222222222222,
                            "#7201a8"
                          ],
                          [
                            0.3333333333333333,
                            "#9c179e"
                          ],
                          [
                            0.4444444444444444,
                            "#bd3786"
                          ],
                          [
                            0.5555555555555556,
                            "#d8576b"
                          ],
                          [
                            0.6666666666666666,
                            "#ed7953"
                          ],
                          [
                            0.7777777777777778,
                            "#fb9f3a"
                          ],
                          [
                            0.8888888888888888,
                            "#fdca26"
                          ],
                          [
                            1,
                            "#f0f921"
                          ]
                        ],
                        "type": "histogram2d"
                      }
                    ],
                    "histogram2dcontour": [
                      {
                        "colorbar": {
                          "outlinewidth": 0,
                          "ticks": ""
                        },
                        "colorscale": [
                          [
                            0,
                            "#0d0887"
                          ],
                          [
                            0.1111111111111111,
                            "#46039f"
                          ],
                          [
                            0.2222222222222222,
                            "#7201a8"
                          ],
                          [
                            0.3333333333333333,
                            "#9c179e"
                          ],
                          [
                            0.4444444444444444,
                            "#bd3786"
                          ],
                          [
                            0.5555555555555556,
                            "#d8576b"
                          ],
                          [
                            0.6666666666666666,
                            "#ed7953"
                          ],
                          [
                            0.7777777777777778,
                            "#fb9f3a"
                          ],
                          [
                            0.8888888888888888,
                            "#fdca26"
                          ],
                          [
                            1,
                            "#f0f921"
                          ]
                        ],
                        "type": "histogram2dcontour"
                      }
                    ],
                    "mesh3d": [
                      {
                        "colorbar": {
                          "outlinewidth": 0,
                          "ticks": ""
                        },
                        "type": "mesh3d"
                      }
                    ],
                    "parcoords": [
                      {
                        "line": {
                          "colorbar": {
                            "outlinewidth": 0,
                            "ticks": ""
                          }
                        },
                        "type": "parcoords"
                      }
                    ],
                    "pie": [
                      {
                        "automargin": true,
                        "type": "pie"
                      }
                    ],
                    "scatter": [
                      {
                        "fillpattern": {
                          "fillmode": "overlay",
                          "size": 10,
                          "solidity": 0.2
                        },
                        "type": "scatter"
                      }
                    ],
                    "scatter3d": [
                      {
                        "line": {
                          "colorbar": {
                            "outlinewidth": 0,
                            "ticks": ""
                          }
                        },
                        "marker": {
                          "colorbar": {
                            "outlinewidth": 0,
                            "ticks": ""
                          }
                        },
                        "type": "scatter3d"
                      }
                    ],
                    "scattercarpet": [
                      {
                        "marker": {
                          "colorbar": {
                            "outlinewidth": 0,
                            "ticks": ""
                          }
                        },
                        "type": "scattercarpet"
                      }
                    ],
                    "scattergeo": [
                      {
                        "marker": {
                          "colorbar": {
                            "outlinewidth": 0,
                            "ticks": ""
                          }
                        },
                        "type": "scattergeo"
                      }
                    ],
                    "scattergl": [
                      {
                        "marker": {
                          "colorbar": {
                            "outlinewidth": 0,
                            "ticks": ""
                          }
                        },
                        "type": "scattergl"
                      }
                    ],
                    "scattermap": [
                      {
                        "marker": {
                          "colorbar": {
                            "outlinewidth": 0,
                            "ticks": ""
                          }
                        },
                        "type": "scattermap"
                      }
                    ],
                    "scattermapbox": [
                      {
                        "marker": {
                          "colorbar": {
                            "outlinewidth": 0,
                            "ticks": ""
                          }
                        },
                        "type": "scattermapbox"
                      }
                    ],
                    "scatterpolar": [
                      {
                        "marker": {
                          "colorbar": {
                            "outlinewidth": 0,
                            "ticks": ""
                          }
                        },
                        "type": "scatterpolar"
                      }
                    ],
                    "scatterpolargl": [
                      {
                        "marker": {
                          "colorbar": {
                            "outlinewidth": 0,
                            "ticks": ""
                          }
                        },
                        "type": "scatterpolargl"
                      }
                    ],
                    "scatterternary": [
                      {
                        "marker": {
                          "colorbar": {
                            "outlinewidth": 0,
                            "ticks": ""
                          }
                        },
                        "type": "scatterternary"
                      }
                    ],
                    "surface": [
                      {
                        "colorbar": {
                          "outlinewidth": 0,
                          "ticks": ""
                        },
                        "colorscale": [
                          [
                            0,
                            "#0d0887"
                          ],
                          [
                            0.1111111111111111,
                            "#46039f"
                          ],
                          [
                            0.2222222222222222,
                            "#7201a8"
                          ],
                          [
                            0.3333333333333333,
                            "#9c179e"
                          ],
                          [
                            0.4444444444444444,
                            "#bd3786"
                          ],
                          [
                            0.5555555555555556,
                            "#d8576b"
                          ],
                          [
                            0.6666666666666666,
                            "#ed7953"
                          ],
                          [
                            0.7777777777777778,
                            "#fb9f3a"
                          ],
                          [
                            0.8888888888888888,
                            "#fdca26"
                          ],
                          [
                            1,
                            "#f0f921"
                          ]
                        ],
                        "type": "surface"
                      }
                    ],
                    "table": [
                      {
                        "cells": {
                          "fill": {
                            "color": "#EBF0F8"
                          },
                          "line": {
                            "color": "white"
                          }
                        },
                        "header": {
                          "fill": {
                            "color": "#C8D4E3"
                          },
                          "line": {
                            "color": "white"
                          }
                        },
                        "type": "table"
                      }
                    ]
                  },
                  "layout": {
                    "annotationdefaults": {
                      "arrowcolor": "#2a3f5f",
                      "arrowhead": 0,
                      "arrowwidth": 1
                    },
                    "autotypenumbers": "strict",
                    "coloraxis": {
                      "colorbar": {
                        "outlinewidth": 0,
                        "ticks": ""
                      }
                    },
                    "colorscale": {
                      "diverging": [
                        [
                          0,
                          "#8e0152"
                        ],
                        [
                          0.1,
                          "#c51b7d"
                        ],
                        [
                          0.2,
                          "#de77ae"
                        ],
                        [
                          0.3,
                          "#f1b6da"
                        ],
                        [
                          0.4,
                          "#fde0ef"
                        ],
                        [
                          0.5,
                          "#f7f7f7"
                        ],
                        [
                          0.6,
                          "#e6f5d0"
                        ],
                        [
                          0.7,
                          "#b8e186"
                        ],
                        [
                          0.8,
                          "#7fbc41"
                        ],
                        [
                          0.9,
                          "#4d9221"
                        ],
                        [
                          1,
                          "#276419"
                        ]
                      ],
                      "sequential": [
                        [
                          0,
                          "#0d0887"
                        ],
                        [
                          0.1111111111111111,
                          "#46039f"
                        ],
                        [
                          0.2222222222222222,
                          "#7201a8"
                        ],
                        [
                          0.3333333333333333,
                          "#9c179e"
                        ],
                        [
                          0.4444444444444444,
                          "#bd3786"
                        ],
                        [
                          0.5555555555555556,
                          "#d8576b"
                        ],
                        [
                          0.6666666666666666,
                          "#ed7953"
                        ],
                        [
                          0.7777777777777778,
                          "#fb9f3a"
                        ],
                        [
                          0.8888888888888888,
                          "#fdca26"
                        ],
                        [
                          1,
                          "#f0f921"
                        ]
                      ],
                      "sequentialminus": [
                        [
                          0,
                          "#0d0887"
                        ],
                        [
                          0.1111111111111111,
                          "#46039f"
                        ],
                        [
                          0.2222222222222222,
                          "#7201a8"
                        ],
                        [
                          0.3333333333333333,
                          "#9c179e"
                        ],
                        [
                          0.4444444444444444,
                          "#bd3786"
                        ],
                        [
                          0.5555555555555556,
                          "#d8576b"
                        ],
                        [
                          0.6666666666666666,
                          "#ed7953"
                        ],
                        [
                          0.7777777777777778,
                          "#fb9f3a"
                        ],
                        [
                          0.8888888888888888,
                          "#fdca26"
                        ],
                        [
                          1,
                          "#f0f921"
                        ]
                      ]
                    },
                    "colorway": [
                      "#636efa",
                      "#EF553B",
                      "#00cc96",
                      "#ab63fa",
                      "#FFA15A",
                      "#19d3f3",
                      "#FF6692",
                      "#B6E880",
                      "#FF97FF",
                      "#FECB52"
                    ],
                    "font": {
                      "color": "#2a3f5f"
                    },
                    "geo": {
                      "bgcolor": "white",
                      "lakecolor": "white",
                      "landcolor": "#E5ECF6",
                      "showlakes": true,
                      "showland": true,
                      "subunitcolor": "white"
                    },
                    "hoverlabel": {
                      "align": "left"
                    },
                    "hovermode": "closest",
                    "mapbox": {
                      "style": "light"
                    },
                    "paper_bgcolor": "white",
                    "plot_bgcolor": "#E5ECF6",
                    "polar": {
                      "angularaxis": {
                        "gridcolor": "white",
                        "linecolor": "white",
                        "ticks": ""
                      },
                      "bgcolor": "#E5ECF6",
                      "radialaxis": {
                        "gridcolor": "white",
                        "linecolor": "white",
                        "ticks": ""
                      }
                    },
                    "scene": {
                      "xaxis": {
                        "backgroundcolor": "#E5ECF6",
                        "gridcolor": "white",
                        "gridwidth": 2,
                        "linecolor": "white",
                        "showbackground": true,
                        "ticks": "",
                        "zerolinecolor": "white"
                      },
                      "yaxis": {
                        "backgroundcolor": "#E5ECF6",
                        "gridcolor": "white",
                        "gridwidth": 2,
                        "linecolor": "white",
                        "showbackground": true,
                        "ticks": "",
                        "zerolinecolor": "white"
                      },
                      "zaxis": {
                        "backgroundcolor": "#E5ECF6",
                        "gridcolor": "white",
                        "gridwidth": 2,
                        "linecolor": "white",
                        "showbackground": true,
                        "ticks": "",
                        "zerolinecolor": "white"
                      }
                    },
                    "shapedefaults": {
                      "line": {
                        "color": "#2a3f5f"
                      }
                    },
                    "ternary": {
                      "aaxis": {
                        "gridcolor": "white",
                        "linecolor": "white",
                        "ticks": ""
                      },
                      "baxis": {
                        "gridcolor": "white",
                        "linecolor": "white",
                        "ticks": ""
                      },
                      "bgcolor": "#E5ECF6",
                      "caxis": {
                        "gridcolor": "white",
                        "linecolor": "white",
                        "ticks": ""
                      }
                    },
                    "title": {
                      "x": 0.05
                    },
                    "xaxis": {
                      "automargin": true,
                      "gridcolor": "white",
                      "linecolor": "white",
                      "ticks": "",
                      "title": {
                        "standoff": 15
                      },
                      "zerolinecolor": "white",
                      "zerolinewidth": 2
                    },
                    "yaxis": {
                      "automargin": true,
                      "gridcolor": "white",
                      "linecolor": "white",
                      "ticks": "",
                      "title": {
                        "standoff": 15
                      },
                      "zerolinecolor": "white",
                      "zerolinewidth": 2
                    }
                  }
                },
                "width": 900,
                "xaxis": {
                  "range": [
                    0,
                    50
                  ]
                },
                "yaxis": {
                  "range": [
                    5,
                    0
                  ]
                }
              }
            }
          },
          "metadata": {},
          "output_type": "display_data"
        },
        {
          "data": {
            "text/html": [
              "<div>\n",
              "<style scoped>\n",
              "    .dataframe tbody tr th:only-of-type {\n",
              "        vertical-align: middle;\n",
              "    }\n",
              "\n",
              "    .dataframe tbody tr th {\n",
              "        vertical-align: top;\n",
              "    }\n",
              "\n",
              "    .dataframe thead th {\n",
              "        text-align: right;\n",
              "    }\n",
              "</style>\n",
              "<table border=\"1\" class=\"dataframe\">\n",
              "  <thead>\n",
              "    <tr style=\"text-align: right;\">\n",
              "      <th></th>\n",
              "      <th>train</th>\n",
              "      <th>validation</th>\n",
              "    </tr>\n",
              "  </thead>\n",
              "  <tbody>\n",
              "    <tr>\n",
              "      <th>split_0</th>\n",
              "      <td>[0, 1, 2, 3, 4]</td>\n",
              "      <td>[10, 11, 12, 13, 14, 15, 16, 17]</td>\n",
              "    </tr>\n",
              "    <tr>\n",
              "      <th>split_1</th>\n",
              "      <td>[0, 1, 2, 3, 4, 5, 6, 7, 8, 9, 10, 11, 12]</td>\n",
              "      <td>[18, 19, 20, 21, 22, 23, 24, 25]</td>\n",
              "    </tr>\n",
              "    <tr>\n",
              "      <th>split_2</th>\n",
              "      <td>[0, 1, 2, 3, 4, 5, 6, 7, 8, 9, 10, 11, 12, 13,...</td>\n",
              "      <td>[26, 27, 28, 29, 30, 31, 32, 33]</td>\n",
              "    </tr>\n",
              "    <tr>\n",
              "      <th>split_3</th>\n",
              "      <td>[0, 1, 2, 3, 4, 5, 6, 7, 8, 9, 10, 11, 12, 13,...</td>\n",
              "      <td>[34, 35, 36, 37, 38, 39, 40, 41]</td>\n",
              "    </tr>\n",
              "    <tr>\n",
              "      <th>split_4</th>\n",
              "      <td>[0, 1, 2, 3, 4, 5, 6, 7, 8, 9, 10, 11, 12, 13,...</td>\n",
              "      <td>[42, 43, 44, 45, 46, 47, 48, 49]</td>\n",
              "    </tr>\n",
              "  </tbody>\n",
              "</table>\n",
              "</div>"
            ],
            "text/plain": [
              "                                                     train  \\\n",
              "split_0                                    [0, 1, 2, 3, 4]   \n",
              "split_1         [0, 1, 2, 3, 4, 5, 6, 7, 8, 9, 10, 11, 12]   \n",
              "split_2  [0, 1, 2, 3, 4, 5, 6, 7, 8, 9, 10, 11, 12, 13,...   \n",
              "split_3  [0, 1, 2, 3, 4, 5, 6, 7, 8, 9, 10, 11, 12, 13,...   \n",
              "split_4  [0, 1, 2, 3, 4, 5, 6, 7, 8, 9, 10, 11, 12, 13,...   \n",
              "\n",
              "                               validation  \n",
              "split_0  [10, 11, 12, 13, 14, 15, 16, 17]  \n",
              "split_1  [18, 19, 20, 21, 22, 23, 24, 25]  \n",
              "split_2  [26, 27, 28, 29, 30, 31, 32, 33]  \n",
              "split_3  [34, 35, 36, 37, 38, 39, 40, 41]  \n",
              "split_4  [42, 43, 44, 45, 46, 47, 48, 49]  "
            ]
          },
          "metadata": {},
          "output_type": "display_data"
        }
      ],
      "source": [
        "cv = TimeSeriesSplit(n_splits=5, gap=5)\n",
        "fig, datasets = plot_temporal_cv_splits(cv, a)\n",
        "fig.update_layout(width=900, height=500)\n",
        "fig.show()\n",
        "\n",
        "datasets_df = pd.DataFrame(datasets)\n",
        "datasets_df_pivoted = datasets_df.T\n",
        "display(datasets_df_pivoted)"
      ]
    },
    {
      "cell_type": "markdown",
      "id": "f3fa2f12-7304-4199-8d76-19799c51b465",
      "metadata": {
        "id": "f3fa2f12-7304-4199-8d76-19799c51b465"
      },
      "source": [
        "## 4.Repeated Holdout with no Overlap with Gaps (Rolling Window)"
      ]
    },
    {
      "cell_type": "code",
      "execution_count": 17,
      "id": "d879fe45-c9d7-4b13-a4e3-f5cbe0fc2c6d",
      "metadata": {
        "colab": {
          "base_uri": "https://localhost:8080/",
          "height": 706
        },
        "id": "d879fe45-c9d7-4b13-a4e3-f5cbe0fc2c6d",
        "outputId": "885b3713-3cc7-4f35-c2ce-ccd163b66448",
        "tags": []
      },
      "outputs": [
        {
          "data": {
            "application/vnd.plotly.v1+json": {
              "config": {
                "plotlyServerURL": "https://plot.ly"
              },
              "data": [],
              "layout": {
                "height": 500,
                "shapes": [
                  {
                    "fillcolor": "#0356fc",
                    "line": {
                      "color": "#002570",
                      "width": 0.5
                    },
                    "type": "rect",
                    "x0": 0,
                    "x1": 4,
                    "y0": 0,
                    "y1": 0.8
                  },
                  {
                    "fillcolor": "#cf0053",
                    "line": {
                      "color": "#69002a",
                      "width": 0.5
                    },
                    "type": "rect",
                    "x0": 9,
                    "x1": 16,
                    "y0": 0,
                    "y1": 0.8
                  },
                  {
                    "fillcolor": "#0f172e",
                    "line": {
                      "color": "#0f172e",
                      "width": 0.5
                    },
                    "type": "rect",
                    "x0": 4,
                    "x1": 10,
                    "y0": 0,
                    "y1": 0.8
                  },
                  {
                    "fillcolor": "#0356fc",
                    "line": {
                      "color": "#002570",
                      "width": 0.5
                    },
                    "type": "rect",
                    "x0": 3,
                    "x1": 12,
                    "y0": 1,
                    "y1": 1.8
                  },
                  {
                    "fillcolor": "#cf0053",
                    "line": {
                      "color": "#69002a",
                      "width": 0.5
                    },
                    "type": "rect",
                    "x0": 17,
                    "x1": 24,
                    "y0": 1,
                    "y1": 1.8
                  },
                  {
                    "fillcolor": "#0f172e",
                    "line": {
                      "color": "#0f172e",
                      "width": 0.5
                    },
                    "type": "rect",
                    "x0": 12,
                    "x1": 18,
                    "y0": 1,
                    "y1": 1.8
                  },
                  {
                    "fillcolor": "#0356fc",
                    "line": {
                      "color": "#002570",
                      "width": 0.5
                    },
                    "type": "rect",
                    "x0": 11,
                    "x1": 20,
                    "y0": 2,
                    "y1": 2.8
                  },
                  {
                    "fillcolor": "#cf0053",
                    "line": {
                      "color": "#69002a",
                      "width": 0.5
                    },
                    "type": "rect",
                    "x0": 25,
                    "x1": 32,
                    "y0": 2,
                    "y1": 2.8
                  },
                  {
                    "fillcolor": "#0f172e",
                    "line": {
                      "color": "#0f172e",
                      "width": 0.5
                    },
                    "type": "rect",
                    "x0": 20,
                    "x1": 26,
                    "y0": 2,
                    "y1": 2.8
                  },
                  {
                    "fillcolor": "#0356fc",
                    "line": {
                      "color": "#002570",
                      "width": 0.5
                    },
                    "type": "rect",
                    "x0": 19,
                    "x1": 28,
                    "y0": 3,
                    "y1": 3.8
                  },
                  {
                    "fillcolor": "#cf0053",
                    "line": {
                      "color": "#69002a",
                      "width": 0.5
                    },
                    "type": "rect",
                    "x0": 33,
                    "x1": 40,
                    "y0": 3,
                    "y1": 3.8
                  },
                  {
                    "fillcolor": "#0f172e",
                    "line": {
                      "color": "#0f172e",
                      "width": 0.5
                    },
                    "type": "rect",
                    "x0": 28,
                    "x1": 34,
                    "y0": 3,
                    "y1": 3.8
                  },
                  {
                    "fillcolor": "#0356fc",
                    "line": {
                      "color": "#002570",
                      "width": 0.5
                    },
                    "type": "rect",
                    "x0": 27,
                    "x1": 36,
                    "y0": 4,
                    "y1": 4.8
                  },
                  {
                    "fillcolor": "#cf0053",
                    "line": {
                      "color": "#69002a",
                      "width": 0.5
                    },
                    "type": "rect",
                    "x0": 41,
                    "x1": 48,
                    "y0": 4,
                    "y1": 4.8
                  },
                  {
                    "fillcolor": "#0f172e",
                    "line": {
                      "color": "#0f172e",
                      "width": 0.5
                    },
                    "type": "rect",
                    "x0": 36,
                    "x1": 42,
                    "y0": 4,
                    "y1": 4.8
                  }
                ],
                "template": {
                  "data": {
                    "bar": [
                      {
                        "error_x": {
                          "color": "#2a3f5f"
                        },
                        "error_y": {
                          "color": "#2a3f5f"
                        },
                        "marker": {
                          "line": {
                            "color": "#E5ECF6",
                            "width": 0.5
                          },
                          "pattern": {
                            "fillmode": "overlay",
                            "size": 10,
                            "solidity": 0.2
                          }
                        },
                        "type": "bar"
                      }
                    ],
                    "barpolar": [
                      {
                        "marker": {
                          "line": {
                            "color": "#E5ECF6",
                            "width": 0.5
                          },
                          "pattern": {
                            "fillmode": "overlay",
                            "size": 10,
                            "solidity": 0.2
                          }
                        },
                        "type": "barpolar"
                      }
                    ],
                    "carpet": [
                      {
                        "aaxis": {
                          "endlinecolor": "#2a3f5f",
                          "gridcolor": "white",
                          "linecolor": "white",
                          "minorgridcolor": "white",
                          "startlinecolor": "#2a3f5f"
                        },
                        "baxis": {
                          "endlinecolor": "#2a3f5f",
                          "gridcolor": "white",
                          "linecolor": "white",
                          "minorgridcolor": "white",
                          "startlinecolor": "#2a3f5f"
                        },
                        "type": "carpet"
                      }
                    ],
                    "choropleth": [
                      {
                        "colorbar": {
                          "outlinewidth": 0,
                          "ticks": ""
                        },
                        "type": "choropleth"
                      }
                    ],
                    "contour": [
                      {
                        "colorbar": {
                          "outlinewidth": 0,
                          "ticks": ""
                        },
                        "colorscale": [
                          [
                            0,
                            "#0d0887"
                          ],
                          [
                            0.1111111111111111,
                            "#46039f"
                          ],
                          [
                            0.2222222222222222,
                            "#7201a8"
                          ],
                          [
                            0.3333333333333333,
                            "#9c179e"
                          ],
                          [
                            0.4444444444444444,
                            "#bd3786"
                          ],
                          [
                            0.5555555555555556,
                            "#d8576b"
                          ],
                          [
                            0.6666666666666666,
                            "#ed7953"
                          ],
                          [
                            0.7777777777777778,
                            "#fb9f3a"
                          ],
                          [
                            0.8888888888888888,
                            "#fdca26"
                          ],
                          [
                            1,
                            "#f0f921"
                          ]
                        ],
                        "type": "contour"
                      }
                    ],
                    "contourcarpet": [
                      {
                        "colorbar": {
                          "outlinewidth": 0,
                          "ticks": ""
                        },
                        "type": "contourcarpet"
                      }
                    ],
                    "heatmap": [
                      {
                        "colorbar": {
                          "outlinewidth": 0,
                          "ticks": ""
                        },
                        "colorscale": [
                          [
                            0,
                            "#0d0887"
                          ],
                          [
                            0.1111111111111111,
                            "#46039f"
                          ],
                          [
                            0.2222222222222222,
                            "#7201a8"
                          ],
                          [
                            0.3333333333333333,
                            "#9c179e"
                          ],
                          [
                            0.4444444444444444,
                            "#bd3786"
                          ],
                          [
                            0.5555555555555556,
                            "#d8576b"
                          ],
                          [
                            0.6666666666666666,
                            "#ed7953"
                          ],
                          [
                            0.7777777777777778,
                            "#fb9f3a"
                          ],
                          [
                            0.8888888888888888,
                            "#fdca26"
                          ],
                          [
                            1,
                            "#f0f921"
                          ]
                        ],
                        "type": "heatmap"
                      }
                    ],
                    "histogram": [
                      {
                        "marker": {
                          "pattern": {
                            "fillmode": "overlay",
                            "size": 10,
                            "solidity": 0.2
                          }
                        },
                        "type": "histogram"
                      }
                    ],
                    "histogram2d": [
                      {
                        "colorbar": {
                          "outlinewidth": 0,
                          "ticks": ""
                        },
                        "colorscale": [
                          [
                            0,
                            "#0d0887"
                          ],
                          [
                            0.1111111111111111,
                            "#46039f"
                          ],
                          [
                            0.2222222222222222,
                            "#7201a8"
                          ],
                          [
                            0.3333333333333333,
                            "#9c179e"
                          ],
                          [
                            0.4444444444444444,
                            "#bd3786"
                          ],
                          [
                            0.5555555555555556,
                            "#d8576b"
                          ],
                          [
                            0.6666666666666666,
                            "#ed7953"
                          ],
                          [
                            0.7777777777777778,
                            "#fb9f3a"
                          ],
                          [
                            0.8888888888888888,
                            "#fdca26"
                          ],
                          [
                            1,
                            "#f0f921"
                          ]
                        ],
                        "type": "histogram2d"
                      }
                    ],
                    "histogram2dcontour": [
                      {
                        "colorbar": {
                          "outlinewidth": 0,
                          "ticks": ""
                        },
                        "colorscale": [
                          [
                            0,
                            "#0d0887"
                          ],
                          [
                            0.1111111111111111,
                            "#46039f"
                          ],
                          [
                            0.2222222222222222,
                            "#7201a8"
                          ],
                          [
                            0.3333333333333333,
                            "#9c179e"
                          ],
                          [
                            0.4444444444444444,
                            "#bd3786"
                          ],
                          [
                            0.5555555555555556,
                            "#d8576b"
                          ],
                          [
                            0.6666666666666666,
                            "#ed7953"
                          ],
                          [
                            0.7777777777777778,
                            "#fb9f3a"
                          ],
                          [
                            0.8888888888888888,
                            "#fdca26"
                          ],
                          [
                            1,
                            "#f0f921"
                          ]
                        ],
                        "type": "histogram2dcontour"
                      }
                    ],
                    "mesh3d": [
                      {
                        "colorbar": {
                          "outlinewidth": 0,
                          "ticks": ""
                        },
                        "type": "mesh3d"
                      }
                    ],
                    "parcoords": [
                      {
                        "line": {
                          "colorbar": {
                            "outlinewidth": 0,
                            "ticks": ""
                          }
                        },
                        "type": "parcoords"
                      }
                    ],
                    "pie": [
                      {
                        "automargin": true,
                        "type": "pie"
                      }
                    ],
                    "scatter": [
                      {
                        "fillpattern": {
                          "fillmode": "overlay",
                          "size": 10,
                          "solidity": 0.2
                        },
                        "type": "scatter"
                      }
                    ],
                    "scatter3d": [
                      {
                        "line": {
                          "colorbar": {
                            "outlinewidth": 0,
                            "ticks": ""
                          }
                        },
                        "marker": {
                          "colorbar": {
                            "outlinewidth": 0,
                            "ticks": ""
                          }
                        },
                        "type": "scatter3d"
                      }
                    ],
                    "scattercarpet": [
                      {
                        "marker": {
                          "colorbar": {
                            "outlinewidth": 0,
                            "ticks": ""
                          }
                        },
                        "type": "scattercarpet"
                      }
                    ],
                    "scattergeo": [
                      {
                        "marker": {
                          "colorbar": {
                            "outlinewidth": 0,
                            "ticks": ""
                          }
                        },
                        "type": "scattergeo"
                      }
                    ],
                    "scattergl": [
                      {
                        "marker": {
                          "colorbar": {
                            "outlinewidth": 0,
                            "ticks": ""
                          }
                        },
                        "type": "scattergl"
                      }
                    ],
                    "scattermap": [
                      {
                        "marker": {
                          "colorbar": {
                            "outlinewidth": 0,
                            "ticks": ""
                          }
                        },
                        "type": "scattermap"
                      }
                    ],
                    "scattermapbox": [
                      {
                        "marker": {
                          "colorbar": {
                            "outlinewidth": 0,
                            "ticks": ""
                          }
                        },
                        "type": "scattermapbox"
                      }
                    ],
                    "scatterpolar": [
                      {
                        "marker": {
                          "colorbar": {
                            "outlinewidth": 0,
                            "ticks": ""
                          }
                        },
                        "type": "scatterpolar"
                      }
                    ],
                    "scatterpolargl": [
                      {
                        "marker": {
                          "colorbar": {
                            "outlinewidth": 0,
                            "ticks": ""
                          }
                        },
                        "type": "scatterpolargl"
                      }
                    ],
                    "scatterternary": [
                      {
                        "marker": {
                          "colorbar": {
                            "outlinewidth": 0,
                            "ticks": ""
                          }
                        },
                        "type": "scatterternary"
                      }
                    ],
                    "surface": [
                      {
                        "colorbar": {
                          "outlinewidth": 0,
                          "ticks": ""
                        },
                        "colorscale": [
                          [
                            0,
                            "#0d0887"
                          ],
                          [
                            0.1111111111111111,
                            "#46039f"
                          ],
                          [
                            0.2222222222222222,
                            "#7201a8"
                          ],
                          [
                            0.3333333333333333,
                            "#9c179e"
                          ],
                          [
                            0.4444444444444444,
                            "#bd3786"
                          ],
                          [
                            0.5555555555555556,
                            "#d8576b"
                          ],
                          [
                            0.6666666666666666,
                            "#ed7953"
                          ],
                          [
                            0.7777777777777778,
                            "#fb9f3a"
                          ],
                          [
                            0.8888888888888888,
                            "#fdca26"
                          ],
                          [
                            1,
                            "#f0f921"
                          ]
                        ],
                        "type": "surface"
                      }
                    ],
                    "table": [
                      {
                        "cells": {
                          "fill": {
                            "color": "#EBF0F8"
                          },
                          "line": {
                            "color": "white"
                          }
                        },
                        "header": {
                          "fill": {
                            "color": "#C8D4E3"
                          },
                          "line": {
                            "color": "white"
                          }
                        },
                        "type": "table"
                      }
                    ]
                  },
                  "layout": {
                    "annotationdefaults": {
                      "arrowcolor": "#2a3f5f",
                      "arrowhead": 0,
                      "arrowwidth": 1
                    },
                    "autotypenumbers": "strict",
                    "coloraxis": {
                      "colorbar": {
                        "outlinewidth": 0,
                        "ticks": ""
                      }
                    },
                    "colorscale": {
                      "diverging": [
                        [
                          0,
                          "#8e0152"
                        ],
                        [
                          0.1,
                          "#c51b7d"
                        ],
                        [
                          0.2,
                          "#de77ae"
                        ],
                        [
                          0.3,
                          "#f1b6da"
                        ],
                        [
                          0.4,
                          "#fde0ef"
                        ],
                        [
                          0.5,
                          "#f7f7f7"
                        ],
                        [
                          0.6,
                          "#e6f5d0"
                        ],
                        [
                          0.7,
                          "#b8e186"
                        ],
                        [
                          0.8,
                          "#7fbc41"
                        ],
                        [
                          0.9,
                          "#4d9221"
                        ],
                        [
                          1,
                          "#276419"
                        ]
                      ],
                      "sequential": [
                        [
                          0,
                          "#0d0887"
                        ],
                        [
                          0.1111111111111111,
                          "#46039f"
                        ],
                        [
                          0.2222222222222222,
                          "#7201a8"
                        ],
                        [
                          0.3333333333333333,
                          "#9c179e"
                        ],
                        [
                          0.4444444444444444,
                          "#bd3786"
                        ],
                        [
                          0.5555555555555556,
                          "#d8576b"
                        ],
                        [
                          0.6666666666666666,
                          "#ed7953"
                        ],
                        [
                          0.7777777777777778,
                          "#fb9f3a"
                        ],
                        [
                          0.8888888888888888,
                          "#fdca26"
                        ],
                        [
                          1,
                          "#f0f921"
                        ]
                      ],
                      "sequentialminus": [
                        [
                          0,
                          "#0d0887"
                        ],
                        [
                          0.1111111111111111,
                          "#46039f"
                        ],
                        [
                          0.2222222222222222,
                          "#7201a8"
                        ],
                        [
                          0.3333333333333333,
                          "#9c179e"
                        ],
                        [
                          0.4444444444444444,
                          "#bd3786"
                        ],
                        [
                          0.5555555555555556,
                          "#d8576b"
                        ],
                        [
                          0.6666666666666666,
                          "#ed7953"
                        ],
                        [
                          0.7777777777777778,
                          "#fb9f3a"
                        ],
                        [
                          0.8888888888888888,
                          "#fdca26"
                        ],
                        [
                          1,
                          "#f0f921"
                        ]
                      ]
                    },
                    "colorway": [
                      "#636efa",
                      "#EF553B",
                      "#00cc96",
                      "#ab63fa",
                      "#FFA15A",
                      "#19d3f3",
                      "#FF6692",
                      "#B6E880",
                      "#FF97FF",
                      "#FECB52"
                    ],
                    "font": {
                      "color": "#2a3f5f"
                    },
                    "geo": {
                      "bgcolor": "white",
                      "lakecolor": "white",
                      "landcolor": "#E5ECF6",
                      "showlakes": true,
                      "showland": true,
                      "subunitcolor": "white"
                    },
                    "hoverlabel": {
                      "align": "left"
                    },
                    "hovermode": "closest",
                    "mapbox": {
                      "style": "light"
                    },
                    "paper_bgcolor": "white",
                    "plot_bgcolor": "#E5ECF6",
                    "polar": {
                      "angularaxis": {
                        "gridcolor": "white",
                        "linecolor": "white",
                        "ticks": ""
                      },
                      "bgcolor": "#E5ECF6",
                      "radialaxis": {
                        "gridcolor": "white",
                        "linecolor": "white",
                        "ticks": ""
                      }
                    },
                    "scene": {
                      "xaxis": {
                        "backgroundcolor": "#E5ECF6",
                        "gridcolor": "white",
                        "gridwidth": 2,
                        "linecolor": "white",
                        "showbackground": true,
                        "ticks": "",
                        "zerolinecolor": "white"
                      },
                      "yaxis": {
                        "backgroundcolor": "#E5ECF6",
                        "gridcolor": "white",
                        "gridwidth": 2,
                        "linecolor": "white",
                        "showbackground": true,
                        "ticks": "",
                        "zerolinecolor": "white"
                      },
                      "zaxis": {
                        "backgroundcolor": "#E5ECF6",
                        "gridcolor": "white",
                        "gridwidth": 2,
                        "linecolor": "white",
                        "showbackground": true,
                        "ticks": "",
                        "zerolinecolor": "white"
                      }
                    },
                    "shapedefaults": {
                      "line": {
                        "color": "#2a3f5f"
                      }
                    },
                    "ternary": {
                      "aaxis": {
                        "gridcolor": "white",
                        "linecolor": "white",
                        "ticks": ""
                      },
                      "baxis": {
                        "gridcolor": "white",
                        "linecolor": "white",
                        "ticks": ""
                      },
                      "bgcolor": "#E5ECF6",
                      "caxis": {
                        "gridcolor": "white",
                        "linecolor": "white",
                        "ticks": ""
                      }
                    },
                    "title": {
                      "x": 0.05
                    },
                    "xaxis": {
                      "automargin": true,
                      "gridcolor": "white",
                      "linecolor": "white",
                      "ticks": "",
                      "title": {
                        "standoff": 15
                      },
                      "zerolinecolor": "white",
                      "zerolinewidth": 2
                    },
                    "yaxis": {
                      "automargin": true,
                      "gridcolor": "white",
                      "linecolor": "white",
                      "ticks": "",
                      "title": {
                        "standoff": 15
                      },
                      "zerolinecolor": "white",
                      "zerolinewidth": 2
                    }
                  }
                },
                "width": 900,
                "xaxis": {
                  "range": [
                    0,
                    50
                  ]
                },
                "yaxis": {
                  "range": [
                    5,
                    0
                  ]
                }
              }
            }
          },
          "metadata": {},
          "output_type": "display_data"
        },
        {
          "data": {
            "text/html": [
              "<div>\n",
              "<style scoped>\n",
              "    .dataframe tbody tr th:only-of-type {\n",
              "        vertical-align: middle;\n",
              "    }\n",
              "\n",
              "    .dataframe tbody tr th {\n",
              "        vertical-align: top;\n",
              "    }\n",
              "\n",
              "    .dataframe thead th {\n",
              "        text-align: right;\n",
              "    }\n",
              "</style>\n",
              "<table border=\"1\" class=\"dataframe\">\n",
              "  <thead>\n",
              "    <tr style=\"text-align: right;\">\n",
              "      <th></th>\n",
              "      <th>train</th>\n",
              "      <th>validation</th>\n",
              "    </tr>\n",
              "  </thead>\n",
              "  <tbody>\n",
              "    <tr>\n",
              "      <th>split_0</th>\n",
              "      <td>[0, 1, 2, 3, 4]</td>\n",
              "      <td>[10, 11, 12, 13, 14, 15, 16, 17]</td>\n",
              "    </tr>\n",
              "    <tr>\n",
              "      <th>split_1</th>\n",
              "      <td>[3, 4, 5, 6, 7, 8, 9, 10, 11, 12]</td>\n",
              "      <td>[18, 19, 20, 21, 22, 23, 24, 25]</td>\n",
              "    </tr>\n",
              "    <tr>\n",
              "      <th>split_2</th>\n",
              "      <td>[11, 12, 13, 14, 15, 16, 17, 18, 19, 20]</td>\n",
              "      <td>[26, 27, 28, 29, 30, 31, 32, 33]</td>\n",
              "    </tr>\n",
              "    <tr>\n",
              "      <th>split_3</th>\n",
              "      <td>[19, 20, 21, 22, 23, 24, 25, 26, 27, 28]</td>\n",
              "      <td>[34, 35, 36, 37, 38, 39, 40, 41]</td>\n",
              "    </tr>\n",
              "    <tr>\n",
              "      <th>split_4</th>\n",
              "      <td>[27, 28, 29, 30, 31, 32, 33, 34, 35, 36]</td>\n",
              "      <td>[42, 43, 44, 45, 46, 47, 48, 49]</td>\n",
              "    </tr>\n",
              "  </tbody>\n",
              "</table>\n",
              "</div>"
            ],
            "text/plain": [
              "                                            train  \\\n",
              "split_0                           [0, 1, 2, 3, 4]   \n",
              "split_1         [3, 4, 5, 6, 7, 8, 9, 10, 11, 12]   \n",
              "split_2  [11, 12, 13, 14, 15, 16, 17, 18, 19, 20]   \n",
              "split_3  [19, 20, 21, 22, 23, 24, 25, 26, 27, 28]   \n",
              "split_4  [27, 28, 29, 30, 31, 32, 33, 34, 35, 36]   \n",
              "\n",
              "                               validation  \n",
              "split_0  [10, 11, 12, 13, 14, 15, 16, 17]  \n",
              "split_1  [18, 19, 20, 21, 22, 23, 24, 25]  \n",
              "split_2  [26, 27, 28, 29, 30, 31, 32, 33]  \n",
              "split_3  [34, 35, 36, 37, 38, 39, 40, 41]  \n",
              "split_4  [42, 43, 44, 45, 46, 47, 48, 49]  "
            ]
          },
          "metadata": {},
          "output_type": "display_data"
        }
      ],
      "source": [
        "cv = TimeSeriesSplit(n_splits=5, max_train_size=10, gap=5)\n",
        "fig,datasets = plot_temporal_cv_splits(cv, a)\n",
        "fig.update_layout(width=900, height=500)\n",
        "fig.show()\n",
        "\n",
        "datasets_df = pd.DataFrame(datasets)\n",
        "datasets_df_pivoted = datasets_df.T\n",
        "display(datasets_df_pivoted)"
      ]
    },
    {
      "cell_type": "markdown",
      "id": "1455478b-eee8-4d6e-b3e3-de11999887ba",
      "metadata": {
        "id": "1455478b-eee8-4d6e-b3e3-de11999887ba"
      },
      "source": [
        "## 5.Blocked Cross-Validation"
      ]
    },
    {
      "cell_type": "code",
      "execution_count": 18,
      "id": "0cf9b883-62e7-4d8f-9f60-64908d4cf3cb",
      "metadata": {
        "id": "0cf9b883-62e7-4d8f-9f60-64908d4cf3cb"
      },
      "outputs": [],
      "source": [
        "from sklearn.model_selection import KFold"
      ]
    },
    {
      "cell_type": "code",
      "execution_count": 19,
      "id": "a39ba566-49ca-40d9-b06e-7a10aec787aa",
      "metadata": {
        "colab": {
          "base_uri": "https://localhost:8080/",
          "height": 747
        },
        "id": "a39ba566-49ca-40d9-b06e-7a10aec787aa",
        "outputId": "4f730b53-83e6-4bfc-f8e1-9db6a7699bf3"
      },
      "outputs": [
        {
          "data": {
            "application/vnd.plotly.v1+json": {
              "config": {
                "plotlyServerURL": "https://plot.ly"
              },
              "data": [],
              "layout": {
                "height": 500,
                "shapes": [
                  {
                    "fillcolor": "#0356fc",
                    "line": {
                      "color": "#002570",
                      "width": 0.5
                    },
                    "type": "rect",
                    "x0": 0,
                    "x1": 50,
                    "y0": 0,
                    "y1": 0.8
                  },
                  {
                    "fillcolor": "#cf0053",
                    "line": {
                      "color": "#69002a",
                      "width": 0.5
                    },
                    "type": "rect",
                    "x0": -1,
                    "x1": 9,
                    "y0": 0,
                    "y1": 0.8
                  },
                  {
                    "fillcolor": "#0356fc",
                    "line": {
                      "color": "#002570",
                      "width": 0.5
                    },
                    "type": "rect",
                    "x0": 0,
                    "x1": 50,
                    "y0": 1,
                    "y1": 1.8
                  },
                  {
                    "fillcolor": "#cf0053",
                    "line": {
                      "color": "#69002a",
                      "width": 0.5
                    },
                    "type": "rect",
                    "x0": 9,
                    "x1": 19,
                    "y0": 1,
                    "y1": 1.8
                  },
                  {
                    "fillcolor": "#0356fc",
                    "line": {
                      "color": "#002570",
                      "width": 0.5
                    },
                    "type": "rect",
                    "x0": 0,
                    "x1": 50,
                    "y0": 2,
                    "y1": 2.8
                  },
                  {
                    "fillcolor": "#cf0053",
                    "line": {
                      "color": "#69002a",
                      "width": 0.5
                    },
                    "type": "rect",
                    "x0": 19,
                    "x1": 29,
                    "y0": 2,
                    "y1": 2.8
                  },
                  {
                    "fillcolor": "#0356fc",
                    "line": {
                      "color": "#002570",
                      "width": 0.5
                    },
                    "type": "rect",
                    "x0": 0,
                    "x1": 50,
                    "y0": 3,
                    "y1": 3.8
                  },
                  {
                    "fillcolor": "#cf0053",
                    "line": {
                      "color": "#69002a",
                      "width": 0.5
                    },
                    "type": "rect",
                    "x0": 29,
                    "x1": 39,
                    "y0": 3,
                    "y1": 3.8
                  },
                  {
                    "fillcolor": "#0356fc",
                    "line": {
                      "color": "#002570",
                      "width": 0.5
                    },
                    "type": "rect",
                    "x0": 0,
                    "x1": 50,
                    "y0": 4,
                    "y1": 4.8
                  },
                  {
                    "fillcolor": "#cf0053",
                    "line": {
                      "color": "#69002a",
                      "width": 0.5
                    },
                    "type": "rect",
                    "x0": 39,
                    "x1": 49,
                    "y0": 4,
                    "y1": 4.8
                  }
                ],
                "template": {
                  "data": {
                    "bar": [
                      {
                        "error_x": {
                          "color": "#2a3f5f"
                        },
                        "error_y": {
                          "color": "#2a3f5f"
                        },
                        "marker": {
                          "line": {
                            "color": "#E5ECF6",
                            "width": 0.5
                          },
                          "pattern": {
                            "fillmode": "overlay",
                            "size": 10,
                            "solidity": 0.2
                          }
                        },
                        "type": "bar"
                      }
                    ],
                    "barpolar": [
                      {
                        "marker": {
                          "line": {
                            "color": "#E5ECF6",
                            "width": 0.5
                          },
                          "pattern": {
                            "fillmode": "overlay",
                            "size": 10,
                            "solidity": 0.2
                          }
                        },
                        "type": "barpolar"
                      }
                    ],
                    "carpet": [
                      {
                        "aaxis": {
                          "endlinecolor": "#2a3f5f",
                          "gridcolor": "white",
                          "linecolor": "white",
                          "minorgridcolor": "white",
                          "startlinecolor": "#2a3f5f"
                        },
                        "baxis": {
                          "endlinecolor": "#2a3f5f",
                          "gridcolor": "white",
                          "linecolor": "white",
                          "minorgridcolor": "white",
                          "startlinecolor": "#2a3f5f"
                        },
                        "type": "carpet"
                      }
                    ],
                    "choropleth": [
                      {
                        "colorbar": {
                          "outlinewidth": 0,
                          "ticks": ""
                        },
                        "type": "choropleth"
                      }
                    ],
                    "contour": [
                      {
                        "colorbar": {
                          "outlinewidth": 0,
                          "ticks": ""
                        },
                        "colorscale": [
                          [
                            0,
                            "#0d0887"
                          ],
                          [
                            0.1111111111111111,
                            "#46039f"
                          ],
                          [
                            0.2222222222222222,
                            "#7201a8"
                          ],
                          [
                            0.3333333333333333,
                            "#9c179e"
                          ],
                          [
                            0.4444444444444444,
                            "#bd3786"
                          ],
                          [
                            0.5555555555555556,
                            "#d8576b"
                          ],
                          [
                            0.6666666666666666,
                            "#ed7953"
                          ],
                          [
                            0.7777777777777778,
                            "#fb9f3a"
                          ],
                          [
                            0.8888888888888888,
                            "#fdca26"
                          ],
                          [
                            1,
                            "#f0f921"
                          ]
                        ],
                        "type": "contour"
                      }
                    ],
                    "contourcarpet": [
                      {
                        "colorbar": {
                          "outlinewidth": 0,
                          "ticks": ""
                        },
                        "type": "contourcarpet"
                      }
                    ],
                    "heatmap": [
                      {
                        "colorbar": {
                          "outlinewidth": 0,
                          "ticks": ""
                        },
                        "colorscale": [
                          [
                            0,
                            "#0d0887"
                          ],
                          [
                            0.1111111111111111,
                            "#46039f"
                          ],
                          [
                            0.2222222222222222,
                            "#7201a8"
                          ],
                          [
                            0.3333333333333333,
                            "#9c179e"
                          ],
                          [
                            0.4444444444444444,
                            "#bd3786"
                          ],
                          [
                            0.5555555555555556,
                            "#d8576b"
                          ],
                          [
                            0.6666666666666666,
                            "#ed7953"
                          ],
                          [
                            0.7777777777777778,
                            "#fb9f3a"
                          ],
                          [
                            0.8888888888888888,
                            "#fdca26"
                          ],
                          [
                            1,
                            "#f0f921"
                          ]
                        ],
                        "type": "heatmap"
                      }
                    ],
                    "histogram": [
                      {
                        "marker": {
                          "pattern": {
                            "fillmode": "overlay",
                            "size": 10,
                            "solidity": 0.2
                          }
                        },
                        "type": "histogram"
                      }
                    ],
                    "histogram2d": [
                      {
                        "colorbar": {
                          "outlinewidth": 0,
                          "ticks": ""
                        },
                        "colorscale": [
                          [
                            0,
                            "#0d0887"
                          ],
                          [
                            0.1111111111111111,
                            "#46039f"
                          ],
                          [
                            0.2222222222222222,
                            "#7201a8"
                          ],
                          [
                            0.3333333333333333,
                            "#9c179e"
                          ],
                          [
                            0.4444444444444444,
                            "#bd3786"
                          ],
                          [
                            0.5555555555555556,
                            "#d8576b"
                          ],
                          [
                            0.6666666666666666,
                            "#ed7953"
                          ],
                          [
                            0.7777777777777778,
                            "#fb9f3a"
                          ],
                          [
                            0.8888888888888888,
                            "#fdca26"
                          ],
                          [
                            1,
                            "#f0f921"
                          ]
                        ],
                        "type": "histogram2d"
                      }
                    ],
                    "histogram2dcontour": [
                      {
                        "colorbar": {
                          "outlinewidth": 0,
                          "ticks": ""
                        },
                        "colorscale": [
                          [
                            0,
                            "#0d0887"
                          ],
                          [
                            0.1111111111111111,
                            "#46039f"
                          ],
                          [
                            0.2222222222222222,
                            "#7201a8"
                          ],
                          [
                            0.3333333333333333,
                            "#9c179e"
                          ],
                          [
                            0.4444444444444444,
                            "#bd3786"
                          ],
                          [
                            0.5555555555555556,
                            "#d8576b"
                          ],
                          [
                            0.6666666666666666,
                            "#ed7953"
                          ],
                          [
                            0.7777777777777778,
                            "#fb9f3a"
                          ],
                          [
                            0.8888888888888888,
                            "#fdca26"
                          ],
                          [
                            1,
                            "#f0f921"
                          ]
                        ],
                        "type": "histogram2dcontour"
                      }
                    ],
                    "mesh3d": [
                      {
                        "colorbar": {
                          "outlinewidth": 0,
                          "ticks": ""
                        },
                        "type": "mesh3d"
                      }
                    ],
                    "parcoords": [
                      {
                        "line": {
                          "colorbar": {
                            "outlinewidth": 0,
                            "ticks": ""
                          }
                        },
                        "type": "parcoords"
                      }
                    ],
                    "pie": [
                      {
                        "automargin": true,
                        "type": "pie"
                      }
                    ],
                    "scatter": [
                      {
                        "fillpattern": {
                          "fillmode": "overlay",
                          "size": 10,
                          "solidity": 0.2
                        },
                        "type": "scatter"
                      }
                    ],
                    "scatter3d": [
                      {
                        "line": {
                          "colorbar": {
                            "outlinewidth": 0,
                            "ticks": ""
                          }
                        },
                        "marker": {
                          "colorbar": {
                            "outlinewidth": 0,
                            "ticks": ""
                          }
                        },
                        "type": "scatter3d"
                      }
                    ],
                    "scattercarpet": [
                      {
                        "marker": {
                          "colorbar": {
                            "outlinewidth": 0,
                            "ticks": ""
                          }
                        },
                        "type": "scattercarpet"
                      }
                    ],
                    "scattergeo": [
                      {
                        "marker": {
                          "colorbar": {
                            "outlinewidth": 0,
                            "ticks": ""
                          }
                        },
                        "type": "scattergeo"
                      }
                    ],
                    "scattergl": [
                      {
                        "marker": {
                          "colorbar": {
                            "outlinewidth": 0,
                            "ticks": ""
                          }
                        },
                        "type": "scattergl"
                      }
                    ],
                    "scattermap": [
                      {
                        "marker": {
                          "colorbar": {
                            "outlinewidth": 0,
                            "ticks": ""
                          }
                        },
                        "type": "scattermap"
                      }
                    ],
                    "scattermapbox": [
                      {
                        "marker": {
                          "colorbar": {
                            "outlinewidth": 0,
                            "ticks": ""
                          }
                        },
                        "type": "scattermapbox"
                      }
                    ],
                    "scatterpolar": [
                      {
                        "marker": {
                          "colorbar": {
                            "outlinewidth": 0,
                            "ticks": ""
                          }
                        },
                        "type": "scatterpolar"
                      }
                    ],
                    "scatterpolargl": [
                      {
                        "marker": {
                          "colorbar": {
                            "outlinewidth": 0,
                            "ticks": ""
                          }
                        },
                        "type": "scatterpolargl"
                      }
                    ],
                    "scatterternary": [
                      {
                        "marker": {
                          "colorbar": {
                            "outlinewidth": 0,
                            "ticks": ""
                          }
                        },
                        "type": "scatterternary"
                      }
                    ],
                    "surface": [
                      {
                        "colorbar": {
                          "outlinewidth": 0,
                          "ticks": ""
                        },
                        "colorscale": [
                          [
                            0,
                            "#0d0887"
                          ],
                          [
                            0.1111111111111111,
                            "#46039f"
                          ],
                          [
                            0.2222222222222222,
                            "#7201a8"
                          ],
                          [
                            0.3333333333333333,
                            "#9c179e"
                          ],
                          [
                            0.4444444444444444,
                            "#bd3786"
                          ],
                          [
                            0.5555555555555556,
                            "#d8576b"
                          ],
                          [
                            0.6666666666666666,
                            "#ed7953"
                          ],
                          [
                            0.7777777777777778,
                            "#fb9f3a"
                          ],
                          [
                            0.8888888888888888,
                            "#fdca26"
                          ],
                          [
                            1,
                            "#f0f921"
                          ]
                        ],
                        "type": "surface"
                      }
                    ],
                    "table": [
                      {
                        "cells": {
                          "fill": {
                            "color": "#EBF0F8"
                          },
                          "line": {
                            "color": "white"
                          }
                        },
                        "header": {
                          "fill": {
                            "color": "#C8D4E3"
                          },
                          "line": {
                            "color": "white"
                          }
                        },
                        "type": "table"
                      }
                    ]
                  },
                  "layout": {
                    "annotationdefaults": {
                      "arrowcolor": "#2a3f5f",
                      "arrowhead": 0,
                      "arrowwidth": 1
                    },
                    "autotypenumbers": "strict",
                    "coloraxis": {
                      "colorbar": {
                        "outlinewidth": 0,
                        "ticks": ""
                      }
                    },
                    "colorscale": {
                      "diverging": [
                        [
                          0,
                          "#8e0152"
                        ],
                        [
                          0.1,
                          "#c51b7d"
                        ],
                        [
                          0.2,
                          "#de77ae"
                        ],
                        [
                          0.3,
                          "#f1b6da"
                        ],
                        [
                          0.4,
                          "#fde0ef"
                        ],
                        [
                          0.5,
                          "#f7f7f7"
                        ],
                        [
                          0.6,
                          "#e6f5d0"
                        ],
                        [
                          0.7,
                          "#b8e186"
                        ],
                        [
                          0.8,
                          "#7fbc41"
                        ],
                        [
                          0.9,
                          "#4d9221"
                        ],
                        [
                          1,
                          "#276419"
                        ]
                      ],
                      "sequential": [
                        [
                          0,
                          "#0d0887"
                        ],
                        [
                          0.1111111111111111,
                          "#46039f"
                        ],
                        [
                          0.2222222222222222,
                          "#7201a8"
                        ],
                        [
                          0.3333333333333333,
                          "#9c179e"
                        ],
                        [
                          0.4444444444444444,
                          "#bd3786"
                        ],
                        [
                          0.5555555555555556,
                          "#d8576b"
                        ],
                        [
                          0.6666666666666666,
                          "#ed7953"
                        ],
                        [
                          0.7777777777777778,
                          "#fb9f3a"
                        ],
                        [
                          0.8888888888888888,
                          "#fdca26"
                        ],
                        [
                          1,
                          "#f0f921"
                        ]
                      ],
                      "sequentialminus": [
                        [
                          0,
                          "#0d0887"
                        ],
                        [
                          0.1111111111111111,
                          "#46039f"
                        ],
                        [
                          0.2222222222222222,
                          "#7201a8"
                        ],
                        [
                          0.3333333333333333,
                          "#9c179e"
                        ],
                        [
                          0.4444444444444444,
                          "#bd3786"
                        ],
                        [
                          0.5555555555555556,
                          "#d8576b"
                        ],
                        [
                          0.6666666666666666,
                          "#ed7953"
                        ],
                        [
                          0.7777777777777778,
                          "#fb9f3a"
                        ],
                        [
                          0.8888888888888888,
                          "#fdca26"
                        ],
                        [
                          1,
                          "#f0f921"
                        ]
                      ]
                    },
                    "colorway": [
                      "#636efa",
                      "#EF553B",
                      "#00cc96",
                      "#ab63fa",
                      "#FFA15A",
                      "#19d3f3",
                      "#FF6692",
                      "#B6E880",
                      "#FF97FF",
                      "#FECB52"
                    ],
                    "font": {
                      "color": "#2a3f5f"
                    },
                    "geo": {
                      "bgcolor": "white",
                      "lakecolor": "white",
                      "landcolor": "#E5ECF6",
                      "showlakes": true,
                      "showland": true,
                      "subunitcolor": "white"
                    },
                    "hoverlabel": {
                      "align": "left"
                    },
                    "hovermode": "closest",
                    "mapbox": {
                      "style": "light"
                    },
                    "paper_bgcolor": "white",
                    "plot_bgcolor": "#E5ECF6",
                    "polar": {
                      "angularaxis": {
                        "gridcolor": "white",
                        "linecolor": "white",
                        "ticks": ""
                      },
                      "bgcolor": "#E5ECF6",
                      "radialaxis": {
                        "gridcolor": "white",
                        "linecolor": "white",
                        "ticks": ""
                      }
                    },
                    "scene": {
                      "xaxis": {
                        "backgroundcolor": "#E5ECF6",
                        "gridcolor": "white",
                        "gridwidth": 2,
                        "linecolor": "white",
                        "showbackground": true,
                        "ticks": "",
                        "zerolinecolor": "white"
                      },
                      "yaxis": {
                        "backgroundcolor": "#E5ECF6",
                        "gridcolor": "white",
                        "gridwidth": 2,
                        "linecolor": "white",
                        "showbackground": true,
                        "ticks": "",
                        "zerolinecolor": "white"
                      },
                      "zaxis": {
                        "backgroundcolor": "#E5ECF6",
                        "gridcolor": "white",
                        "gridwidth": 2,
                        "linecolor": "white",
                        "showbackground": true,
                        "ticks": "",
                        "zerolinecolor": "white"
                      }
                    },
                    "shapedefaults": {
                      "line": {
                        "color": "#2a3f5f"
                      }
                    },
                    "ternary": {
                      "aaxis": {
                        "gridcolor": "white",
                        "linecolor": "white",
                        "ticks": ""
                      },
                      "baxis": {
                        "gridcolor": "white",
                        "linecolor": "white",
                        "ticks": ""
                      },
                      "bgcolor": "#E5ECF6",
                      "caxis": {
                        "gridcolor": "white",
                        "linecolor": "white",
                        "ticks": ""
                      }
                    },
                    "title": {
                      "x": 0.05
                    },
                    "xaxis": {
                      "automargin": true,
                      "gridcolor": "white",
                      "linecolor": "white",
                      "ticks": "",
                      "title": {
                        "standoff": 15
                      },
                      "zerolinecolor": "white",
                      "zerolinewidth": 2
                    },
                    "yaxis": {
                      "automargin": true,
                      "gridcolor": "white",
                      "linecolor": "white",
                      "ticks": "",
                      "title": {
                        "standoff": 15
                      },
                      "zerolinecolor": "white",
                      "zerolinewidth": 2
                    }
                  }
                },
                "width": 900,
                "xaxis": {
                  "range": [
                    0,
                    50
                  ]
                },
                "yaxis": {
                  "range": [
                    0,
                    5
                  ]
                }
              }
            }
          },
          "metadata": {},
          "output_type": "display_data"
        },
        {
          "data": {
            "text/html": [
              "<div>\n",
              "<style scoped>\n",
              "    .dataframe tbody tr th:only-of-type {\n",
              "        vertical-align: middle;\n",
              "    }\n",
              "\n",
              "    .dataframe tbody tr th {\n",
              "        vertical-align: top;\n",
              "    }\n",
              "\n",
              "    .dataframe thead th {\n",
              "        text-align: right;\n",
              "    }\n",
              "</style>\n",
              "<table border=\"1\" class=\"dataframe\">\n",
              "  <thead>\n",
              "    <tr style=\"text-align: right;\">\n",
              "      <th></th>\n",
              "      <th>train</th>\n",
              "      <th>validation</th>\n",
              "    </tr>\n",
              "  </thead>\n",
              "  <tbody>\n",
              "    <tr>\n",
              "      <th>split_0</th>\n",
              "      <td>[10, 11, 12, 13, 14, 15, 16, 17, 18, 19, 20, 2...</td>\n",
              "      <td>[0, 1, 2, 3, 4, 5, 6, 7, 8, 9]</td>\n",
              "    </tr>\n",
              "    <tr>\n",
              "      <th>split_1</th>\n",
              "      <td>[0, 1, 2, 3, 4, 5, 6, 7, 8, 9, 20, 21, 22, 23,...</td>\n",
              "      <td>[10, 11, 12, 13, 14, 15, 16, 17, 18, 19]</td>\n",
              "    </tr>\n",
              "    <tr>\n",
              "      <th>split_2</th>\n",
              "      <td>[0, 1, 2, 3, 4, 5, 6, 7, 8, 9, 10, 11, 12, 13,...</td>\n",
              "      <td>[20, 21, 22, 23, 24, 25, 26, 27, 28, 29]</td>\n",
              "    </tr>\n",
              "    <tr>\n",
              "      <th>split_3</th>\n",
              "      <td>[0, 1, 2, 3, 4, 5, 6, 7, 8, 9, 10, 11, 12, 13,...</td>\n",
              "      <td>[30, 31, 32, 33, 34, 35, 36, 37, 38, 39]</td>\n",
              "    </tr>\n",
              "    <tr>\n",
              "      <th>split_4</th>\n",
              "      <td>[0, 1, 2, 3, 4, 5, 6, 7, 8, 9, 10, 11, 12, 13,...</td>\n",
              "      <td>[40, 41, 42, 43, 44, 45, 46, 47, 48, 49]</td>\n",
              "    </tr>\n",
              "  </tbody>\n",
              "</table>\n",
              "</div>"
            ],
            "text/plain": [
              "                                                     train  \\\n",
              "split_0  [10, 11, 12, 13, 14, 15, 16, 17, 18, 19, 20, 2...   \n",
              "split_1  [0, 1, 2, 3, 4, 5, 6, 7, 8, 9, 20, 21, 22, 23,...   \n",
              "split_2  [0, 1, 2, 3, 4, 5, 6, 7, 8, 9, 10, 11, 12, 13,...   \n",
              "split_3  [0, 1, 2, 3, 4, 5, 6, 7, 8, 9, 10, 11, 12, 13,...   \n",
              "split_4  [0, 1, 2, 3, 4, 5, 6, 7, 8, 9, 10, 11, 12, 13,...   \n",
              "\n",
              "                                       validation  \n",
              "split_0            [0, 1, 2, 3, 4, 5, 6, 7, 8, 9]  \n",
              "split_1  [10, 11, 12, 13, 14, 15, 16, 17, 18, 19]  \n",
              "split_2  [20, 21, 22, 23, 24, 25, 26, 27, 28, 29]  \n",
              "split_3  [30, 31, 32, 33, 34, 35, 36, 37, 38, 39]  \n",
              "split_4  [40, 41, 42, 43, 44, 45, 46, 47, 48, 49]  "
            ]
          },
          "metadata": {},
          "output_type": "display_data"
        }
      ],
      "source": [
        "cv = KFold(n_splits=5, shuffle=False) #blocked CV\n",
        "\n",
        "fig, datasets = plot_cv_splits(cv, a)\n",
        "fig.update_layout(width=900, height=500)\n",
        "fig.show()\n",
        "\n",
        "datasets_df = pd.DataFrame(datasets)\n",
        "datasets_df_pivoted = datasets_df.T\n",
        "display(datasets_df_pivoted)"
      ]
    },
    {
      "cell_type": "markdown",
      "id": "f07b366a-273f-4f84-88f2-598416f7ce8b",
      "metadata": {
        "id": "f07b366a-273f-4f84-88f2-598416f7ce8b"
      },
      "source": [
        "## 6.Blocked Cross-Validation with Gaps"
      ]
    },
    {
      "cell_type": "code",
      "execution_count": 20,
      "id": "d48cc4ab-d17f-4247-8228-75ecd8f10757",
      "metadata": {
        "id": "d48cc4ab-d17f-4247-8228-75ecd8f10757"
      },
      "outputs": [],
      "source": [
        "from sklearn.model_selection._split import _BaseKFold\n",
        "from sklearn.utils.validation import _num_samples, indexable"
      ]
    },
    {
      "cell_type": "code",
      "execution_count": 21,
      "id": "70013d0c-d57f-4329-a196-2f458d6b465b",
      "metadata": {
        "id": "70013d0c-d57f-4329-a196-2f458d6b465b"
      },
      "outputs": [],
      "source": [
        "class KFoldGap(_BaseKFold):\n",
        "    def __init__(self, n_splits=5, gap=0, *, random_state=None):\n",
        "        self.gap = gap\n",
        "        super().__init__(n_splits=n_splits, shuffle=False, random_state=random_state)\n",
        "\n",
        "    def _iter_test_indices(self, X, y=None, groups=None):\n",
        "        n_samples = _num_samples(X)\n",
        "        indices = np.arange(n_samples)\n",
        "        n_splits = self.n_splits\n",
        "        fold_sizes = np.full(n_splits, n_samples // n_splits, dtype=int)\n",
        "        fold_sizes[: n_samples % n_splits] += 1\n",
        "        current = 0\n",
        "        for fold_size in fold_sizes:\n",
        "            start, stop = current, current + fold_size\n",
        "            yield start,stop\n",
        "            current = stop\n",
        "\n",
        "    def split(self, X, y=None, groups=None):\n",
        "        X, y, groups = indexable(X, y, groups)\n",
        "        indices = np.arange(_num_samples(X))\n",
        "        for test_start, test_stop in self._iter_test_indices(X, y, groups):\n",
        "            test_index = indices[test_start:test_stop]\n",
        "            inv_train_index = indices[max(test_start-self.gap,0):test_stop+self.gap]\n",
        "            test_mask = np.zeros(_num_samples(X), dtype=bool)\n",
        "            test_mask[inv_train_index] = True\n",
        "            train_index = indices[np.logical_not(test_mask)]\n",
        "            yield train_index, test_index"
      ]
    },
    {
      "cell_type": "code",
      "execution_count": 22,
      "id": "c1a8273b-ee41-4bca-bb58-8b163ec14822",
      "metadata": {
        "colab": {
          "base_uri": "https://localhost:8080/",
          "height": 747
        },
        "id": "c1a8273b-ee41-4bca-bb58-8b163ec14822",
        "outputId": "607818a2-ff74-4053-a182-0e67fedbf1fb"
      },
      "outputs": [
        {
          "data": {
            "application/vnd.plotly.v1+json": {
              "config": {
                "plotlyServerURL": "https://plot.ly"
              },
              "data": [],
              "layout": {
                "height": 500,
                "shapes": [
                  {
                    "fillcolor": "#0356fc",
                    "line": {
                      "color": "#002570",
                      "width": 0.5
                    },
                    "type": "rect",
                    "x0": 0,
                    "x1": 50,
                    "y0": 0,
                    "y1": 0.8
                  },
                  {
                    "fillcolor": "#cf0053",
                    "line": {
                      "color": "#69002a",
                      "width": 0.5
                    },
                    "type": "rect",
                    "x0": -1,
                    "x1": 9,
                    "y0": 0,
                    "y1": 0.8
                  },
                  {
                    "fillcolor": "#0f172e",
                    "line": {
                      "color": "#0f172e",
                      "width": 0.5
                    },
                    "type": "rect",
                    "x0": 9,
                    "x1": 14,
                    "y0": 0,
                    "y1": 0.8
                  },
                  {
                    "fillcolor": "#0356fc",
                    "line": {
                      "color": "#002570",
                      "width": 0.5
                    },
                    "type": "rect",
                    "x0": 0,
                    "x1": 50,
                    "y0": 1,
                    "y1": 1.8
                  },
                  {
                    "fillcolor": "#cf0053",
                    "line": {
                      "color": "#69002a",
                      "width": 0.5
                    },
                    "type": "rect",
                    "x0": 9,
                    "x1": 19,
                    "y0": 1,
                    "y1": 1.8
                  },
                  {
                    "fillcolor": "#0f172e",
                    "line": {
                      "color": "#0f172e",
                      "width": 0.5
                    },
                    "type": "rect",
                    "x0": 4,
                    "x1": 9,
                    "y0": 1,
                    "y1": 1.8
                  },
                  {
                    "fillcolor": "#0f172e",
                    "line": {
                      "color": "#0f172e",
                      "width": 0.5
                    },
                    "type": "rect",
                    "x0": 19,
                    "x1": 24,
                    "y0": 1,
                    "y1": 1.8
                  },
                  {
                    "fillcolor": "#0356fc",
                    "line": {
                      "color": "#002570",
                      "width": 0.5
                    },
                    "type": "rect",
                    "x0": 0,
                    "x1": 50,
                    "y0": 2,
                    "y1": 2.8
                  },
                  {
                    "fillcolor": "#cf0053",
                    "line": {
                      "color": "#69002a",
                      "width": 0.5
                    },
                    "type": "rect",
                    "x0": 19,
                    "x1": 29,
                    "y0": 2,
                    "y1": 2.8
                  },
                  {
                    "fillcolor": "#0f172e",
                    "line": {
                      "color": "#0f172e",
                      "width": 0.5
                    },
                    "type": "rect",
                    "x0": 14,
                    "x1": 19,
                    "y0": 2,
                    "y1": 2.8
                  },
                  {
                    "fillcolor": "#0f172e",
                    "line": {
                      "color": "#0f172e",
                      "width": 0.5
                    },
                    "type": "rect",
                    "x0": 29,
                    "x1": 34,
                    "y0": 2,
                    "y1": 2.8
                  },
                  {
                    "fillcolor": "#0356fc",
                    "line": {
                      "color": "#002570",
                      "width": 0.5
                    },
                    "type": "rect",
                    "x0": 0,
                    "x1": 50,
                    "y0": 3,
                    "y1": 3.8
                  },
                  {
                    "fillcolor": "#cf0053",
                    "line": {
                      "color": "#69002a",
                      "width": 0.5
                    },
                    "type": "rect",
                    "x0": 29,
                    "x1": 39,
                    "y0": 3,
                    "y1": 3.8
                  },
                  {
                    "fillcolor": "#0f172e",
                    "line": {
                      "color": "#0f172e",
                      "width": 0.5
                    },
                    "type": "rect",
                    "x0": 24,
                    "x1": 29,
                    "y0": 3,
                    "y1": 3.8
                  },
                  {
                    "fillcolor": "#0f172e",
                    "line": {
                      "color": "#0f172e",
                      "width": 0.5
                    },
                    "type": "rect",
                    "x0": 39,
                    "x1": 44,
                    "y0": 3,
                    "y1": 3.8
                  },
                  {
                    "fillcolor": "#0356fc",
                    "line": {
                      "color": "#002570",
                      "width": 0.5
                    },
                    "type": "rect",
                    "x0": 0,
                    "x1": 50,
                    "y0": 4,
                    "y1": 4.8
                  },
                  {
                    "fillcolor": "#cf0053",
                    "line": {
                      "color": "#69002a",
                      "width": 0.5
                    },
                    "type": "rect",
                    "x0": 39,
                    "x1": 49,
                    "y0": 4,
                    "y1": 4.8
                  },
                  {
                    "fillcolor": "#0f172e",
                    "line": {
                      "color": "#0f172e",
                      "width": 0.5
                    },
                    "type": "rect",
                    "x0": 34,
                    "x1": 39,
                    "y0": 4,
                    "y1": 4.8
                  }
                ],
                "template": {
                  "data": {
                    "bar": [
                      {
                        "error_x": {
                          "color": "#2a3f5f"
                        },
                        "error_y": {
                          "color": "#2a3f5f"
                        },
                        "marker": {
                          "line": {
                            "color": "#E5ECF6",
                            "width": 0.5
                          },
                          "pattern": {
                            "fillmode": "overlay",
                            "size": 10,
                            "solidity": 0.2
                          }
                        },
                        "type": "bar"
                      }
                    ],
                    "barpolar": [
                      {
                        "marker": {
                          "line": {
                            "color": "#E5ECF6",
                            "width": 0.5
                          },
                          "pattern": {
                            "fillmode": "overlay",
                            "size": 10,
                            "solidity": 0.2
                          }
                        },
                        "type": "barpolar"
                      }
                    ],
                    "carpet": [
                      {
                        "aaxis": {
                          "endlinecolor": "#2a3f5f",
                          "gridcolor": "white",
                          "linecolor": "white",
                          "minorgridcolor": "white",
                          "startlinecolor": "#2a3f5f"
                        },
                        "baxis": {
                          "endlinecolor": "#2a3f5f",
                          "gridcolor": "white",
                          "linecolor": "white",
                          "minorgridcolor": "white",
                          "startlinecolor": "#2a3f5f"
                        },
                        "type": "carpet"
                      }
                    ],
                    "choropleth": [
                      {
                        "colorbar": {
                          "outlinewidth": 0,
                          "ticks": ""
                        },
                        "type": "choropleth"
                      }
                    ],
                    "contour": [
                      {
                        "colorbar": {
                          "outlinewidth": 0,
                          "ticks": ""
                        },
                        "colorscale": [
                          [
                            0,
                            "#0d0887"
                          ],
                          [
                            0.1111111111111111,
                            "#46039f"
                          ],
                          [
                            0.2222222222222222,
                            "#7201a8"
                          ],
                          [
                            0.3333333333333333,
                            "#9c179e"
                          ],
                          [
                            0.4444444444444444,
                            "#bd3786"
                          ],
                          [
                            0.5555555555555556,
                            "#d8576b"
                          ],
                          [
                            0.6666666666666666,
                            "#ed7953"
                          ],
                          [
                            0.7777777777777778,
                            "#fb9f3a"
                          ],
                          [
                            0.8888888888888888,
                            "#fdca26"
                          ],
                          [
                            1,
                            "#f0f921"
                          ]
                        ],
                        "type": "contour"
                      }
                    ],
                    "contourcarpet": [
                      {
                        "colorbar": {
                          "outlinewidth": 0,
                          "ticks": ""
                        },
                        "type": "contourcarpet"
                      }
                    ],
                    "heatmap": [
                      {
                        "colorbar": {
                          "outlinewidth": 0,
                          "ticks": ""
                        },
                        "colorscale": [
                          [
                            0,
                            "#0d0887"
                          ],
                          [
                            0.1111111111111111,
                            "#46039f"
                          ],
                          [
                            0.2222222222222222,
                            "#7201a8"
                          ],
                          [
                            0.3333333333333333,
                            "#9c179e"
                          ],
                          [
                            0.4444444444444444,
                            "#bd3786"
                          ],
                          [
                            0.5555555555555556,
                            "#d8576b"
                          ],
                          [
                            0.6666666666666666,
                            "#ed7953"
                          ],
                          [
                            0.7777777777777778,
                            "#fb9f3a"
                          ],
                          [
                            0.8888888888888888,
                            "#fdca26"
                          ],
                          [
                            1,
                            "#f0f921"
                          ]
                        ],
                        "type": "heatmap"
                      }
                    ],
                    "histogram": [
                      {
                        "marker": {
                          "pattern": {
                            "fillmode": "overlay",
                            "size": 10,
                            "solidity": 0.2
                          }
                        },
                        "type": "histogram"
                      }
                    ],
                    "histogram2d": [
                      {
                        "colorbar": {
                          "outlinewidth": 0,
                          "ticks": ""
                        },
                        "colorscale": [
                          [
                            0,
                            "#0d0887"
                          ],
                          [
                            0.1111111111111111,
                            "#46039f"
                          ],
                          [
                            0.2222222222222222,
                            "#7201a8"
                          ],
                          [
                            0.3333333333333333,
                            "#9c179e"
                          ],
                          [
                            0.4444444444444444,
                            "#bd3786"
                          ],
                          [
                            0.5555555555555556,
                            "#d8576b"
                          ],
                          [
                            0.6666666666666666,
                            "#ed7953"
                          ],
                          [
                            0.7777777777777778,
                            "#fb9f3a"
                          ],
                          [
                            0.8888888888888888,
                            "#fdca26"
                          ],
                          [
                            1,
                            "#f0f921"
                          ]
                        ],
                        "type": "histogram2d"
                      }
                    ],
                    "histogram2dcontour": [
                      {
                        "colorbar": {
                          "outlinewidth": 0,
                          "ticks": ""
                        },
                        "colorscale": [
                          [
                            0,
                            "#0d0887"
                          ],
                          [
                            0.1111111111111111,
                            "#46039f"
                          ],
                          [
                            0.2222222222222222,
                            "#7201a8"
                          ],
                          [
                            0.3333333333333333,
                            "#9c179e"
                          ],
                          [
                            0.4444444444444444,
                            "#bd3786"
                          ],
                          [
                            0.5555555555555556,
                            "#d8576b"
                          ],
                          [
                            0.6666666666666666,
                            "#ed7953"
                          ],
                          [
                            0.7777777777777778,
                            "#fb9f3a"
                          ],
                          [
                            0.8888888888888888,
                            "#fdca26"
                          ],
                          [
                            1,
                            "#f0f921"
                          ]
                        ],
                        "type": "histogram2dcontour"
                      }
                    ],
                    "mesh3d": [
                      {
                        "colorbar": {
                          "outlinewidth": 0,
                          "ticks": ""
                        },
                        "type": "mesh3d"
                      }
                    ],
                    "parcoords": [
                      {
                        "line": {
                          "colorbar": {
                            "outlinewidth": 0,
                            "ticks": ""
                          }
                        },
                        "type": "parcoords"
                      }
                    ],
                    "pie": [
                      {
                        "automargin": true,
                        "type": "pie"
                      }
                    ],
                    "scatter": [
                      {
                        "fillpattern": {
                          "fillmode": "overlay",
                          "size": 10,
                          "solidity": 0.2
                        },
                        "type": "scatter"
                      }
                    ],
                    "scatter3d": [
                      {
                        "line": {
                          "colorbar": {
                            "outlinewidth": 0,
                            "ticks": ""
                          }
                        },
                        "marker": {
                          "colorbar": {
                            "outlinewidth": 0,
                            "ticks": ""
                          }
                        },
                        "type": "scatter3d"
                      }
                    ],
                    "scattercarpet": [
                      {
                        "marker": {
                          "colorbar": {
                            "outlinewidth": 0,
                            "ticks": ""
                          }
                        },
                        "type": "scattercarpet"
                      }
                    ],
                    "scattergeo": [
                      {
                        "marker": {
                          "colorbar": {
                            "outlinewidth": 0,
                            "ticks": ""
                          }
                        },
                        "type": "scattergeo"
                      }
                    ],
                    "scattergl": [
                      {
                        "marker": {
                          "colorbar": {
                            "outlinewidth": 0,
                            "ticks": ""
                          }
                        },
                        "type": "scattergl"
                      }
                    ],
                    "scattermap": [
                      {
                        "marker": {
                          "colorbar": {
                            "outlinewidth": 0,
                            "ticks": ""
                          }
                        },
                        "type": "scattermap"
                      }
                    ],
                    "scattermapbox": [
                      {
                        "marker": {
                          "colorbar": {
                            "outlinewidth": 0,
                            "ticks": ""
                          }
                        },
                        "type": "scattermapbox"
                      }
                    ],
                    "scatterpolar": [
                      {
                        "marker": {
                          "colorbar": {
                            "outlinewidth": 0,
                            "ticks": ""
                          }
                        },
                        "type": "scatterpolar"
                      }
                    ],
                    "scatterpolargl": [
                      {
                        "marker": {
                          "colorbar": {
                            "outlinewidth": 0,
                            "ticks": ""
                          }
                        },
                        "type": "scatterpolargl"
                      }
                    ],
                    "scatterternary": [
                      {
                        "marker": {
                          "colorbar": {
                            "outlinewidth": 0,
                            "ticks": ""
                          }
                        },
                        "type": "scatterternary"
                      }
                    ],
                    "surface": [
                      {
                        "colorbar": {
                          "outlinewidth": 0,
                          "ticks": ""
                        },
                        "colorscale": [
                          [
                            0,
                            "#0d0887"
                          ],
                          [
                            0.1111111111111111,
                            "#46039f"
                          ],
                          [
                            0.2222222222222222,
                            "#7201a8"
                          ],
                          [
                            0.3333333333333333,
                            "#9c179e"
                          ],
                          [
                            0.4444444444444444,
                            "#bd3786"
                          ],
                          [
                            0.5555555555555556,
                            "#d8576b"
                          ],
                          [
                            0.6666666666666666,
                            "#ed7953"
                          ],
                          [
                            0.7777777777777778,
                            "#fb9f3a"
                          ],
                          [
                            0.8888888888888888,
                            "#fdca26"
                          ],
                          [
                            1,
                            "#f0f921"
                          ]
                        ],
                        "type": "surface"
                      }
                    ],
                    "table": [
                      {
                        "cells": {
                          "fill": {
                            "color": "#EBF0F8"
                          },
                          "line": {
                            "color": "white"
                          }
                        },
                        "header": {
                          "fill": {
                            "color": "#C8D4E3"
                          },
                          "line": {
                            "color": "white"
                          }
                        },
                        "type": "table"
                      }
                    ]
                  },
                  "layout": {
                    "annotationdefaults": {
                      "arrowcolor": "#2a3f5f",
                      "arrowhead": 0,
                      "arrowwidth": 1
                    },
                    "autotypenumbers": "strict",
                    "coloraxis": {
                      "colorbar": {
                        "outlinewidth": 0,
                        "ticks": ""
                      }
                    },
                    "colorscale": {
                      "diverging": [
                        [
                          0,
                          "#8e0152"
                        ],
                        [
                          0.1,
                          "#c51b7d"
                        ],
                        [
                          0.2,
                          "#de77ae"
                        ],
                        [
                          0.3,
                          "#f1b6da"
                        ],
                        [
                          0.4,
                          "#fde0ef"
                        ],
                        [
                          0.5,
                          "#f7f7f7"
                        ],
                        [
                          0.6,
                          "#e6f5d0"
                        ],
                        [
                          0.7,
                          "#b8e186"
                        ],
                        [
                          0.8,
                          "#7fbc41"
                        ],
                        [
                          0.9,
                          "#4d9221"
                        ],
                        [
                          1,
                          "#276419"
                        ]
                      ],
                      "sequential": [
                        [
                          0,
                          "#0d0887"
                        ],
                        [
                          0.1111111111111111,
                          "#46039f"
                        ],
                        [
                          0.2222222222222222,
                          "#7201a8"
                        ],
                        [
                          0.3333333333333333,
                          "#9c179e"
                        ],
                        [
                          0.4444444444444444,
                          "#bd3786"
                        ],
                        [
                          0.5555555555555556,
                          "#d8576b"
                        ],
                        [
                          0.6666666666666666,
                          "#ed7953"
                        ],
                        [
                          0.7777777777777778,
                          "#fb9f3a"
                        ],
                        [
                          0.8888888888888888,
                          "#fdca26"
                        ],
                        [
                          1,
                          "#f0f921"
                        ]
                      ],
                      "sequentialminus": [
                        [
                          0,
                          "#0d0887"
                        ],
                        [
                          0.1111111111111111,
                          "#46039f"
                        ],
                        [
                          0.2222222222222222,
                          "#7201a8"
                        ],
                        [
                          0.3333333333333333,
                          "#9c179e"
                        ],
                        [
                          0.4444444444444444,
                          "#bd3786"
                        ],
                        [
                          0.5555555555555556,
                          "#d8576b"
                        ],
                        [
                          0.6666666666666666,
                          "#ed7953"
                        ],
                        [
                          0.7777777777777778,
                          "#fb9f3a"
                        ],
                        [
                          0.8888888888888888,
                          "#fdca26"
                        ],
                        [
                          1,
                          "#f0f921"
                        ]
                      ]
                    },
                    "colorway": [
                      "#636efa",
                      "#EF553B",
                      "#00cc96",
                      "#ab63fa",
                      "#FFA15A",
                      "#19d3f3",
                      "#FF6692",
                      "#B6E880",
                      "#FF97FF",
                      "#FECB52"
                    ],
                    "font": {
                      "color": "#2a3f5f"
                    },
                    "geo": {
                      "bgcolor": "white",
                      "lakecolor": "white",
                      "landcolor": "#E5ECF6",
                      "showlakes": true,
                      "showland": true,
                      "subunitcolor": "white"
                    },
                    "hoverlabel": {
                      "align": "left"
                    },
                    "hovermode": "closest",
                    "mapbox": {
                      "style": "light"
                    },
                    "paper_bgcolor": "white",
                    "plot_bgcolor": "#E5ECF6",
                    "polar": {
                      "angularaxis": {
                        "gridcolor": "white",
                        "linecolor": "white",
                        "ticks": ""
                      },
                      "bgcolor": "#E5ECF6",
                      "radialaxis": {
                        "gridcolor": "white",
                        "linecolor": "white",
                        "ticks": ""
                      }
                    },
                    "scene": {
                      "xaxis": {
                        "backgroundcolor": "#E5ECF6",
                        "gridcolor": "white",
                        "gridwidth": 2,
                        "linecolor": "white",
                        "showbackground": true,
                        "ticks": "",
                        "zerolinecolor": "white"
                      },
                      "yaxis": {
                        "backgroundcolor": "#E5ECF6",
                        "gridcolor": "white",
                        "gridwidth": 2,
                        "linecolor": "white",
                        "showbackground": true,
                        "ticks": "",
                        "zerolinecolor": "white"
                      },
                      "zaxis": {
                        "backgroundcolor": "#E5ECF6",
                        "gridcolor": "white",
                        "gridwidth": 2,
                        "linecolor": "white",
                        "showbackground": true,
                        "ticks": "",
                        "zerolinecolor": "white"
                      }
                    },
                    "shapedefaults": {
                      "line": {
                        "color": "#2a3f5f"
                      }
                    },
                    "ternary": {
                      "aaxis": {
                        "gridcolor": "white",
                        "linecolor": "white",
                        "ticks": ""
                      },
                      "baxis": {
                        "gridcolor": "white",
                        "linecolor": "white",
                        "ticks": ""
                      },
                      "bgcolor": "#E5ECF6",
                      "caxis": {
                        "gridcolor": "white",
                        "linecolor": "white",
                        "ticks": ""
                      }
                    },
                    "title": {
                      "x": 0.05
                    },
                    "xaxis": {
                      "automargin": true,
                      "gridcolor": "white",
                      "linecolor": "white",
                      "ticks": "",
                      "title": {
                        "standoff": 15
                      },
                      "zerolinecolor": "white",
                      "zerolinewidth": 2
                    },
                    "yaxis": {
                      "automargin": true,
                      "gridcolor": "white",
                      "linecolor": "white",
                      "ticks": "",
                      "title": {
                        "standoff": 15
                      },
                      "zerolinecolor": "white",
                      "zerolinewidth": 2
                    }
                  }
                },
                "width": 900,
                "xaxis": {
                  "range": [
                    0,
                    50
                  ]
                },
                "yaxis": {
                  "range": [
                    0,
                    5
                  ]
                }
              }
            }
          },
          "metadata": {},
          "output_type": "display_data"
        },
        {
          "data": {
            "text/html": [
              "<div>\n",
              "<style scoped>\n",
              "    .dataframe tbody tr th:only-of-type {\n",
              "        vertical-align: middle;\n",
              "    }\n",
              "\n",
              "    .dataframe tbody tr th {\n",
              "        vertical-align: top;\n",
              "    }\n",
              "\n",
              "    .dataframe thead th {\n",
              "        text-align: right;\n",
              "    }\n",
              "</style>\n",
              "<table border=\"1\" class=\"dataframe\">\n",
              "  <thead>\n",
              "    <tr style=\"text-align: right;\">\n",
              "      <th></th>\n",
              "      <th>train</th>\n",
              "      <th>validation</th>\n",
              "    </tr>\n",
              "  </thead>\n",
              "  <tbody>\n",
              "    <tr>\n",
              "      <th>split_0</th>\n",
              "      <td>[15, 16, 17, 18, 19, 20, 21, 22, 23, 24, 25, 2...</td>\n",
              "      <td>[0, 1, 2, 3, 4, 5, 6, 7, 8, 9]</td>\n",
              "    </tr>\n",
              "    <tr>\n",
              "      <th>split_1</th>\n",
              "      <td>[0, 1, 2, 3, 4, 25, 26, 27, 28, 29, 30, 31, 32...</td>\n",
              "      <td>[10, 11, 12, 13, 14, 15, 16, 17, 18, 19]</td>\n",
              "    </tr>\n",
              "    <tr>\n",
              "      <th>split_2</th>\n",
              "      <td>[0, 1, 2, 3, 4, 5, 6, 7, 8, 9, 10, 11, 12, 13,...</td>\n",
              "      <td>[20, 21, 22, 23, 24, 25, 26, 27, 28, 29]</td>\n",
              "    </tr>\n",
              "    <tr>\n",
              "      <th>split_3</th>\n",
              "      <td>[0, 1, 2, 3, 4, 5, 6, 7, 8, 9, 10, 11, 12, 13,...</td>\n",
              "      <td>[30, 31, 32, 33, 34, 35, 36, 37, 38, 39]</td>\n",
              "    </tr>\n",
              "    <tr>\n",
              "      <th>split_4</th>\n",
              "      <td>[0, 1, 2, 3, 4, 5, 6, 7, 8, 9, 10, 11, 12, 13,...</td>\n",
              "      <td>[40, 41, 42, 43, 44, 45, 46, 47, 48, 49]</td>\n",
              "    </tr>\n",
              "  </tbody>\n",
              "</table>\n",
              "</div>"
            ],
            "text/plain": [
              "                                                     train  \\\n",
              "split_0  [15, 16, 17, 18, 19, 20, 21, 22, 23, 24, 25, 2...   \n",
              "split_1  [0, 1, 2, 3, 4, 25, 26, 27, 28, 29, 30, 31, 32...   \n",
              "split_2  [0, 1, 2, 3, 4, 5, 6, 7, 8, 9, 10, 11, 12, 13,...   \n",
              "split_3  [0, 1, 2, 3, 4, 5, 6, 7, 8, 9, 10, 11, 12, 13,...   \n",
              "split_4  [0, 1, 2, 3, 4, 5, 6, 7, 8, 9, 10, 11, 12, 13,...   \n",
              "\n",
              "                                       validation  \n",
              "split_0            [0, 1, 2, 3, 4, 5, 6, 7, 8, 9]  \n",
              "split_1  [10, 11, 12, 13, 14, 15, 16, 17, 18, 19]  \n",
              "split_2  [20, 21, 22, 23, 24, 25, 26, 27, 28, 29]  \n",
              "split_3  [30, 31, 32, 33, 34, 35, 36, 37, 38, 39]  \n",
              "split_4  [40, 41, 42, 43, 44, 45, 46, 47, 48, 49]  "
            ]
          },
          "metadata": {},
          "output_type": "display_data"
        }
      ],
      "source": [
        "cv = KFoldGap(n_splits=5, gap=5) #blocked CV\n",
        "fig, datasets = plot_cv_splits(cv, a)\n",
        "fig.update_layout(width=900, height=500)\n",
        "fig.show()\n",
        "\n",
        "datasets_df = pd.DataFrame(datasets)\n",
        "datasets_df_pivoted = datasets_df.T\n",
        "display(datasets_df_pivoted)"
      ]
    },
    {
      "cell_type": "code",
      "execution_count": null,
      "id": "1c1b5ec5-2359-4c83-8045-cb9523add273",
      "metadata": {
        "id": "1c1b5ec5-2359-4c83-8045-cb9523add273"
      },
      "outputs": [],
      "source": []
    }
  ],
  "metadata": {
    "colab": {
      "collapsed_sections": [
        "80561d16-268c-4454-9a76-56c8ee24a7fa"
      ],
      "provenance": [],
      "toc_visible": true
    },
    "kernelspec": {
      "display_name": "Python 3",
      "language": "python",
      "name": "python3"
    },
    "language_info": {
      "codemirror_mode": {
        "name": "ipython",
        "version": 3
      },
      "file_extension": ".py",
      "mimetype": "text/x-python",
      "name": "python",
      "nbconvert_exporter": "python",
      "pygments_lexer": "ipython3",
      "version": "3.11.4"
    }
  },
  "nbformat": 4,
  "nbformat_minor": 5
}
